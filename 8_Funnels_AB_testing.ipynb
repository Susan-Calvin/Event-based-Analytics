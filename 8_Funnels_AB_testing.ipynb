{
 "cells": [
  {
   "cell_type": "markdown",
   "metadata": {
    "id": "B2-58RVINqZ_"
   },
   "source": [
    "This research is dedicated to an application that sells food products\n",
    "We need to investigate user behavior for our\n",
    "company's app.\n",
    "\n",
    "**First we will study the sales funnel.**\n",
    "* Find out how users reach the purchase stage. \n",
    "* How many users actually\n",
    "make it to this stage? \n",
    "* How many get stuck at previous stages? \n",
    "* Which stages in particular? \n",
    "\n",
    "\n",
    "Then we will look at the results of an A/A/B test. The essense of the experiment is:\n",
    "\n",
    "> The designers would like to change the fonts for the entire app, but the managers are afraid the users might find the new design intimidating. \n",
    "\n",
    "The managers decide to make a decision based on the results of an\n",
    "A/A/B test.\n",
    "\n",
    "**The progress of the experiment:**\n",
    "\n",
    "\n",
    "1. Understanding business problem & data characteristics\n",
    "2. Detect and resolve problems in the data (Missing Value, Outliers, Unexpected Value)\n",
    "3. Look summary stats and plots\n",
    "4. Apply hypothesis testing and check assumptions:\n",
    " - For two control groups\n",
    " - For control groups by events\n",
    " - For each one of the control groups compared to the test group\n",
    " - Fot united control groups in comparison to the test group\n",
    "5. Check normality & homogeneity\n",
    "6. Apply tests (Shapiro, Levene Test, T-Test, Z-proportion test, Mann Whitney U Test)\n",
    "7. Evaluate the results\n",
    "8. Make conclusions and recommendations"
   ]
  },
  {
   "cell_type": "markdown",
   "metadata": {
    "id": "kiBtdB9SYKrd"
   },
   "source": [
    "##  Step 1. Open the data file and read the general information\n"
   ]
  },
  {
   "cell_type": "code",
   "execution_count": null,
   "metadata": {
    "id": "73Q4oQ9Ld2Fs"
   },
   "outputs": [],
   "source": [
    "# Import libraries:\n",
    "\n",
    "# Basic libraries\n",
    "import pandas as pd\n",
    "import datetime as dt\n",
    "import numpy as np\n",
    "\n",
    "# Visualistaion tools\n",
    "import math as mth\n",
    "import matplotlib.pyplot as plt\n",
    "import seaborn as sns\n",
    "from plotly import graph_objects as go\n",
    "import plotly.express as px\n",
    "import plotly.graph_objs as go\n",
    "import plotly.io as plt_io\n",
    "from plotly.subplots import make_subplots\n",
    "\n",
    "# Statistics\n",
    "\n",
    "from scipy import stats\n",
    "import statsmodels.api as sm\n",
    "\n",
    "# Configuration\n",
    "\n",
    "import warnings\n",
    "warnings.simplefilter(action = 'ignore', category = FutureWarning)\n",
    "pd.set_option('display.float_format', '{:.2f}'.format)\n",
    "pd.set_option('display.max_colwidth', 1)"
   ]
  },
  {
   "cell_type": "code",
   "execution_count": null,
   "metadata": {
    "id": "sruMNDO0e90I"
   },
   "outputs": [],
   "source": [
    "# Load the data\n",
    "try:\n",
    "    data = pd.read_csv('/content/drive/MyDrive/csv_fies/logs_exp_us.csv', sep='\\t')\n",
    "except:\n",
    "    data = pd.read_csv('/datasets/logs_exp_us.csv', sep='\\t')    "
   ]
  },
  {
   "cell_type": "code",
   "execution_count": null,
   "metadata": {
    "colab": {
     "base_uri": "https://localhost:8080/"
    },
    "id": "AMmnAY70Uu0x",
    "outputId": "c33f2636-af1d-481d-e019-ef83b55e23c4"
   },
   "outputs": [
    {
     "name": "stdout",
     "output_type": "stream",
     "text": [
      "DATA FRAME VIEW\n",
      "                 EventName         DeviceIDHash  EventTimestamp  ExpId\n",
      "0  MainScreenAppear         4575588528974610257  1564029816      246  \n",
      "1  MainScreenAppear         7416695313311560658  1564053102      246  \n",
      "2  PaymentScreenSuccessful  3518123091307005509  1564054127      248  \n",
      "3  CartScreenAppear         3518123091307005509  1564054127      248  \n",
      "4  PaymentScreenSuccessful  6217807653094995999  1564055322      248  \n",
      "--------------------------------------------------------------------------------\n",
      "INFO\n",
      "<class 'pandas.core.frame.DataFrame'>\n",
      "RangeIndex: 244126 entries, 0 to 244125\n",
      "Data columns (total 4 columns):\n",
      " #   Column          Non-Null Count   Dtype \n",
      "---  ------          --------------   ----- \n",
      " 0   EventName       244126 non-null  object\n",
      " 1   DeviceIDHash    244126 non-null  int64 \n",
      " 2   EventTimestamp  244126 non-null  int64 \n",
      " 3   ExpId           244126 non-null  int64 \n",
      "dtypes: int64(3), object(1)\n",
      "memory usage: 7.5+ MB\n",
      "None\n",
      "--------------------------------------------------------------------------------\n",
      "MISSING VALUES:\n",
      "EventName         0\n",
      "DeviceIDHash      0\n",
      "EventTimestamp    0\n",
      "ExpId             0\n",
      "dtype: int64\n",
      "--------------------------------------------------------------------------------\n",
      "There are 244126 rows and 4 columns in our dataset\n"
     ]
    }
   ],
   "source": [
    "# Explore the data\n",
    "print('DATA FRAME VIEW')\n",
    "print(data.head())\n",
    "print('-'*80)\n",
    "print('INFO')\n",
    "print(data.info())\n",
    "print('-'*80)\n",
    "print('MISSING VALUES:')\n",
    "print(data.isnull().sum())\n",
    "print('-'*80)\n",
    "print('There are', data.shape[0], 'rows and', data.shape[1], 'columns in our dataset')"
   ]
  },
  {
   "cell_type": "markdown",
   "metadata": {
    "id": "xwlrkvL5OM7N"
   },
   "source": [
    "Our dataframe is a log info of 244126 rows and 4 columns about user activity in an app for selling food products. The columns are:\n",
    "\n",
    "● `EventName` — event name\n",
    " * `MainScreenAppear`\n",
    " * `OffersScreenAppear`\n",
    " * `CartScreenAppear`\n",
    " * `PaymentScreenSuccessful`\n",
    " * `Tutorial`\n",
    "\n",
    "● `DeviceIDHash` — unique user identifier\n",
    "\n",
    "● `EventTimestamp` — event time\n",
    "\n",
    "● `ExpId` — experiment number: 246 and 247 are the control groups, 248 is the test group\n",
    "\n",
    "There are no missing values in the dataframe.\n",
    "\n",
    "The `EventTimestamp` is represented as object ad we will need to change it to a proper datetime object.  The `ExpId` contains groups as numbers which is not very informative, we will change the numbers to group names as A1 and A2 for control and B for test group. For the readability we will also change the names of the columns to more understandable ones."
   ]
  },
  {
   "cell_type": "markdown",
   "metadata": {
    "id": "CWA45ErCYNRF"
   },
   "source": [
    "## Step 2. Prepare the data for analysis\n"
   ]
  },
  {
   "cell_type": "markdown",
   "metadata": {
    "id": "146Vw0QfQ539"
   },
   "source": [
    "# Fix the data types and rename columns"
   ]
  },
  {
   "cell_type": "code",
   "execution_count": null,
   "metadata": {
    "id": "MQNG1wgKfcNa"
   },
   "outputs": [],
   "source": [
    "# Rename dataframe columns\n",
    "data.columns = ['event_name', 'uid', 'timestamp', 'group']"
   ]
  },
  {
   "cell_type": "code",
   "execution_count": null,
   "metadata": {
    "id": "dhi9mMRFfuFd"
   },
   "outputs": [],
   "source": [
    "# Fix the timestamp data type\n",
    "data['timestamp'] = data['timestamp'].astype('datetime64[s]')"
   ]
  },
  {
   "cell_type": "code",
   "execution_count": null,
   "metadata": {
    "id": "8wvE52A8fzWh"
   },
   "outputs": [],
   "source": [
    "# Extract a separate date column\n",
    "data['date'] = data['timestamp'].dt.date\n",
    "data['time'] = data['timestamp'].dt.time"
   ]
  },
  {
   "cell_type": "code",
   "execution_count": null,
   "metadata": {
    "id": "7T1f25a0tqvu"
   },
   "outputs": [],
   "source": [
    "# Replace the group names\n",
    "data.loc[data['group'] == 248, 'group'] = 'B'\n",
    "data.loc[data['group'] == 247, 'group'] = 'A2'\n",
    "data.loc[data['group'] == 246, 'group'] = 'A1'"
   ]
  },
  {
   "cell_type": "markdown",
   "metadata": {
    "id": "OrYXhQZqReym"
   },
   "source": [
    "# Check for duplicates in the data."
   ]
  },
  {
   "cell_type": "code",
   "execution_count": null,
   "metadata": {
    "colab": {
     "base_uri": "https://localhost:8080/",
     "height": 206
    },
    "id": "wfb9dnGQaMPC",
    "outputId": "ea1ec237-a936-4118-b81b-570144e9882c"
   },
   "outputs": [
    {
     "data": {
      "text/html": [
       "\n",
       "  <div id=\"df-c406f67e-90fd-4a49-9610-d7a28238c03f\">\n",
       "    <div class=\"colab-df-container\">\n",
       "      <div>\n",
       "<style scoped>\n",
       "    .dataframe tbody tr th:only-of-type {\n",
       "        vertical-align: middle;\n",
       "    }\n",
       "\n",
       "    .dataframe tbody tr th {\n",
       "        vertical-align: top;\n",
       "    }\n",
       "\n",
       "    .dataframe thead th {\n",
       "        text-align: right;\n",
       "    }\n",
       "</style>\n",
       "<table border=\"1\" class=\"dataframe\">\n",
       "  <thead>\n",
       "    <tr style=\"text-align: right;\">\n",
       "      <th></th>\n",
       "      <th>uid</th>\n",
       "      <th>group</th>\n",
       "    </tr>\n",
       "  </thead>\n",
       "  <tbody>\n",
       "    <tr>\n",
       "      <th>0</th>\n",
       "      <td>6888746892508752</td>\n",
       "      <td>1</td>\n",
       "    </tr>\n",
       "    <tr>\n",
       "      <th>5030</th>\n",
       "      <td>6207768971558512760</td>\n",
       "      <td>1</td>\n",
       "    </tr>\n",
       "    <tr>\n",
       "      <th>5042</th>\n",
       "      <td>6217807653094995999</td>\n",
       "      <td>1</td>\n",
       "    </tr>\n",
       "    <tr>\n",
       "      <th>5041</th>\n",
       "      <td>6217295124800833842</td>\n",
       "      <td>1</td>\n",
       "    </tr>\n",
       "    <tr>\n",
       "      <th>5040</th>\n",
       "      <td>6216080220799726690</td>\n",
       "      <td>1</td>\n",
       "    </tr>\n",
       "  </tbody>\n",
       "</table>\n",
       "</div>\n",
       "      <button class=\"colab-df-convert\" onclick=\"convertToInteractive('df-c406f67e-90fd-4a49-9610-d7a28238c03f')\"\n",
       "              title=\"Convert this dataframe to an interactive table.\"\n",
       "              style=\"display:none;\">\n",
       "        \n",
       "  <svg xmlns=\"http://www.w3.org/2000/svg\" height=\"24px\"viewBox=\"0 0 24 24\"\n",
       "       width=\"24px\">\n",
       "    <path d=\"M0 0h24v24H0V0z\" fill=\"none\"/>\n",
       "    <path d=\"M18.56 5.44l.94 2.06.94-2.06 2.06-.94-2.06-.94-.94-2.06-.94 2.06-2.06.94zm-11 1L8.5 8.5l.94-2.06 2.06-.94-2.06-.94L8.5 2.5l-.94 2.06-2.06.94zm10 10l.94 2.06.94-2.06 2.06-.94-2.06-.94-.94-2.06-.94 2.06-2.06.94z\"/><path d=\"M17.41 7.96l-1.37-1.37c-.4-.4-.92-.59-1.43-.59-.52 0-1.04.2-1.43.59L10.3 9.45l-7.72 7.72c-.78.78-.78 2.05 0 2.83L4 21.41c.39.39.9.59 1.41.59.51 0 1.02-.2 1.41-.59l7.78-7.78 2.81-2.81c.8-.78.8-2.07 0-2.86zM5.41 20L4 18.59l7.72-7.72 1.47 1.35L5.41 20z\"/>\n",
       "  </svg>\n",
       "      </button>\n",
       "      \n",
       "  <style>\n",
       "    .colab-df-container {\n",
       "      display:flex;\n",
       "      flex-wrap:wrap;\n",
       "      gap: 12px;\n",
       "    }\n",
       "\n",
       "    .colab-df-convert {\n",
       "      background-color: #E8F0FE;\n",
       "      border: none;\n",
       "      border-radius: 50%;\n",
       "      cursor: pointer;\n",
       "      display: none;\n",
       "      fill: #1967D2;\n",
       "      height: 32px;\n",
       "      padding: 0 0 0 0;\n",
       "      width: 32px;\n",
       "    }\n",
       "\n",
       "    .colab-df-convert:hover {\n",
       "      background-color: #E2EBFA;\n",
       "      box-shadow: 0px 1px 2px rgba(60, 64, 67, 0.3), 0px 1px 3px 1px rgba(60, 64, 67, 0.15);\n",
       "      fill: #174EA6;\n",
       "    }\n",
       "\n",
       "    [theme=dark] .colab-df-convert {\n",
       "      background-color: #3B4455;\n",
       "      fill: #D2E3FC;\n",
       "    }\n",
       "\n",
       "    [theme=dark] .colab-df-convert:hover {\n",
       "      background-color: #434B5C;\n",
       "      box-shadow: 0px 1px 3px 1px rgba(0, 0, 0, 0.15);\n",
       "      filter: drop-shadow(0px 1px 2px rgba(0, 0, 0, 0.3));\n",
       "      fill: #FFFFFF;\n",
       "    }\n",
       "  </style>\n",
       "\n",
       "      <script>\n",
       "        const buttonEl =\n",
       "          document.querySelector('#df-c406f67e-90fd-4a49-9610-d7a28238c03f button.colab-df-convert');\n",
       "        buttonEl.style.display =\n",
       "          google.colab.kernel.accessAllowed ? 'block' : 'none';\n",
       "\n",
       "        async function convertToInteractive(key) {\n",
       "          const element = document.querySelector('#df-c406f67e-90fd-4a49-9610-d7a28238c03f');\n",
       "          const dataTable =\n",
       "            await google.colab.kernel.invokeFunction('convertToInteractive',\n",
       "                                                     [key], {});\n",
       "          if (!dataTable) return;\n",
       "\n",
       "          const docLinkHtml = 'Like what you see? Visit the ' +\n",
       "            '<a target=\"_blank\" href=https://colab.research.google.com/notebooks/data_table.ipynb>data table notebook</a>'\n",
       "            + ' to learn more about interactive tables.';\n",
       "          element.innerHTML = '';\n",
       "          dataTable['output_type'] = 'display_data';\n",
       "          await google.colab.output.renderOutput(dataTable, element);\n",
       "          const docLink = document.createElement('div');\n",
       "          docLink.innerHTML = docLinkHtml;\n",
       "          element.appendChild(docLink);\n",
       "        }\n",
       "      </script>\n",
       "    </div>\n",
       "  </div>\n",
       "  "
      ],
      "text/plain": [
       "                      uid  group\n",
       "0     6888746892508752     1    \n",
       "5030  6207768971558512760  1    \n",
       "5042  6217807653094995999  1    \n",
       "5041  6217295124800833842  1    \n",
       "5040  6216080220799726690  1    "
      ]
     },
     "execution_count": 15,
     "metadata": {},
     "output_type": "execute_result"
    }
   ],
   "source": [
    "# Check if there are users in several experiment groups\n",
    "data.groupby(['uid'], as_index=False)['group']\\\n",
    "             .nunique()\\\n",
    "             .sort_values(by='group', ascending=False).head()"
   ]
  },
  {
   "cell_type": "markdown",
   "metadata": {
    "id": "p2PUtSbSThUt"
   },
   "source": [
    "Each users belongs to only one experimental group."
   ]
  },
  {
   "cell_type": "code",
   "execution_count": null,
   "metadata": {
    "colab": {
     "base_uri": "https://localhost:8080/",
     "height": 424
    },
    "id": "jCj6U44yR5mk",
    "outputId": "ba21d436-176f-4d77-a487-ccfe1c3fe621"
   },
   "outputs": [
    {
     "data": {
      "text/html": [
       "\n",
       "  <div id=\"df-081d55e3-b573-4189-8ae7-602eb6f165b0\">\n",
       "    <div class=\"colab-df-container\">\n",
       "      <div>\n",
       "<style scoped>\n",
       "    .dataframe tbody tr th:only-of-type {\n",
       "        vertical-align: middle;\n",
       "    }\n",
       "\n",
       "    .dataframe tbody tr th {\n",
       "        vertical-align: top;\n",
       "    }\n",
       "\n",
       "    .dataframe thead th {\n",
       "        text-align: right;\n",
       "    }\n",
       "</style>\n",
       "<table border=\"1\" class=\"dataframe\">\n",
       "  <thead>\n",
       "    <tr style=\"text-align: right;\">\n",
       "      <th></th>\n",
       "      <th>event_name</th>\n",
       "      <th>uid</th>\n",
       "      <th>timestamp</th>\n",
       "      <th>group</th>\n",
       "      <th>date</th>\n",
       "      <th>time</th>\n",
       "    </tr>\n",
       "  </thead>\n",
       "  <tbody>\n",
       "    <tr>\n",
       "      <th>453</th>\n",
       "      <td>MainScreenAppear</td>\n",
       "      <td>5613408041324010552</td>\n",
       "      <td>2019-07-30 08:19:44</td>\n",
       "      <td>B</td>\n",
       "      <td>2019-07-30</td>\n",
       "      <td>08:19:44</td>\n",
       "    </tr>\n",
       "    <tr>\n",
       "      <th>2350</th>\n",
       "      <td>CartScreenAppear</td>\n",
       "      <td>1694940645335807244</td>\n",
       "      <td>2019-07-31 21:51:39</td>\n",
       "      <td>B</td>\n",
       "      <td>2019-07-31</td>\n",
       "      <td>21:51:39</td>\n",
       "    </tr>\n",
       "    <tr>\n",
       "      <th>3573</th>\n",
       "      <td>MainScreenAppear</td>\n",
       "      <td>434103746454591587</td>\n",
       "      <td>2019-08-01 02:59:37</td>\n",
       "      <td>B</td>\n",
       "      <td>2019-08-01</td>\n",
       "      <td>02:59:37</td>\n",
       "    </tr>\n",
       "    <tr>\n",
       "      <th>4076</th>\n",
       "      <td>MainScreenAppear</td>\n",
       "      <td>3761373764179762633</td>\n",
       "      <td>2019-08-01 03:47:46</td>\n",
       "      <td>A2</td>\n",
       "      <td>2019-08-01</td>\n",
       "      <td>03:47:46</td>\n",
       "    </tr>\n",
       "    <tr>\n",
       "      <th>4803</th>\n",
       "      <td>MainScreenAppear</td>\n",
       "      <td>2835328739789306622</td>\n",
       "      <td>2019-08-01 04:44:01</td>\n",
       "      <td>B</td>\n",
       "      <td>2019-08-01</td>\n",
       "      <td>04:44:01</td>\n",
       "    </tr>\n",
       "    <tr>\n",
       "      <th>...</th>\n",
       "      <td>...</td>\n",
       "      <td>...</td>\n",
       "      <td>...</td>\n",
       "      <td>...</td>\n",
       "      <td>...</td>\n",
       "      <td>...</td>\n",
       "    </tr>\n",
       "    <tr>\n",
       "      <th>242329</th>\n",
       "      <td>MainScreenAppear</td>\n",
       "      <td>8870358373313968633</td>\n",
       "      <td>2019-08-07 19:26:44</td>\n",
       "      <td>A2</td>\n",
       "      <td>2019-08-07</td>\n",
       "      <td>19:26:44</td>\n",
       "    </tr>\n",
       "    <tr>\n",
       "      <th>242332</th>\n",
       "      <td>PaymentScreenSuccessful</td>\n",
       "      <td>4718002964983105693</td>\n",
       "      <td>2019-08-07 19:26:45</td>\n",
       "      <td>A2</td>\n",
       "      <td>2019-08-07</td>\n",
       "      <td>19:26:45</td>\n",
       "    </tr>\n",
       "    <tr>\n",
       "      <th>242360</th>\n",
       "      <td>PaymentScreenSuccessful</td>\n",
       "      <td>2382591782303281935</td>\n",
       "      <td>2019-08-07 19:27:29</td>\n",
       "      <td>A1</td>\n",
       "      <td>2019-08-07</td>\n",
       "      <td>19:27:29</td>\n",
       "    </tr>\n",
       "    <tr>\n",
       "      <th>242362</th>\n",
       "      <td>CartScreenAppear</td>\n",
       "      <td>2382591782303281935</td>\n",
       "      <td>2019-08-07 19:27:29</td>\n",
       "      <td>A1</td>\n",
       "      <td>2019-08-07</td>\n",
       "      <td>19:27:29</td>\n",
       "    </tr>\n",
       "    <tr>\n",
       "      <th>242635</th>\n",
       "      <td>MainScreenAppear</td>\n",
       "      <td>4097782667445790512</td>\n",
       "      <td>2019-08-07 19:36:58</td>\n",
       "      <td>A1</td>\n",
       "      <td>2019-08-07</td>\n",
       "      <td>19:36:58</td>\n",
       "    </tr>\n",
       "  </tbody>\n",
       "</table>\n",
       "<p>413 rows × 6 columns</p>\n",
       "</div>\n",
       "      <button class=\"colab-df-convert\" onclick=\"convertToInteractive('df-081d55e3-b573-4189-8ae7-602eb6f165b0')\"\n",
       "              title=\"Convert this dataframe to an interactive table.\"\n",
       "              style=\"display:none;\">\n",
       "        \n",
       "  <svg xmlns=\"http://www.w3.org/2000/svg\" height=\"24px\"viewBox=\"0 0 24 24\"\n",
       "       width=\"24px\">\n",
       "    <path d=\"M0 0h24v24H0V0z\" fill=\"none\"/>\n",
       "    <path d=\"M18.56 5.44l.94 2.06.94-2.06 2.06-.94-2.06-.94-.94-2.06-.94 2.06-2.06.94zm-11 1L8.5 8.5l.94-2.06 2.06-.94-2.06-.94L8.5 2.5l-.94 2.06-2.06.94zm10 10l.94 2.06.94-2.06 2.06-.94-2.06-.94-.94-2.06-.94 2.06-2.06.94z\"/><path d=\"M17.41 7.96l-1.37-1.37c-.4-.4-.92-.59-1.43-.59-.52 0-1.04.2-1.43.59L10.3 9.45l-7.72 7.72c-.78.78-.78 2.05 0 2.83L4 21.41c.39.39.9.59 1.41.59.51 0 1.02-.2 1.41-.59l7.78-7.78 2.81-2.81c.8-.78.8-2.07 0-2.86zM5.41 20L4 18.59l7.72-7.72 1.47 1.35L5.41 20z\"/>\n",
       "  </svg>\n",
       "      </button>\n",
       "      \n",
       "  <style>\n",
       "    .colab-df-container {\n",
       "      display:flex;\n",
       "      flex-wrap:wrap;\n",
       "      gap: 12px;\n",
       "    }\n",
       "\n",
       "    .colab-df-convert {\n",
       "      background-color: #E8F0FE;\n",
       "      border: none;\n",
       "      border-radius: 50%;\n",
       "      cursor: pointer;\n",
       "      display: none;\n",
       "      fill: #1967D2;\n",
       "      height: 32px;\n",
       "      padding: 0 0 0 0;\n",
       "      width: 32px;\n",
       "    }\n",
       "\n",
       "    .colab-df-convert:hover {\n",
       "      background-color: #E2EBFA;\n",
       "      box-shadow: 0px 1px 2px rgba(60, 64, 67, 0.3), 0px 1px 3px 1px rgba(60, 64, 67, 0.15);\n",
       "      fill: #174EA6;\n",
       "    }\n",
       "\n",
       "    [theme=dark] .colab-df-convert {\n",
       "      background-color: #3B4455;\n",
       "      fill: #D2E3FC;\n",
       "    }\n",
       "\n",
       "    [theme=dark] .colab-df-convert:hover {\n",
       "      background-color: #434B5C;\n",
       "      box-shadow: 0px 1px 3px 1px rgba(0, 0, 0, 0.15);\n",
       "      filter: drop-shadow(0px 1px 2px rgba(0, 0, 0, 0.3));\n",
       "      fill: #FFFFFF;\n",
       "    }\n",
       "  </style>\n",
       "\n",
       "      <script>\n",
       "        const buttonEl =\n",
       "          document.querySelector('#df-081d55e3-b573-4189-8ae7-602eb6f165b0 button.colab-df-convert');\n",
       "        buttonEl.style.display =\n",
       "          google.colab.kernel.accessAllowed ? 'block' : 'none';\n",
       "\n",
       "        async function convertToInteractive(key) {\n",
       "          const element = document.querySelector('#df-081d55e3-b573-4189-8ae7-602eb6f165b0');\n",
       "          const dataTable =\n",
       "            await google.colab.kernel.invokeFunction('convertToInteractive',\n",
       "                                                     [key], {});\n",
       "          if (!dataTable) return;\n",
       "\n",
       "          const docLinkHtml = 'Like what you see? Visit the ' +\n",
       "            '<a target=\"_blank\" href=https://colab.research.google.com/notebooks/data_table.ipynb>data table notebook</a>'\n",
       "            + ' to learn more about interactive tables.';\n",
       "          element.innerHTML = '';\n",
       "          dataTable['output_type'] = 'display_data';\n",
       "          await google.colab.output.renderOutput(dataTable, element);\n",
       "          const docLink = document.createElement('div');\n",
       "          docLink.innerHTML = docLinkHtml;\n",
       "          element.appendChild(docLink);\n",
       "        }\n",
       "      </script>\n",
       "    </div>\n",
       "  </div>\n",
       "  "
      ],
      "text/plain": [
       "                     event_name                  uid           timestamp  \\\n",
       "453     MainScreenAppear         5613408041324010552 2019-07-30 08:19:44   \n",
       "2350    CartScreenAppear         1694940645335807244 2019-07-31 21:51:39   \n",
       "3573    MainScreenAppear         434103746454591587  2019-08-01 02:59:37   \n",
       "4076    MainScreenAppear         3761373764179762633 2019-08-01 03:47:46   \n",
       "4803    MainScreenAppear         2835328739789306622 2019-08-01 04:44:01   \n",
       "...                  ...                         ...                 ...   \n",
       "242329  MainScreenAppear         8870358373313968633 2019-08-07 19:26:44   \n",
       "242332  PaymentScreenSuccessful  4718002964983105693 2019-08-07 19:26:45   \n",
       "242360  PaymentScreenSuccessful  2382591782303281935 2019-08-07 19:27:29   \n",
       "242362  CartScreenAppear         2382591782303281935 2019-08-07 19:27:29   \n",
       "242635  MainScreenAppear         4097782667445790512 2019-08-07 19:36:58   \n",
       "\n",
       "       group        date      time  \n",
       "453     B     2019-07-30  08:19:44  \n",
       "2350    B     2019-07-31  21:51:39  \n",
       "3573    B     2019-08-01  02:59:37  \n",
       "4076    A2    2019-08-01  03:47:46  \n",
       "4803    B     2019-08-01  04:44:01  \n",
       "...    ..            ...       ...  \n",
       "242329  A2    2019-08-07  19:26:44  \n",
       "242332  A2    2019-08-07  19:26:45  \n",
       "242360  A1    2019-08-07  19:27:29  \n",
       "242362  A1    2019-08-07  19:27:29  \n",
       "242635  A1    2019-08-07  19:36:58  \n",
       "\n",
       "[413 rows x 6 columns]"
      ]
     },
     "execution_count": 16,
     "metadata": {},
     "output_type": "execute_result"
    }
   ],
   "source": [
    "# Check duplicated rows\n",
    "data[data.duplicated()]"
   ]
  },
  {
   "cell_type": "markdown",
   "metadata": {
    "id": "i69XL4IxShaQ"
   },
   "source": [
    "Where exectly are our duplicates?"
   ]
  },
  {
   "cell_type": "code",
   "execution_count": null,
   "metadata": {
    "colab": {
     "base_uri": "https://localhost:8080/"
    },
    "id": "W8GetUsrXe-f",
    "outputId": "eb0561e9-7bd9-4c0d-c4d8-654ea30eaf1e"
   },
   "outputs": [
    {
     "name": "stdout",
     "output_type": "stream",
     "text": [
      "event_name column has 5 duplicates\n",
      "uid column has 237 duplicates\n",
      "timestamp column has 352 duplicates\n",
      "group column has 3 duplicates\n",
      "date column has 9 duplicates\n",
      "time column has 352 duplicates\n"
     ]
    }
   ],
   "source": [
    "for column in data[data.duplicated()].columns:\n",
    "  print(column, 'column has', data[data.duplicated()][column].nunique(), 'duplicates')"
   ]
  },
  {
   "cell_type": "markdown",
   "metadata": {
    "id": "ej85g9bfShaQ"
   },
   "source": [
    "Did they occure on some certein date?"
   ]
  },
  {
   "cell_type": "code",
   "execution_count": null,
   "metadata": {
    "colab": {
     "base_uri": "https://localhost:8080/"
    },
    "id": "Eebx04KIdPz4",
    "outputId": "6f09b556-169c-465d-edc2-0638a6e4df0f"
   },
   "outputs": [
    {
     "data": {
      "text/plain": [
       "array([datetime.date(2019, 7, 30), datetime.date(2019, 7, 31),\n",
       "       datetime.date(2019, 8, 1), datetime.date(2019, 8, 2),\n",
       "       datetime.date(2019, 8, 3), datetime.date(2019, 8, 4),\n",
       "       datetime.date(2019, 8, 5), datetime.date(2019, 8, 6),\n",
       "       datetime.date(2019, 8, 7)], dtype=object)"
      ]
     },
     "execution_count": 18,
     "metadata": {},
     "output_type": "execute_result"
    }
   ],
   "source": [
    "data[data.duplicated()]['date'].unique()"
   ]
  },
  {
   "cell_type": "markdown",
   "metadata": {
    "id": "V1OIb1fPW9U5"
   },
   "source": [
    "The duplicating affected each column this way or another, and we need to drop them.\n",
    "There might be some issue with the logging and we should notify our engeneers about that. However, we need to get rid of the duplicated rows, otherwise they will have negative effect on our research."
   ]
  },
  {
   "cell_type": "code",
   "execution_count": null,
   "metadata": {
    "id": "xG5Rlofbtg6n"
   },
   "outputs": [],
   "source": [
    "# Drop the duplicated rows\n",
    "logs = data.drop_duplicates()"
   ]
  },
  {
   "cell_type": "code",
   "execution_count": null,
   "metadata": {
    "colab": {
     "base_uri": "https://localhost:8080/"
    },
    "id": "sKjgLPLShpcR",
    "outputId": "91d1d76a-c108-4059-fa2f-e3ca5035cf40"
   },
   "outputs": [
    {
     "name": "stdout",
     "output_type": "stream",
     "text": [
      "Duplicated rows: 413\n",
      "The share of the duplicates is: 0.2%\n"
     ]
    }
   ],
   "source": [
    "print('Duplicated rows: {}'.format(data.duplicated().sum()))\n",
    "print('The share of the duplicates is: {:.1%}'.format(1 - (len(logs) / len(data))))"
   ]
  },
  {
   "cell_type": "markdown",
   "metadata": {
    "id": "-yLFoPEzShaR"
   },
   "source": [
    "The loss is not critical, we still have a lot of good data."
   ]
  },
  {
   "cell_type": "code",
   "execution_count": null,
   "metadata": {
    "colab": {
     "base_uri": "https://localhost:8080/",
     "height": 206
    },
    "id": "sda4Fm_Fhw_Z",
    "outputId": "11a8d883-828c-47bd-a693-3e66a7177e5b"
   },
   "outputs": [
    {
     "data": {
      "text/html": [
       "\n",
       "  <div id=\"df-8d93ad2e-99e1-4e58-8e1e-379708bd9d65\">\n",
       "    <div class=\"colab-df-container\">\n",
       "      <div>\n",
       "<style scoped>\n",
       "    .dataframe tbody tr th:only-of-type {\n",
       "        vertical-align: middle;\n",
       "    }\n",
       "\n",
       "    .dataframe tbody tr th {\n",
       "        vertical-align: top;\n",
       "    }\n",
       "\n",
       "    .dataframe thead th {\n",
       "        text-align: right;\n",
       "    }\n",
       "</style>\n",
       "<table border=\"1\" class=\"dataframe\">\n",
       "  <thead>\n",
       "    <tr style=\"text-align: right;\">\n",
       "      <th></th>\n",
       "      <th>event_name</th>\n",
       "      <th>uid</th>\n",
       "      <th>timestamp</th>\n",
       "      <th>group</th>\n",
       "      <th>date</th>\n",
       "      <th>time</th>\n",
       "    </tr>\n",
       "  </thead>\n",
       "  <tbody>\n",
       "    <tr>\n",
       "      <th>0</th>\n",
       "      <td>MainScreenAppear</td>\n",
       "      <td>4575588528974610257</td>\n",
       "      <td>2019-07-25 04:43:36</td>\n",
       "      <td>A1</td>\n",
       "      <td>2019-07-25</td>\n",
       "      <td>04:43:36</td>\n",
       "    </tr>\n",
       "    <tr>\n",
       "      <th>1</th>\n",
       "      <td>MainScreenAppear</td>\n",
       "      <td>7416695313311560658</td>\n",
       "      <td>2019-07-25 11:11:42</td>\n",
       "      <td>A1</td>\n",
       "      <td>2019-07-25</td>\n",
       "      <td>11:11:42</td>\n",
       "    </tr>\n",
       "    <tr>\n",
       "      <th>2</th>\n",
       "      <td>PaymentScreenSuccessful</td>\n",
       "      <td>3518123091307005509</td>\n",
       "      <td>2019-07-25 11:28:47</td>\n",
       "      <td>B</td>\n",
       "      <td>2019-07-25</td>\n",
       "      <td>11:28:47</td>\n",
       "    </tr>\n",
       "    <tr>\n",
       "      <th>3</th>\n",
       "      <td>CartScreenAppear</td>\n",
       "      <td>3518123091307005509</td>\n",
       "      <td>2019-07-25 11:28:47</td>\n",
       "      <td>B</td>\n",
       "      <td>2019-07-25</td>\n",
       "      <td>11:28:47</td>\n",
       "    </tr>\n",
       "    <tr>\n",
       "      <th>4</th>\n",
       "      <td>PaymentScreenSuccessful</td>\n",
       "      <td>6217807653094995999</td>\n",
       "      <td>2019-07-25 11:48:42</td>\n",
       "      <td>B</td>\n",
       "      <td>2019-07-25</td>\n",
       "      <td>11:48:42</td>\n",
       "    </tr>\n",
       "  </tbody>\n",
       "</table>\n",
       "</div>\n",
       "      <button class=\"colab-df-convert\" onclick=\"convertToInteractive('df-8d93ad2e-99e1-4e58-8e1e-379708bd9d65')\"\n",
       "              title=\"Convert this dataframe to an interactive table.\"\n",
       "              style=\"display:none;\">\n",
       "        \n",
       "  <svg xmlns=\"http://www.w3.org/2000/svg\" height=\"24px\"viewBox=\"0 0 24 24\"\n",
       "       width=\"24px\">\n",
       "    <path d=\"M0 0h24v24H0V0z\" fill=\"none\"/>\n",
       "    <path d=\"M18.56 5.44l.94 2.06.94-2.06 2.06-.94-2.06-.94-.94-2.06-.94 2.06-2.06.94zm-11 1L8.5 8.5l.94-2.06 2.06-.94-2.06-.94L8.5 2.5l-.94 2.06-2.06.94zm10 10l.94 2.06.94-2.06 2.06-.94-2.06-.94-.94-2.06-.94 2.06-2.06.94z\"/><path d=\"M17.41 7.96l-1.37-1.37c-.4-.4-.92-.59-1.43-.59-.52 0-1.04.2-1.43.59L10.3 9.45l-7.72 7.72c-.78.78-.78 2.05 0 2.83L4 21.41c.39.39.9.59 1.41.59.51 0 1.02-.2 1.41-.59l7.78-7.78 2.81-2.81c.8-.78.8-2.07 0-2.86zM5.41 20L4 18.59l7.72-7.72 1.47 1.35L5.41 20z\"/>\n",
       "  </svg>\n",
       "      </button>\n",
       "      \n",
       "  <style>\n",
       "    .colab-df-container {\n",
       "      display:flex;\n",
       "      flex-wrap:wrap;\n",
       "      gap: 12px;\n",
       "    }\n",
       "\n",
       "    .colab-df-convert {\n",
       "      background-color: #E8F0FE;\n",
       "      border: none;\n",
       "      border-radius: 50%;\n",
       "      cursor: pointer;\n",
       "      display: none;\n",
       "      fill: #1967D2;\n",
       "      height: 32px;\n",
       "      padding: 0 0 0 0;\n",
       "      width: 32px;\n",
       "    }\n",
       "\n",
       "    .colab-df-convert:hover {\n",
       "      background-color: #E2EBFA;\n",
       "      box-shadow: 0px 1px 2px rgba(60, 64, 67, 0.3), 0px 1px 3px 1px rgba(60, 64, 67, 0.15);\n",
       "      fill: #174EA6;\n",
       "    }\n",
       "\n",
       "    [theme=dark] .colab-df-convert {\n",
       "      background-color: #3B4455;\n",
       "      fill: #D2E3FC;\n",
       "    }\n",
       "\n",
       "    [theme=dark] .colab-df-convert:hover {\n",
       "      background-color: #434B5C;\n",
       "      box-shadow: 0px 1px 3px 1px rgba(0, 0, 0, 0.15);\n",
       "      filter: drop-shadow(0px 1px 2px rgba(0, 0, 0, 0.3));\n",
       "      fill: #FFFFFF;\n",
       "    }\n",
       "  </style>\n",
       "\n",
       "      <script>\n",
       "        const buttonEl =\n",
       "          document.querySelector('#df-8d93ad2e-99e1-4e58-8e1e-379708bd9d65 button.colab-df-convert');\n",
       "        buttonEl.style.display =\n",
       "          google.colab.kernel.accessAllowed ? 'block' : 'none';\n",
       "\n",
       "        async function convertToInteractive(key) {\n",
       "          const element = document.querySelector('#df-8d93ad2e-99e1-4e58-8e1e-379708bd9d65');\n",
       "          const dataTable =\n",
       "            await google.colab.kernel.invokeFunction('convertToInteractive',\n",
       "                                                     [key], {});\n",
       "          if (!dataTable) return;\n",
       "\n",
       "          const docLinkHtml = 'Like what you see? Visit the ' +\n",
       "            '<a target=\"_blank\" href=https://colab.research.google.com/notebooks/data_table.ipynb>data table notebook</a>'\n",
       "            + ' to learn more about interactive tables.';\n",
       "          element.innerHTML = '';\n",
       "          dataTable['output_type'] = 'display_data';\n",
       "          await google.colab.output.renderOutput(dataTable, element);\n",
       "          const docLink = document.createElement('div');\n",
       "          docLink.innerHTML = docLinkHtml;\n",
       "          element.appendChild(docLink);\n",
       "        }\n",
       "      </script>\n",
       "    </div>\n",
       "  </div>\n",
       "  "
      ],
      "text/plain": [
       "                event_name                  uid           timestamp group  \\\n",
       "0  MainScreenAppear         4575588528974610257 2019-07-25 04:43:36  A1     \n",
       "1  MainScreenAppear         7416695313311560658 2019-07-25 11:11:42  A1     \n",
       "2  PaymentScreenSuccessful  3518123091307005509 2019-07-25 11:28:47  B      \n",
       "3  CartScreenAppear         3518123091307005509 2019-07-25 11:28:47  B      \n",
       "4  PaymentScreenSuccessful  6217807653094995999 2019-07-25 11:48:42  B      \n",
       "\n",
       "         date      time  \n",
       "0  2019-07-25  04:43:36  \n",
       "1  2019-07-25  11:11:42  \n",
       "2  2019-07-25  11:28:47  \n",
       "3  2019-07-25  11:28:47  \n",
       "4  2019-07-25  11:48:42  "
      ]
     },
     "execution_count": 21,
     "metadata": {},
     "output_type": "execute_result"
    }
   ],
   "source": [
    "# View at the updated dataframe\n",
    "logs.head()"
   ]
  },
  {
   "cell_type": "code",
   "execution_count": null,
   "metadata": {
    "colab": {
     "base_uri": "https://localhost:8080/"
    },
    "id": "anzBleNweLql",
    "outputId": "382e0e1c-9ffa-4b47-b910-52ef38c54f25"
   },
   "outputs": [
    {
     "name": "stdout",
     "output_type": "stream",
     "text": [
      "<class 'pandas.core.frame.DataFrame'>\n",
      "Int64Index: 243713 entries, 0 to 244125\n",
      "Data columns (total 6 columns):\n",
      " #   Column      Non-Null Count   Dtype         \n",
      "---  ------      --------------   -----         \n",
      " 0   event_name  243713 non-null  object        \n",
      " 1   uid         243713 non-null  int64         \n",
      " 2   timestamp   243713 non-null  datetime64[ns]\n",
      " 3   group       243713 non-null  object        \n",
      " 4   date        243713 non-null  object        \n",
      " 5   time        243713 non-null  object        \n",
      "dtypes: datetime64[ns](1), int64(1), object(4)\n",
      "memory usage: 13.0+ MB\n"
     ]
    }
   ],
   "source": [
    "logs.info()"
   ]
  },
  {
   "cell_type": "markdown",
   "metadata": {
    "id": "y2ZhbM3ZYU0z"
   },
   "source": [
    "##  Step 3. Study and check the data\n"
   ]
  },
  {
   "cell_type": "markdown",
   "metadata": {
    "id": "U9X64_-yU5t9"
   },
   "source": [
    "#  Explore main characteristics of the data:"
   ]
  },
  {
   "cell_type": "code",
   "execution_count": null,
   "metadata": {
    "colab": {
     "base_uri": "https://localhost:8080/"
    },
    "id": "5Ik27VwHSFld",
    "outputId": "d4693628-bb5d-487a-b34a-42f58c74fee6"
   },
   "outputs": [
    {
     "name": "stdout",
     "output_type": "stream",
     "text": [
      "There are 243713 actions in the log\n",
      "There are 7551 unique users\n",
      "Each user performs 20 events on average\n",
      "Each user participated in 2.67 unique events\n",
      "The log begins with date: 2019-07-25\n",
      "The log stops with date: 2019-08-07\n",
      "The overall period is: 13 days, 0:00:00\n",
      "On average users make 17408 actions per day\n"
     ]
    }
   ],
   "source": [
    "print('There are {} actions in the log'.format(logs['timestamp'].count()))\n",
    "print('There are {} unique users'.format(logs['uid'].nunique()))\n",
    "print('Each user performs {:.0f} events on average'.format(logs.groupby('uid')['event_name'].count().median()))\n",
    "print('Each user participated in {:.2f} unique events'.format(logs.groupby('uid')['event_name'].nunique().mean()))\n",
    "print('The log begins with date:', logs['date'].min())\n",
    "print('The log stops with date:', logs['date'].max())\n",
    "print('The overall period is:', logs['date'].max() - logs['date'].min())\n",
    "print('On average users make {:.0f} actions per day'.format(logs.groupby('date')['event_name'].count().mean()))"
   ]
  },
  {
   "cell_type": "markdown",
   "metadata": {
    "id": "NnMQX31sT9oX"
   },
   "source": [
    "How many events on average each user made?"
   ]
  },
  {
   "cell_type": "code",
   "execution_count": null,
   "metadata": {
    "colab": {
     "base_uri": "https://localhost:8080/",
     "height": 424
    },
    "id": "bNmTqBzOShaT",
    "outputId": "3aa848b6-696b-4467-baca-c9f3c5b22e3c"
   },
   "outputs": [
    {
     "data": {
      "text/html": [
       "\n",
       "  <div id=\"df-5c7b1c14-e2f2-420c-bbbe-5c3b56c56c75\">\n",
       "    <div class=\"colab-df-container\">\n",
       "      <div>\n",
       "<style scoped>\n",
       "    .dataframe tbody tr th:only-of-type {\n",
       "        vertical-align: middle;\n",
       "    }\n",
       "\n",
       "    .dataframe tbody tr th {\n",
       "        vertical-align: top;\n",
       "    }\n",
       "\n",
       "    .dataframe thead th {\n",
       "        text-align: right;\n",
       "    }\n",
       "</style>\n",
       "<table border=\"1\" class=\"dataframe\">\n",
       "  <thead>\n",
       "    <tr style=\"text-align: right;\">\n",
       "      <th></th>\n",
       "      <th>uid</th>\n",
       "      <th>event_name</th>\n",
       "    </tr>\n",
       "  </thead>\n",
       "  <tbody>\n",
       "    <tr>\n",
       "      <th>0</th>\n",
       "      <td>6888746892508752</td>\n",
       "      <td>1</td>\n",
       "    </tr>\n",
       "    <tr>\n",
       "      <th>1</th>\n",
       "      <td>6909561520679493</td>\n",
       "      <td>4</td>\n",
       "    </tr>\n",
       "    <tr>\n",
       "      <th>2</th>\n",
       "      <td>6922444491712477</td>\n",
       "      <td>4</td>\n",
       "    </tr>\n",
       "    <tr>\n",
       "      <th>3</th>\n",
       "      <td>7435777799948366</td>\n",
       "      <td>1</td>\n",
       "    </tr>\n",
       "    <tr>\n",
       "      <th>4</th>\n",
       "      <td>7702139951469979</td>\n",
       "      <td>4</td>\n",
       "    </tr>\n",
       "    <tr>\n",
       "      <th>...</th>\n",
       "      <td>...</td>\n",
       "      <td>...</td>\n",
       "    </tr>\n",
       "    <tr>\n",
       "      <th>7546</th>\n",
       "      <td>9217594193087726423</td>\n",
       "      <td>3</td>\n",
       "    </tr>\n",
       "    <tr>\n",
       "      <th>7547</th>\n",
       "      <td>9219463515465815368</td>\n",
       "      <td>4</td>\n",
       "    </tr>\n",
       "    <tr>\n",
       "      <th>7548</th>\n",
       "      <td>9220879493065341500</td>\n",
       "      <td>3</td>\n",
       "    </tr>\n",
       "    <tr>\n",
       "      <th>7549</th>\n",
       "      <td>9221926045299980007</td>\n",
       "      <td>1</td>\n",
       "    </tr>\n",
       "    <tr>\n",
       "      <th>7550</th>\n",
       "      <td>9222603179720523844</td>\n",
       "      <td>1</td>\n",
       "    </tr>\n",
       "  </tbody>\n",
       "</table>\n",
       "<p>7551 rows × 2 columns</p>\n",
       "</div>\n",
       "      <button class=\"colab-df-convert\" onclick=\"convertToInteractive('df-5c7b1c14-e2f2-420c-bbbe-5c3b56c56c75')\"\n",
       "              title=\"Convert this dataframe to an interactive table.\"\n",
       "              style=\"display:none;\">\n",
       "        \n",
       "  <svg xmlns=\"http://www.w3.org/2000/svg\" height=\"24px\"viewBox=\"0 0 24 24\"\n",
       "       width=\"24px\">\n",
       "    <path d=\"M0 0h24v24H0V0z\" fill=\"none\"/>\n",
       "    <path d=\"M18.56 5.44l.94 2.06.94-2.06 2.06-.94-2.06-.94-.94-2.06-.94 2.06-2.06.94zm-11 1L8.5 8.5l.94-2.06 2.06-.94-2.06-.94L8.5 2.5l-.94 2.06-2.06.94zm10 10l.94 2.06.94-2.06 2.06-.94-2.06-.94-.94-2.06-.94 2.06-2.06.94z\"/><path d=\"M17.41 7.96l-1.37-1.37c-.4-.4-.92-.59-1.43-.59-.52 0-1.04.2-1.43.59L10.3 9.45l-7.72 7.72c-.78.78-.78 2.05 0 2.83L4 21.41c.39.39.9.59 1.41.59.51 0 1.02-.2 1.41-.59l7.78-7.78 2.81-2.81c.8-.78.8-2.07 0-2.86zM5.41 20L4 18.59l7.72-7.72 1.47 1.35L5.41 20z\"/>\n",
       "  </svg>\n",
       "      </button>\n",
       "      \n",
       "  <style>\n",
       "    .colab-df-container {\n",
       "      display:flex;\n",
       "      flex-wrap:wrap;\n",
       "      gap: 12px;\n",
       "    }\n",
       "\n",
       "    .colab-df-convert {\n",
       "      background-color: #E8F0FE;\n",
       "      border: none;\n",
       "      border-radius: 50%;\n",
       "      cursor: pointer;\n",
       "      display: none;\n",
       "      fill: #1967D2;\n",
       "      height: 32px;\n",
       "      padding: 0 0 0 0;\n",
       "      width: 32px;\n",
       "    }\n",
       "\n",
       "    .colab-df-convert:hover {\n",
       "      background-color: #E2EBFA;\n",
       "      box-shadow: 0px 1px 2px rgba(60, 64, 67, 0.3), 0px 1px 3px 1px rgba(60, 64, 67, 0.15);\n",
       "      fill: #174EA6;\n",
       "    }\n",
       "\n",
       "    [theme=dark] .colab-df-convert {\n",
       "      background-color: #3B4455;\n",
       "      fill: #D2E3FC;\n",
       "    }\n",
       "\n",
       "    [theme=dark] .colab-df-convert:hover {\n",
       "      background-color: #434B5C;\n",
       "      box-shadow: 0px 1px 3px 1px rgba(0, 0, 0, 0.15);\n",
       "      filter: drop-shadow(0px 1px 2px rgba(0, 0, 0, 0.3));\n",
       "      fill: #FFFFFF;\n",
       "    }\n",
       "  </style>\n",
       "\n",
       "      <script>\n",
       "        const buttonEl =\n",
       "          document.querySelector('#df-5c7b1c14-e2f2-420c-bbbe-5c3b56c56c75 button.colab-df-convert');\n",
       "        buttonEl.style.display =\n",
       "          google.colab.kernel.accessAllowed ? 'block' : 'none';\n",
       "\n",
       "        async function convertToInteractive(key) {\n",
       "          const element = document.querySelector('#df-5c7b1c14-e2f2-420c-bbbe-5c3b56c56c75');\n",
       "          const dataTable =\n",
       "            await google.colab.kernel.invokeFunction('convertToInteractive',\n",
       "                                                     [key], {});\n",
       "          if (!dataTable) return;\n",
       "\n",
       "          const docLinkHtml = 'Like what you see? Visit the ' +\n",
       "            '<a target=\"_blank\" href=https://colab.research.google.com/notebooks/data_table.ipynb>data table notebook</a>'\n",
       "            + ' to learn more about interactive tables.';\n",
       "          element.innerHTML = '';\n",
       "          dataTable['output_type'] = 'display_data';\n",
       "          await google.colab.output.renderOutput(dataTable, element);\n",
       "          const docLink = document.createElement('div');\n",
       "          docLink.innerHTML = docLinkHtml;\n",
       "          element.appendChild(docLink);\n",
       "        }\n",
       "      </script>\n",
       "    </div>\n",
       "  </div>\n",
       "  "
      ],
      "text/plain": [
       "                      uid  event_name\n",
       "0     6888746892508752     1         \n",
       "1     6909561520679493     4         \n",
       "2     6922444491712477     4         \n",
       "3     7435777799948366     1         \n",
       "4     7702139951469979     4         \n",
       "...                ...    ..         \n",
       "7546  9217594193087726423  3         \n",
       "7547  9219463515465815368  4         \n",
       "7548  9220879493065341500  3         \n",
       "7549  9221926045299980007  1         \n",
       "7550  9222603179720523844  1         \n",
       "\n",
       "[7551 rows x 2 columns]"
      ]
     },
     "execution_count": 24,
     "metadata": {},
     "output_type": "execute_result"
    }
   ],
   "source": [
    "per_user_plot = logs.groupby('uid', as_index=False)['event_name'].nunique()\n",
    "per_user_plot"
   ]
  },
  {
   "cell_type": "code",
   "execution_count": null,
   "metadata": {
    "colab": {
     "base_uri": "https://localhost:8080/",
     "height": 517
    },
    "id": "U9Mfzj8RShaT",
    "outputId": "4668c291-5072-4313-b009-5e30a1a51051"
   },
   "outputs": [
    {
     "data": {
      "text/html": [
       "<html>\n",
       "<head><meta charset=\"utf-8\" /></head>\n",
       "<body>\n",
       "    <div>            <script src=\"https://cdnjs.cloudflare.com/ajax/libs/mathjax/2.7.5/MathJax.js?config=TeX-AMS-MML_SVG\"></script><script type=\"text/javascript\">if (window.MathJax) {MathJax.Hub.Config({SVG: {font: \"STIX-Web\"}});}</script>                <script type=\"text/javascript\">window.PlotlyConfig = {MathJaxConfig: 'local'};</script>\n",
       "        <script src=\"https://cdn.plot.ly/plotly-2.8.3.min.js\"></script>                <div id=\"e70f1e85-4696-4a2b-8990-1a63b40e6dc3\" class=\"plotly-graph-div\" style=\"height:500px; width:700px;\"></div>            <script type=\"text/javascript\">                                    window.PLOTLYENV=window.PLOTLYENV || {};                                    if (document.getElementById(\"e70f1e85-4696-4a2b-8990-1a63b40e6dc3\")) {                    Plotly.newPlot(                        \"e70f1e85-4696-4a2b-8990-1a63b40e6dc3\",                        [{\"alignmentgroup\":\"True\",\"bingroup\":\"y\",\"hovertemplate\":\"number of events=%{y}<br>count=%{x}<extra></extra>\",\"legendgroup\":\"1\",\"marker\":{\"color\":\"#636efa\",\"pattern\":{\"shape\":\"\"}},\"name\":\"1\",\"offsetgroup\":\"1\",\"orientation\":\"h\",\"showlegend\":true,\"xaxis\":\"x\",\"y\":[1,1,1,1,1,1,1,1,1,1,1,1,1,1,1,1,1,1,1,1,1,1,1,1,1,1,1,1,1,1,1,1,1,1,1,1,1,1,1,1,1,1,1,1,1,1,1,1,1,1,1,1,1,1,1,1,1,1,1,1,1,1,1,1,1,1,1,1,1,1,1,1,1,1,1,1,1,1,1,1,1,1,1,1,1,1,1,1,1,1,1,1,1,1,1,1,1,1,1,1,1,1,1,1,1,1,1,1,1,1,1,1,1,1,1,1,1,1,1,1,1,1,1,1,1,1,1,1,1,1,1,1,1,1,1,1,1,1,1,1,1,1,1,1,1,1,1,1,1,1,1,1,1,1,1,1,1,1,1,1,1,1,1,1,1,1,1,1,1,1,1,1,1,1,1,1,1,1,1,1,1,1,1,1,1,1,1,1,1,1,1,1,1,1,1,1,1,1,1,1,1,1,1,1,1,1,1,1,1,1,1,1,1,1,1,1,1,1,1,1,1,1,1,1,1,1,1,1,1,1,1,1,1,1,1,1,1,1,1,1,1,1,1,1,1,1,1,1,1,1,1,1,1,1,1,1,1,1,1,1,1,1,1,1,1,1,1,1,1,1,1,1,1,1,1,1,1,1,1,1,1,1,1,1,1,1,1,1,1,1,1,1,1,1,1,1,1,1,1,1,1,1,1,1,1,1,1,1,1,1,1,1,1,1,1,1,1,1,1,1,1,1,1,1,1,1,1,1,1,1,1,1,1,1,1,1,1,1,1,1,1,1,1,1,1,1,1,1,1,1,1,1,1,1,1,1,1,1,1,1,1,1,1,1,1,1,1,1,1,1,1,1,1,1,1,1,1,1,1,1,1,1,1,1,1,1,1,1,1,1,1,1,1,1,1,1,1,1,1,1,1,1,1,1,1,1,1,1,1,1,1,1,1,1,1,1,1,1,1,1,1,1,1,1,1,1,1,1,1,1,1,1,1,1,1,1,1,1,1,1,1,1,1,1,1,1,1,1,1,1,1,1,1,1,1,1,1,1,1,1,1,1,1,1,1,1,1,1,1,1,1,1,1,1,1,1,1,1,1,1,1,1,1,1,1,1,1,1,1,1,1,1,1,1,1,1,1,1,1,1,1,1,1,1,1,1,1,1,1,1,1,1,1,1,1,1,1,1,1,1,1,1,1,1,1,1,1,1,1,1,1,1,1,1,1,1,1,1,1,1,1,1,1,1,1,1,1,1,1,1,1,1,1,1,1,1,1,1,1,1,1,1,1,1,1,1,1,1,1,1,1,1,1,1,1,1,1,1,1,1,1,1,1,1,1,1,1,1,1,1,1,1,1,1,1,1,1,1,1,1,1,1,1,1,1,1,1,1,1,1,1,1,1,1,1,1,1,1,1,1,1,1,1,1,1,1,1,1,1,1,1,1,1,1,1,1,1,1,1,1,1,1,1,1,1,1,1,1,1,1,1,1,1,1,1,1,1,1,1,1,1,1,1,1,1,1,1,1,1,1,1,1,1,1,1,1,1,1,1,1,1,1,1,1,1,1,1,1,1,1,1,1,1,1,1,1,1,1,1,1,1,1,1,1,1,1,1,1,1,1,1,1,1,1,1,1,1,1,1,1,1,1,1,1,1,1,1,1,1,1,1,1,1,1,1,1,1,1,1,1,1,1,1,1,1,1,1,1,1,1,1,1,1,1,1,1,1,1,1,1,1,1,1,1,1,1,1,1,1,1,1,1,1,1,1,1,1,1,1,1,1,1,1,1,1,1,1,1,1,1,1,1,1,1,1,1,1,1,1,1,1,1,1,1,1,1,1,1,1,1,1,1,1,1,1,1,1,1,1,1,1,1,1,1,1,1,1,1,1,1,1,1,1,1,1,1,1,1,1,1,1,1,1,1,1,1,1,1,1,1,1,1,1,1,1,1,1,1,1,1,1,1,1,1,1,1,1,1,1,1,1,1,1,1,1,1,1,1,1,1,1,1,1,1,1,1,1,1,1,1,1,1,1,1,1,1,1,1,1,1,1,1,1,1,1,1,1,1,1,1,1,1,1,1,1,1,1,1,1,1,1,1,1,1,1,1,1,1,1,1,1,1,1,1,1,1,1,1,1,1,1,1,1,1,1,1,1,1,1,1,1,1,1,1,1,1,1,1,1,1,1,1,1,1,1,1,1,1,1,1,1,1,1,1,1,1,1,1,1,1,1,1,1,1,1,1,1,1,1,1,1,1,1,1,1,1,1,1,1,1,1,1,1,1,1,1,1,1,1,1,1,1,1,1,1,1,1,1,1,1,1,1,1,1,1,1,1,1,1,1,1,1,1,1,1,1,1,1,1,1,1,1,1,1,1,1,1,1,1,1,1,1,1,1,1,1,1,1,1,1,1,1,1,1,1,1,1,1,1,1,1,1,1,1,1,1,1,1,1,1,1,1,1,1,1,1,1,1,1,1,1,1,1,1,1,1,1,1,1,1,1,1,1,1,1,1,1,1,1,1,1,1,1,1,1,1,1,1,1,1,1,1,1,1,1,1,1,1,1,1,1,1,1,1,1,1,1,1,1,1,1,1,1,1,1,1,1,1,1,1,1,1,1,1,1,1,1,1,1,1,1,1,1,1,1,1,1,1,1,1,1,1,1,1,1,1,1,1,1,1,1,1,1,1,1,1,1,1,1,1,1,1,1,1,1,1,1,1,1,1,1,1,1,1,1,1,1,1,1,1,1,1,1,1,1,1,1,1,1,1,1,1,1,1,1,1,1,1,1,1,1,1,1,1,1,1,1,1,1,1,1,1,1,1,1,1,1,1,1,1,1,1,1,1,1,1,1,1,1,1,1,1,1,1,1,1,1,1,1,1,1,1,1,1,1,1,1,1,1,1,1,1,1,1,1,1,1,1,1,1,1,1,1,1,1,1,1,1,1,1,1,1,1,1,1,1,1,1,1,1,1,1,1,1,1,1,1,1,1,1,1,1,1,1,1,1,1,1,1,1,1,1,1,1,1,1,1,1,1,1,1,1,1,1,1,1,1,1,1,1,1,1,1,1,1,1,1,1,1,1,1,1,1,1,1,1,1,1,1,1,1,1,1,1,1,1,1,1,1,1,1,1,1,1,1,1,1,1,1,1,1,1,1,1,1,1,1,1,1,1,1,1,1,1,1,1,1,1,1,1,1,1,1,1,1,1,1,1,1,1,1,1,1,1,1,1,1,1,1,1,1,1,1,1,1,1,1,1,1,1,1,1,1,1,1,1,1,1,1,1,1,1,1,1,1,1,1,1,1,1,1,1,1,1,1,1,1,1,1,1,1,1,1,1,1,1,1,1,1,1,1,1,1,1,1,1,1,1,1,1,1,1,1,1,1,1,1,1,1,1,1,1,1,1,1,1,1,1,1,1,1,1,1,1,1,1,1,1,1,1,1,1,1,1,1,1,1,1,1,1,1,1,1,1,1,1,1,1,1,1,1,1,1,1,1,1,1,1,1,1,1,1,1,1,1,1,1,1,1,1,1,1,1,1,1,1,1,1,1,1,1,1,1,1,1,1,1,1,1,1,1,1,1,1,1,1,1,1,1,1,1,1,1,1,1,1,1,1,1,1,1,1,1,1,1,1,1,1,1,1,1,1,1,1,1,1,1,1,1,1,1,1,1,1,1,1,1,1,1,1,1,1,1,1,1,1,1,1,1,1,1,1,1,1,1,1,1,1,1,1,1,1,1,1,1,1,1,1,1,1,1,1,1,1,1,1,1,1,1,1,1,1,1,1,1,1,1,1,1,1,1,1,1,1,1,1,1,1,1,1,1,1,1,1,1,1,1,1,1,1,1,1,1,1,1,1,1,1,1,1,1,1,1,1,1,1,1,1,1,1,1,1,1,1,1,1,1,1,1,1,1,1,1,1,1,1,1,1,1,1,1,1,1,1,1,1,1,1,1,1,1,1,1,1,1,1,1,1,1,1,1,1,1,1,1,1,1,1,1,1,1,1,1,1,1,1,1,1,1,1,1,1,1,1,1,1,1,1,1,1,1,1,1,1,1,1,1,1,1,1,1,1,1,1,1,1,1,1,1,1,1,1,1,1,1,1,1,1,1,1,1,1,1,1,1,1,1,1,1,1,1,1,1,1,1,1,1,1,1,1,1,1,1,1,1,1,1,1,1,1,1,1,1,1,1,1,1,1,1,1,1,1,1,1,1,1,1,1,1,1,1,1,1,1,1,1,1,1,1,1,1,1,1,1,1,1,1,1,1,1,1,1,1,1,1,1,1,1,1,1,1,1,1,1,1,1,1,1,1,1,1,1,1,1,1,1,1,1,1,1,1,1,1,1,1,1,1,1,1,1,1,1,1,1,1,1,1,1,1,1,1,1,1,1,1,1,1,1,1,1,1,1,1,1,1,1,1,1,1,1,1,1,1,1,1,1,1,1,1,1,1,1,1,1,1,1,1,1,1,1,1,1,1,1,1,1,1,1,1,1,1,1,1,1,1,1,1,1,1,1,1,1,1,1,1,1,1,1,1,1,1,1,1,1,1,1,1,1,1,1,1,1,1,1,1,1,1,1,1,1,1,1,1,1,1,1,1,1,1,1,1,1,1,1,1,1,1,1,1,1,1,1,1,1,1,1,1,1,1,1,1,1,1,1,1,1,1,1,1,1,1,1,1,1,1,1,1,1,1,1,1,1,1,1,1,1,1,1,1,1,1,1,1,1,1,1,1,1,1,1,1,1,1,1,1,1,1,1,1,1,1,1,1,1,1,1,1,1,1,1,1,1,1,1,1,1,1,1,1,1,1,1,1,1,1,1,1,1,1,1,1,1,1,1,1,1,1,1,1,1,1,1,1,1,1,1,1,1,1,1,1,1,1,1,1,1,1,1,1,1,1,1,1,1,1,1,1,1,1,1,1,1,1,1,1,1,1,1,1,1,1,1,1,1,1,1,1,1,1,1,1,1,1,1,1,1,1,1,1,1,1,1,1,1,1,1,1,1,1,1,1,1,1,1,1,1,1,1,1,1,1,1,1,1,1,1,1,1,1,1,1,1,1,1,1,1,1,1,1,1,1,1,1,1,1,1,1,1,1,1,1,1,1,1,1,1,1,1,1,1,1,1,1,1,1,1,1,1,1,1,1,1,1,1,1,1,1,1,1,1,1,1,1,1,1,1,1,1,1,1,1,1,1,1,1,1,1,1,1,1,1,1,1,1,1,1,1,1,1,1,1,1,1,1,1,1,1,1,1,1,1,1,1,1,1,1,1,1,1,1,1,1,1,1,1,1,1,1,1,1,1,1,1,1,1,1,1,1,1,1,1,1,1,1,1,1,1,1,1,1,1,1,1,1,1,1,1,1,1,1,1,1,1,1,1,1,1,1,1,1,1,1,1,1,1,1,1,1,1,1,1,1,1,1,1,1,1,1,1,1,1,1,1,1,1,1,1,1,1,1,1,1,1,1,1,1,1,1,1,1,1,1,1,1,1,1,1,1,1,1,1,1,1,1,1,1,1,1,1,1,1,1,1,1,1,1,1,1,1,1,1,1,1,1,1,1,1,1,1,1,1,1,1,1,1,1,1,1,1,1,1,1,1,1,1,1,1,1,1,1,1,1,1,1,1,1,1,1,1,1,1,1,1,1,1,1,1,1,1,1,1,1,1,1,1,1,1,1,1,1,1,1,1,1,1,1,1,1,1,1,1,1,1,1,1,1,1,1,1,1,1,1,1,1,1,1,1,1,1,1,1,1,1,1,1,1,1,1,1,1,1,1,1,1,1,1,1,1,1,1,1,1,1,1,1,1,1,1,1,1,1,1,1,1,1,1,1,1,1,1,1,1,1,1,1,1,1,1,1,1,1,1,1,1,1,1,1,1,1,1,1,1,1,1,1,1,1,1,1,1,1,1,1,1,1,1,1,1,1,1,1,1,1,1,1,1,1,1,1,1,1,1,1,1,1,1,1,1,1,1,1,1,1,1,1,1,1,1,1,1,1,1,1,1,1,1,1,1,1,1,1,1,1,1,1,1,1,1,1,1,1,1,1,1,1,1,1,1,1,1,1,1,1,1,1,1,1,1,1,1,1,1,1,1,1,1,1],\"yaxis\":\"y\",\"type\":\"histogram\"},{\"alignmentgroup\":\"True\",\"bingroup\":\"y\",\"hovertemplate\":\"number of events=%{y}<br>count=%{x}<extra></extra>\",\"legendgroup\":\"4\",\"marker\":{\"color\":\"#EF553B\",\"pattern\":{\"shape\":\"\"}},\"name\":\"4\",\"offsetgroup\":\"4\",\"orientation\":\"h\",\"showlegend\":true,\"xaxis\":\"x\",\"y\":[4,4,4,4,4,4,4,4,4,4,4,4,4,4,4,4,4,4,4,4,4,4,4,4,4,4,4,4,4,4,4,4,4,4,4,4,4,4,4,4,4,4,4,4,4,4,4,4,4,4,4,4,4,4,4,4,4,4,4,4,4,4,4,4,4,4,4,4,4,4,4,4,4,4,4,4,4,4,4,4,4,4,4,4,4,4,4,4,4,4,4,4,4,4,4,4,4,4,4,4,4,4,4,4,4,4,4,4,4,4,4,4,4,4,4,4,4,4,4,4,4,4,4,4,4,4,4,4,4,4,4,4,4,4,4,4,4,4,4,4,4,4,4,4,4,4,4,4,4,4,4,4,4,4,4,4,4,4,4,4,4,4,4,4,4,4,4,4,4,4,4,4,4,4,4,4,4,4,4,4,4,4,4,4,4,4,4,4,4,4,4,4,4,4,4,4,4,4,4,4,4,4,4,4,4,4,4,4,4,4,4,4,4,4,4,4,4,4,4,4,4,4,4,4,4,4,4,4,4,4,4,4,4,4,4,4,4,4,4,4,4,4,4,4,4,4,4,4,4,4,4,4,4,4,4,4,4,4,4,4,4,4,4,4,4,4,4,4,4,4,4,4,4,4,4,4,4,4,4,4,4,4,4,4,4,4,4,4,4,4,4,4,4,4,4,4,4,4,4,4,4,4,4,4,4,4,4,4,4,4,4,4,4,4,4,4,4,4,4,4,4,4,4,4,4,4,4,4,4,4,4,4,4,4,4,4,4,4,4,4,4,4,4,4,4,4,4,4,4,4,4,4,4,4,4,4,4,4,4,4,4,4,4,4,4,4,4,4,4,4,4,4,4,4,4,4,4,4,4,4,4,4,4,4,4,4,4,4,4,4,4,4,4,4,4,4,4,4,4,4,4,4,4,4,4,4,4,4,4,4,4,4,4,4,4,4,4,4,4,4,4,4,4,4,4,4,4,4,4,4,4,4,4,4,4,4,4,4,4,4,4,4,4,4,4,4,4,4,4,4,4,4,4,4,4,4,4,4,4,4,4,4,4,4,4,4,4,4,4,4,4,4,4,4,4,4,4,4,4,4,4,4,4,4,4,4,4,4,4,4,4,4,4,4,4,4,4,4,4,4,4,4,4,4,4,4,4,4,4,4,4,4,4,4,4,4,4,4,4,4,4,4,4,4,4,4,4,4,4,4,4,4,4,4,4,4,4,4,4,4,4,4,4,4,4,4,4,4,4,4,4,4,4,4,4,4,4,4,4,4,4,4,4,4,4,4,4,4,4,4,4,4,4,4,4,4,4,4,4,4,4,4,4,4,4,4,4,4,4,4,4,4,4,4,4,4,4,4,4,4,4,4,4,4,4,4,4,4,4,4,4,4,4,4,4,4,4,4,4,4,4,4,4,4,4,4,4,4,4,4,4,4,4,4,4,4,4,4,4,4,4,4,4,4,4,4,4,4,4,4,4,4,4,4,4,4,4,4,4,4,4,4,4,4,4,4,4,4,4,4,4,4,4,4,4,4,4,4,4,4,4,4,4,4,4,4,4,4,4,4,4,4,4,4,4,4,4,4,4,4,4,4,4,4,4,4,4,4,4,4,4,4,4,4,4,4,4,4,4,4,4,4,4,4,4,4,4,4,4,4,4,4,4,4,4,4,4,4,4,4,4,4,4,4,4,4,4,4,4,4,4,4,4,4,4,4,4,4,4,4,4,4,4,4,4,4,4,4,4,4,4,4,4,4,4,4,4,4,4,4,4,4,4,4,4,4,4,4,4,4,4,4,4,4,4,4,4,4,4,4,4,4,4,4,4,4,4,4,4,4,4,4,4,4,4,4,4,4,4,4,4,4,4,4,4,4,4,4,4,4,4,4,4,4,4,4,4,4,4,4,4,4,4,4,4,4,4,4,4,4,4,4,4,4,4,4,4,4,4,4,4,4,4,4,4,4,4,4,4,4,4,4,4,4,4,4,4,4,4,4,4,4,4,4,4,4,4,4,4,4,4,4,4,4,4,4,4,4,4,4,4,4,4,4,4,4,4,4,4,4,4,4,4,4,4,4,4,4,4,4,4,4,4,4,4,4,4,4,4,4,4,4,4,4,4,4,4,4,4,4,4,4,4,4,4,4,4,4,4,4,4,4,4,4,4,4,4,4,4,4,4,4,4,4,4,4,4,4,4,4,4,4,4,4,4,4,4,4,4,4,4,4,4,4,4,4,4,4,4,4,4,4,4,4,4,4,4,4,4,4,4,4,4,4,4,4,4,4,4,4,4,4,4,4,4,4,4,4,4,4,4,4,4,4,4,4,4,4,4,4,4,4,4,4,4,4,4,4,4,4,4,4,4,4,4,4,4,4,4,4,4,4,4,4,4,4,4,4,4,4,4,4,4,4,4,4,4,4,4,4,4,4,4,4,4,4,4,4,4,4,4,4,4,4,4,4,4,4,4,4,4,4,4,4,4,4,4,4,4,4,4,4,4,4,4,4,4,4,4,4,4,4,4,4,4,4,4,4,4,4,4,4,4,4,4,4,4,4,4,4,4,4,4,4,4,4,4,4,4,4,4,4,4,4,4,4,4,4,4,4,4,4,4,4,4,4,4,4,4,4,4,4,4,4,4,4,4,4,4,4,4,4,4,4,4,4,4,4,4,4,4,4,4,4,4,4,4,4,4,4,4,4,4,4,4,4,4,4,4,4,4,4,4,4,4,4,4,4,4,4,4,4,4,4,4,4,4,4,4,4,4,4,4,4,4,4,4,4,4,4,4,4,4,4,4,4,4,4,4,4,4,4,4,4,4,4,4,4,4,4,4,4,4,4,4,4,4,4,4,4,4,4,4,4,4,4,4,4,4,4,4,4,4,4,4,4,4,4,4,4,4,4,4,4,4,4,4,4,4,4,4,4,4,4,4,4,4,4,4,4,4,4,4,4,4,4,4,4,4,4,4,4,4,4,4,4,4,4,4,4,4,4,4,4,4,4,4,4,4,4,4,4,4,4,4,4,4,4,4,4,4,4,4,4,4,4,4,4,4,4,4,4,4,4,4,4,4,4,4,4,4,4,4,4,4,4,4,4,4,4,4,4,4,4,4,4,4,4,4,4,4,4,4,4,4,4,4,4,4,4,4,4,4,4,4,4,4,4,4,4,4,4,4,4,4,4,4,4,4,4,4,4,4,4,4,4,4,4,4,4,4,4,4,4,4,4,4,4,4,4,4,4,4,4,4,4,4,4,4,4,4,4,4,4,4,4,4,4,4,4,4,4,4,4,4,4,4,4,4,4,4,4,4,4,4,4,4,4,4,4,4,4,4,4,4,4,4,4,4,4,4,4,4,4,4,4,4,4,4,4,4,4,4,4,4,4,4,4,4,4,4,4,4,4,4,4,4,4,4,4,4,4,4,4,4,4,4,4,4,4,4,4,4,4,4,4,4,4,4,4,4,4,4,4,4,4,4,4,4,4,4,4,4,4,4,4,4,4,4,4,4,4,4,4,4,4,4,4,4,4,4,4,4,4,4,4,4,4,4,4,4,4,4,4,4,4,4,4,4,4,4,4,4,4,4,4,4,4,4,4,4,4,4,4,4,4,4,4,4,4,4,4,4,4,4,4,4,4,4,4,4,4,4,4,4,4,4,4,4,4,4,4,4,4,4,4,4,4,4,4,4,4,4,4,4,4,4,4,4,4,4,4,4,4,4,4,4,4,4,4,4,4,4,4,4,4,4,4,4,4,4,4,4,4,4,4,4,4,4,4,4,4,4,4,4,4,4,4,4,4,4,4,4,4,4,4,4,4,4,4,4,4,4,4,4,4,4,4,4,4,4,4,4,4,4,4,4,4,4,4,4,4,4,4,4,4,4,4,4,4,4,4,4,4,4,4,4,4,4,4,4,4,4,4,4,4,4,4,4,4,4,4,4,4,4,4,4,4,4,4,4,4,4,4,4,4,4,4,4,4,4,4,4,4,4,4,4,4,4,4,4,4,4,4,4,4,4,4,4,4,4,4,4,4,4,4,4,4,4,4,4,4,4,4,4,4,4,4,4,4,4,4,4,4,4,4,4,4,4,4,4,4,4,4,4,4,4,4,4,4,4,4,4,4,4,4,4,4,4,4,4,4,4,4,4,4,4,4,4,4,4,4,4,4,4,4,4,4,4,4,4,4,4,4,4,4,4,4,4,4,4,4,4,4,4,4,4,4,4,4,4,4,4,4,4,4,4,4,4,4,4,4,4,4,4,4,4,4,4,4,4,4,4,4,4,4,4,4,4,4,4,4,4,4,4,4,4,4,4,4,4,4,4,4,4,4,4,4,4,4,4,4,4,4,4,4,4,4,4,4,4,4,4,4,4,4,4,4,4,4,4,4,4,4,4,4,4,4,4,4,4,4,4,4,4,4,4,4,4,4,4,4,4,4,4,4,4,4,4,4,4,4,4,4,4,4,4,4,4,4,4,4,4,4,4,4,4,4,4,4,4,4,4,4,4,4,4,4,4,4,4,4,4,4,4,4,4,4,4,4,4,4,4,4,4,4,4,4,4,4,4,4,4,4,4,4,4,4,4,4,4,4,4,4,4,4,4,4,4,4,4,4,4,4,4,4,4,4,4,4,4,4,4,4,4,4,4,4,4,4,4,4,4,4,4,4,4,4,4,4,4,4,4,4,4,4,4,4,4,4,4,4,4,4,4,4,4,4,4,4,4,4,4,4,4,4,4,4,4,4,4,4,4,4,4,4,4,4,4,4,4,4,4,4,4,4,4,4,4,4,4,4,4,4,4,4,4,4,4,4,4,4,4,4,4,4,4,4,4,4,4,4,4,4,4,4,4,4,4,4,4,4,4,4,4,4,4,4,4,4,4,4,4,4,4,4,4,4,4,4,4,4,4,4,4,4,4,4,4,4,4,4,4,4,4,4,4,4,4,4,4,4,4,4,4,4,4,4,4,4,4,4,4,4,4,4,4,4,4,4,4,4,4,4,4,4,4,4,4,4,4,4,4,4,4,4,4,4,4,4,4,4,4,4,4,4,4,4,4,4,4,4,4,4,4,4,4,4,4,4,4,4,4,4,4,4,4,4,4,4,4,4,4,4,4,4,4,4,4,4,4,4,4,4,4,4,4,4,4,4,4,4,4,4,4,4,4,4,4,4,4,4,4,4,4,4,4,4,4,4,4,4,4,4,4,4,4,4,4,4,4,4,4,4,4,4,4,4,4,4,4,4,4,4,4,4,4,4,4,4,4,4,4,4,4,4,4,4,4,4,4,4,4,4,4,4,4,4,4,4,4,4,4,4,4,4,4,4,4,4,4,4,4,4,4,4,4,4,4,4,4,4,4,4,4,4,4,4,4,4,4,4,4,4,4,4,4,4,4,4,4,4,4,4,4,4,4,4,4,4,4,4,4,4,4,4,4,4,4,4,4,4,4,4,4,4,4,4,4,4,4,4,4,4,4,4,4,4,4,4,4,4,4,4,4,4,4,4,4,4,4,4,4,4,4,4,4,4,4,4,4,4,4,4,4,4,4,4,4,4,4,4,4,4,4,4,4,4,4,4,4,4,4,4,4,4,4,4,4,4,4,4,4,4,4,4,4,4,4,4,4,4,4,4,4,4,4,4,4,4,4,4,4,4,4,4,4,4,4,4,4,4,4,4,4,4,4,4,4,4,4,4,4,4,4,4,4,4,4,4,4,4,4,4,4,4,4,4,4,4,4,4,4,4,4,4,4,4,4,4,4,4,4,4,4,4,4,4,4,4,4,4,4,4,4,4,4,4,4,4,4,4,4,4,4,4,4,4,4,4,4,4,4,4,4,4,4,4,4,4,4,4,4,4,4,4,4,4,4,4,4,4,4,4,4,4,4,4,4,4,4,4,4,4,4,4,4,4,4,4,4,4,4,4,4,4,4,4,4,4,4,4,4,4,4,4,4,4,4,4,4,4,4,4,4,4,4,4,4,4,4,4,4,4,4,4,4,4,4,4,4,4,4,4,4,4,4,4,4,4,4,4,4,4,4,4,4,4,4,4,4,4,4,4,4,4,4,4,4,4,4,4,4,4,4,4,4,4,4,4,4,4,4,4,4,4,4,4,4,4,4,4,4,4,4,4,4,4,4,4,4,4,4,4,4,4,4,4,4,4,4,4,4,4,4,4,4,4,4,4,4,4,4,4,4,4,4,4,4,4,4,4,4,4,4,4,4,4,4,4,4,4,4,4,4,4,4,4,4,4,4,4,4,4,4,4,4,4,4,4,4,4,4,4,4,4,4,4,4,4,4,4,4,4,4,4,4,4,4,4,4,4,4,4,4,4,4,4,4,4,4,4,4,4,4,4,4,4,4,4,4,4,4,4,4,4,4,4,4,4,4,4,4,4,4,4,4,4,4,4,4,4,4,4,4,4,4,4,4,4,4,4,4,4,4,4,4,4,4,4,4,4,4,4,4,4,4,4,4,4,4,4,4,4,4,4,4,4,4,4,4,4,4,4,4,4,4,4,4,4,4,4,4,4,4,4,4,4,4,4,4,4,4,4,4,4,4,4,4,4,4,4,4,4,4,4,4,4,4,4,4,4,4,4,4,4,4,4,4,4,4,4,4,4,4,4,4,4,4,4,4,4,4,4,4,4,4,4,4,4,4,4,4,4,4,4,4,4,4,4,4,4,4,4,4,4,4,4,4,4,4,4,4,4,4,4,4,4,4,4,4,4,4,4,4,4,4,4,4,4,4,4,4,4,4,4,4,4,4,4,4,4,4,4,4,4,4,4,4,4,4,4,4,4,4,4,4,4,4,4,4,4,4,4,4,4,4,4,4,4,4,4,4,4,4],\"yaxis\":\"y\",\"type\":\"histogram\"},{\"alignmentgroup\":\"True\",\"bingroup\":\"y\",\"hovertemplate\":\"number of events=%{y}<br>count=%{x}<extra></extra>\",\"legendgroup\":\"3\",\"marker\":{\"color\":\"#00cc96\",\"pattern\":{\"shape\":\"\"}},\"name\":\"3\",\"offsetgroup\":\"3\",\"orientation\":\"h\",\"showlegend\":true,\"xaxis\":\"x\",\"y\":[3,3,3,3,3,3,3,3,3,3,3,3,3,3,3,3,3,3,3,3,3,3,3,3,3,3,3,3,3,3,3,3,3,3,3,3,3,3,3,3,3,3,3,3,3,3,3,3,3,3,3,3,3,3,3,3,3,3,3,3,3,3,3,3,3,3,3,3,3,3,3,3,3,3,3,3,3,3,3,3,3,3,3,3,3,3,3,3,3,3,3,3,3,3,3,3,3,3,3,3,3,3,3,3,3,3,3,3,3,3,3,3,3,3,3,3,3,3,3,3,3,3,3,3,3,3,3,3,3,3,3,3,3,3,3,3,3,3,3,3,3,3,3,3,3,3,3,3,3,3,3,3,3,3,3,3,3,3,3,3,3,3,3,3,3,3,3,3,3,3,3,3,3,3,3,3,3,3,3,3,3,3,3,3,3,3,3,3,3,3,3,3,3,3,3,3,3,3,3,3,3,3,3,3,3,3,3,3,3,3,3,3,3,3,3,3,3,3,3,3,3,3,3,3,3,3,3,3,3,3,3,3,3,3,3,3,3,3,3,3,3,3,3,3,3,3,3,3,3,3,3,3,3,3,3,3,3,3,3,3,3,3,3,3,3,3,3,3,3,3,3,3,3,3,3,3,3,3,3,3,3,3,3,3,3,3,3,3,3,3,3,3,3,3,3,3,3,3,3,3,3,3,3,3,3,3,3,3,3,3,3,3,3,3,3,3,3],\"yaxis\":\"y\",\"type\":\"histogram\"},{\"alignmentgroup\":\"True\",\"bingroup\":\"y\",\"hovertemplate\":\"number of events=%{y}<br>count=%{x}<extra></extra>\",\"legendgroup\":\"2\",\"marker\":{\"color\":\"#ab63fa\",\"pattern\":{\"shape\":\"\"}},\"name\":\"2\",\"offsetgroup\":\"2\",\"orientation\":\"h\",\"showlegend\":true,\"xaxis\":\"x\",\"y\":[2,2,2,2,2,2,2,2,2,2,2,2,2,2,2,2,2,2,2,2,2,2,2,2,2,2,2,2,2,2,2,2,2,2,2,2,2,2,2,2,2,2,2,2,2,2,2,2,2,2,2,2,2,2,2,2,2,2,2,2,2,2,2,2,2,2,2,2,2,2,2,2,2,2,2,2,2,2,2,2,2,2,2,2,2,2,2,2,2,2,2,2,2,2,2,2,2,2,2,2,2,2,2,2,2,2,2,2,2,2,2,2,2,2,2,2,2,2,2,2,2,2,2,2,2,2,2,2,2,2,2,2,2,2,2,2,2,2,2,2,2,2,2,2,2,2,2,2,2,2,2,2,2,2,2,2,2,2,2,2,2,2,2,2,2,2,2,2,2,2,2,2,2,2,2,2,2,2,2,2,2,2,2,2,2,2,2,2,2,2,2,2,2,2,2,2,2,2,2,2,2,2,2,2,2,2,2,2,2,2,2,2,2,2,2,2,2,2,2,2,2,2,2,2,2,2,2,2,2,2,2,2,2,2,2,2,2,2,2,2,2,2,2,2,2,2,2,2,2,2,2,2,2,2,2,2,2,2,2,2,2,2,2,2,2,2,2,2,2,2,2,2,2,2,2,2,2,2,2,2,2,2,2,2,2,2,2,2,2,2,2,2,2,2,2,2,2,2,2,2,2,2,2,2,2,2,2,2,2,2,2,2,2,2,2,2,2,2,2,2,2,2,2,2,2,2,2,2,2,2,2,2,2,2,2,2,2,2,2,2,2,2,2,2,2,2,2,2,2,2,2,2,2,2,2,2,2,2,2,2,2,2,2,2,2,2,2,2,2,2,2,2,2,2,2,2,2,2,2,2,2,2,2,2,2,2,2,2,2,2,2,2,2,2,2,2,2,2,2,2,2,2,2,2,2,2,2,2,2,2,2,2,2,2,2,2,2,2,2,2,2,2,2,2,2,2,2,2,2,2,2,2,2,2,2,2,2,2,2,2,2,2,2,2,2,2,2,2,2,2,2,2,2,2,2,2,2,2,2,2,2,2,2,2,2,2,2,2,2,2,2,2,2,2,2,2,2,2,2,2,2,2,2,2,2,2,2,2,2,2,2,2,2,2,2,2,2,2,2,2,2,2,2,2,2,2,2,2,2,2,2,2,2,2,2,2,2,2,2,2,2,2,2,2,2,2,2,2,2,2,2,2,2,2,2,2,2,2,2,2,2,2,2,2,2,2,2,2,2,2,2,2,2,2,2,2,2,2,2,2,2,2,2,2,2,2,2,2,2,2,2,2,2,2,2,2,2,2,2,2,2,2,2,2,2,2,2,2,2,2,2,2,2,2,2,2,2,2,2,2,2,2,2,2,2,2,2,2,2,2,2,2,2,2,2,2,2,2,2,2,2,2,2,2,2,2,2,2,2,2,2,2,2,2,2,2,2,2,2,2,2,2,2,2,2,2,2,2,2,2,2,2,2,2,2,2,2,2,2,2,2,2,2,2,2,2,2,2,2,2,2,2,2,2,2,2,2,2,2,2,2,2,2,2,2,2,2,2,2,2,2,2,2,2,2,2,2,2,2,2,2,2,2,2,2,2,2,2,2,2,2,2,2,2,2,2,2,2,2,2,2,2,2,2,2,2,2,2,2,2,2,2,2,2,2,2,2,2,2,2,2,2,2,2,2,2,2,2,2,2,2,2,2,2,2,2,2,2,2,2,2,2,2,2,2,2,2,2,2,2,2,2,2,2,2,2,2,2,2,2,2,2,2,2,2,2,2,2,2,2,2,2,2,2,2,2,2,2,2,2,2,2,2,2,2,2,2,2,2,2,2,2,2,2,2,2,2,2,2,2,2,2,2,2,2,2,2,2,2,2,2,2,2,2,2,2,2,2,2,2,2,2,2,2,2,2,2,2,2,2,2,2,2,2,2,2,2,2,2,2,2,2,2,2,2,2,2,2,2,2,2,2,2,2,2,2,2,2,2,2,2,2,2,2,2,2,2,2,2,2,2,2,2,2,2,2,2,2,2,2,2,2,2,2,2,2,2,2,2,2,2,2,2,2,2,2,2,2,2,2,2,2,2,2,2,2,2,2,2,2,2,2,2,2,2,2,2,2,2,2,2,2,2,2,2,2,2,2,2,2,2,2,2,2,2,2,2,2,2,2,2,2,2,2,2,2,2,2,2,2,2,2,2,2,2,2,2,2,2,2,2,2,2,2,2,2,2,2,2,2,2,2,2,2,2,2,2,2,2,2,2,2,2,2,2,2,2,2,2,2,2,2,2,2,2,2,2,2,2,2,2],\"yaxis\":\"y\",\"type\":\"histogram\"},{\"alignmentgroup\":\"True\",\"bingroup\":\"y\",\"hovertemplate\":\"number of events=%{y}<br>count=%{x}<extra></extra>\",\"legendgroup\":\"5\",\"marker\":{\"color\":\"#FFA15A\",\"pattern\":{\"shape\":\"\"}},\"name\":\"5\",\"offsetgroup\":\"5\",\"orientation\":\"h\",\"showlegend\":true,\"xaxis\":\"x\",\"y\":[5,5,5,5,5,5,5,5,5,5,5,5,5,5,5,5,5,5,5,5,5,5,5,5,5,5,5,5,5,5,5,5,5,5,5,5,5,5,5,5,5,5,5,5,5,5,5,5,5,5,5,5,5,5,5,5,5,5,5,5,5,5,5,5,5,5,5,5,5,5,5,5,5,5,5,5,5,5,5,5,5,5,5,5,5,5,5,5,5,5,5,5,5,5,5,5,5,5,5,5,5,5,5,5,5,5,5,5,5,5,5,5,5,5,5,5,5,5,5,5,5,5,5,5,5,5,5,5,5,5,5,5,5,5,5,5,5,5,5,5,5,5,5,5,5,5,5,5,5,5,5,5,5,5,5,5,5,5,5,5,5,5,5,5,5,5,5,5,5,5,5,5,5,5,5,5,5,5,5,5,5,5,5,5,5,5,5,5,5,5,5,5,5,5,5,5,5,5,5,5,5,5,5,5,5,5,5,5,5,5,5,5,5,5,5,5,5,5,5,5,5,5,5,5,5,5,5,5,5,5,5,5,5,5,5,5,5,5,5,5,5,5,5,5,5,5,5,5,5,5,5,5,5,5,5,5,5,5,5,5,5,5,5,5,5,5,5,5,5,5,5,5,5,5,5,5,5,5,5,5,5,5,5,5,5,5,5,5,5,5,5,5,5,5,5,5,5,5,5,5,5,5,5,5,5,5,5,5,5,5,5,5,5,5,5,5,5,5,5,5,5,5,5,5,5,5,5,5,5,5,5,5,5,5,5,5,5,5,5,5,5,5,5,5,5,5,5,5,5,5,5,5,5,5,5,5,5,5,5,5,5,5,5,5,5,5,5,5,5,5,5,5,5,5,5,5,5,5,5,5,5,5,5,5,5,5,5,5,5,5,5,5,5,5,5,5,5,5,5,5,5,5,5,5,5,5,5,5,5,5,5,5,5,5,5,5,5,5,5,5,5,5,5,5,5,5,5,5,5,5,5,5,5,5,5,5,5,5,5,5,5,5,5,5,5,5,5,5,5,5,5,5,5,5,5,5,5,5,5,5,5,5,5,5,5,5,5,5,5,5,5],\"yaxis\":\"y\",\"type\":\"histogram\"}],                        {\"template\":{\"data\":{\"bar\":[{\"error_x\":{\"color\":\"#2a3f5f\"},\"error_y\":{\"color\":\"#2a3f5f\"},\"marker\":{\"line\":{\"color\":\"#E5ECF6\",\"width\":0.5},\"pattern\":{\"fillmode\":\"overlay\",\"size\":10,\"solidity\":0.2}},\"type\":\"bar\"}],\"barpolar\":[{\"marker\":{\"line\":{\"color\":\"#E5ECF6\",\"width\":0.5},\"pattern\":{\"fillmode\":\"overlay\",\"size\":10,\"solidity\":0.2}},\"type\":\"barpolar\"}],\"carpet\":[{\"aaxis\":{\"endlinecolor\":\"#2a3f5f\",\"gridcolor\":\"white\",\"linecolor\":\"white\",\"minorgridcolor\":\"white\",\"startlinecolor\":\"#2a3f5f\"},\"baxis\":{\"endlinecolor\":\"#2a3f5f\",\"gridcolor\":\"white\",\"linecolor\":\"white\",\"minorgridcolor\":\"white\",\"startlinecolor\":\"#2a3f5f\"},\"type\":\"carpet\"}],\"choropleth\":[{\"colorbar\":{\"outlinewidth\":0,\"ticks\":\"\"},\"type\":\"choropleth\"}],\"contour\":[{\"colorbar\":{\"outlinewidth\":0,\"ticks\":\"\"},\"colorscale\":[[0.0,\"#0d0887\"],[0.1111111111111111,\"#46039f\"],[0.2222222222222222,\"#7201a8\"],[0.3333333333333333,\"#9c179e\"],[0.4444444444444444,\"#bd3786\"],[0.5555555555555556,\"#d8576b\"],[0.6666666666666666,\"#ed7953\"],[0.7777777777777778,\"#fb9f3a\"],[0.8888888888888888,\"#fdca26\"],[1.0,\"#f0f921\"]],\"type\":\"contour\"}],\"contourcarpet\":[{\"colorbar\":{\"outlinewidth\":0,\"ticks\":\"\"},\"type\":\"contourcarpet\"}],\"heatmap\":[{\"colorbar\":{\"outlinewidth\":0,\"ticks\":\"\"},\"colorscale\":[[0.0,\"#0d0887\"],[0.1111111111111111,\"#46039f\"],[0.2222222222222222,\"#7201a8\"],[0.3333333333333333,\"#9c179e\"],[0.4444444444444444,\"#bd3786\"],[0.5555555555555556,\"#d8576b\"],[0.6666666666666666,\"#ed7953\"],[0.7777777777777778,\"#fb9f3a\"],[0.8888888888888888,\"#fdca26\"],[1.0,\"#f0f921\"]],\"type\":\"heatmap\"}],\"heatmapgl\":[{\"colorbar\":{\"outlinewidth\":0,\"ticks\":\"\"},\"colorscale\":[[0.0,\"#0d0887\"],[0.1111111111111111,\"#46039f\"],[0.2222222222222222,\"#7201a8\"],[0.3333333333333333,\"#9c179e\"],[0.4444444444444444,\"#bd3786\"],[0.5555555555555556,\"#d8576b\"],[0.6666666666666666,\"#ed7953\"],[0.7777777777777778,\"#fb9f3a\"],[0.8888888888888888,\"#fdca26\"],[1.0,\"#f0f921\"]],\"type\":\"heatmapgl\"}],\"histogram\":[{\"marker\":{\"pattern\":{\"fillmode\":\"overlay\",\"size\":10,\"solidity\":0.2}},\"type\":\"histogram\"}],\"histogram2d\":[{\"colorbar\":{\"outlinewidth\":0,\"ticks\":\"\"},\"colorscale\":[[0.0,\"#0d0887\"],[0.1111111111111111,\"#46039f\"],[0.2222222222222222,\"#7201a8\"],[0.3333333333333333,\"#9c179e\"],[0.4444444444444444,\"#bd3786\"],[0.5555555555555556,\"#d8576b\"],[0.6666666666666666,\"#ed7953\"],[0.7777777777777778,\"#fb9f3a\"],[0.8888888888888888,\"#fdca26\"],[1.0,\"#f0f921\"]],\"type\":\"histogram2d\"}],\"histogram2dcontour\":[{\"colorbar\":{\"outlinewidth\":0,\"ticks\":\"\"},\"colorscale\":[[0.0,\"#0d0887\"],[0.1111111111111111,\"#46039f\"],[0.2222222222222222,\"#7201a8\"],[0.3333333333333333,\"#9c179e\"],[0.4444444444444444,\"#bd3786\"],[0.5555555555555556,\"#d8576b\"],[0.6666666666666666,\"#ed7953\"],[0.7777777777777778,\"#fb9f3a\"],[0.8888888888888888,\"#fdca26\"],[1.0,\"#f0f921\"]],\"type\":\"histogram2dcontour\"}],\"mesh3d\":[{\"colorbar\":{\"outlinewidth\":0,\"ticks\":\"\"},\"type\":\"mesh3d\"}],\"parcoords\":[{\"line\":{\"colorbar\":{\"outlinewidth\":0,\"ticks\":\"\"}},\"type\":\"parcoords\"}],\"pie\":[{\"automargin\":true,\"type\":\"pie\"}],\"scatter\":[{\"marker\":{\"colorbar\":{\"outlinewidth\":0,\"ticks\":\"\"}},\"type\":\"scatter\"}],\"scatter3d\":[{\"line\":{\"colorbar\":{\"outlinewidth\":0,\"ticks\":\"\"}},\"marker\":{\"colorbar\":{\"outlinewidth\":0,\"ticks\":\"\"}},\"type\":\"scatter3d\"}],\"scattercarpet\":[{\"marker\":{\"colorbar\":{\"outlinewidth\":0,\"ticks\":\"\"}},\"type\":\"scattercarpet\"}],\"scattergeo\":[{\"marker\":{\"colorbar\":{\"outlinewidth\":0,\"ticks\":\"\"}},\"type\":\"scattergeo\"}],\"scattergl\":[{\"marker\":{\"colorbar\":{\"outlinewidth\":0,\"ticks\":\"\"}},\"type\":\"scattergl\"}],\"scattermapbox\":[{\"marker\":{\"colorbar\":{\"outlinewidth\":0,\"ticks\":\"\"}},\"type\":\"scattermapbox\"}],\"scatterpolar\":[{\"marker\":{\"colorbar\":{\"outlinewidth\":0,\"ticks\":\"\"}},\"type\":\"scatterpolar\"}],\"scatterpolargl\":[{\"marker\":{\"colorbar\":{\"outlinewidth\":0,\"ticks\":\"\"}},\"type\":\"scatterpolargl\"}],\"scatterternary\":[{\"marker\":{\"colorbar\":{\"outlinewidth\":0,\"ticks\":\"\"}},\"type\":\"scatterternary\"}],\"surface\":[{\"colorbar\":{\"outlinewidth\":0,\"ticks\":\"\"},\"colorscale\":[[0.0,\"#0d0887\"],[0.1111111111111111,\"#46039f\"],[0.2222222222222222,\"#7201a8\"],[0.3333333333333333,\"#9c179e\"],[0.4444444444444444,\"#bd3786\"],[0.5555555555555556,\"#d8576b\"],[0.6666666666666666,\"#ed7953\"],[0.7777777777777778,\"#fb9f3a\"],[0.8888888888888888,\"#fdca26\"],[1.0,\"#f0f921\"]],\"type\":\"surface\"}],\"table\":[{\"cells\":{\"fill\":{\"color\":\"#EBF0F8\"},\"line\":{\"color\":\"white\"}},\"header\":{\"fill\":{\"color\":\"#C8D4E3\"},\"line\":{\"color\":\"white\"}},\"type\":\"table\"}]},\"layout\":{\"annotationdefaults\":{\"arrowcolor\":\"#2a3f5f\",\"arrowhead\":0,\"arrowwidth\":1},\"autotypenumbers\":\"strict\",\"coloraxis\":{\"colorbar\":{\"outlinewidth\":0,\"ticks\":\"\"}},\"colorscale\":{\"diverging\":[[0,\"#8e0152\"],[0.1,\"#c51b7d\"],[0.2,\"#de77ae\"],[0.3,\"#f1b6da\"],[0.4,\"#fde0ef\"],[0.5,\"#f7f7f7\"],[0.6,\"#e6f5d0\"],[0.7,\"#b8e186\"],[0.8,\"#7fbc41\"],[0.9,\"#4d9221\"],[1,\"#276419\"]],\"sequential\":[[0.0,\"#0d0887\"],[0.1111111111111111,\"#46039f\"],[0.2222222222222222,\"#7201a8\"],[0.3333333333333333,\"#9c179e\"],[0.4444444444444444,\"#bd3786\"],[0.5555555555555556,\"#d8576b\"],[0.6666666666666666,\"#ed7953\"],[0.7777777777777778,\"#fb9f3a\"],[0.8888888888888888,\"#fdca26\"],[1.0,\"#f0f921\"]],\"sequentialminus\":[[0.0,\"#0d0887\"],[0.1111111111111111,\"#46039f\"],[0.2222222222222222,\"#7201a8\"],[0.3333333333333333,\"#9c179e\"],[0.4444444444444444,\"#bd3786\"],[0.5555555555555556,\"#d8576b\"],[0.6666666666666666,\"#ed7953\"],[0.7777777777777778,\"#fb9f3a\"],[0.8888888888888888,\"#fdca26\"],[1.0,\"#f0f921\"]]},\"colorway\":[\"#636efa\",\"#EF553B\",\"#00cc96\",\"#ab63fa\",\"#FFA15A\",\"#19d3f3\",\"#FF6692\",\"#B6E880\",\"#FF97FF\",\"#FECB52\"],\"font\":{\"color\":\"#2a3f5f\"},\"geo\":{\"bgcolor\":\"white\",\"lakecolor\":\"white\",\"landcolor\":\"#E5ECF6\",\"showlakes\":true,\"showland\":true,\"subunitcolor\":\"white\"},\"hoverlabel\":{\"align\":\"left\"},\"hovermode\":\"closest\",\"mapbox\":{\"style\":\"light\"},\"paper_bgcolor\":\"white\",\"plot_bgcolor\":\"#E5ECF6\",\"polar\":{\"angularaxis\":{\"gridcolor\":\"white\",\"linecolor\":\"white\",\"ticks\":\"\"},\"bgcolor\":\"#E5ECF6\",\"radialaxis\":{\"gridcolor\":\"white\",\"linecolor\":\"white\",\"ticks\":\"\"}},\"scene\":{\"xaxis\":{\"backgroundcolor\":\"#E5ECF6\",\"gridcolor\":\"white\",\"gridwidth\":2,\"linecolor\":\"white\",\"showbackground\":true,\"ticks\":\"\",\"zerolinecolor\":\"white\"},\"yaxis\":{\"backgroundcolor\":\"#E5ECF6\",\"gridcolor\":\"white\",\"gridwidth\":2,\"linecolor\":\"white\",\"showbackground\":true,\"ticks\":\"\",\"zerolinecolor\":\"white\"},\"zaxis\":{\"backgroundcolor\":\"#E5ECF6\",\"gridcolor\":\"white\",\"gridwidth\":2,\"linecolor\":\"white\",\"showbackground\":true,\"ticks\":\"\",\"zerolinecolor\":\"white\"}},\"shapedefaults\":{\"line\":{\"color\":\"#2a3f5f\"}},\"ternary\":{\"aaxis\":{\"gridcolor\":\"white\",\"linecolor\":\"white\",\"ticks\":\"\"},\"baxis\":{\"gridcolor\":\"white\",\"linecolor\":\"white\",\"ticks\":\"\"},\"bgcolor\":\"#E5ECF6\",\"caxis\":{\"gridcolor\":\"white\",\"linecolor\":\"white\",\"ticks\":\"\"}},\"title\":{\"x\":0.05},\"xaxis\":{\"automargin\":true,\"gridcolor\":\"white\",\"linecolor\":\"white\",\"ticks\":\"\",\"title\":{\"standoff\":15},\"zerolinecolor\":\"white\",\"zerolinewidth\":2},\"yaxis\":{\"automargin\":true,\"gridcolor\":\"white\",\"linecolor\":\"white\",\"ticks\":\"\",\"title\":{\"standoff\":15},\"zerolinecolor\":\"white\",\"zerolinewidth\":2}}},\"xaxis\":{\"anchor\":\"y\",\"domain\":[0.0,1.0],\"title\":{\"text\":\"count\"}},\"yaxis\":{\"anchor\":\"x\",\"domain\":[0.0,1.0],\"title\":{\"text\":\"number of events\"},\"categoryorder\":\"array\",\"categoryarray\":[5,2,3,4,1]},\"legend\":{\"title\":{\"text\":\"number of events\"},\"tracegroupgap\":0},\"margin\":{\"t\":60},\"barmode\":\"relative\",\"height\":500,\"width\":700,\"title\":{\"font\":{\"size\":30},\"text\":\"Number of events per user\",\"xanchor\":\"center\",\"x\":0.5}},                        {\"responsive\": true}                    ).then(function(){\n",
       "                            \n",
       "var gd = document.getElementById('e70f1e85-4696-4a2b-8990-1a63b40e6dc3');\n",
       "var x = new MutationObserver(function (mutations, observer) {{\n",
       "        var display = window.getComputedStyle(gd).display;\n",
       "        if (!display || display === 'none') {{\n",
       "            console.log([gd, 'removed!']);\n",
       "            Plotly.purge(gd);\n",
       "            observer.disconnect();\n",
       "        }}\n",
       "}});\n",
       "\n",
       "// Listen for the removal of the full notebook cells\n",
       "var notebookContainer = gd.closest('#notebook-container');\n",
       "if (notebookContainer) {{\n",
       "    x.observe(notebookContainer, {childList: true});\n",
       "}}\n",
       "\n",
       "// Listen for the clearing of the current output cell\n",
       "var outputEl = gd.closest('.output');\n",
       "if (outputEl) {{\n",
       "    x.observe(outputEl, {childList: true});\n",
       "}}\n",
       "\n",
       "                        })                };                            </script>        </div>\n",
       "</body>\n",
       "</html>"
      ]
     },
     "metadata": {},
     "output_type": "display_data"
    }
   ],
   "source": [
    "fig = px.histogram(per_user_plot, y = 'event_name', color='event_name',\n",
    "                  labels = {'event_name': 'number of events'}, \n",
    "                  width=700, height=500)\n",
    "fig.update_layout(title = {\n",
    "                  'text': \"Number of events per user\",\n",
    "                  'xanchor': 'center',\n",
    "                  'x':0.5},\n",
    "                  title_font_size=30)\n",
    "fig.show()"
   ]
  },
  {
   "cell_type": "markdown",
   "metadata": {
    "id": "EVxeI3aoShaU"
   },
   "source": [
    "The majority of users participated in 3 or 4 events."
   ]
  },
  {
   "cell_type": "markdown",
   "metadata": {
    "id": "kJPWfE1PRLy0"
   },
   "source": [
    "# Check outliers or anomalies"
   ]
  },
  {
   "cell_type": "markdown",
   "metadata": {
    "id": "WR3UtvcaVNXV"
   },
   "source": [
    "We can plot a histogram by date and time to see and make sure that we have equally complete data for the entire period.\n"
   ]
  },
  {
   "cell_type": "code",
   "execution_count": null,
   "metadata": {
    "colab": {
     "base_uri": "https://localhost:8080/",
     "height": 488
    },
    "id": "MlGAnkG8Akxc",
    "outputId": "32771032-50e9-45d9-91bc-4156a0b13dd1"
   },
   "outputs": [
    {
     "data": {
      "text/html": [
       "\n",
       "  <div id=\"df-af9bacf3-6800-44d5-bd8e-5b9eb7812633\">\n",
       "    <div class=\"colab-df-container\">\n",
       "      <div>\n",
       "<style scoped>\n",
       "    .dataframe tbody tr th:only-of-type {\n",
       "        vertical-align: middle;\n",
       "    }\n",
       "\n",
       "    .dataframe tbody tr th {\n",
       "        vertical-align: top;\n",
       "    }\n",
       "\n",
       "    .dataframe thead th {\n",
       "        text-align: right;\n",
       "    }\n",
       "</style>\n",
       "<table border=\"1\" class=\"dataframe\">\n",
       "  <thead>\n",
       "    <tr style=\"text-align: right;\">\n",
       "      <th></th>\n",
       "      <th>date</th>\n",
       "      <th>timestamp</th>\n",
       "    </tr>\n",
       "  </thead>\n",
       "  <tbody>\n",
       "    <tr>\n",
       "      <th>0</th>\n",
       "      <td>2019-07-25</td>\n",
       "      <td>9</td>\n",
       "    </tr>\n",
       "    <tr>\n",
       "      <th>1</th>\n",
       "      <td>2019-07-26</td>\n",
       "      <td>31</td>\n",
       "    </tr>\n",
       "    <tr>\n",
       "      <th>2</th>\n",
       "      <td>2019-07-27</td>\n",
       "      <td>55</td>\n",
       "    </tr>\n",
       "    <tr>\n",
       "      <th>3</th>\n",
       "      <td>2019-07-28</td>\n",
       "      <td>105</td>\n",
       "    </tr>\n",
       "    <tr>\n",
       "      <th>4</th>\n",
       "      <td>2019-07-29</td>\n",
       "      <td>184</td>\n",
       "    </tr>\n",
       "    <tr>\n",
       "      <th>5</th>\n",
       "      <td>2019-07-30</td>\n",
       "      <td>412</td>\n",
       "    </tr>\n",
       "    <tr>\n",
       "      <th>6</th>\n",
       "      <td>2019-07-31</td>\n",
       "      <td>2030</td>\n",
       "    </tr>\n",
       "    <tr>\n",
       "      <th>7</th>\n",
       "      <td>2019-08-01</td>\n",
       "      <td>36141</td>\n",
       "    </tr>\n",
       "    <tr>\n",
       "      <th>8</th>\n",
       "      <td>2019-08-02</td>\n",
       "      <td>35554</td>\n",
       "    </tr>\n",
       "    <tr>\n",
       "      <th>9</th>\n",
       "      <td>2019-08-03</td>\n",
       "      <td>33282</td>\n",
       "    </tr>\n",
       "    <tr>\n",
       "      <th>10</th>\n",
       "      <td>2019-08-04</td>\n",
       "      <td>32968</td>\n",
       "    </tr>\n",
       "    <tr>\n",
       "      <th>11</th>\n",
       "      <td>2019-08-05</td>\n",
       "      <td>36058</td>\n",
       "    </tr>\n",
       "    <tr>\n",
       "      <th>12</th>\n",
       "      <td>2019-08-06</td>\n",
       "      <td>35788</td>\n",
       "    </tr>\n",
       "    <tr>\n",
       "      <th>13</th>\n",
       "      <td>2019-08-07</td>\n",
       "      <td>31096</td>\n",
       "    </tr>\n",
       "  </tbody>\n",
       "</table>\n",
       "</div>\n",
       "      <button class=\"colab-df-convert\" onclick=\"convertToInteractive('df-af9bacf3-6800-44d5-bd8e-5b9eb7812633')\"\n",
       "              title=\"Convert this dataframe to an interactive table.\"\n",
       "              style=\"display:none;\">\n",
       "        \n",
       "  <svg xmlns=\"http://www.w3.org/2000/svg\" height=\"24px\"viewBox=\"0 0 24 24\"\n",
       "       width=\"24px\">\n",
       "    <path d=\"M0 0h24v24H0V0z\" fill=\"none\"/>\n",
       "    <path d=\"M18.56 5.44l.94 2.06.94-2.06 2.06-.94-2.06-.94-.94-2.06-.94 2.06-2.06.94zm-11 1L8.5 8.5l.94-2.06 2.06-.94-2.06-.94L8.5 2.5l-.94 2.06-2.06.94zm10 10l.94 2.06.94-2.06 2.06-.94-2.06-.94-.94-2.06-.94 2.06-2.06.94z\"/><path d=\"M17.41 7.96l-1.37-1.37c-.4-.4-.92-.59-1.43-.59-.52 0-1.04.2-1.43.59L10.3 9.45l-7.72 7.72c-.78.78-.78 2.05 0 2.83L4 21.41c.39.39.9.59 1.41.59.51 0 1.02-.2 1.41-.59l7.78-7.78 2.81-2.81c.8-.78.8-2.07 0-2.86zM5.41 20L4 18.59l7.72-7.72 1.47 1.35L5.41 20z\"/>\n",
       "  </svg>\n",
       "      </button>\n",
       "      \n",
       "  <style>\n",
       "    .colab-df-container {\n",
       "      display:flex;\n",
       "      flex-wrap:wrap;\n",
       "      gap: 12px;\n",
       "    }\n",
       "\n",
       "    .colab-df-convert {\n",
       "      background-color: #E8F0FE;\n",
       "      border: none;\n",
       "      border-radius: 50%;\n",
       "      cursor: pointer;\n",
       "      display: none;\n",
       "      fill: #1967D2;\n",
       "      height: 32px;\n",
       "      padding: 0 0 0 0;\n",
       "      width: 32px;\n",
       "    }\n",
       "\n",
       "    .colab-df-convert:hover {\n",
       "      background-color: #E2EBFA;\n",
       "      box-shadow: 0px 1px 2px rgba(60, 64, 67, 0.3), 0px 1px 3px 1px rgba(60, 64, 67, 0.15);\n",
       "      fill: #174EA6;\n",
       "    }\n",
       "\n",
       "    [theme=dark] .colab-df-convert {\n",
       "      background-color: #3B4455;\n",
       "      fill: #D2E3FC;\n",
       "    }\n",
       "\n",
       "    [theme=dark] .colab-df-convert:hover {\n",
       "      background-color: #434B5C;\n",
       "      box-shadow: 0px 1px 3px 1px rgba(0, 0, 0, 0.15);\n",
       "      filter: drop-shadow(0px 1px 2px rgba(0, 0, 0, 0.3));\n",
       "      fill: #FFFFFF;\n",
       "    }\n",
       "  </style>\n",
       "\n",
       "      <script>\n",
       "        const buttonEl =\n",
       "          document.querySelector('#df-af9bacf3-6800-44d5-bd8e-5b9eb7812633 button.colab-df-convert');\n",
       "        buttonEl.style.display =\n",
       "          google.colab.kernel.accessAllowed ? 'block' : 'none';\n",
       "\n",
       "        async function convertToInteractive(key) {\n",
       "          const element = document.querySelector('#df-af9bacf3-6800-44d5-bd8e-5b9eb7812633');\n",
       "          const dataTable =\n",
       "            await google.colab.kernel.invokeFunction('convertToInteractive',\n",
       "                                                     [key], {});\n",
       "          if (!dataTable) return;\n",
       "\n",
       "          const docLinkHtml = 'Like what you see? Visit the ' +\n",
       "            '<a target=\"_blank\" href=https://colab.research.google.com/notebooks/data_table.ipynb>data table notebook</a>'\n",
       "            + ' to learn more about interactive tables.';\n",
       "          element.innerHTML = '';\n",
       "          dataTable['output_type'] = 'display_data';\n",
       "          await google.colab.output.renderOutput(dataTable, element);\n",
       "          const docLink = document.createElement('div');\n",
       "          docLink.innerHTML = docLinkHtml;\n",
       "          element.appendChild(docLink);\n",
       "        }\n",
       "      </script>\n",
       "    </div>\n",
       "  </div>\n",
       "  "
      ],
      "text/plain": [
       "          date  timestamp\n",
       "0   2019-07-25  9        \n",
       "1   2019-07-26  31       \n",
       "2   2019-07-27  55       \n",
       "3   2019-07-28  105      \n",
       "4   2019-07-29  184      \n",
       "5   2019-07-30  412      \n",
       "6   2019-07-31  2030     \n",
       "7   2019-08-01  36141    \n",
       "8   2019-08-02  35554    \n",
       "9   2019-08-03  33282    \n",
       "10  2019-08-04  32968    \n",
       "11  2019-08-05  36058    \n",
       "12  2019-08-06  35788    \n",
       "13  2019-08-07  31096    "
      ]
     },
     "execution_count": 26,
     "metadata": {},
     "output_type": "execute_result"
    }
   ],
   "source": [
    "# For each date calculate the amount of events\n",
    "grouped_data = logs.groupby(['date'],as_index=False).agg({'timestamp': 'count'})\n",
    "grouped_data"
   ]
  },
  {
   "cell_type": "code",
   "execution_count": null,
   "metadata": {
    "colab": {
     "base_uri": "https://localhost:8080/",
     "height": 517
    },
    "id": "bNpSdmqdA3Kq",
    "outputId": "2be25d74-b421-4242-97c6-b08927dd485a"
   },
   "outputs": [
    {
     "data": {
      "text/html": [
       "<html>\n",
       "<head><meta charset=\"utf-8\" /></head>\n",
       "<body>\n",
       "    <div>            <script src=\"https://cdnjs.cloudflare.com/ajax/libs/mathjax/2.7.5/MathJax.js?config=TeX-AMS-MML_SVG\"></script><script type=\"text/javascript\">if (window.MathJax) {MathJax.Hub.Config({SVG: {font: \"STIX-Web\"}});}</script>                <script type=\"text/javascript\">window.PlotlyConfig = {MathJaxConfig: 'local'};</script>\n",
       "        <script src=\"https://cdn.plot.ly/plotly-2.8.3.min.js\"></script>                <div id=\"0ec6a80c-e11b-4856-9ff1-f16aa9baf6d3\" class=\"plotly-graph-div\" style=\"height:500px; width:700px;\"></div>            <script type=\"text/javascript\">                                    window.PLOTLYENV=window.PLOTLYENV || {};                                    if (document.getElementById(\"0ec6a80c-e11b-4856-9ff1-f16aa9baf6d3\")) {                    Plotly.newPlot(                        \"0ec6a80c-e11b-4856-9ff1-f16aa9baf6d3\",                        [{\"alignmentgroup\":\"True\",\"bingroup\":\"x\",\"histfunc\":\"sum\",\"hovertemplate\":\"date=%{x}<br>sum of timestamp=%{y}<extra></extra>\",\"legendgroup\":\"\",\"marker\":{\"color\":\"#636efa\",\"pattern\":{\"shape\":\"\"}},\"name\":\"\",\"nbinsx\":30,\"offsetgroup\":\"\",\"orientation\":\"v\",\"showlegend\":false,\"x\":[\"2019-07-25\",\"2019-07-26\",\"2019-07-27\",\"2019-07-28\",\"2019-07-29\",\"2019-07-30\",\"2019-07-31\",\"2019-08-01\",\"2019-08-02\",\"2019-08-03\",\"2019-08-04\",\"2019-08-05\",\"2019-08-06\",\"2019-08-07\"],\"xaxis\":\"x\",\"y\":[9,31,55,105,184,412,2030,36141,35554,33282,32968,36058,35788,31096],\"yaxis\":\"y\",\"type\":\"histogram\"}],                        {\"template\":{\"data\":{\"bar\":[{\"error_x\":{\"color\":\"#2a3f5f\"},\"error_y\":{\"color\":\"#2a3f5f\"},\"marker\":{\"line\":{\"color\":\"#E5ECF6\",\"width\":0.5},\"pattern\":{\"fillmode\":\"overlay\",\"size\":10,\"solidity\":0.2}},\"type\":\"bar\"}],\"barpolar\":[{\"marker\":{\"line\":{\"color\":\"#E5ECF6\",\"width\":0.5},\"pattern\":{\"fillmode\":\"overlay\",\"size\":10,\"solidity\":0.2}},\"type\":\"barpolar\"}],\"carpet\":[{\"aaxis\":{\"endlinecolor\":\"#2a3f5f\",\"gridcolor\":\"white\",\"linecolor\":\"white\",\"minorgridcolor\":\"white\",\"startlinecolor\":\"#2a3f5f\"},\"baxis\":{\"endlinecolor\":\"#2a3f5f\",\"gridcolor\":\"white\",\"linecolor\":\"white\",\"minorgridcolor\":\"white\",\"startlinecolor\":\"#2a3f5f\"},\"type\":\"carpet\"}],\"choropleth\":[{\"colorbar\":{\"outlinewidth\":0,\"ticks\":\"\"},\"type\":\"choropleth\"}],\"contour\":[{\"colorbar\":{\"outlinewidth\":0,\"ticks\":\"\"},\"colorscale\":[[0.0,\"#0d0887\"],[0.1111111111111111,\"#46039f\"],[0.2222222222222222,\"#7201a8\"],[0.3333333333333333,\"#9c179e\"],[0.4444444444444444,\"#bd3786\"],[0.5555555555555556,\"#d8576b\"],[0.6666666666666666,\"#ed7953\"],[0.7777777777777778,\"#fb9f3a\"],[0.8888888888888888,\"#fdca26\"],[1.0,\"#f0f921\"]],\"type\":\"contour\"}],\"contourcarpet\":[{\"colorbar\":{\"outlinewidth\":0,\"ticks\":\"\"},\"type\":\"contourcarpet\"}],\"heatmap\":[{\"colorbar\":{\"outlinewidth\":0,\"ticks\":\"\"},\"colorscale\":[[0.0,\"#0d0887\"],[0.1111111111111111,\"#46039f\"],[0.2222222222222222,\"#7201a8\"],[0.3333333333333333,\"#9c179e\"],[0.4444444444444444,\"#bd3786\"],[0.5555555555555556,\"#d8576b\"],[0.6666666666666666,\"#ed7953\"],[0.7777777777777778,\"#fb9f3a\"],[0.8888888888888888,\"#fdca26\"],[1.0,\"#f0f921\"]],\"type\":\"heatmap\"}],\"heatmapgl\":[{\"colorbar\":{\"outlinewidth\":0,\"ticks\":\"\"},\"colorscale\":[[0.0,\"#0d0887\"],[0.1111111111111111,\"#46039f\"],[0.2222222222222222,\"#7201a8\"],[0.3333333333333333,\"#9c179e\"],[0.4444444444444444,\"#bd3786\"],[0.5555555555555556,\"#d8576b\"],[0.6666666666666666,\"#ed7953\"],[0.7777777777777778,\"#fb9f3a\"],[0.8888888888888888,\"#fdca26\"],[1.0,\"#f0f921\"]],\"type\":\"heatmapgl\"}],\"histogram\":[{\"marker\":{\"pattern\":{\"fillmode\":\"overlay\",\"size\":10,\"solidity\":0.2}},\"type\":\"histogram\"}],\"histogram2d\":[{\"colorbar\":{\"outlinewidth\":0,\"ticks\":\"\"},\"colorscale\":[[0.0,\"#0d0887\"],[0.1111111111111111,\"#46039f\"],[0.2222222222222222,\"#7201a8\"],[0.3333333333333333,\"#9c179e\"],[0.4444444444444444,\"#bd3786\"],[0.5555555555555556,\"#d8576b\"],[0.6666666666666666,\"#ed7953\"],[0.7777777777777778,\"#fb9f3a\"],[0.8888888888888888,\"#fdca26\"],[1.0,\"#f0f921\"]],\"type\":\"histogram2d\"}],\"histogram2dcontour\":[{\"colorbar\":{\"outlinewidth\":0,\"ticks\":\"\"},\"colorscale\":[[0.0,\"#0d0887\"],[0.1111111111111111,\"#46039f\"],[0.2222222222222222,\"#7201a8\"],[0.3333333333333333,\"#9c179e\"],[0.4444444444444444,\"#bd3786\"],[0.5555555555555556,\"#d8576b\"],[0.6666666666666666,\"#ed7953\"],[0.7777777777777778,\"#fb9f3a\"],[0.8888888888888888,\"#fdca26\"],[1.0,\"#f0f921\"]],\"type\":\"histogram2dcontour\"}],\"mesh3d\":[{\"colorbar\":{\"outlinewidth\":0,\"ticks\":\"\"},\"type\":\"mesh3d\"}],\"parcoords\":[{\"line\":{\"colorbar\":{\"outlinewidth\":0,\"ticks\":\"\"}},\"type\":\"parcoords\"}],\"pie\":[{\"automargin\":true,\"type\":\"pie\"}],\"scatter\":[{\"marker\":{\"colorbar\":{\"outlinewidth\":0,\"ticks\":\"\"}},\"type\":\"scatter\"}],\"scatter3d\":[{\"line\":{\"colorbar\":{\"outlinewidth\":0,\"ticks\":\"\"}},\"marker\":{\"colorbar\":{\"outlinewidth\":0,\"ticks\":\"\"}},\"type\":\"scatter3d\"}],\"scattercarpet\":[{\"marker\":{\"colorbar\":{\"outlinewidth\":0,\"ticks\":\"\"}},\"type\":\"scattercarpet\"}],\"scattergeo\":[{\"marker\":{\"colorbar\":{\"outlinewidth\":0,\"ticks\":\"\"}},\"type\":\"scattergeo\"}],\"scattergl\":[{\"marker\":{\"colorbar\":{\"outlinewidth\":0,\"ticks\":\"\"}},\"type\":\"scattergl\"}],\"scattermapbox\":[{\"marker\":{\"colorbar\":{\"outlinewidth\":0,\"ticks\":\"\"}},\"type\":\"scattermapbox\"}],\"scatterpolar\":[{\"marker\":{\"colorbar\":{\"outlinewidth\":0,\"ticks\":\"\"}},\"type\":\"scatterpolar\"}],\"scatterpolargl\":[{\"marker\":{\"colorbar\":{\"outlinewidth\":0,\"ticks\":\"\"}},\"type\":\"scatterpolargl\"}],\"scatterternary\":[{\"marker\":{\"colorbar\":{\"outlinewidth\":0,\"ticks\":\"\"}},\"type\":\"scatterternary\"}],\"surface\":[{\"colorbar\":{\"outlinewidth\":0,\"ticks\":\"\"},\"colorscale\":[[0.0,\"#0d0887\"],[0.1111111111111111,\"#46039f\"],[0.2222222222222222,\"#7201a8\"],[0.3333333333333333,\"#9c179e\"],[0.4444444444444444,\"#bd3786\"],[0.5555555555555556,\"#d8576b\"],[0.6666666666666666,\"#ed7953\"],[0.7777777777777778,\"#fb9f3a\"],[0.8888888888888888,\"#fdca26\"],[1.0,\"#f0f921\"]],\"type\":\"surface\"}],\"table\":[{\"cells\":{\"fill\":{\"color\":\"#EBF0F8\"},\"line\":{\"color\":\"white\"}},\"header\":{\"fill\":{\"color\":\"#C8D4E3\"},\"line\":{\"color\":\"white\"}},\"type\":\"table\"}]},\"layout\":{\"annotationdefaults\":{\"arrowcolor\":\"#2a3f5f\",\"arrowhead\":0,\"arrowwidth\":1},\"autotypenumbers\":\"strict\",\"coloraxis\":{\"colorbar\":{\"outlinewidth\":0,\"ticks\":\"\"}},\"colorscale\":{\"diverging\":[[0,\"#8e0152\"],[0.1,\"#c51b7d\"],[0.2,\"#de77ae\"],[0.3,\"#f1b6da\"],[0.4,\"#fde0ef\"],[0.5,\"#f7f7f7\"],[0.6,\"#e6f5d0\"],[0.7,\"#b8e186\"],[0.8,\"#7fbc41\"],[0.9,\"#4d9221\"],[1,\"#276419\"]],\"sequential\":[[0.0,\"#0d0887\"],[0.1111111111111111,\"#46039f\"],[0.2222222222222222,\"#7201a8\"],[0.3333333333333333,\"#9c179e\"],[0.4444444444444444,\"#bd3786\"],[0.5555555555555556,\"#d8576b\"],[0.6666666666666666,\"#ed7953\"],[0.7777777777777778,\"#fb9f3a\"],[0.8888888888888888,\"#fdca26\"],[1.0,\"#f0f921\"]],\"sequentialminus\":[[0.0,\"#0d0887\"],[0.1111111111111111,\"#46039f\"],[0.2222222222222222,\"#7201a8\"],[0.3333333333333333,\"#9c179e\"],[0.4444444444444444,\"#bd3786\"],[0.5555555555555556,\"#d8576b\"],[0.6666666666666666,\"#ed7953\"],[0.7777777777777778,\"#fb9f3a\"],[0.8888888888888888,\"#fdca26\"],[1.0,\"#f0f921\"]]},\"colorway\":[\"#636efa\",\"#EF553B\",\"#00cc96\",\"#ab63fa\",\"#FFA15A\",\"#19d3f3\",\"#FF6692\",\"#B6E880\",\"#FF97FF\",\"#FECB52\"],\"font\":{\"color\":\"#2a3f5f\"},\"geo\":{\"bgcolor\":\"white\",\"lakecolor\":\"white\",\"landcolor\":\"#E5ECF6\",\"showlakes\":true,\"showland\":true,\"subunitcolor\":\"white\"},\"hoverlabel\":{\"align\":\"left\"},\"hovermode\":\"closest\",\"mapbox\":{\"style\":\"light\"},\"paper_bgcolor\":\"white\",\"plot_bgcolor\":\"#E5ECF6\",\"polar\":{\"angularaxis\":{\"gridcolor\":\"white\",\"linecolor\":\"white\",\"ticks\":\"\"},\"bgcolor\":\"#E5ECF6\",\"radialaxis\":{\"gridcolor\":\"white\",\"linecolor\":\"white\",\"ticks\":\"\"}},\"scene\":{\"xaxis\":{\"backgroundcolor\":\"#E5ECF6\",\"gridcolor\":\"white\",\"gridwidth\":2,\"linecolor\":\"white\",\"showbackground\":true,\"ticks\":\"\",\"zerolinecolor\":\"white\"},\"yaxis\":{\"backgroundcolor\":\"#E5ECF6\",\"gridcolor\":\"white\",\"gridwidth\":2,\"linecolor\":\"white\",\"showbackground\":true,\"ticks\":\"\",\"zerolinecolor\":\"white\"},\"zaxis\":{\"backgroundcolor\":\"#E5ECF6\",\"gridcolor\":\"white\",\"gridwidth\":2,\"linecolor\":\"white\",\"showbackground\":true,\"ticks\":\"\",\"zerolinecolor\":\"white\"}},\"shapedefaults\":{\"line\":{\"color\":\"#2a3f5f\"}},\"ternary\":{\"aaxis\":{\"gridcolor\":\"white\",\"linecolor\":\"white\",\"ticks\":\"\"},\"baxis\":{\"gridcolor\":\"white\",\"linecolor\":\"white\",\"ticks\":\"\"},\"bgcolor\":\"#E5ECF6\",\"caxis\":{\"gridcolor\":\"white\",\"linecolor\":\"white\",\"ticks\":\"\"}},\"title\":{\"x\":0.05},\"xaxis\":{\"automargin\":true,\"gridcolor\":\"white\",\"linecolor\":\"white\",\"ticks\":\"\",\"title\":{\"standoff\":15},\"zerolinecolor\":\"white\",\"zerolinewidth\":2},\"yaxis\":{\"automargin\":true,\"gridcolor\":\"white\",\"linecolor\":\"white\",\"ticks\":\"\",\"title\":{\"standoff\":15},\"zerolinecolor\":\"white\",\"zerolinewidth\":2}}},\"xaxis\":{\"anchor\":\"y\",\"domain\":[0.0,1.0],\"title\":{\"text\":\"Date\"},\"range\":[\"2019-07-25\",\"2019-08-07\"]},\"yaxis\":{\"anchor\":\"x\",\"domain\":[0.0,1.0],\"title\":{\"text\":\"Events count\"}},\"legend\":{\"tracegroupgap\":0},\"margin\":{\"t\":60},\"barmode\":\"relative\",\"height\":500,\"width\":700,\"title\":{\"font\":{\"size\":30},\"text\":\"Events per date\",\"xanchor\":\"center\",\"x\":0.5}},                        {\"responsive\": true}                    ).then(function(){\n",
       "                            \n",
       "var gd = document.getElementById('0ec6a80c-e11b-4856-9ff1-f16aa9baf6d3');\n",
       "var x = new MutationObserver(function (mutations, observer) {{\n",
       "        var display = window.getComputedStyle(gd).display;\n",
       "        if (!display || display === 'none') {{\n",
       "            console.log([gd, 'removed!']);\n",
       "            Plotly.purge(gd);\n",
       "            observer.disconnect();\n",
       "        }}\n",
       "}});\n",
       "\n",
       "// Listen for the removal of the full notebook cells\n",
       "var notebookContainer = gd.closest('#notebook-container');\n",
       "if (notebookContainer) {{\n",
       "    x.observe(notebookContainer, {childList: true});\n",
       "}}\n",
       "\n",
       "// Listen for the clearing of the current output cell\n",
       "var outputEl = gd.closest('.output');\n",
       "if (outputEl) {{\n",
       "    x.observe(outputEl, {childList: true});\n",
       "}}\n",
       "\n",
       "                        })                };                            </script>        </div>\n",
       "</body>\n",
       "</html>"
      ]
     },
     "metadata": {},
     "output_type": "display_data"
    }
   ],
   "source": [
    "fig = px.histogram(grouped_data, x='date', y='timestamp',\n",
    "                   width=700, height=500, \n",
    "                   range_x=(grouped_data['date'].min(), grouped_data['date'].max()),\n",
    "                   nbins=30)\n",
    "fig.update_layout(\n",
    "    title={\n",
    "        'text': \"Events per date\",\n",
    "        'xanchor': 'center',\n",
    "        'x':0.5\n",
    "    }, title_font_size=30,\n",
    "    yaxis_title=\"Events count\",\n",
    "    xaxis_title=\"Date\")\n",
    "fig.update_xaxes()\n",
    "fig.show()\n"
   ]
  },
  {
   "cell_type": "markdown",
   "metadata": {
    "id": "AQG1Bmt4Vytd"
   },
   "source": [
    "Looks like the data we have has significantly more records starting from August 1-st. In fact we need to leave out all the records prior to this date and be left with 7 days of evenly distributed data."
   ]
  },
  {
   "cell_type": "code",
   "execution_count": null,
   "metadata": {
    "colab": {
     "base_uri": "https://localhost:8080/"
    },
    "id": "93Mw6TDXShaV",
    "outputId": "e6c22c22-61e7-4c42-dcea-ec6cf6d5f9e8"
   },
   "outputs": [
    {
     "data": {
      "text/plain": [
       "328.52805555555557"
      ]
     },
     "execution_count": 28,
     "metadata": {},
     "output_type": "execute_result"
    }
   ],
   "source": [
    "(logs['timestamp'].max() - logs['timestamp'].min()).total_seconds() / (60 * 60)"
   ]
  },
  {
   "cell_type": "markdown",
   "metadata": {
    "id": "TGz601WsVjAt"
   },
   "source": [
    "There are 328 hours of log in our period of data. We will take the hours as a scale and apply them to the x-axis of our graph and see how data distributed in time by hours."
   ]
  },
  {
   "cell_type": "code",
   "execution_count": null,
   "metadata": {
    "colab": {
     "base_uri": "https://localhost:8080/",
     "height": 350
    },
    "id": "RXMaAbypShaV",
    "outputId": "391b9435-9ec4-4c12-8b05-10353e881e53"
   },
   "outputs": [
    {
     "data": {
      "image/png": "[encoded data removed]",
      "text/plain": [
       "<Figure size 1080x360 with 1 Axes>"
      ]
     },
     "metadata": {
      "needs_background": "light"
     },
     "output_type": "display_data"
    }
   ],
   "source": [
    "bins = round((logs['timestamp'].max() - logs['timestamp'].min()).total_seconds() / (60 * 60))\n",
    "logs['timestamp'].hist(bins=bins, figsize=(15,5))\n",
    "plt.title('User activity by days and hours')\n",
    "plt.xlabel('Time period')\n",
    "plt.ylabel('Count')\n",
    "plt.show()"
   ]
  },
  {
   "cell_type": "markdown",
   "metadata": {
    "id": "qhzHNa_SShaV"
   },
   "source": [
    "We have a more detailed view on users activity by date and time of the day. There are some conclusions to be made:\n",
    "1. Eeraly morning hours and late night are the low activity time.\n",
    "2. The evening hours on the 31-st of July are similar to the dates with a lot of data.\n",
    "3. What about July 31-st? There seems to be a transition there. The data in the evening of that date is almost the same amount as in evening hours of the days with a lot of data. Maybe there is a certein hour when the most observations are made?"
   ]
  },
  {
   "cell_type": "code",
   "execution_count": null,
   "metadata": {
    "id": "fHJ0wfG1ShaW"
   },
   "outputs": [],
   "source": [
    "logs31 = logs[logs['date'] == dt.date(2019, 7, 31)]"
   ]
  },
  {
   "cell_type": "code",
   "execution_count": null,
   "metadata": {
    "colab": {
     "base_uri": "https://localhost:8080/"
    },
    "id": "MD9Tcpx0ShaX",
    "outputId": "9523d917-b42c-475b-a127-e61d8cb10ecd"
   },
   "outputs": [
    {
     "data": {
      "text/plain": [
       "count     2030    \n",
       "unique    1861    \n",
       "top       21:21:36\n",
       "freq      4       \n",
       "Name: time, dtype: object"
      ]
     },
     "execution_count": 31,
     "metadata": {},
     "output_type": "execute_result"
    }
   ],
   "source": [
    "logs31['time'].describe()"
   ]
  },
  {
   "cell_type": "markdown",
   "metadata": {
    "id": "rFwQHDu_WrWE"
   },
   "source": [
    "We have most of actions made around 21.00, so we will take it to the next step of the analysis as well."
   ]
  },
  {
   "cell_type": "code",
   "execution_count": null,
   "metadata": {
    "id": "MesEs1uLnpG2"
   },
   "outputs": [],
   "source": [
    "df = logs[logs['timestamp'] > dt.datetime(2019, 7, 31, 21, 0, 0)]"
   ]
  },
  {
   "cell_type": "code",
   "execution_count": null,
   "metadata": {
    "colab": {
     "base_uri": "https://localhost:8080/"
    },
    "id": "CCscDJxbBeKb",
    "outputId": "53896d3e-8321-4688-ddfe-8d471915736e"
   },
   "outputs": [
    {
     "name": "stdout",
     "output_type": "stream",
     "text": [
      "1989 rows and 13 user id's were eliminated from the analysis.\n",
      "The share of rows loss: 0.8%\n"
     ]
    }
   ],
   "source": [
    "print(\"{} rows and {} user id's were eliminated from the analysis.\"\\\n",
    "      .format(len(logs) - len(df), logs['uid']\\\n",
    "      .nunique() - df['uid'].nunique()))\n",
    "print('The share of rows loss: {:.1%}'.format(1 - (len(df) / len(logs))))"
   ]
  },
  {
   "cell_type": "markdown",
   "metadata": {
    "id": "ym-PPV7PX853"
   },
   "source": [
    "We need to make sure we have users from all three experimental groups."
   ]
  },
  {
   "cell_type": "code",
   "execution_count": null,
   "metadata": {
    "colab": {
     "base_uri": "https://localhost:8080/",
     "height": 143
    },
    "id": "WmL3xCATKxI7",
    "outputId": "7038c3c0-ac05-42db-ee65-c7d4a71ceb6d"
   },
   "outputs": [
    {
     "data": {
      "text/html": [
       "\n",
       "  <div id=\"df-47655349-8914-4594-ae68-c6d8115b20d8\">\n",
       "    <div class=\"colab-df-container\">\n",
       "      <div>\n",
       "<style scoped>\n",
       "    .dataframe tbody tr th:only-of-type {\n",
       "        vertical-align: middle;\n",
       "    }\n",
       "\n",
       "    .dataframe tbody tr th {\n",
       "        vertical-align: top;\n",
       "    }\n",
       "\n",
       "    .dataframe thead th {\n",
       "        text-align: right;\n",
       "    }\n",
       "</style>\n",
       "<table border=\"1\" class=\"dataframe\">\n",
       "  <thead>\n",
       "    <tr style=\"text-align: right;\">\n",
       "      <th></th>\n",
       "      <th>group</th>\n",
       "      <th>uid</th>\n",
       "    </tr>\n",
       "  </thead>\n",
       "  <tbody>\n",
       "    <tr>\n",
       "      <th>0</th>\n",
       "      <td>A1</td>\n",
       "      <td>2484</td>\n",
       "    </tr>\n",
       "    <tr>\n",
       "      <th>1</th>\n",
       "      <td>A2</td>\n",
       "      <td>2517</td>\n",
       "    </tr>\n",
       "    <tr>\n",
       "      <th>2</th>\n",
       "      <td>B</td>\n",
       "      <td>2537</td>\n",
       "    </tr>\n",
       "  </tbody>\n",
       "</table>\n",
       "</div>\n",
       "      <button class=\"colab-df-convert\" onclick=\"convertToInteractive('df-47655349-8914-4594-ae68-c6d8115b20d8')\"\n",
       "              title=\"Convert this dataframe to an interactive table.\"\n",
       "              style=\"display:none;\">\n",
       "        \n",
       "  <svg xmlns=\"http://www.w3.org/2000/svg\" height=\"24px\"viewBox=\"0 0 24 24\"\n",
       "       width=\"24px\">\n",
       "    <path d=\"M0 0h24v24H0V0z\" fill=\"none\"/>\n",
       "    <path d=\"M18.56 5.44l.94 2.06.94-2.06 2.06-.94-2.06-.94-.94-2.06-.94 2.06-2.06.94zm-11 1L8.5 8.5l.94-2.06 2.06-.94-2.06-.94L8.5 2.5l-.94 2.06-2.06.94zm10 10l.94 2.06.94-2.06 2.06-.94-2.06-.94-.94-2.06-.94 2.06-2.06.94z\"/><path d=\"M17.41 7.96l-1.37-1.37c-.4-.4-.92-.59-1.43-.59-.52 0-1.04.2-1.43.59L10.3 9.45l-7.72 7.72c-.78.78-.78 2.05 0 2.83L4 21.41c.39.39.9.59 1.41.59.51 0 1.02-.2 1.41-.59l7.78-7.78 2.81-2.81c.8-.78.8-2.07 0-2.86zM5.41 20L4 18.59l7.72-7.72 1.47 1.35L5.41 20z\"/>\n",
       "  </svg>\n",
       "      </button>\n",
       "      \n",
       "  <style>\n",
       "    .colab-df-container {\n",
       "      display:flex;\n",
       "      flex-wrap:wrap;\n",
       "      gap: 12px;\n",
       "    }\n",
       "\n",
       "    .colab-df-convert {\n",
       "      background-color: #E8F0FE;\n",
       "      border: none;\n",
       "      border-radius: 50%;\n",
       "      cursor: pointer;\n",
       "      display: none;\n",
       "      fill: #1967D2;\n",
       "      height: 32px;\n",
       "      padding: 0 0 0 0;\n",
       "      width: 32px;\n",
       "    }\n",
       "\n",
       "    .colab-df-convert:hover {\n",
       "      background-color: #E2EBFA;\n",
       "      box-shadow: 0px 1px 2px rgba(60, 64, 67, 0.3), 0px 1px 3px 1px rgba(60, 64, 67, 0.15);\n",
       "      fill: #174EA6;\n",
       "    }\n",
       "\n",
       "    [theme=dark] .colab-df-convert {\n",
       "      background-color: #3B4455;\n",
       "      fill: #D2E3FC;\n",
       "    }\n",
       "\n",
       "    [theme=dark] .colab-df-convert:hover {\n",
       "      background-color: #434B5C;\n",
       "      box-shadow: 0px 1px 3px 1px rgba(0, 0, 0, 0.15);\n",
       "      filter: drop-shadow(0px 1px 2px rgba(0, 0, 0, 0.3));\n",
       "      fill: #FFFFFF;\n",
       "    }\n",
       "  </style>\n",
       "\n",
       "      <script>\n",
       "        const buttonEl =\n",
       "          document.querySelector('#df-47655349-8914-4594-ae68-c6d8115b20d8 button.colab-df-convert');\n",
       "        buttonEl.style.display =\n",
       "          google.colab.kernel.accessAllowed ? 'block' : 'none';\n",
       "\n",
       "        async function convertToInteractive(key) {\n",
       "          const element = document.querySelector('#df-47655349-8914-4594-ae68-c6d8115b20d8');\n",
       "          const dataTable =\n",
       "            await google.colab.kernel.invokeFunction('convertToInteractive',\n",
       "                                                     [key], {});\n",
       "          if (!dataTable) return;\n",
       "\n",
       "          const docLinkHtml = 'Like what you see? Visit the ' +\n",
       "            '<a target=\"_blank\" href=https://colab.research.google.com/notebooks/data_table.ipynb>data table notebook</a>'\n",
       "            + ' to learn more about interactive tables.';\n",
       "          element.innerHTML = '';\n",
       "          dataTable['output_type'] = 'display_data';\n",
       "          await google.colab.output.renderOutput(dataTable, element);\n",
       "          const docLink = document.createElement('div');\n",
       "          docLink.innerHTML = docLinkHtml;\n",
       "          element.appendChild(docLink);\n",
       "        }\n",
       "      </script>\n",
       "    </div>\n",
       "  </div>\n",
       "  "
      ],
      "text/plain": [
       "  group   uid\n",
       "0  A1    2484\n",
       "1  A2    2517\n",
       "2  B     2537"
      ]
     },
     "execution_count": 34,
     "metadata": {},
     "output_type": "execute_result"
    }
   ],
   "source": [
    "df.groupby(['group'], as_index=False)['uid'].nunique()"
   ]
  },
  {
   "cell_type": "markdown",
   "metadata": {
    "id": "FtQUKZZ1WKyV"
   },
   "source": [
    "All three groups have aproximatly even amount of unique users.\n",
    "In addition we are checking that the users are unique to their groups."
   ]
  },
  {
   "cell_type": "code",
   "execution_count": null,
   "metadata": {
    "colab": {
     "base_uri": "https://localhost:8080/",
     "height": 424
    },
    "id": "pFQRaZGUWTdE",
    "outputId": "721ad46f-1779-42fa-d0f9-7c5835e8155f"
   },
   "outputs": [
    {
     "data": {
      "text/html": [
       "\n",
       "  <div id=\"df-fbb570d9-e335-4477-8022-6bf703ab2af5\">\n",
       "    <div class=\"colab-df-container\">\n",
       "      <div>\n",
       "<style scoped>\n",
       "    .dataframe tbody tr th:only-of-type {\n",
       "        vertical-align: middle;\n",
       "    }\n",
       "\n",
       "    .dataframe tbody tr th {\n",
       "        vertical-align: top;\n",
       "    }\n",
       "\n",
       "    .dataframe thead th {\n",
       "        text-align: right;\n",
       "    }\n",
       "</style>\n",
       "<table border=\"1\" class=\"dataframe\">\n",
       "  <thead>\n",
       "    <tr style=\"text-align: right;\">\n",
       "      <th></th>\n",
       "      <th>uid</th>\n",
       "      <th>group</th>\n",
       "    </tr>\n",
       "  </thead>\n",
       "  <tbody>\n",
       "    <tr>\n",
       "      <th>0</th>\n",
       "      <td>6888746892508752</td>\n",
       "      <td>1</td>\n",
       "    </tr>\n",
       "    <tr>\n",
       "      <th>5021</th>\n",
       "      <td>6207091767962101846</td>\n",
       "      <td>1</td>\n",
       "    </tr>\n",
       "    <tr>\n",
       "      <th>5033</th>\n",
       "      <td>6217295124800833842</td>\n",
       "      <td>1</td>\n",
       "    </tr>\n",
       "    <tr>\n",
       "      <th>5032</th>\n",
       "      <td>6216080220799726690</td>\n",
       "      <td>1</td>\n",
       "    </tr>\n",
       "    <tr>\n",
       "      <th>5031</th>\n",
       "      <td>6215559225876063378</td>\n",
       "      <td>1</td>\n",
       "    </tr>\n",
       "    <tr>\n",
       "      <th>...</th>\n",
       "      <td>...</td>\n",
       "      <td>...</td>\n",
       "    </tr>\n",
       "    <tr>\n",
       "      <th>2508</th>\n",
       "      <td>3171891164497446149</td>\n",
       "      <td>1</td>\n",
       "    </tr>\n",
       "    <tr>\n",
       "      <th>2507</th>\n",
       "      <td>3171454373076660766</td>\n",
       "      <td>1</td>\n",
       "    </tr>\n",
       "    <tr>\n",
       "      <th>2506</th>\n",
       "      <td>3170212200647575044</td>\n",
       "      <td>1</td>\n",
       "    </tr>\n",
       "    <tr>\n",
       "      <th>2505</th>\n",
       "      <td>3167974726645136146</td>\n",
       "      <td>1</td>\n",
       "    </tr>\n",
       "    <tr>\n",
       "      <th>7537</th>\n",
       "      <td>9222603179720523844</td>\n",
       "      <td>1</td>\n",
       "    </tr>\n",
       "  </tbody>\n",
       "</table>\n",
       "<p>7538 rows × 2 columns</p>\n",
       "</div>\n",
       "      <button class=\"colab-df-convert\" onclick=\"convertToInteractive('df-fbb570d9-e335-4477-8022-6bf703ab2af5')\"\n",
       "              title=\"Convert this dataframe to an interactive table.\"\n",
       "              style=\"display:none;\">\n",
       "        \n",
       "  <svg xmlns=\"http://www.w3.org/2000/svg\" height=\"24px\"viewBox=\"0 0 24 24\"\n",
       "       width=\"24px\">\n",
       "    <path d=\"M0 0h24v24H0V0z\" fill=\"none\"/>\n",
       "    <path d=\"M18.56 5.44l.94 2.06.94-2.06 2.06-.94-2.06-.94-.94-2.06-.94 2.06-2.06.94zm-11 1L8.5 8.5l.94-2.06 2.06-.94-2.06-.94L8.5 2.5l-.94 2.06-2.06.94zm10 10l.94 2.06.94-2.06 2.06-.94-2.06-.94-.94-2.06-.94 2.06-2.06.94z\"/><path d=\"M17.41 7.96l-1.37-1.37c-.4-.4-.92-.59-1.43-.59-.52 0-1.04.2-1.43.59L10.3 9.45l-7.72 7.72c-.78.78-.78 2.05 0 2.83L4 21.41c.39.39.9.59 1.41.59.51 0 1.02-.2 1.41-.59l7.78-7.78 2.81-2.81c.8-.78.8-2.07 0-2.86zM5.41 20L4 18.59l7.72-7.72 1.47 1.35L5.41 20z\"/>\n",
       "  </svg>\n",
       "      </button>\n",
       "      \n",
       "  <style>\n",
       "    .colab-df-container {\n",
       "      display:flex;\n",
       "      flex-wrap:wrap;\n",
       "      gap: 12px;\n",
       "    }\n",
       "\n",
       "    .colab-df-convert {\n",
       "      background-color: #E8F0FE;\n",
       "      border: none;\n",
       "      border-radius: 50%;\n",
       "      cursor: pointer;\n",
       "      display: none;\n",
       "      fill: #1967D2;\n",
       "      height: 32px;\n",
       "      padding: 0 0 0 0;\n",
       "      width: 32px;\n",
       "    }\n",
       "\n",
       "    .colab-df-convert:hover {\n",
       "      background-color: #E2EBFA;\n",
       "      box-shadow: 0px 1px 2px rgba(60, 64, 67, 0.3), 0px 1px 3px 1px rgba(60, 64, 67, 0.15);\n",
       "      fill: #174EA6;\n",
       "    }\n",
       "\n",
       "    [theme=dark] .colab-df-convert {\n",
       "      background-color: #3B4455;\n",
       "      fill: #D2E3FC;\n",
       "    }\n",
       "\n",
       "    [theme=dark] .colab-df-convert:hover {\n",
       "      background-color: #434B5C;\n",
       "      box-shadow: 0px 1px 3px 1px rgba(0, 0, 0, 0.15);\n",
       "      filter: drop-shadow(0px 1px 2px rgba(0, 0, 0, 0.3));\n",
       "      fill: #FFFFFF;\n",
       "    }\n",
       "  </style>\n",
       "\n",
       "      <script>\n",
       "        const buttonEl =\n",
       "          document.querySelector('#df-fbb570d9-e335-4477-8022-6bf703ab2af5 button.colab-df-convert');\n",
       "        buttonEl.style.display =\n",
       "          google.colab.kernel.accessAllowed ? 'block' : 'none';\n",
       "\n",
       "        async function convertToInteractive(key) {\n",
       "          const element = document.querySelector('#df-fbb570d9-e335-4477-8022-6bf703ab2af5');\n",
       "          const dataTable =\n",
       "            await google.colab.kernel.invokeFunction('convertToInteractive',\n",
       "                                                     [key], {});\n",
       "          if (!dataTable) return;\n",
       "\n",
       "          const docLinkHtml = 'Like what you see? Visit the ' +\n",
       "            '<a target=\"_blank\" href=https://colab.research.google.com/notebooks/data_table.ipynb>data table notebook</a>'\n",
       "            + ' to learn more about interactive tables.';\n",
       "          element.innerHTML = '';\n",
       "          dataTable['output_type'] = 'display_data';\n",
       "          await google.colab.output.renderOutput(dataTable, element);\n",
       "          const docLink = document.createElement('div');\n",
       "          docLink.innerHTML = docLinkHtml;\n",
       "          element.appendChild(docLink);\n",
       "        }\n",
       "      </script>\n",
       "    </div>\n",
       "  </div>\n",
       "  "
      ],
      "text/plain": [
       "                      uid  group\n",
       "0     6888746892508752     1    \n",
       "5021  6207091767962101846  1    \n",
       "5033  6217295124800833842  1    \n",
       "5032  6216080220799726690  1    \n",
       "5031  6215559225876063378  1    \n",
       "...                   ... ..    \n",
       "2508  3171891164497446149  1    \n",
       "2507  3171454373076660766  1    \n",
       "2506  3170212200647575044  1    \n",
       "2505  3167974726645136146  1    \n",
       "7537  9222603179720523844  1    \n",
       "\n",
       "[7538 rows x 2 columns]"
      ]
     },
     "execution_count": 35,
     "metadata": {},
     "output_type": "execute_result"
    }
   ],
   "source": [
    "df.groupby(['uid'], as_index=False)['group'].nunique().sort_values(by='group', ascending=False)"
   ]
  },
  {
   "cell_type": "markdown",
   "metadata": {
    "id": "nKekpY-zkls0"
   },
   "source": [
    "Looks like the users were assigned in a proper way: each user belongs to one unique group."
   ]
  },
  {
   "cell_type": "markdown",
   "metadata": {
    "id": "eE4VeYNjYCuD"
   },
   "source": [
    "## Step 4. Study the event funnel\n",
    "\n",
    "\n",
    "---\n",
    "\n"
   ]
  },
  {
   "cell_type": "code",
   "execution_count": null,
   "metadata": {
    "colab": {
     "base_uri": "https://localhost:8080/",
     "height": 206
    },
    "id": "h8YBTyi0L-d7",
    "outputId": "1c969448-d061-4136-f5ea-ebe789eab06c"
   },
   "outputs": [
    {
     "data": {
      "text/html": [
       "\n",
       "  <div id=\"df-ce5359ec-53f8-4c18-9c84-abf72f5bae8f\">\n",
       "    <div class=\"colab-df-container\">\n",
       "      <div>\n",
       "<style scoped>\n",
       "    .dataframe tbody tr th:only-of-type {\n",
       "        vertical-align: middle;\n",
       "    }\n",
       "\n",
       "    .dataframe tbody tr th {\n",
       "        vertical-align: top;\n",
       "    }\n",
       "\n",
       "    .dataframe thead th {\n",
       "        text-align: right;\n",
       "    }\n",
       "</style>\n",
       "<table border=\"1\" class=\"dataframe\">\n",
       "  <thead>\n",
       "    <tr style=\"text-align: right;\">\n",
       "      <th></th>\n",
       "      <th>event_name</th>\n",
       "      <th>uid</th>\n",
       "    </tr>\n",
       "  </thead>\n",
       "  <tbody>\n",
       "    <tr>\n",
       "      <th>1</th>\n",
       "      <td>MainScreenAppear</td>\n",
       "      <td>117889</td>\n",
       "    </tr>\n",
       "    <tr>\n",
       "      <th>2</th>\n",
       "      <td>OffersScreenAppear</td>\n",
       "      <td>46531</td>\n",
       "    </tr>\n",
       "    <tr>\n",
       "      <th>0</th>\n",
       "      <td>CartScreenAppear</td>\n",
       "      <td>42343</td>\n",
       "    </tr>\n",
       "    <tr>\n",
       "      <th>3</th>\n",
       "      <td>PaymentScreenSuccessful</td>\n",
       "      <td>33951</td>\n",
       "    </tr>\n",
       "    <tr>\n",
       "      <th>4</th>\n",
       "      <td>Tutorial</td>\n",
       "      <td>1010</td>\n",
       "    </tr>\n",
       "  </tbody>\n",
       "</table>\n",
       "</div>\n",
       "      <button class=\"colab-df-convert\" onclick=\"convertToInteractive('df-ce5359ec-53f8-4c18-9c84-abf72f5bae8f')\"\n",
       "              title=\"Convert this dataframe to an interactive table.\"\n",
       "              style=\"display:none;\">\n",
       "        \n",
       "  <svg xmlns=\"http://www.w3.org/2000/svg\" height=\"24px\"viewBox=\"0 0 24 24\"\n",
       "       width=\"24px\">\n",
       "    <path d=\"M0 0h24v24H0V0z\" fill=\"none\"/>\n",
       "    <path d=\"M18.56 5.44l.94 2.06.94-2.06 2.06-.94-2.06-.94-.94-2.06-.94 2.06-2.06.94zm-11 1L8.5 8.5l.94-2.06 2.06-.94-2.06-.94L8.5 2.5l-.94 2.06-2.06.94zm10 10l.94 2.06.94-2.06 2.06-.94-2.06-.94-.94-2.06-.94 2.06-2.06.94z\"/><path d=\"M17.41 7.96l-1.37-1.37c-.4-.4-.92-.59-1.43-.59-.52 0-1.04.2-1.43.59L10.3 9.45l-7.72 7.72c-.78.78-.78 2.05 0 2.83L4 21.41c.39.39.9.59 1.41.59.51 0 1.02-.2 1.41-.59l7.78-7.78 2.81-2.81c.8-.78.8-2.07 0-2.86zM5.41 20L4 18.59l7.72-7.72 1.47 1.35L5.41 20z\"/>\n",
       "  </svg>\n",
       "      </button>\n",
       "      \n",
       "  <style>\n",
       "    .colab-df-container {\n",
       "      display:flex;\n",
       "      flex-wrap:wrap;\n",
       "      gap: 12px;\n",
       "    }\n",
       "\n",
       "    .colab-df-convert {\n",
       "      background-color: #E8F0FE;\n",
       "      border: none;\n",
       "      border-radius: 50%;\n",
       "      cursor: pointer;\n",
       "      display: none;\n",
       "      fill: #1967D2;\n",
       "      height: 32px;\n",
       "      padding: 0 0 0 0;\n",
       "      width: 32px;\n",
       "    }\n",
       "\n",
       "    .colab-df-convert:hover {\n",
       "      background-color: #E2EBFA;\n",
       "      box-shadow: 0px 1px 2px rgba(60, 64, 67, 0.3), 0px 1px 3px 1px rgba(60, 64, 67, 0.15);\n",
       "      fill: #174EA6;\n",
       "    }\n",
       "\n",
       "    [theme=dark] .colab-df-convert {\n",
       "      background-color: #3B4455;\n",
       "      fill: #D2E3FC;\n",
       "    }\n",
       "\n",
       "    [theme=dark] .colab-df-convert:hover {\n",
       "      background-color: #434B5C;\n",
       "      box-shadow: 0px 1px 3px 1px rgba(0, 0, 0, 0.15);\n",
       "      filter: drop-shadow(0px 1px 2px rgba(0, 0, 0, 0.3));\n",
       "      fill: #FFFFFF;\n",
       "    }\n",
       "  </style>\n",
       "\n",
       "      <script>\n",
       "        const buttonEl =\n",
       "          document.querySelector('#df-ce5359ec-53f8-4c18-9c84-abf72f5bae8f button.colab-df-convert');\n",
       "        buttonEl.style.display =\n",
       "          google.colab.kernel.accessAllowed ? 'block' : 'none';\n",
       "\n",
       "        async function convertToInteractive(key) {\n",
       "          const element = document.querySelector('#df-ce5359ec-53f8-4c18-9c84-abf72f5bae8f');\n",
       "          const dataTable =\n",
       "            await google.colab.kernel.invokeFunction('convertToInteractive',\n",
       "                                                     [key], {});\n",
       "          if (!dataTable) return;\n",
       "\n",
       "          const docLinkHtml = 'Like what you see? Visit the ' +\n",
       "            '<a target=\"_blank\" href=https://colab.research.google.com/notebooks/data_table.ipynb>data table notebook</a>'\n",
       "            + ' to learn more about interactive tables.';\n",
       "          element.innerHTML = '';\n",
       "          dataTable['output_type'] = 'display_data';\n",
       "          await google.colab.output.renderOutput(dataTable, element);\n",
       "          const docLink = document.createElement('div');\n",
       "          docLink.innerHTML = docLinkHtml;\n",
       "          element.appendChild(docLink);\n",
       "        }\n",
       "      </script>\n",
       "    </div>\n",
       "  </div>\n",
       "  "
      ],
      "text/plain": [
       "                event_name     uid\n",
       "1  MainScreenAppear         117889\n",
       "2  OffersScreenAppear       46531 \n",
       "0  CartScreenAppear         42343 \n",
       "3  PaymentScreenSuccessful  33951 \n",
       "4  Tutorial                 1010  "
      ]
     },
     "execution_count": 36,
     "metadata": {},
     "output_type": "execute_result"
    }
   ],
   "source": [
    "# See what events are in the logs and their frequency of occurrence. Sort them by frequency\n",
    "events_counts = df.groupby(['event_name'], as_index=False)['uid'].count().sort_values(by='uid', ascending=False)\n",
    "events_counts"
   ]
  },
  {
   "cell_type": "markdown",
   "metadata": {
    "id": "wZvXDG1-zQgJ"
   },
   "source": [
    "There are 5 events in the log, the most frequent is `MainScreenAppear`, followed by `OffersScreenAppear`, then the `CartScreenAppear`, and finally the `PaymentScreenSuccessful`. These 4 events are lined up in what seems to be a logical sequence. The least frequent event - the `Tutorial` - can occur at any stage of interaction with the application and will not be mandatory in the checkout event chain, so it will not be included in our event funnel analysis. \n",
    "\n",
    "Lets' **find the number of users who performed each of these actions.**"
   ]
  },
  {
   "cell_type": "code",
   "execution_count": null,
   "metadata": {
    "id": "q5JB9mOyShaf"
   },
   "outputs": [],
   "source": [
    "# Eliminate Tutorial from funnel analysis\n",
    "df = df[df['event_name'] != 'Tutorial']"
   ]
  },
  {
   "cell_type": "code",
   "execution_count": null,
   "metadata": {
    "colab": {
     "base_uri": "https://localhost:8080/",
     "height": 175
    },
    "id": "Um0sCpbSMgMq",
    "outputId": "94c32b49-c8b3-49cc-9a32-a018bf05db4c"
   },
   "outputs": [
    {
     "data": {
      "text/html": [
       "\n",
       "  <div id=\"df-4f9be4dd-a52d-4396-b2f9-832c96591f7c\">\n",
       "    <div class=\"colab-df-container\">\n",
       "      <div>\n",
       "<style scoped>\n",
       "    .dataframe tbody tr th:only-of-type {\n",
       "        vertical-align: middle;\n",
       "    }\n",
       "\n",
       "    .dataframe tbody tr th {\n",
       "        vertical-align: top;\n",
       "    }\n",
       "\n",
       "    .dataframe thead th {\n",
       "        text-align: right;\n",
       "    }\n",
       "</style>\n",
       "<table border=\"1\" class=\"dataframe\">\n",
       "  <thead>\n",
       "    <tr style=\"text-align: right;\">\n",
       "      <th></th>\n",
       "      <th>event_name</th>\n",
       "      <th>n_events</th>\n",
       "      <th>n_users</th>\n",
       "    </tr>\n",
       "  </thead>\n",
       "  <tbody>\n",
       "    <tr>\n",
       "      <th>0</th>\n",
       "      <td>MainScreenAppear</td>\n",
       "      <td>117889</td>\n",
       "      <td>7423</td>\n",
       "    </tr>\n",
       "    <tr>\n",
       "      <th>1</th>\n",
       "      <td>OffersScreenAppear</td>\n",
       "      <td>46531</td>\n",
       "      <td>4597</td>\n",
       "    </tr>\n",
       "    <tr>\n",
       "      <th>2</th>\n",
       "      <td>CartScreenAppear</td>\n",
       "      <td>42343</td>\n",
       "      <td>3736</td>\n",
       "    </tr>\n",
       "    <tr>\n",
       "      <th>3</th>\n",
       "      <td>PaymentScreenSuccessful</td>\n",
       "      <td>33951</td>\n",
       "      <td>3540</td>\n",
       "    </tr>\n",
       "  </tbody>\n",
       "</table>\n",
       "</div>\n",
       "      <button class=\"colab-df-convert\" onclick=\"convertToInteractive('df-4f9be4dd-a52d-4396-b2f9-832c96591f7c')\"\n",
       "              title=\"Convert this dataframe to an interactive table.\"\n",
       "              style=\"display:none;\">\n",
       "        \n",
       "  <svg xmlns=\"http://www.w3.org/2000/svg\" height=\"24px\"viewBox=\"0 0 24 24\"\n",
       "       width=\"24px\">\n",
       "    <path d=\"M0 0h24v24H0V0z\" fill=\"none\"/>\n",
       "    <path d=\"M18.56 5.44l.94 2.06.94-2.06 2.06-.94-2.06-.94-.94-2.06-.94 2.06-2.06.94zm-11 1L8.5 8.5l.94-2.06 2.06-.94-2.06-.94L8.5 2.5l-.94 2.06-2.06.94zm10 10l.94 2.06.94-2.06 2.06-.94-2.06-.94-.94-2.06-.94 2.06-2.06.94z\"/><path d=\"M17.41 7.96l-1.37-1.37c-.4-.4-.92-.59-1.43-.59-.52 0-1.04.2-1.43.59L10.3 9.45l-7.72 7.72c-.78.78-.78 2.05 0 2.83L4 21.41c.39.39.9.59 1.41.59.51 0 1.02-.2 1.41-.59l7.78-7.78 2.81-2.81c.8-.78.8-2.07 0-2.86zM5.41 20L4 18.59l7.72-7.72 1.47 1.35L5.41 20z\"/>\n",
       "  </svg>\n",
       "      </button>\n",
       "      \n",
       "  <style>\n",
       "    .colab-df-container {\n",
       "      display:flex;\n",
       "      flex-wrap:wrap;\n",
       "      gap: 12px;\n",
       "    }\n",
       "\n",
       "    .colab-df-convert {\n",
       "      background-color: #E8F0FE;\n",
       "      border: none;\n",
       "      border-radius: 50%;\n",
       "      cursor: pointer;\n",
       "      display: none;\n",
       "      fill: #1967D2;\n",
       "      height: 32px;\n",
       "      padding: 0 0 0 0;\n",
       "      width: 32px;\n",
       "    }\n",
       "\n",
       "    .colab-df-convert:hover {\n",
       "      background-color: #E2EBFA;\n",
       "      box-shadow: 0px 1px 2px rgba(60, 64, 67, 0.3), 0px 1px 3px 1px rgba(60, 64, 67, 0.15);\n",
       "      fill: #174EA6;\n",
       "    }\n",
       "\n",
       "    [theme=dark] .colab-df-convert {\n",
       "      background-color: #3B4455;\n",
       "      fill: #D2E3FC;\n",
       "    }\n",
       "\n",
       "    [theme=dark] .colab-df-convert:hover {\n",
       "      background-color: #434B5C;\n",
       "      box-shadow: 0px 1px 3px 1px rgba(0, 0, 0, 0.15);\n",
       "      filter: drop-shadow(0px 1px 2px rgba(0, 0, 0, 0.3));\n",
       "      fill: #FFFFFF;\n",
       "    }\n",
       "  </style>\n",
       "\n",
       "      <script>\n",
       "        const buttonEl =\n",
       "          document.querySelector('#df-4f9be4dd-a52d-4396-b2f9-832c96591f7c button.colab-df-convert');\n",
       "        buttonEl.style.display =\n",
       "          google.colab.kernel.accessAllowed ? 'block' : 'none';\n",
       "\n",
       "        async function convertToInteractive(key) {\n",
       "          const element = document.querySelector('#df-4f9be4dd-a52d-4396-b2f9-832c96591f7c');\n",
       "          const dataTable =\n",
       "            await google.colab.kernel.invokeFunction('convertToInteractive',\n",
       "                                                     [key], {});\n",
       "          if (!dataTable) return;\n",
       "\n",
       "          const docLinkHtml = 'Like what you see? Visit the ' +\n",
       "            '<a target=\"_blank\" href=https://colab.research.google.com/notebooks/data_table.ipynb>data table notebook</a>'\n",
       "            + ' to learn more about interactive tables.';\n",
       "          element.innerHTML = '';\n",
       "          dataTable['output_type'] = 'display_data';\n",
       "          await google.colab.output.renderOutput(dataTable, element);\n",
       "          const docLink = document.createElement('div');\n",
       "          docLink.innerHTML = docLinkHtml;\n",
       "          element.appendChild(docLink);\n",
       "        }\n",
       "      </script>\n",
       "    </div>\n",
       "  </div>\n",
       "  "
      ],
      "text/plain": [
       "                event_name  n_events  n_users\n",
       "0  MainScreenAppear         117889    7423   \n",
       "1  OffersScreenAppear       46531     4597   \n",
       "2  CartScreenAppear         42343     3736   \n",
       "3  PaymentScreenSuccessful  33951     3540   "
      ]
     },
     "execution_count": 38,
     "metadata": {},
     "output_type": "execute_result"
    }
   ],
   "source": [
    "# Create a dataframe for studying the funnel, group by events\n",
    "# Count the actions\n",
    "# Count the unique users\n",
    "# Sort by the highest number of unique users\n",
    "funnel_df = df.groupby(['event_name'])\\\n",
    "              .agg({'timestamp':'count', 'uid':'nunique'})\\\n",
    "              .sort_values(by='uid', ascending=False)\\\n",
    "              .reset_index()\n",
    "# Rename columns\n",
    "funnel_df.columns = ['event_name', 'n_events', 'n_users']\n",
    "funnel_df"
   ]
  },
  {
   "cell_type": "markdown",
   "metadata": {
    "id": "pHK0ZO_M6mqY"
   },
   "source": [
    "Lets' find the number of users who performed each of these actions and sort the events by the number of users. We need to calculate the proportion of users who performed the action at least once."
   ]
  },
  {
   "cell_type": "code",
   "execution_count": null,
   "metadata": {
    "id": "eJxkRaIVNPmI"
   },
   "outputs": [],
   "source": [
    "# Count the number of events per each user\n",
    "events_per_user = df.groupby(['uid'], as_index=False)['event_name'].nunique()"
   ]
  },
  {
   "cell_type": "code",
   "execution_count": null,
   "metadata": {
    "colab": {
     "base_uri": "https://localhost:8080/",
     "height": 424
    },
    "id": "5bzNbf1a6aW1",
    "outputId": "b920e175-0d9d-40b8-bf57-459e4ab7d6ef"
   },
   "outputs": [
    {
     "data": {
      "text/html": [
       "\n",
       "  <div id=\"df-234eac88-e365-4bc2-8ba0-3e0acd2b4fbb\">\n",
       "    <div class=\"colab-df-container\">\n",
       "      <div>\n",
       "<style scoped>\n",
       "    .dataframe tbody tr th:only-of-type {\n",
       "        vertical-align: middle;\n",
       "    }\n",
       "\n",
       "    .dataframe tbody tr th {\n",
       "        vertical-align: top;\n",
       "    }\n",
       "\n",
       "    .dataframe thead th {\n",
       "        text-align: right;\n",
       "    }\n",
       "</style>\n",
       "<table border=\"1\" class=\"dataframe\">\n",
       "  <thead>\n",
       "    <tr style=\"text-align: right;\">\n",
       "      <th></th>\n",
       "      <th>uid</th>\n",
       "      <th>event_name</th>\n",
       "    </tr>\n",
       "  </thead>\n",
       "  <tbody>\n",
       "    <tr>\n",
       "      <th>0</th>\n",
       "      <td>6888746892508752</td>\n",
       "      <td>1</td>\n",
       "    </tr>\n",
       "    <tr>\n",
       "      <th>3915</th>\n",
       "      <td>4856890444852090984</td>\n",
       "      <td>1</td>\n",
       "    </tr>\n",
       "    <tr>\n",
       "      <th>3916</th>\n",
       "      <td>4857087115411142922</td>\n",
       "      <td>1</td>\n",
       "    </tr>\n",
       "    <tr>\n",
       "      <th>3917</th>\n",
       "      <td>4858477632114370688</td>\n",
       "      <td>1</td>\n",
       "    </tr>\n",
       "    <tr>\n",
       "      <th>3921</th>\n",
       "      <td>4863709363519372038</td>\n",
       "      <td>1</td>\n",
       "    </tr>\n",
       "    <tr>\n",
       "      <th>...</th>\n",
       "      <td>...</td>\n",
       "      <td>...</td>\n",
       "    </tr>\n",
       "    <tr>\n",
       "      <th>3014</th>\n",
       "      <td>3789964060786957254</td>\n",
       "      <td>4</td>\n",
       "    </tr>\n",
       "    <tr>\n",
       "      <th>5003</th>\n",
       "      <td>6189023996799334550</td>\n",
       "      <td>4</td>\n",
       "    </tr>\n",
       "    <tr>\n",
       "      <th>5004</th>\n",
       "      <td>6191352955702946968</td>\n",
       "      <td>4</td>\n",
       "    </tr>\n",
       "    <tr>\n",
       "      <th>5006</th>\n",
       "      <td>6192086126311273295</td>\n",
       "      <td>4</td>\n",
       "    </tr>\n",
       "    <tr>\n",
       "      <th>4802</th>\n",
       "      <td>5938984576771641234</td>\n",
       "      <td>4</td>\n",
       "    </tr>\n",
       "  </tbody>\n",
       "</table>\n",
       "<p>7534 rows × 2 columns</p>\n",
       "</div>\n",
       "      <button class=\"colab-df-convert\" onclick=\"convertToInteractive('df-234eac88-e365-4bc2-8ba0-3e0acd2b4fbb')\"\n",
       "              title=\"Convert this dataframe to an interactive table.\"\n",
       "              style=\"display:none;\">\n",
       "        \n",
       "  <svg xmlns=\"http://www.w3.org/2000/svg\" height=\"24px\"viewBox=\"0 0 24 24\"\n",
       "       width=\"24px\">\n",
       "    <path d=\"M0 0h24v24H0V0z\" fill=\"none\"/>\n",
       "    <path d=\"M18.56 5.44l.94 2.06.94-2.06 2.06-.94-2.06-.94-.94-2.06-.94 2.06-2.06.94zm-11 1L8.5 8.5l.94-2.06 2.06-.94-2.06-.94L8.5 2.5l-.94 2.06-2.06.94zm10 10l.94 2.06.94-2.06 2.06-.94-2.06-.94-.94-2.06-.94 2.06-2.06.94z\"/><path d=\"M17.41 7.96l-1.37-1.37c-.4-.4-.92-.59-1.43-.59-.52 0-1.04.2-1.43.59L10.3 9.45l-7.72 7.72c-.78.78-.78 2.05 0 2.83L4 21.41c.39.39.9.59 1.41.59.51 0 1.02-.2 1.41-.59l7.78-7.78 2.81-2.81c.8-.78.8-2.07 0-2.86zM5.41 20L4 18.59l7.72-7.72 1.47 1.35L5.41 20z\"/>\n",
       "  </svg>\n",
       "      </button>\n",
       "      \n",
       "  <style>\n",
       "    .colab-df-container {\n",
       "      display:flex;\n",
       "      flex-wrap:wrap;\n",
       "      gap: 12px;\n",
       "    }\n",
       "\n",
       "    .colab-df-convert {\n",
       "      background-color: #E8F0FE;\n",
       "      border: none;\n",
       "      border-radius: 50%;\n",
       "      cursor: pointer;\n",
       "      display: none;\n",
       "      fill: #1967D2;\n",
       "      height: 32px;\n",
       "      padding: 0 0 0 0;\n",
       "      width: 32px;\n",
       "    }\n",
       "\n",
       "    .colab-df-convert:hover {\n",
       "      background-color: #E2EBFA;\n",
       "      box-shadow: 0px 1px 2px rgba(60, 64, 67, 0.3), 0px 1px 3px 1px rgba(60, 64, 67, 0.15);\n",
       "      fill: #174EA6;\n",
       "    }\n",
       "\n",
       "    [theme=dark] .colab-df-convert {\n",
       "      background-color: #3B4455;\n",
       "      fill: #D2E3FC;\n",
       "    }\n",
       "\n",
       "    [theme=dark] .colab-df-convert:hover {\n",
       "      background-color: #434B5C;\n",
       "      box-shadow: 0px 1px 3px 1px rgba(0, 0, 0, 0.15);\n",
       "      filter: drop-shadow(0px 1px 2px rgba(0, 0, 0, 0.3));\n",
       "      fill: #FFFFFF;\n",
       "    }\n",
       "  </style>\n",
       "\n",
       "      <script>\n",
       "        const buttonEl =\n",
       "          document.querySelector('#df-234eac88-e365-4bc2-8ba0-3e0acd2b4fbb button.colab-df-convert');\n",
       "        buttonEl.style.display =\n",
       "          google.colab.kernel.accessAllowed ? 'block' : 'none';\n",
       "\n",
       "        async function convertToInteractive(key) {\n",
       "          const element = document.querySelector('#df-234eac88-e365-4bc2-8ba0-3e0acd2b4fbb');\n",
       "          const dataTable =\n",
       "            await google.colab.kernel.invokeFunction('convertToInteractive',\n",
       "                                                     [key], {});\n",
       "          if (!dataTable) return;\n",
       "\n",
       "          const docLinkHtml = 'Like what you see? Visit the ' +\n",
       "            '<a target=\"_blank\" href=https://colab.research.google.com/notebooks/data_table.ipynb>data table notebook</a>'\n",
       "            + ' to learn more about interactive tables.';\n",
       "          element.innerHTML = '';\n",
       "          dataTable['output_type'] = 'display_data';\n",
       "          await google.colab.output.renderOutput(dataTable, element);\n",
       "          const docLink = document.createElement('div');\n",
       "          docLink.innerHTML = docLinkHtml;\n",
       "          element.appendChild(docLink);\n",
       "        }\n",
       "      </script>\n",
       "    </div>\n",
       "  </div>\n",
       "  "
      ],
      "text/plain": [
       "                      uid  event_name\n",
       "0     6888746892508752     1         \n",
       "3915  4856890444852090984  1         \n",
       "3916  4857087115411142922  1         \n",
       "3917  4858477632114370688  1         \n",
       "3921  4863709363519372038  1         \n",
       "...                   ... ..         \n",
       "3014  3789964060786957254  4         \n",
       "5003  6189023996799334550  4         \n",
       "5004  6191352955702946968  4         \n",
       "5006  6192086126311273295  4         \n",
       "4802  5938984576771641234  4         \n",
       "\n",
       "[7534 rows x 2 columns]"
      ]
     },
     "execution_count": 40,
     "metadata": {},
     "output_type": "execute_result"
    }
   ],
   "source": [
    "# Leave only the rows where the number of events equals to or greater than 1\n",
    "events_per_user[events_per_user['event_name'] >= 1]\\\n",
    "              .sort_values(by='event_name')"
   ]
  },
  {
   "cell_type": "code",
   "execution_count": null,
   "metadata": {
    "colab": {
     "base_uri": "https://localhost:8080/"
    },
    "id": "brgXNB6kH84E",
    "outputId": "2c2d9bc9-a94b-4fa2-9744-db1e2be960f6"
   },
   "outputs": [
    {
     "data": {
      "text/plain": [
       "7534"
      ]
     },
     "execution_count": 41,
     "metadata": {},
     "output_type": "execute_result"
    }
   ],
   "source": [
    "events_per_user['uid'].nunique()"
   ]
  },
  {
   "cell_type": "markdown",
   "metadata": {
    "id": "j8dagztaHehE"
   },
   "source": [
    "The users that performed an action at least once is basicly all of our users. \n",
    "\n",
    "Lets' calculate the proprtions."
   ]
  },
  {
   "cell_type": "code",
   "execution_count": null,
   "metadata": {
    "id": "Zm62RDBm7FR0"
   },
   "outputs": [],
   "source": [
    "# Calculate share of number of unique users per event to the total number of users\n",
    "funnel_df['proportion'] = funnel_df['n_users'] / events_per_user['uid'].nunique()"
   ]
  },
  {
   "cell_type": "code",
   "execution_count": null,
   "metadata": {
    "id": "4eIFOKimhRCF"
   },
   "outputs": [],
   "source": [
    "# Calculate average evetnts per users for each event\n",
    "funnel_df['event_per_user'] = funnel_df['n_events'] / funnel_df['n_users']"
   ]
  },
  {
   "cell_type": "code",
   "execution_count": null,
   "metadata": {
    "colab": {
     "base_uri": "https://localhost:8080/",
     "height": 175
    },
    "id": "wdvxoBXmIFk-",
    "outputId": "76ee58b5-7575-4fea-94bc-88a42e70ed26"
   },
   "outputs": [
    {
     "data": {
      "text/html": [
       "\n",
       "  <div id=\"df-d842d2bf-fac0-4de7-a841-db4d11bc1d35\">\n",
       "    <div class=\"colab-df-container\">\n",
       "      <div>\n",
       "<style scoped>\n",
       "    .dataframe tbody tr th:only-of-type {\n",
       "        vertical-align: middle;\n",
       "    }\n",
       "\n",
       "    .dataframe tbody tr th {\n",
       "        vertical-align: top;\n",
       "    }\n",
       "\n",
       "    .dataframe thead th {\n",
       "        text-align: right;\n",
       "    }\n",
       "</style>\n",
       "<table border=\"1\" class=\"dataframe\">\n",
       "  <thead>\n",
       "    <tr style=\"text-align: right;\">\n",
       "      <th></th>\n",
       "      <th>event_name</th>\n",
       "      <th>n_events</th>\n",
       "      <th>n_users</th>\n",
       "      <th>proportion</th>\n",
       "      <th>event_per_user</th>\n",
       "    </tr>\n",
       "  </thead>\n",
       "  <tbody>\n",
       "    <tr>\n",
       "      <th>0</th>\n",
       "      <td>MainScreenAppear</td>\n",
       "      <td>117889</td>\n",
       "      <td>7423</td>\n",
       "      <td>0.99</td>\n",
       "      <td>15.88</td>\n",
       "    </tr>\n",
       "    <tr>\n",
       "      <th>1</th>\n",
       "      <td>OffersScreenAppear</td>\n",
       "      <td>46531</td>\n",
       "      <td>4597</td>\n",
       "      <td>0.61</td>\n",
       "      <td>10.12</td>\n",
       "    </tr>\n",
       "    <tr>\n",
       "      <th>2</th>\n",
       "      <td>CartScreenAppear</td>\n",
       "      <td>42343</td>\n",
       "      <td>3736</td>\n",
       "      <td>0.50</td>\n",
       "      <td>11.33</td>\n",
       "    </tr>\n",
       "    <tr>\n",
       "      <th>3</th>\n",
       "      <td>PaymentScreenSuccessful</td>\n",
       "      <td>33951</td>\n",
       "      <td>3540</td>\n",
       "      <td>0.47</td>\n",
       "      <td>9.59</td>\n",
       "    </tr>\n",
       "  </tbody>\n",
       "</table>\n",
       "</div>\n",
       "      <button class=\"colab-df-convert\" onclick=\"convertToInteractive('df-d842d2bf-fac0-4de7-a841-db4d11bc1d35')\"\n",
       "              title=\"Convert this dataframe to an interactive table.\"\n",
       "              style=\"display:none;\">\n",
       "        \n",
       "  <svg xmlns=\"http://www.w3.org/2000/svg\" height=\"24px\"viewBox=\"0 0 24 24\"\n",
       "       width=\"24px\">\n",
       "    <path d=\"M0 0h24v24H0V0z\" fill=\"none\"/>\n",
       "    <path d=\"M18.56 5.44l.94 2.06.94-2.06 2.06-.94-2.06-.94-.94-2.06-.94 2.06-2.06.94zm-11 1L8.5 8.5l.94-2.06 2.06-.94-2.06-.94L8.5 2.5l-.94 2.06-2.06.94zm10 10l.94 2.06.94-2.06 2.06-.94-2.06-.94-.94-2.06-.94 2.06-2.06.94z\"/><path d=\"M17.41 7.96l-1.37-1.37c-.4-.4-.92-.59-1.43-.59-.52 0-1.04.2-1.43.59L10.3 9.45l-7.72 7.72c-.78.78-.78 2.05 0 2.83L4 21.41c.39.39.9.59 1.41.59.51 0 1.02-.2 1.41-.59l7.78-7.78 2.81-2.81c.8-.78.8-2.07 0-2.86zM5.41 20L4 18.59l7.72-7.72 1.47 1.35L5.41 20z\"/>\n",
       "  </svg>\n",
       "      </button>\n",
       "      \n",
       "  <style>\n",
       "    .colab-df-container {\n",
       "      display:flex;\n",
       "      flex-wrap:wrap;\n",
       "      gap: 12px;\n",
       "    }\n",
       "\n",
       "    .colab-df-convert {\n",
       "      background-color: #E8F0FE;\n",
       "      border: none;\n",
       "      border-radius: 50%;\n",
       "      cursor: pointer;\n",
       "      display: none;\n",
       "      fill: #1967D2;\n",
       "      height: 32px;\n",
       "      padding: 0 0 0 0;\n",
       "      width: 32px;\n",
       "    }\n",
       "\n",
       "    .colab-df-convert:hover {\n",
       "      background-color: #E2EBFA;\n",
       "      box-shadow: 0px 1px 2px rgba(60, 64, 67, 0.3), 0px 1px 3px 1px rgba(60, 64, 67, 0.15);\n",
       "      fill: #174EA6;\n",
       "    }\n",
       "\n",
       "    [theme=dark] .colab-df-convert {\n",
       "      background-color: #3B4455;\n",
       "      fill: #D2E3FC;\n",
       "    }\n",
       "\n",
       "    [theme=dark] .colab-df-convert:hover {\n",
       "      background-color: #434B5C;\n",
       "      box-shadow: 0px 1px 3px 1px rgba(0, 0, 0, 0.15);\n",
       "      filter: drop-shadow(0px 1px 2px rgba(0, 0, 0, 0.3));\n",
       "      fill: #FFFFFF;\n",
       "    }\n",
       "  </style>\n",
       "\n",
       "      <script>\n",
       "        const buttonEl =\n",
       "          document.querySelector('#df-d842d2bf-fac0-4de7-a841-db4d11bc1d35 button.colab-df-convert');\n",
       "        buttonEl.style.display =\n",
       "          google.colab.kernel.accessAllowed ? 'block' : 'none';\n",
       "\n",
       "        async function convertToInteractive(key) {\n",
       "          const element = document.querySelector('#df-d842d2bf-fac0-4de7-a841-db4d11bc1d35');\n",
       "          const dataTable =\n",
       "            await google.colab.kernel.invokeFunction('convertToInteractive',\n",
       "                                                     [key], {});\n",
       "          if (!dataTable) return;\n",
       "\n",
       "          const docLinkHtml = 'Like what you see? Visit the ' +\n",
       "            '<a target=\"_blank\" href=https://colab.research.google.com/notebooks/data_table.ipynb>data table notebook</a>'\n",
       "            + ' to learn more about interactive tables.';\n",
       "          element.innerHTML = '';\n",
       "          dataTable['output_type'] = 'display_data';\n",
       "          await google.colab.output.renderOutput(dataTable, element);\n",
       "          const docLink = document.createElement('div');\n",
       "          docLink.innerHTML = docLinkHtml;\n",
       "          element.appendChild(docLink);\n",
       "        }\n",
       "      </script>\n",
       "    </div>\n",
       "  </div>\n",
       "  "
      ],
      "text/plain": [
       "                event_name  n_events  n_users  proportion  event_per_user\n",
       "0  MainScreenAppear         117889    7423    0.99        15.88          \n",
       "1  OffersScreenAppear       46531     4597    0.61        10.12          \n",
       "2  CartScreenAppear         42343     3736    0.50        11.33          \n",
       "3  PaymentScreenSuccessful  33951     3540    0.47        9.59           "
      ]
     },
     "execution_count": 44,
     "metadata": {},
     "output_type": "execute_result"
    }
   ],
   "source": [
    "funnel_df"
   ]
  },
  {
   "cell_type": "markdown",
   "metadata": {
    "id": "bR5llvx1iIGN"
   },
   "source": [
    "- **98%** of all users visited the **main screen**, 7419 users made 117328 actions, each user visited the main screen 15-16 times on average\n",
    "\n",
    "- **61%** read the **offer**, 4593 users read the offer 46333 times, each user visited that screen 10 times on average\n",
    "\n",
    "- **50%** of users added something to the **cart**\n",
    "\n",
    "- **47%** users in fact made the **purchase**\n",
    "\n",
    "- **11%** watched the **tutorial**, 840 users watched the tutorial 1005, on average more than once - may mean that they don't understand the tutorial and come back to rewatch it.\n",
    "Because we don't really know at what stage the tutorial appears, and it can probably played at any stage of the sequence, we will not take it into account."
   ]
  },
  {
   "cell_type": "code",
   "execution_count": null,
   "metadata": {
    "colab": {
     "base_uri": "https://localhost:8080/",
     "height": 175
    },
    "id": "NIhRp2JQke61",
    "outputId": "ca98a0e3-a5e2-46ec-ff24-61c865e2415f"
   },
   "outputs": [
    {
     "data": {
      "text/html": [
       "\n",
       "  <div id=\"df-a567c657-2022-4c35-8e2c-b4caaa8fe88b\">\n",
       "    <div class=\"colab-df-container\">\n",
       "      <div>\n",
       "<style scoped>\n",
       "    .dataframe tbody tr th:only-of-type {\n",
       "        vertical-align: middle;\n",
       "    }\n",
       "\n",
       "    .dataframe tbody tr th {\n",
       "        vertical-align: top;\n",
       "    }\n",
       "\n",
       "    .dataframe thead th {\n",
       "        text-align: right;\n",
       "    }\n",
       "</style>\n",
       "<table border=\"1\" class=\"dataframe\">\n",
       "  <thead>\n",
       "    <tr style=\"text-align: right;\">\n",
       "      <th></th>\n",
       "      <th>event_name</th>\n",
       "      <th>n_users</th>\n",
       "    </tr>\n",
       "  </thead>\n",
       "  <tbody>\n",
       "    <tr>\n",
       "      <th>0</th>\n",
       "      <td>MainScreenAppear</td>\n",
       "      <td>7423</td>\n",
       "    </tr>\n",
       "    <tr>\n",
       "      <th>1</th>\n",
       "      <td>OffersScreenAppear</td>\n",
       "      <td>4597</td>\n",
       "    </tr>\n",
       "    <tr>\n",
       "      <th>2</th>\n",
       "      <td>CartScreenAppear</td>\n",
       "      <td>3736</td>\n",
       "    </tr>\n",
       "    <tr>\n",
       "      <th>3</th>\n",
       "      <td>PaymentScreenSuccessful</td>\n",
       "      <td>3540</td>\n",
       "    </tr>\n",
       "  </tbody>\n",
       "</table>\n",
       "</div>\n",
       "      <button class=\"colab-df-convert\" onclick=\"convertToInteractive('df-a567c657-2022-4c35-8e2c-b4caaa8fe88b')\"\n",
       "              title=\"Convert this dataframe to an interactive table.\"\n",
       "              style=\"display:none;\">\n",
       "        \n",
       "  <svg xmlns=\"http://www.w3.org/2000/svg\" height=\"24px\"viewBox=\"0 0 24 24\"\n",
       "       width=\"24px\">\n",
       "    <path d=\"M0 0h24v24H0V0z\" fill=\"none\"/>\n",
       "    <path d=\"M18.56 5.44l.94 2.06.94-2.06 2.06-.94-2.06-.94-.94-2.06-.94 2.06-2.06.94zm-11 1L8.5 8.5l.94-2.06 2.06-.94-2.06-.94L8.5 2.5l-.94 2.06-2.06.94zm10 10l.94 2.06.94-2.06 2.06-.94-2.06-.94-.94-2.06-.94 2.06-2.06.94z\"/><path d=\"M17.41 7.96l-1.37-1.37c-.4-.4-.92-.59-1.43-.59-.52 0-1.04.2-1.43.59L10.3 9.45l-7.72 7.72c-.78.78-.78 2.05 0 2.83L4 21.41c.39.39.9.59 1.41.59.51 0 1.02-.2 1.41-.59l7.78-7.78 2.81-2.81c.8-.78.8-2.07 0-2.86zM5.41 20L4 18.59l7.72-7.72 1.47 1.35L5.41 20z\"/>\n",
       "  </svg>\n",
       "      </button>\n",
       "      \n",
       "  <style>\n",
       "    .colab-df-container {\n",
       "      display:flex;\n",
       "      flex-wrap:wrap;\n",
       "      gap: 12px;\n",
       "    }\n",
       "\n",
       "    .colab-df-convert {\n",
       "      background-color: #E8F0FE;\n",
       "      border: none;\n",
       "      border-radius: 50%;\n",
       "      cursor: pointer;\n",
       "      display: none;\n",
       "      fill: #1967D2;\n",
       "      height: 32px;\n",
       "      padding: 0 0 0 0;\n",
       "      width: 32px;\n",
       "    }\n",
       "\n",
       "    .colab-df-convert:hover {\n",
       "      background-color: #E2EBFA;\n",
       "      box-shadow: 0px 1px 2px rgba(60, 64, 67, 0.3), 0px 1px 3px 1px rgba(60, 64, 67, 0.15);\n",
       "      fill: #174EA6;\n",
       "    }\n",
       "\n",
       "    [theme=dark] .colab-df-convert {\n",
       "      background-color: #3B4455;\n",
       "      fill: #D2E3FC;\n",
       "    }\n",
       "\n",
       "    [theme=dark] .colab-df-convert:hover {\n",
       "      background-color: #434B5C;\n",
       "      box-shadow: 0px 1px 3px 1px rgba(0, 0, 0, 0.15);\n",
       "      filter: drop-shadow(0px 1px 2px rgba(0, 0, 0, 0.3));\n",
       "      fill: #FFFFFF;\n",
       "    }\n",
       "  </style>\n",
       "\n",
       "      <script>\n",
       "        const buttonEl =\n",
       "          document.querySelector('#df-a567c657-2022-4c35-8e2c-b4caaa8fe88b button.colab-df-convert');\n",
       "        buttonEl.style.display =\n",
       "          google.colab.kernel.accessAllowed ? 'block' : 'none';\n",
       "\n",
       "        async function convertToInteractive(key) {\n",
       "          const element = document.querySelector('#df-a567c657-2022-4c35-8e2c-b4caaa8fe88b');\n",
       "          const dataTable =\n",
       "            await google.colab.kernel.invokeFunction('convertToInteractive',\n",
       "                                                     [key], {});\n",
       "          if (!dataTable) return;\n",
       "\n",
       "          const docLinkHtml = 'Like what you see? Visit the ' +\n",
       "            '<a target=\"_blank\" href=https://colab.research.google.com/notebooks/data_table.ipynb>data table notebook</a>'\n",
       "            + ' to learn more about interactive tables.';\n",
       "          element.innerHTML = '';\n",
       "          dataTable['output_type'] = 'display_data';\n",
       "          await google.colab.output.renderOutput(dataTable, element);\n",
       "          const docLink = document.createElement('div');\n",
       "          docLink.innerHTML = docLinkHtml;\n",
       "          element.appendChild(docLink);\n",
       "        }\n",
       "      </script>\n",
       "    </div>\n",
       "  </div>\n",
       "  "
      ],
      "text/plain": [
       "                event_name  n_users\n",
       "0  MainScreenAppear         7423   \n",
       "1  OffersScreenAppear       4597   \n",
       "2  CartScreenAppear         3736   \n",
       "3  PaymentScreenSuccessful  3540   "
      ]
     },
     "execution_count": 45,
     "metadata": {},
     "output_type": "execute_result"
    }
   ],
   "source": [
    "funnel_df_ = funnel_df[0:4][['event_name', 'n_users']]\n",
    "funnel_df_"
   ]
  },
  {
   "cell_type": "code",
   "execution_count": null,
   "metadata": {
    "colab": {
     "base_uri": "https://localhost:8080/",
     "height": 175
    },
    "id": "KiIhrGCMkXBz",
    "outputId": "4298740f-cc64-42f8-e46f-894a2a9cffe2"
   },
   "outputs": [
    {
     "data": {
      "text/html": [
       "\n",
       "  <div id=\"df-ee799afa-ea7c-445e-9fc8-dd696c386ae5\">\n",
       "    <div class=\"colab-df-container\">\n",
       "      <div>\n",
       "<style scoped>\n",
       "    .dataframe tbody tr th:only-of-type {\n",
       "        vertical-align: middle;\n",
       "    }\n",
       "\n",
       "    .dataframe tbody tr th {\n",
       "        vertical-align: top;\n",
       "    }\n",
       "\n",
       "    .dataframe thead th {\n",
       "        text-align: right;\n",
       "    }\n",
       "</style>\n",
       "<table border=\"1\" class=\"dataframe\">\n",
       "  <thead>\n",
       "    <tr style=\"text-align: right;\">\n",
       "      <th></th>\n",
       "      <th>event_name</th>\n",
       "      <th>n_users</th>\n",
       "      <th>shift_percent</th>\n",
       "      <th>percent_of_initial</th>\n",
       "      <th>users_loss</th>\n",
       "    </tr>\n",
       "  </thead>\n",
       "  <tbody>\n",
       "    <tr>\n",
       "      <th>0</th>\n",
       "      <td>MainScreenAppear</td>\n",
       "      <td>7423</td>\n",
       "      <td>NaN</td>\n",
       "      <td>1.00</td>\n",
       "      <td>NaN</td>\n",
       "    </tr>\n",
       "    <tr>\n",
       "      <th>1</th>\n",
       "      <td>OffersScreenAppear</td>\n",
       "      <td>4597</td>\n",
       "      <td>0.62</td>\n",
       "      <td>0.62</td>\n",
       "      <td>-2826.00</td>\n",
       "    </tr>\n",
       "    <tr>\n",
       "      <th>2</th>\n",
       "      <td>CartScreenAppear</td>\n",
       "      <td>3736</td>\n",
       "      <td>0.81</td>\n",
       "      <td>0.50</td>\n",
       "      <td>-861.00</td>\n",
       "    </tr>\n",
       "    <tr>\n",
       "      <th>3</th>\n",
       "      <td>PaymentScreenSuccessful</td>\n",
       "      <td>3540</td>\n",
       "      <td>0.95</td>\n",
       "      <td>0.48</td>\n",
       "      <td>-196.00</td>\n",
       "    </tr>\n",
       "  </tbody>\n",
       "</table>\n",
       "</div>\n",
       "      <button class=\"colab-df-convert\" onclick=\"convertToInteractive('df-ee799afa-ea7c-445e-9fc8-dd696c386ae5')\"\n",
       "              title=\"Convert this dataframe to an interactive table.\"\n",
       "              style=\"display:none;\">\n",
       "        \n",
       "  <svg xmlns=\"http://www.w3.org/2000/svg\" height=\"24px\"viewBox=\"0 0 24 24\"\n",
       "       width=\"24px\">\n",
       "    <path d=\"M0 0h24v24H0V0z\" fill=\"none\"/>\n",
       "    <path d=\"M18.56 5.44l.94 2.06.94-2.06 2.06-.94-2.06-.94-.94-2.06-.94 2.06-2.06.94zm-11 1L8.5 8.5l.94-2.06 2.06-.94-2.06-.94L8.5 2.5l-.94 2.06-2.06.94zm10 10l.94 2.06.94-2.06 2.06-.94-2.06-.94-.94-2.06-.94 2.06-2.06.94z\"/><path d=\"M17.41 7.96l-1.37-1.37c-.4-.4-.92-.59-1.43-.59-.52 0-1.04.2-1.43.59L10.3 9.45l-7.72 7.72c-.78.78-.78 2.05 0 2.83L4 21.41c.39.39.9.59 1.41.59.51 0 1.02-.2 1.41-.59l7.78-7.78 2.81-2.81c.8-.78.8-2.07 0-2.86zM5.41 20L4 18.59l7.72-7.72 1.47 1.35L5.41 20z\"/>\n",
       "  </svg>\n",
       "      </button>\n",
       "      \n",
       "  <style>\n",
       "    .colab-df-container {\n",
       "      display:flex;\n",
       "      flex-wrap:wrap;\n",
       "      gap: 12px;\n",
       "    }\n",
       "\n",
       "    .colab-df-convert {\n",
       "      background-color: #E8F0FE;\n",
       "      border: none;\n",
       "      border-radius: 50%;\n",
       "      cursor: pointer;\n",
       "      display: none;\n",
       "      fill: #1967D2;\n",
       "      height: 32px;\n",
       "      padding: 0 0 0 0;\n",
       "      width: 32px;\n",
       "    }\n",
       "\n",
       "    .colab-df-convert:hover {\n",
       "      background-color: #E2EBFA;\n",
       "      box-shadow: 0px 1px 2px rgba(60, 64, 67, 0.3), 0px 1px 3px 1px rgba(60, 64, 67, 0.15);\n",
       "      fill: #174EA6;\n",
       "    }\n",
       "\n",
       "    [theme=dark] .colab-df-convert {\n",
       "      background-color: #3B4455;\n",
       "      fill: #D2E3FC;\n",
       "    }\n",
       "\n",
       "    [theme=dark] .colab-df-convert:hover {\n",
       "      background-color: #434B5C;\n",
       "      box-shadow: 0px 1px 3px 1px rgba(0, 0, 0, 0.15);\n",
       "      filter: drop-shadow(0px 1px 2px rgba(0, 0, 0, 0.3));\n",
       "      fill: #FFFFFF;\n",
       "    }\n",
       "  </style>\n",
       "\n",
       "      <script>\n",
       "        const buttonEl =\n",
       "          document.querySelector('#df-ee799afa-ea7c-445e-9fc8-dd696c386ae5 button.colab-df-convert');\n",
       "        buttonEl.style.display =\n",
       "          google.colab.kernel.accessAllowed ? 'block' : 'none';\n",
       "\n",
       "        async function convertToInteractive(key) {\n",
       "          const element = document.querySelector('#df-ee799afa-ea7c-445e-9fc8-dd696c386ae5');\n",
       "          const dataTable =\n",
       "            await google.colab.kernel.invokeFunction('convertToInteractive',\n",
       "                                                     [key], {});\n",
       "          if (!dataTable) return;\n",
       "\n",
       "          const docLinkHtml = 'Like what you see? Visit the ' +\n",
       "            '<a target=\"_blank\" href=https://colab.research.google.com/notebooks/data_table.ipynb>data table notebook</a>'\n",
       "            + ' to learn more about interactive tables.';\n",
       "          element.innerHTML = '';\n",
       "          dataTable['output_type'] = 'display_data';\n",
       "          await google.colab.output.renderOutput(dataTable, element);\n",
       "          const docLink = document.createElement('div');\n",
       "          docLink.innerHTML = docLinkHtml;\n",
       "          element.appendChild(docLink);\n",
       "        }\n",
       "      </script>\n",
       "    </div>\n",
       "  </div>\n",
       "  "
      ],
      "text/plain": [
       "                event_name  n_users  shift_percent  percent_of_initial  \\\n",
       "0  MainScreenAppear         7423    NaN            1.00                  \n",
       "1  OffersScreenAppear       4597    0.62           0.62                  \n",
       "2  CartScreenAppear         3736    0.81           0.50                  \n",
       "3  PaymentScreenSuccessful  3540    0.95           0.48                  \n",
       "\n",
       "   users_loss  \n",
       "0 NaN          \n",
       "1 -2826.00     \n",
       "2 -861.00      \n",
       "3 -196.00      "
      ]
     },
     "execution_count": 46,
     "metadata": {},
     "output_type": "execute_result"
    }
   ],
   "source": [
    "funnel_df_['shift_percent'] = (funnel_df_['n_users'] / funnel_df_['n_users'].shift(1))\n",
    "funnel_df_['percent_of_initial'] = (funnel_df_['n_users'] / funnel_df_.loc[0]['n_users'])\n",
    "funnel_df_['users_loss'] = (funnel_df_['n_users'] - funnel_df_['n_users'].shift(1))\n",
    "funnel_df_"
   ]
  },
  {
   "cell_type": "markdown",
   "metadata": {
    "id": "UNmLQzA-o0eb"
   },
   "source": [
    "Now we can track the shifting of the number of users and events change in dynamics:\n",
    "- The column `users_loss` shows the number of users lost from the previous row \n",
    "- The column `percent_of_initial` show the same loss in percents\n",
    "- The column `shift_percent` shows the relative share from each previous row.\n",
    "\n",
    "Lets show the `shift_percent` on a funnel plot:"
   ]
  },
  {
   "cell_type": "code",
   "execution_count": null,
   "metadata": {
    "colab": {
     "base_uri": "https://localhost:8080/",
     "height": 317
    },
    "id": "j-H03dQfIGfQ",
    "outputId": "e9c4942e-6716-4457-d05c-7d69460e4cfa"
   },
   "outputs": [
    {
     "data": {
      "text/html": [
       "<html>\n",
       "<head><meta charset=\"utf-8\" /></head>\n",
       "<body>\n",
       "    <div>            <script src=\"https://cdnjs.cloudflare.com/ajax/libs/mathjax/2.7.5/MathJax.js?config=TeX-AMS-MML_SVG\"></script><script type=\"text/javascript\">if (window.MathJax) {MathJax.Hub.Config({SVG: {font: \"STIX-Web\"}});}</script>                <script type=\"text/javascript\">window.PlotlyConfig = {MathJaxConfig: 'local'};</script>\n",
       "        <script src=\"https://cdn.plot.ly/plotly-2.8.3.min.js\"></script>                <div id=\"83493111-2c18-4868-a262-3147ac82e694\" class=\"plotly-graph-div\" style=\"height:300px; width:900px;\"></div>            <script type=\"text/javascript\">                                    window.PLOTLYENV=window.PLOTLYENV || {};                                    if (document.getElementById(\"83493111-2c18-4868-a262-3147ac82e694\")) {                    Plotly.newPlot(                        \"83493111-2c18-4868-a262-3147ac82e694\",                        [{\"marker\":{\"color\":\"silver\"},\"opacity\":0.65,\"textinfo\":\"value+percent previous\",\"x\":[7423,4597,3736,3540],\"y\":[\"MainScreenAppear\",\"OffersScreenAppear\",\"CartScreenAppear\",\"PaymentScreenSuccessful\"],\"type\":\"funnel\"}],                        {\"template\":{\"data\":{\"bar\":[{\"error_x\":{\"color\":\"#2a3f5f\"},\"error_y\":{\"color\":\"#2a3f5f\"},\"marker\":{\"line\":{\"color\":\"#E5ECF6\",\"width\":0.5},\"pattern\":{\"fillmode\":\"overlay\",\"size\":10,\"solidity\":0.2}},\"type\":\"bar\"}],\"barpolar\":[{\"marker\":{\"line\":{\"color\":\"#E5ECF6\",\"width\":0.5},\"pattern\":{\"fillmode\":\"overlay\",\"size\":10,\"solidity\":0.2}},\"type\":\"barpolar\"}],\"carpet\":[{\"aaxis\":{\"endlinecolor\":\"#2a3f5f\",\"gridcolor\":\"white\",\"linecolor\":\"white\",\"minorgridcolor\":\"white\",\"startlinecolor\":\"#2a3f5f\"},\"baxis\":{\"endlinecolor\":\"#2a3f5f\",\"gridcolor\":\"white\",\"linecolor\":\"white\",\"minorgridcolor\":\"white\",\"startlinecolor\":\"#2a3f5f\"},\"type\":\"carpet\"}],\"choropleth\":[{\"colorbar\":{\"outlinewidth\":0,\"ticks\":\"\"},\"type\":\"choropleth\"}],\"contour\":[{\"colorbar\":{\"outlinewidth\":0,\"ticks\":\"\"},\"colorscale\":[[0.0,\"#0d0887\"],[0.1111111111111111,\"#46039f\"],[0.2222222222222222,\"#7201a8\"],[0.3333333333333333,\"#9c179e\"],[0.4444444444444444,\"#bd3786\"],[0.5555555555555556,\"#d8576b\"],[0.6666666666666666,\"#ed7953\"],[0.7777777777777778,\"#fb9f3a\"],[0.8888888888888888,\"#fdca26\"],[1.0,\"#f0f921\"]],\"type\":\"contour\"}],\"contourcarpet\":[{\"colorbar\":{\"outlinewidth\":0,\"ticks\":\"\"},\"type\":\"contourcarpet\"}],\"heatmap\":[{\"colorbar\":{\"outlinewidth\":0,\"ticks\":\"\"},\"colorscale\":[[0.0,\"#0d0887\"],[0.1111111111111111,\"#46039f\"],[0.2222222222222222,\"#7201a8\"],[0.3333333333333333,\"#9c179e\"],[0.4444444444444444,\"#bd3786\"],[0.5555555555555556,\"#d8576b\"],[0.6666666666666666,\"#ed7953\"],[0.7777777777777778,\"#fb9f3a\"],[0.8888888888888888,\"#fdca26\"],[1.0,\"#f0f921\"]],\"type\":\"heatmap\"}],\"heatmapgl\":[{\"colorbar\":{\"outlinewidth\":0,\"ticks\":\"\"},\"colorscale\":[[0.0,\"#0d0887\"],[0.1111111111111111,\"#46039f\"],[0.2222222222222222,\"#7201a8\"],[0.3333333333333333,\"#9c179e\"],[0.4444444444444444,\"#bd3786\"],[0.5555555555555556,\"#d8576b\"],[0.6666666666666666,\"#ed7953\"],[0.7777777777777778,\"#fb9f3a\"],[0.8888888888888888,\"#fdca26\"],[1.0,\"#f0f921\"]],\"type\":\"heatmapgl\"}],\"histogram\":[{\"marker\":{\"pattern\":{\"fillmode\":\"overlay\",\"size\":10,\"solidity\":0.2}},\"type\":\"histogram\"}],\"histogram2d\":[{\"colorbar\":{\"outlinewidth\":0,\"ticks\":\"\"},\"colorscale\":[[0.0,\"#0d0887\"],[0.1111111111111111,\"#46039f\"],[0.2222222222222222,\"#7201a8\"],[0.3333333333333333,\"#9c179e\"],[0.4444444444444444,\"#bd3786\"],[0.5555555555555556,\"#d8576b\"],[0.6666666666666666,\"#ed7953\"],[0.7777777777777778,\"#fb9f3a\"],[0.8888888888888888,\"#fdca26\"],[1.0,\"#f0f921\"]],\"type\":\"histogram2d\"}],\"histogram2dcontour\":[{\"colorbar\":{\"outlinewidth\":0,\"ticks\":\"\"},\"colorscale\":[[0.0,\"#0d0887\"],[0.1111111111111111,\"#46039f\"],[0.2222222222222222,\"#7201a8\"],[0.3333333333333333,\"#9c179e\"],[0.4444444444444444,\"#bd3786\"],[0.5555555555555556,\"#d8576b\"],[0.6666666666666666,\"#ed7953\"],[0.7777777777777778,\"#fb9f3a\"],[0.8888888888888888,\"#fdca26\"],[1.0,\"#f0f921\"]],\"type\":\"histogram2dcontour\"}],\"mesh3d\":[{\"colorbar\":{\"outlinewidth\":0,\"ticks\":\"\"},\"type\":\"mesh3d\"}],\"parcoords\":[{\"line\":{\"colorbar\":{\"outlinewidth\":0,\"ticks\":\"\"}},\"type\":\"parcoords\"}],\"pie\":[{\"automargin\":true,\"type\":\"pie\"}],\"scatter\":[{\"marker\":{\"colorbar\":{\"outlinewidth\":0,\"ticks\":\"\"}},\"type\":\"scatter\"}],\"scatter3d\":[{\"line\":{\"colorbar\":{\"outlinewidth\":0,\"ticks\":\"\"}},\"marker\":{\"colorbar\":{\"outlinewidth\":0,\"ticks\":\"\"}},\"type\":\"scatter3d\"}],\"scattercarpet\":[{\"marker\":{\"colorbar\":{\"outlinewidth\":0,\"ticks\":\"\"}},\"type\":\"scattercarpet\"}],\"scattergeo\":[{\"marker\":{\"colorbar\":{\"outlinewidth\":0,\"ticks\":\"\"}},\"type\":\"scattergeo\"}],\"scattergl\":[{\"marker\":{\"colorbar\":{\"outlinewidth\":0,\"ticks\":\"\"}},\"type\":\"scattergl\"}],\"scattermapbox\":[{\"marker\":{\"colorbar\":{\"outlinewidth\":0,\"ticks\":\"\"}},\"type\":\"scattermapbox\"}],\"scatterpolar\":[{\"marker\":{\"colorbar\":{\"outlinewidth\":0,\"ticks\":\"\"}},\"type\":\"scatterpolar\"}],\"scatterpolargl\":[{\"marker\":{\"colorbar\":{\"outlinewidth\":0,\"ticks\":\"\"}},\"type\":\"scatterpolargl\"}],\"scatterternary\":[{\"marker\":{\"colorbar\":{\"outlinewidth\":0,\"ticks\":\"\"}},\"type\":\"scatterternary\"}],\"surface\":[{\"colorbar\":{\"outlinewidth\":0,\"ticks\":\"\"},\"colorscale\":[[0.0,\"#0d0887\"],[0.1111111111111111,\"#46039f\"],[0.2222222222222222,\"#7201a8\"],[0.3333333333333333,\"#9c179e\"],[0.4444444444444444,\"#bd3786\"],[0.5555555555555556,\"#d8576b\"],[0.6666666666666666,\"#ed7953\"],[0.7777777777777778,\"#fb9f3a\"],[0.8888888888888888,\"#fdca26\"],[1.0,\"#f0f921\"]],\"type\":\"surface\"}],\"table\":[{\"cells\":{\"fill\":{\"color\":\"#EBF0F8\"},\"line\":{\"color\":\"white\"}},\"header\":{\"fill\":{\"color\":\"#C8D4E3\"},\"line\":{\"color\":\"white\"}},\"type\":\"table\"}]},\"layout\":{\"annotationdefaults\":{\"arrowcolor\":\"#2a3f5f\",\"arrowhead\":0,\"arrowwidth\":1},\"autotypenumbers\":\"strict\",\"coloraxis\":{\"colorbar\":{\"outlinewidth\":0,\"ticks\":\"\"}},\"colorscale\":{\"diverging\":[[0,\"#8e0152\"],[0.1,\"#c51b7d\"],[0.2,\"#de77ae\"],[0.3,\"#f1b6da\"],[0.4,\"#fde0ef\"],[0.5,\"#f7f7f7\"],[0.6,\"#e6f5d0\"],[0.7,\"#b8e186\"],[0.8,\"#7fbc41\"],[0.9,\"#4d9221\"],[1,\"#276419\"]],\"sequential\":[[0.0,\"#0d0887\"],[0.1111111111111111,\"#46039f\"],[0.2222222222222222,\"#7201a8\"],[0.3333333333333333,\"#9c179e\"],[0.4444444444444444,\"#bd3786\"],[0.5555555555555556,\"#d8576b\"],[0.6666666666666666,\"#ed7953\"],[0.7777777777777778,\"#fb9f3a\"],[0.8888888888888888,\"#fdca26\"],[1.0,\"#f0f921\"]],\"sequentialminus\":[[0.0,\"#0d0887\"],[0.1111111111111111,\"#46039f\"],[0.2222222222222222,\"#7201a8\"],[0.3333333333333333,\"#9c179e\"],[0.4444444444444444,\"#bd3786\"],[0.5555555555555556,\"#d8576b\"],[0.6666666666666666,\"#ed7953\"],[0.7777777777777778,\"#fb9f3a\"],[0.8888888888888888,\"#fdca26\"],[1.0,\"#f0f921\"]]},\"colorway\":[\"#636efa\",\"#EF553B\",\"#00cc96\",\"#ab63fa\",\"#FFA15A\",\"#19d3f3\",\"#FF6692\",\"#B6E880\",\"#FF97FF\",\"#FECB52\"],\"font\":{\"color\":\"#2a3f5f\"},\"geo\":{\"bgcolor\":\"white\",\"lakecolor\":\"white\",\"landcolor\":\"#E5ECF6\",\"showlakes\":true,\"showland\":true,\"subunitcolor\":\"white\"},\"hoverlabel\":{\"align\":\"left\"},\"hovermode\":\"closest\",\"mapbox\":{\"style\":\"light\"},\"paper_bgcolor\":\"white\",\"plot_bgcolor\":\"#E5ECF6\",\"polar\":{\"angularaxis\":{\"gridcolor\":\"white\",\"linecolor\":\"white\",\"ticks\":\"\"},\"bgcolor\":\"#E5ECF6\",\"radialaxis\":{\"gridcolor\":\"white\",\"linecolor\":\"white\",\"ticks\":\"\"}},\"scene\":{\"xaxis\":{\"backgroundcolor\":\"#E5ECF6\",\"gridcolor\":\"white\",\"gridwidth\":2,\"linecolor\":\"white\",\"showbackground\":true,\"ticks\":\"\",\"zerolinecolor\":\"white\"},\"yaxis\":{\"backgroundcolor\":\"#E5ECF6\",\"gridcolor\":\"white\",\"gridwidth\":2,\"linecolor\":\"white\",\"showbackground\":true,\"ticks\":\"\",\"zerolinecolor\":\"white\"},\"zaxis\":{\"backgroundcolor\":\"#E5ECF6\",\"gridcolor\":\"white\",\"gridwidth\":2,\"linecolor\":\"white\",\"showbackground\":true,\"ticks\":\"\",\"zerolinecolor\":\"white\"}},\"shapedefaults\":{\"line\":{\"color\":\"#2a3f5f\"}},\"ternary\":{\"aaxis\":{\"gridcolor\":\"white\",\"linecolor\":\"white\",\"ticks\":\"\"},\"baxis\":{\"gridcolor\":\"white\",\"linecolor\":\"white\",\"ticks\":\"\"},\"bgcolor\":\"#E5ECF6\",\"caxis\":{\"gridcolor\":\"white\",\"linecolor\":\"white\",\"ticks\":\"\"}},\"title\":{\"x\":0.05},\"xaxis\":{\"automargin\":true,\"gridcolor\":\"white\",\"linecolor\":\"white\",\"ticks\":\"\",\"title\":{\"standoff\":15},\"zerolinecolor\":\"white\",\"zerolinewidth\":2},\"yaxis\":{\"automargin\":true,\"gridcolor\":\"white\",\"linecolor\":\"white\",\"ticks\":\"\",\"title\":{\"standoff\":15},\"zerolinecolor\":\"white\",\"zerolinewidth\":2}}},\"autosize\":false,\"width\":900,\"height\":300,\"margin\":{\"b\":0,\"l\":50,\"pad\":4,\"r\":50,\"t\":50},\"title\":{\"text\":\"Events funel\",\"x\":0.55}},                        {\"responsive\": true}                    ).then(function(){\n",
       "                            \n",
       "var gd = document.getElementById('83493111-2c18-4868-a262-3147ac82e694');\n",
       "var x = new MutationObserver(function (mutations, observer) {{\n",
       "        var display = window.getComputedStyle(gd).display;\n",
       "        if (!display || display === 'none') {{\n",
       "            console.log([gd, 'removed!']);\n",
       "            Plotly.purge(gd);\n",
       "            observer.disconnect();\n",
       "        }}\n",
       "}});\n",
       "\n",
       "// Listen for the removal of the full notebook cells\n",
       "var notebookContainer = gd.closest('#notebook-container');\n",
       "if (notebookContainer) {{\n",
       "    x.observe(notebookContainer, {childList: true});\n",
       "}}\n",
       "\n",
       "// Listen for the clearing of the current output cell\n",
       "var outputEl = gd.closest('.output');\n",
       "if (outputEl) {{\n",
       "    x.observe(outputEl, {childList: true});\n",
       "}}\n",
       "\n",
       "                        })                };                            </script>        </div>\n",
       "</body>\n",
       "</html>"
      ]
     },
     "metadata": {},
     "output_type": "display_data"
    }
   ],
   "source": [
    "fig = go.Figure(go.Funnel(y=funnel_df_['event_name'], \n",
    "                          x=funnel_df_['n_users'], textinfo = \"value+percent previous\",\n",
    "                          opacity = 0.65, marker = {\"color\": \"silver\"}))\n",
    "fig.update_layout(autosize=False, width=900, height=300, \n",
    "                  margin=go.layout.Margin(l=50, r=50, b=0, t=50, pad=4))\n",
    "fig.update_layout(title='Events funel', title_x=0.55)\n",
    "fig.show()"
   ]
  },
  {
   "cell_type": "markdown",
   "metadata": {
    "id": "tEe-JVWaqLpa"
   },
   "source": [
    "After seeing the **mainscreen** **62%** of users continued to the offers screen, we lost *38%* of users in that step\n",
    "\n",
    "But after the **offer screen 81%** users continued to the cart, the loss here is only *19%*\n",
    "\n",
    "After adding something to the **cart 95%** of users actually made the purchase, or in other words, \n",
    "\n",
    "**5% of the users didn't accomplish the purchase** leaving the products in the cart."
   ]
  },
  {
   "cell_type": "markdown",
   "metadata": {
    "id": "86meOQfpkz8b"
   },
   "source": [
    "\n",
    "\n",
    "\n",
    "This time, **lets' actually consider the sequence of the actions and track the users that followed the sequence.**"
   ]
  },
  {
   "cell_type": "code",
   "execution_count": null,
   "metadata": {
    "colab": {
     "base_uri": "https://localhost:8080/",
     "height": 455
    },
    "id": "U9jPrxMolOB3",
    "outputId": "3d772066-7545-46f4-e5a1-0e66871dbfe8"
   },
   "outputs": [
    {
     "data": {
      "text/html": [
       "\n",
       "  <div id=\"df-06e72d57-8ab1-4b9b-8583-6470b727a8b0\">\n",
       "    <div class=\"colab-df-container\">\n",
       "      <div>\n",
       "<style scoped>\n",
       "    .dataframe tbody tr th:only-of-type {\n",
       "        vertical-align: middle;\n",
       "    }\n",
       "\n",
       "    .dataframe tbody tr th {\n",
       "        vertical-align: top;\n",
       "    }\n",
       "\n",
       "    .dataframe thead th {\n",
       "        text-align: right;\n",
       "    }\n",
       "</style>\n",
       "<table border=\"1\" class=\"dataframe\">\n",
       "  <thead>\n",
       "    <tr style=\"text-align: right;\">\n",
       "      <th>event_name</th>\n",
       "      <th>CartScreenAppear</th>\n",
       "      <th>MainScreenAppear</th>\n",
       "      <th>OffersScreenAppear</th>\n",
       "      <th>PaymentScreenSuccessful</th>\n",
       "    </tr>\n",
       "    <tr>\n",
       "      <th>uid</th>\n",
       "      <th></th>\n",
       "      <th></th>\n",
       "      <th></th>\n",
       "      <th></th>\n",
       "    </tr>\n",
       "  </thead>\n",
       "  <tbody>\n",
       "    <tr>\n",
       "      <th>6888746892508752</th>\n",
       "      <td>NaT</td>\n",
       "      <td>2019-08-06 14:06:34</td>\n",
       "      <td>NaT</td>\n",
       "      <td>NaT</td>\n",
       "    </tr>\n",
       "    <tr>\n",
       "      <th>6909561520679493</th>\n",
       "      <td>2019-08-06 18:52:58</td>\n",
       "      <td>2019-08-06 18:52:54</td>\n",
       "      <td>2019-08-06 18:53:04</td>\n",
       "      <td>2019-08-06 18:52:58</td>\n",
       "    </tr>\n",
       "    <tr>\n",
       "      <th>6922444491712477</th>\n",
       "      <td>2019-08-04 14:19:40</td>\n",
       "      <td>2019-08-04 14:19:33</td>\n",
       "      <td>2019-08-04 14:19:46</td>\n",
       "      <td>2019-08-04 14:19:40</td>\n",
       "    </tr>\n",
       "    <tr>\n",
       "      <th>7435777799948366</th>\n",
       "      <td>NaT</td>\n",
       "      <td>2019-08-05 08:06:34</td>\n",
       "      <td>NaT</td>\n",
       "      <td>NaT</td>\n",
       "    </tr>\n",
       "    <tr>\n",
       "      <th>7702139951469979</th>\n",
       "      <td>2019-08-02 14:28:45</td>\n",
       "      <td>2019-08-01 04:29:54</td>\n",
       "      <td>2019-08-01 04:29:56</td>\n",
       "      <td>2019-08-02 14:28:45</td>\n",
       "    </tr>\n",
       "    <tr>\n",
       "      <th>...</th>\n",
       "      <td>...</td>\n",
       "      <td>...</td>\n",
       "      <td>...</td>\n",
       "      <td>...</td>\n",
       "    </tr>\n",
       "    <tr>\n",
       "      <th>9217594193087726423</th>\n",
       "      <td>2019-08-02 09:00:58</td>\n",
       "      <td>NaT</td>\n",
       "      <td>2019-08-02 09:01:08</td>\n",
       "      <td>2019-08-02 09:00:57</td>\n",
       "    </tr>\n",
       "    <tr>\n",
       "      <th>9219463515465815368</th>\n",
       "      <td>2019-08-06 16:49:40</td>\n",
       "      <td>2019-08-05 05:26:26</td>\n",
       "      <td>2019-08-06 16:48:57</td>\n",
       "      <td>2019-08-06 16:52:16</td>\n",
       "    </tr>\n",
       "    <tr>\n",
       "      <th>9220879493065341500</th>\n",
       "      <td>2019-08-02 17:59:16</td>\n",
       "      <td>2019-08-02 17:58:48</td>\n",
       "      <td>2019-08-02 17:59:00</td>\n",
       "      <td>NaT</td>\n",
       "    </tr>\n",
       "    <tr>\n",
       "      <th>9221926045299980007</th>\n",
       "      <td>NaT</td>\n",
       "      <td>2019-08-01 17:30:27</td>\n",
       "      <td>NaT</td>\n",
       "      <td>NaT</td>\n",
       "    </tr>\n",
       "    <tr>\n",
       "      <th>9222603179720523844</th>\n",
       "      <td>NaT</td>\n",
       "      <td>2019-08-01 06:52:13</td>\n",
       "      <td>NaT</td>\n",
       "      <td>NaT</td>\n",
       "    </tr>\n",
       "  </tbody>\n",
       "</table>\n",
       "<p>7534 rows × 4 columns</p>\n",
       "</div>\n",
       "      <button class=\"colab-df-convert\" onclick=\"convertToInteractive('df-06e72d57-8ab1-4b9b-8583-6470b727a8b0')\"\n",
       "              title=\"Convert this dataframe to an interactive table.\"\n",
       "              style=\"display:none;\">\n",
       "        \n",
       "  <svg xmlns=\"http://www.w3.org/2000/svg\" height=\"24px\"viewBox=\"0 0 24 24\"\n",
       "       width=\"24px\">\n",
       "    <path d=\"M0 0h24v24H0V0z\" fill=\"none\"/>\n",
       "    <path d=\"M18.56 5.44l.94 2.06.94-2.06 2.06-.94-2.06-.94-.94-2.06-.94 2.06-2.06.94zm-11 1L8.5 8.5l.94-2.06 2.06-.94-2.06-.94L8.5 2.5l-.94 2.06-2.06.94zm10 10l.94 2.06.94-2.06 2.06-.94-2.06-.94-.94-2.06-.94 2.06-2.06.94z\"/><path d=\"M17.41 7.96l-1.37-1.37c-.4-.4-.92-.59-1.43-.59-.52 0-1.04.2-1.43.59L10.3 9.45l-7.72 7.72c-.78.78-.78 2.05 0 2.83L4 21.41c.39.39.9.59 1.41.59.51 0 1.02-.2 1.41-.59l7.78-7.78 2.81-2.81c.8-.78.8-2.07 0-2.86zM5.41 20L4 18.59l7.72-7.72 1.47 1.35L5.41 20z\"/>\n",
       "  </svg>\n",
       "      </button>\n",
       "      \n",
       "  <style>\n",
       "    .colab-df-container {\n",
       "      display:flex;\n",
       "      flex-wrap:wrap;\n",
       "      gap: 12px;\n",
       "    }\n",
       "\n",
       "    .colab-df-convert {\n",
       "      background-color: #E8F0FE;\n",
       "      border: none;\n",
       "      border-radius: 50%;\n",
       "      cursor: pointer;\n",
       "      display: none;\n",
       "      fill: #1967D2;\n",
       "      height: 32px;\n",
       "      padding: 0 0 0 0;\n",
       "      width: 32px;\n",
       "    }\n",
       "\n",
       "    .colab-df-convert:hover {\n",
       "      background-color: #E2EBFA;\n",
       "      box-shadow: 0px 1px 2px rgba(60, 64, 67, 0.3), 0px 1px 3px 1px rgba(60, 64, 67, 0.15);\n",
       "      fill: #174EA6;\n",
       "    }\n",
       "\n",
       "    [theme=dark] .colab-df-convert {\n",
       "      background-color: #3B4455;\n",
       "      fill: #D2E3FC;\n",
       "    }\n",
       "\n",
       "    [theme=dark] .colab-df-convert:hover {\n",
       "      background-color: #434B5C;\n",
       "      box-shadow: 0px 1px 3px 1px rgba(0, 0, 0, 0.15);\n",
       "      filter: drop-shadow(0px 1px 2px rgba(0, 0, 0, 0.3));\n",
       "      fill: #FFFFFF;\n",
       "    }\n",
       "  </style>\n",
       "\n",
       "      <script>\n",
       "        const buttonEl =\n",
       "          document.querySelector('#df-06e72d57-8ab1-4b9b-8583-6470b727a8b0 button.colab-df-convert');\n",
       "        buttonEl.style.display =\n",
       "          google.colab.kernel.accessAllowed ? 'block' : 'none';\n",
       "\n",
       "        async function convertToInteractive(key) {\n",
       "          const element = document.querySelector('#df-06e72d57-8ab1-4b9b-8583-6470b727a8b0');\n",
       "          const dataTable =\n",
       "            await google.colab.kernel.invokeFunction('convertToInteractive',\n",
       "                                                     [key], {});\n",
       "          if (!dataTable) return;\n",
       "\n",
       "          const docLinkHtml = 'Like what you see? Visit the ' +\n",
       "            '<a target=\"_blank\" href=https://colab.research.google.com/notebooks/data_table.ipynb>data table notebook</a>'\n",
       "            + ' to learn more about interactive tables.';\n",
       "          element.innerHTML = '';\n",
       "          dataTable['output_type'] = 'display_data';\n",
       "          await google.colab.output.renderOutput(dataTable, element);\n",
       "          const docLink = document.createElement('div');\n",
       "          docLink.innerHTML = docLinkHtml;\n",
       "          element.appendChild(docLink);\n",
       "        }\n",
       "      </script>\n",
       "    </div>\n",
       "  </div>\n",
       "  "
      ],
      "text/plain": [
       "event_name             CartScreenAppear    MainScreenAppear  \\\n",
       "uid                                                           \n",
       "6888746892508752    NaT                 2019-08-06 14:06:34   \n",
       "6909561520679493    2019-08-06 18:52:58 2019-08-06 18:52:54   \n",
       "6922444491712477    2019-08-04 14:19:40 2019-08-04 14:19:33   \n",
       "7435777799948366    NaT                 2019-08-05 08:06:34   \n",
       "7702139951469979    2019-08-02 14:28:45 2019-08-01 04:29:54   \n",
       "...                  ..                                 ...   \n",
       "9217594193087726423 2019-08-02 09:00:58 NaT                   \n",
       "9219463515465815368 2019-08-06 16:49:40 2019-08-05 05:26:26   \n",
       "9220879493065341500 2019-08-02 17:59:16 2019-08-02 17:58:48   \n",
       "9221926045299980007 NaT                 2019-08-01 17:30:27   \n",
       "9222603179720523844 NaT                 2019-08-01 06:52:13   \n",
       "\n",
       "event_name           OffersScreenAppear PaymentScreenSuccessful  \n",
       "uid                                                              \n",
       "6888746892508752    NaT                 NaT                      \n",
       "6909561520679493    2019-08-06 18:53:04 2019-08-06 18:52:58      \n",
       "6922444491712477    2019-08-04 14:19:46 2019-08-04 14:19:40      \n",
       "7435777799948366    NaT                 NaT                      \n",
       "7702139951469979    2019-08-01 04:29:56 2019-08-02 14:28:45      \n",
       "...                  ..                  ..                      \n",
       "9217594193087726423 2019-08-02 09:01:08 2019-08-02 09:00:57      \n",
       "9219463515465815368 2019-08-06 16:48:57 2019-08-06 16:52:16      \n",
       "9220879493065341500 2019-08-02 17:59:00 NaT                      \n",
       "9221926045299980007 NaT                 NaT                      \n",
       "9222603179720523844 NaT                 NaT                      \n",
       "\n",
       "[7534 rows x 4 columns]"
      ]
     },
     "execution_count": 48,
     "metadata": {},
     "output_type": "execute_result"
    }
   ],
   "source": [
    "# Find the minimum timestamp for each user as the first or the only one visit of each user\n",
    "sequence_users = df.pivot_table(\n",
    "                index='uid', \n",
    "                columns='event_name', \n",
    "                values='timestamp', \n",
    "                aggfunc='min')\n",
    "sequence_users"
   ]
  },
  {
   "cell_type": "markdown",
   "metadata": {
    "id": "FIjSsL1IShan"
   },
   "source": [
    "So we see, that some users made several actions, some made just one, in other words, the timestemps follow different paths. It will be good to know, how much time on average would it take a user to make their way from the main screen to the payment screen."
   ]
  },
  {
   "cell_type": "code",
   "execution_count": null,
   "metadata": {
    "id": "uFyHU0OwShan"
   },
   "outputs": [],
   "source": [
    "# Place the columns in the supposed order of the events\n",
    "sequence_users_ordered = sequence_users[['MainScreenAppear', 'OffersScreenAppear', \n",
    "                                         'CartScreenAppear', 'PaymentScreenSuccessful']]"
   ]
  },
  {
   "cell_type": "code",
   "execution_count": null,
   "metadata": {
    "colab": {
     "base_uri": "https://localhost:8080/",
     "height": 455
    },
    "id": "Jz-0RRWOShan",
    "outputId": "75b478c9-456b-4cbe-dd51-35036fceba61"
   },
   "outputs": [
    {
     "data": {
      "text/html": [
       "\n",
       "  <div id=\"df-8f0879a9-a506-4d4b-949d-62615dba7ab1\">\n",
       "    <div class=\"colab-df-container\">\n",
       "      <div>\n",
       "<style scoped>\n",
       "    .dataframe tbody tr th:only-of-type {\n",
       "        vertical-align: middle;\n",
       "    }\n",
       "\n",
       "    .dataframe tbody tr th {\n",
       "        vertical-align: top;\n",
       "    }\n",
       "\n",
       "    .dataframe thead th {\n",
       "        text-align: right;\n",
       "    }\n",
       "</style>\n",
       "<table border=\"1\" class=\"dataframe\">\n",
       "  <thead>\n",
       "    <tr style=\"text-align: right;\">\n",
       "      <th>event_name</th>\n",
       "      <th>MainScreenAppear</th>\n",
       "      <th>OffersScreenAppear</th>\n",
       "      <th>CartScreenAppear</th>\n",
       "      <th>PaymentScreenSuccessful</th>\n",
       "    </tr>\n",
       "    <tr>\n",
       "      <th>uid</th>\n",
       "      <th></th>\n",
       "      <th></th>\n",
       "      <th></th>\n",
       "      <th></th>\n",
       "    </tr>\n",
       "  </thead>\n",
       "  <tbody>\n",
       "    <tr>\n",
       "      <th>6888746892508752</th>\n",
       "      <td>NaT</td>\n",
       "      <td>2019-08-06 14:06:34</td>\n",
       "      <td>NaT</td>\n",
       "      <td>NaT</td>\n",
       "    </tr>\n",
       "    <tr>\n",
       "      <th>6909561520679493</th>\n",
       "      <td>NaT</td>\n",
       "      <td>2019-08-06 18:52:54</td>\n",
       "      <td>2019-08-06 18:53:04</td>\n",
       "      <td>2019-08-06 18:52:58</td>\n",
       "    </tr>\n",
       "    <tr>\n",
       "      <th>6922444491712477</th>\n",
       "      <td>NaT</td>\n",
       "      <td>2019-08-04 14:19:33</td>\n",
       "      <td>2019-08-04 14:19:46</td>\n",
       "      <td>2019-08-04 14:19:40</td>\n",
       "    </tr>\n",
       "    <tr>\n",
       "      <th>7435777799948366</th>\n",
       "      <td>NaT</td>\n",
       "      <td>2019-08-05 08:06:34</td>\n",
       "      <td>NaT</td>\n",
       "      <td>NaT</td>\n",
       "    </tr>\n",
       "    <tr>\n",
       "      <th>7702139951469979</th>\n",
       "      <td>NaT</td>\n",
       "      <td>2019-08-01 04:29:54</td>\n",
       "      <td>2019-08-01 04:29:56</td>\n",
       "      <td>2019-08-02 14:28:45</td>\n",
       "    </tr>\n",
       "    <tr>\n",
       "      <th>...</th>\n",
       "      <td>...</td>\n",
       "      <td>...</td>\n",
       "      <td>...</td>\n",
       "      <td>...</td>\n",
       "    </tr>\n",
       "    <tr>\n",
       "      <th>9217594193087726423</th>\n",
       "      <td>NaT</td>\n",
       "      <td>NaT</td>\n",
       "      <td>2019-08-02 09:01:08</td>\n",
       "      <td>2019-08-02 09:00:58</td>\n",
       "    </tr>\n",
       "    <tr>\n",
       "      <th>9219463515465815368</th>\n",
       "      <td>NaT</td>\n",
       "      <td>2019-08-05 05:26:26</td>\n",
       "      <td>2019-08-06 16:48:57</td>\n",
       "      <td>2019-08-06 16:49:40</td>\n",
       "    </tr>\n",
       "    <tr>\n",
       "      <th>9220879493065341500</th>\n",
       "      <td>NaT</td>\n",
       "      <td>2019-08-02 17:58:48</td>\n",
       "      <td>2019-08-02 17:59:00</td>\n",
       "      <td>2019-08-02 17:59:16</td>\n",
       "    </tr>\n",
       "    <tr>\n",
       "      <th>9221926045299980007</th>\n",
       "      <td>NaT</td>\n",
       "      <td>2019-08-01 17:30:27</td>\n",
       "      <td>NaT</td>\n",
       "      <td>NaT</td>\n",
       "    </tr>\n",
       "    <tr>\n",
       "      <th>9222603179720523844</th>\n",
       "      <td>NaT</td>\n",
       "      <td>2019-08-01 06:52:13</td>\n",
       "      <td>NaT</td>\n",
       "      <td>NaT</td>\n",
       "    </tr>\n",
       "  </tbody>\n",
       "</table>\n",
       "<p>7534 rows × 4 columns</p>\n",
       "</div>\n",
       "      <button class=\"colab-df-convert\" onclick=\"convertToInteractive('df-8f0879a9-a506-4d4b-949d-62615dba7ab1')\"\n",
       "              title=\"Convert this dataframe to an interactive table.\"\n",
       "              style=\"display:none;\">\n",
       "        \n",
       "  <svg xmlns=\"http://www.w3.org/2000/svg\" height=\"24px\"viewBox=\"0 0 24 24\"\n",
       "       width=\"24px\">\n",
       "    <path d=\"M0 0h24v24H0V0z\" fill=\"none\"/>\n",
       "    <path d=\"M18.56 5.44l.94 2.06.94-2.06 2.06-.94-2.06-.94-.94-2.06-.94 2.06-2.06.94zm-11 1L8.5 8.5l.94-2.06 2.06-.94-2.06-.94L8.5 2.5l-.94 2.06-2.06.94zm10 10l.94 2.06.94-2.06 2.06-.94-2.06-.94-.94-2.06-.94 2.06-2.06.94z\"/><path d=\"M17.41 7.96l-1.37-1.37c-.4-.4-.92-.59-1.43-.59-.52 0-1.04.2-1.43.59L10.3 9.45l-7.72 7.72c-.78.78-.78 2.05 0 2.83L4 21.41c.39.39.9.59 1.41.59.51 0 1.02-.2 1.41-.59l7.78-7.78 2.81-2.81c.8-.78.8-2.07 0-2.86zM5.41 20L4 18.59l7.72-7.72 1.47 1.35L5.41 20z\"/>\n",
       "  </svg>\n",
       "      </button>\n",
       "      \n",
       "  <style>\n",
       "    .colab-df-container {\n",
       "      display:flex;\n",
       "      flex-wrap:wrap;\n",
       "      gap: 12px;\n",
       "    }\n",
       "\n",
       "    .colab-df-convert {\n",
       "      background-color: #E8F0FE;\n",
       "      border: none;\n",
       "      border-radius: 50%;\n",
       "      cursor: pointer;\n",
       "      display: none;\n",
       "      fill: #1967D2;\n",
       "      height: 32px;\n",
       "      padding: 0 0 0 0;\n",
       "      width: 32px;\n",
       "    }\n",
       "\n",
       "    .colab-df-convert:hover {\n",
       "      background-color: #E2EBFA;\n",
       "      box-shadow: 0px 1px 2px rgba(60, 64, 67, 0.3), 0px 1px 3px 1px rgba(60, 64, 67, 0.15);\n",
       "      fill: #174EA6;\n",
       "    }\n",
       "\n",
       "    [theme=dark] .colab-df-convert {\n",
       "      background-color: #3B4455;\n",
       "      fill: #D2E3FC;\n",
       "    }\n",
       "\n",
       "    [theme=dark] .colab-df-convert:hover {\n",
       "      background-color: #434B5C;\n",
       "      box-shadow: 0px 1px 3px 1px rgba(0, 0, 0, 0.15);\n",
       "      filter: drop-shadow(0px 1px 2px rgba(0, 0, 0, 0.3));\n",
       "      fill: #FFFFFF;\n",
       "    }\n",
       "  </style>\n",
       "\n",
       "      <script>\n",
       "        const buttonEl =\n",
       "          document.querySelector('#df-8f0879a9-a506-4d4b-949d-62615dba7ab1 button.colab-df-convert');\n",
       "        buttonEl.style.display =\n",
       "          google.colab.kernel.accessAllowed ? 'block' : 'none';\n",
       "\n",
       "        async function convertToInteractive(key) {\n",
       "          const element = document.querySelector('#df-8f0879a9-a506-4d4b-949d-62615dba7ab1');\n",
       "          const dataTable =\n",
       "            await google.colab.kernel.invokeFunction('convertToInteractive',\n",
       "                                                     [key], {});\n",
       "          if (!dataTable) return;\n",
       "\n",
       "          const docLinkHtml = 'Like what you see? Visit the ' +\n",
       "            '<a target=\"_blank\" href=https://colab.research.google.com/notebooks/data_table.ipynb>data table notebook</a>'\n",
       "            + ' to learn more about interactive tables.';\n",
       "          element.innerHTML = '';\n",
       "          dataTable['output_type'] = 'display_data';\n",
       "          await google.colab.output.renderOutput(dataTable, element);\n",
       "          const docLink = document.createElement('div');\n",
       "          docLink.innerHTML = docLinkHtml;\n",
       "          element.appendChild(docLink);\n",
       "        }\n",
       "      </script>\n",
       "    </div>\n",
       "  </div>\n",
       "  "
      ],
      "text/plain": [
       "event_name          MainScreenAppear  OffersScreenAppear    CartScreenAppear  \\\n",
       "uid                                                                            \n",
       "6888746892508752    NaT              2019-08-06 14:06:34 NaT                   \n",
       "6909561520679493    NaT              2019-08-06 18:52:54 2019-08-06 18:53:04   \n",
       "6922444491712477    NaT              2019-08-04 14:19:33 2019-08-04 14:19:46   \n",
       "7435777799948366    NaT              2019-08-05 08:06:34 NaT                   \n",
       "7702139951469979    NaT              2019-08-01 04:29:54 2019-08-01 04:29:56   \n",
       "...                  ..                              ...  ..                   \n",
       "9217594193087726423 NaT              NaT                 2019-08-02 09:01:08   \n",
       "9219463515465815368 NaT              2019-08-05 05:26:26 2019-08-06 16:48:57   \n",
       "9220879493065341500 NaT              2019-08-02 17:58:48 2019-08-02 17:59:00   \n",
       "9221926045299980007 NaT              2019-08-01 17:30:27 NaT                   \n",
       "9222603179720523844 NaT              2019-08-01 06:52:13 NaT                   \n",
       "\n",
       "event_name          PaymentScreenSuccessful  \n",
       "uid                                          \n",
       "6888746892508752    NaT                      \n",
       "6909561520679493    2019-08-06 18:52:58      \n",
       "6922444491712477    2019-08-04 14:19:40      \n",
       "7435777799948366    NaT                      \n",
       "7702139951469979    2019-08-02 14:28:45      \n",
       "...                  ..                      \n",
       "9217594193087726423 2019-08-02 09:00:58      \n",
       "9219463515465815368 2019-08-06 16:49:40      \n",
       "9220879493065341500 2019-08-02 17:59:16      \n",
       "9221926045299980007 NaT                      \n",
       "9222603179720523844 NaT                      \n",
       "\n",
       "[7534 rows x 4 columns]"
      ]
     },
     "execution_count": 50,
     "metadata": {},
     "output_type": "execute_result"
    }
   ],
   "source": [
    "# Shift columns to calculate differnce between time in events\n",
    "sequence_users_ordered = sequence_users_ordered.shift(+1, axis=1)\n",
    "sequence_users_ordered"
   ]
  },
  {
   "cell_type": "code",
   "execution_count": null,
   "metadata": {
    "id": "FYrjrLFpShan"
   },
   "outputs": [],
   "source": [
    "# Leave only events of interest\n",
    "sequence_users_ordered = sequence_users[['MainScreenAppear', 'PaymentScreenSuccessful']]"
   ]
  },
  {
   "cell_type": "code",
   "execution_count": null,
   "metadata": {
    "colab": {
     "base_uri": "https://localhost:8080/",
     "height": 455
    },
    "id": "WnZS8e2nShao",
    "outputId": "eb5fbdf9-c74c-4566-ec1c-d85fa1b50e4c"
   },
   "outputs": [
    {
     "data": {
      "text/html": [
       "\n",
       "  <div id=\"df-096aad46-7c3e-4476-a3ae-346c03093011\">\n",
       "    <div class=\"colab-df-container\">\n",
       "      <div>\n",
       "<style scoped>\n",
       "    .dataframe tbody tr th:only-of-type {\n",
       "        vertical-align: middle;\n",
       "    }\n",
       "\n",
       "    .dataframe tbody tr th {\n",
       "        vertical-align: top;\n",
       "    }\n",
       "\n",
       "    .dataframe thead th {\n",
       "        text-align: right;\n",
       "    }\n",
       "</style>\n",
       "<table border=\"1\" class=\"dataframe\">\n",
       "  <thead>\n",
       "    <tr style=\"text-align: right;\">\n",
       "      <th>event_name</th>\n",
       "      <th>MainScreenAppear</th>\n",
       "      <th>PaymentScreenSuccessful</th>\n",
       "    </tr>\n",
       "    <tr>\n",
       "      <th>uid</th>\n",
       "      <th></th>\n",
       "      <th></th>\n",
       "    </tr>\n",
       "  </thead>\n",
       "  <tbody>\n",
       "    <tr>\n",
       "      <th>6888746892508752</th>\n",
       "      <td>NaT</td>\n",
       "      <td>NaT</td>\n",
       "    </tr>\n",
       "    <tr>\n",
       "      <th>6909561520679493</th>\n",
       "      <td>NaT</td>\n",
       "      <td>0 days 00:00:04</td>\n",
       "    </tr>\n",
       "    <tr>\n",
       "      <th>6922444491712477</th>\n",
       "      <td>NaT</td>\n",
       "      <td>0 days 00:00:07</td>\n",
       "    </tr>\n",
       "    <tr>\n",
       "      <th>7435777799948366</th>\n",
       "      <td>NaT</td>\n",
       "      <td>NaT</td>\n",
       "    </tr>\n",
       "    <tr>\n",
       "      <th>7702139951469979</th>\n",
       "      <td>NaT</td>\n",
       "      <td>1 days 09:58:51</td>\n",
       "    </tr>\n",
       "    <tr>\n",
       "      <th>...</th>\n",
       "      <td>...</td>\n",
       "      <td>...</td>\n",
       "    </tr>\n",
       "    <tr>\n",
       "      <th>9217594193087726423</th>\n",
       "      <td>NaT</td>\n",
       "      <td>NaT</td>\n",
       "    </tr>\n",
       "    <tr>\n",
       "      <th>9219463515465815368</th>\n",
       "      <td>NaT</td>\n",
       "      <td>1 days 11:25:50</td>\n",
       "    </tr>\n",
       "    <tr>\n",
       "      <th>9220879493065341500</th>\n",
       "      <td>NaT</td>\n",
       "      <td>NaT</td>\n",
       "    </tr>\n",
       "    <tr>\n",
       "      <th>9221926045299980007</th>\n",
       "      <td>NaT</td>\n",
       "      <td>NaT</td>\n",
       "    </tr>\n",
       "    <tr>\n",
       "      <th>9222603179720523844</th>\n",
       "      <td>NaT</td>\n",
       "      <td>NaT</td>\n",
       "    </tr>\n",
       "  </tbody>\n",
       "</table>\n",
       "<p>7534 rows × 2 columns</p>\n",
       "</div>\n",
       "      <button class=\"colab-df-convert\" onclick=\"convertToInteractive('df-096aad46-7c3e-4476-a3ae-346c03093011')\"\n",
       "              title=\"Convert this dataframe to an interactive table.\"\n",
       "              style=\"display:none;\">\n",
       "        \n",
       "  <svg xmlns=\"http://www.w3.org/2000/svg\" height=\"24px\"viewBox=\"0 0 24 24\"\n",
       "       width=\"24px\">\n",
       "    <path d=\"M0 0h24v24H0V0z\" fill=\"none\"/>\n",
       "    <path d=\"M18.56 5.44l.94 2.06.94-2.06 2.06-.94-2.06-.94-.94-2.06-.94 2.06-2.06.94zm-11 1L8.5 8.5l.94-2.06 2.06-.94-2.06-.94L8.5 2.5l-.94 2.06-2.06.94zm10 10l.94 2.06.94-2.06 2.06-.94-2.06-.94-.94-2.06-.94 2.06-2.06.94z\"/><path d=\"M17.41 7.96l-1.37-1.37c-.4-.4-.92-.59-1.43-.59-.52 0-1.04.2-1.43.59L10.3 9.45l-7.72 7.72c-.78.78-.78 2.05 0 2.83L4 21.41c.39.39.9.59 1.41.59.51 0 1.02-.2 1.41-.59l7.78-7.78 2.81-2.81c.8-.78.8-2.07 0-2.86zM5.41 20L4 18.59l7.72-7.72 1.47 1.35L5.41 20z\"/>\n",
       "  </svg>\n",
       "      </button>\n",
       "      \n",
       "  <style>\n",
       "    .colab-df-container {\n",
       "      display:flex;\n",
       "      flex-wrap:wrap;\n",
       "      gap: 12px;\n",
       "    }\n",
       "\n",
       "    .colab-df-convert {\n",
       "      background-color: #E8F0FE;\n",
       "      border: none;\n",
       "      border-radius: 50%;\n",
       "      cursor: pointer;\n",
       "      display: none;\n",
       "      fill: #1967D2;\n",
       "      height: 32px;\n",
       "      padding: 0 0 0 0;\n",
       "      width: 32px;\n",
       "    }\n",
       "\n",
       "    .colab-df-convert:hover {\n",
       "      background-color: #E2EBFA;\n",
       "      box-shadow: 0px 1px 2px rgba(60, 64, 67, 0.3), 0px 1px 3px 1px rgba(60, 64, 67, 0.15);\n",
       "      fill: #174EA6;\n",
       "    }\n",
       "\n",
       "    [theme=dark] .colab-df-convert {\n",
       "      background-color: #3B4455;\n",
       "      fill: #D2E3FC;\n",
       "    }\n",
       "\n",
       "    [theme=dark] .colab-df-convert:hover {\n",
       "      background-color: #434B5C;\n",
       "      box-shadow: 0px 1px 3px 1px rgba(0, 0, 0, 0.15);\n",
       "      filter: drop-shadow(0px 1px 2px rgba(0, 0, 0, 0.3));\n",
       "      fill: #FFFFFF;\n",
       "    }\n",
       "  </style>\n",
       "\n",
       "      <script>\n",
       "        const buttonEl =\n",
       "          document.querySelector('#df-096aad46-7c3e-4476-a3ae-346c03093011 button.colab-df-convert');\n",
       "        buttonEl.style.display =\n",
       "          google.colab.kernel.accessAllowed ? 'block' : 'none';\n",
       "\n",
       "        async function convertToInteractive(key) {\n",
       "          const element = document.querySelector('#df-096aad46-7c3e-4476-a3ae-346c03093011');\n",
       "          const dataTable =\n",
       "            await google.colab.kernel.invokeFunction('convertToInteractive',\n",
       "                                                     [key], {});\n",
       "          if (!dataTable) return;\n",
       "\n",
       "          const docLinkHtml = 'Like what you see? Visit the ' +\n",
       "            '<a target=\"_blank\" href=https://colab.research.google.com/notebooks/data_table.ipynb>data table notebook</a>'\n",
       "            + ' to learn more about interactive tables.';\n",
       "          element.innerHTML = '';\n",
       "          dataTable['output_type'] = 'display_data';\n",
       "          await google.colab.output.renderOutput(dataTable, element);\n",
       "          const docLink = document.createElement('div');\n",
       "          docLink.innerHTML = docLinkHtml;\n",
       "          element.appendChild(docLink);\n",
       "        }\n",
       "      </script>\n",
       "    </div>\n",
       "  </div>\n",
       "  "
      ],
      "text/plain": [
       "event_name          MainScreenAppear PaymentScreenSuccessful\n",
       "uid                                                         \n",
       "6888746892508752    NaT              NaT                    \n",
       "6909561520679493    NaT              0 days 00:00:04        \n",
       "6922444491712477    NaT              0 days 00:00:07        \n",
       "7435777799948366    NaT              NaT                    \n",
       "7702139951469979    NaT              1 days 09:58:51        \n",
       "...                  ..               ..                    \n",
       "9217594193087726423 NaT              NaT                    \n",
       "9219463515465815368 NaT              1 days 11:25:50        \n",
       "9220879493065341500 NaT              NaT                    \n",
       "9221926045299980007 NaT              NaT                    \n",
       "9222603179720523844 NaT              NaT                    \n",
       "\n",
       "[7534 rows x 2 columns]"
      ]
     },
     "execution_count": 52,
     "metadata": {},
     "output_type": "execute_result"
    }
   ],
   "source": [
    "# Calculate the differnce\n",
    "sequence_users_ordered_ = sequence_users_ordered - sequence_users_ordered.shift(+1, axis=1)\n",
    "sequence_users_ordered_"
   ]
  },
  {
   "cell_type": "code",
   "execution_count": null,
   "metadata": {
    "colab": {
     "base_uri": "https://localhost:8080/"
    },
    "id": "RfDQR6l8Shao",
    "outputId": "c4f9e042-b1d1-4a59-a77d-b88f2c4a0897"
   },
   "outputs": [
    {
     "name": "stdout",
     "output_type": "stream",
     "text": [
      "On average users get to the payment screen from the main screen in 0 days 12:48:47.202208018\n"
     ]
    }
   ],
   "source": [
    "print('On average users get to the payment screen from the main screen in {}'\\\n",
    "      .format(sequence_users_ordered_['PaymentScreenSuccessful'].mean()))"
   ]
  },
  {
   "cell_type": "markdown",
   "metadata": {
    "id": "hJJAjgXuShap"
   },
   "source": [
    "Lets' follow our users' steps to find out what could be the most common sequence of interraction with the app. We take one experimental randomly chosen user and see how he behaved."
   ]
  },
  {
   "cell_type": "code",
   "execution_count": null,
   "metadata": {
    "colab": {
     "base_uri": "https://localhost:8080/",
     "height": 81
    },
    "id": "CRVmxgFJShap",
    "outputId": "9a4fc9db-76b9-42e7-bc89-21e088ab114c"
   },
   "outputs": [
    {
     "data": {
      "text/html": [
       "\n",
       "  <div id=\"df-67a002ee-b825-4c72-8f67-5de4e6ab676f\">\n",
       "    <div class=\"colab-df-container\">\n",
       "      <div>\n",
       "<style scoped>\n",
       "    .dataframe tbody tr th:only-of-type {\n",
       "        vertical-align: middle;\n",
       "    }\n",
       "\n",
       "    .dataframe tbody tr th {\n",
       "        vertical-align: top;\n",
       "    }\n",
       "\n",
       "    .dataframe thead th {\n",
       "        text-align: right;\n",
       "    }\n",
       "</style>\n",
       "<table border=\"1\" class=\"dataframe\">\n",
       "  <thead>\n",
       "    <tr style=\"text-align: right;\">\n",
       "      <th></th>\n",
       "      <th>event_name</th>\n",
       "      <th>uid</th>\n",
       "      <th>timestamp</th>\n",
       "      <th>group</th>\n",
       "      <th>date</th>\n",
       "      <th>time</th>\n",
       "    </tr>\n",
       "  </thead>\n",
       "  <tbody>\n",
       "    <tr>\n",
       "      <th>122044</th>\n",
       "      <td>MainScreenAppear</td>\n",
       "      <td>6614985746798545862</td>\n",
       "      <td>2019-08-04 11:49:26</td>\n",
       "      <td>A1</td>\n",
       "      <td>2019-08-04</td>\n",
       "      <td>11:49:26</td>\n",
       "    </tr>\n",
       "  </tbody>\n",
       "</table>\n",
       "</div>\n",
       "      <button class=\"colab-df-convert\" onclick=\"convertToInteractive('df-67a002ee-b825-4c72-8f67-5de4e6ab676f')\"\n",
       "              title=\"Convert this dataframe to an interactive table.\"\n",
       "              style=\"display:none;\">\n",
       "        \n",
       "  <svg xmlns=\"http://www.w3.org/2000/svg\" height=\"24px\"viewBox=\"0 0 24 24\"\n",
       "       width=\"24px\">\n",
       "    <path d=\"M0 0h24v24H0V0z\" fill=\"none\"/>\n",
       "    <path d=\"M18.56 5.44l.94 2.06.94-2.06 2.06-.94-2.06-.94-.94-2.06-.94 2.06-2.06.94zm-11 1L8.5 8.5l.94-2.06 2.06-.94-2.06-.94L8.5 2.5l-.94 2.06-2.06.94zm10 10l.94 2.06.94-2.06 2.06-.94-2.06-.94-.94-2.06-.94 2.06-2.06.94z\"/><path d=\"M17.41 7.96l-1.37-1.37c-.4-.4-.92-.59-1.43-.59-.52 0-1.04.2-1.43.59L10.3 9.45l-7.72 7.72c-.78.78-.78 2.05 0 2.83L4 21.41c.39.39.9.59 1.41.59.51 0 1.02-.2 1.41-.59l7.78-7.78 2.81-2.81c.8-.78.8-2.07 0-2.86zM5.41 20L4 18.59l7.72-7.72 1.47 1.35L5.41 20z\"/>\n",
       "  </svg>\n",
       "      </button>\n",
       "      \n",
       "  <style>\n",
       "    .colab-df-container {\n",
       "      display:flex;\n",
       "      flex-wrap:wrap;\n",
       "      gap: 12px;\n",
       "    }\n",
       "\n",
       "    .colab-df-convert {\n",
       "      background-color: #E8F0FE;\n",
       "      border: none;\n",
       "      border-radius: 50%;\n",
       "      cursor: pointer;\n",
       "      display: none;\n",
       "      fill: #1967D2;\n",
       "      height: 32px;\n",
       "      padding: 0 0 0 0;\n",
       "      width: 32px;\n",
       "    }\n",
       "\n",
       "    .colab-df-convert:hover {\n",
       "      background-color: #E2EBFA;\n",
       "      box-shadow: 0px 1px 2px rgba(60, 64, 67, 0.3), 0px 1px 3px 1px rgba(60, 64, 67, 0.15);\n",
       "      fill: #174EA6;\n",
       "    }\n",
       "\n",
       "    [theme=dark] .colab-df-convert {\n",
       "      background-color: #3B4455;\n",
       "      fill: #D2E3FC;\n",
       "    }\n",
       "\n",
       "    [theme=dark] .colab-df-convert:hover {\n",
       "      background-color: #434B5C;\n",
       "      box-shadow: 0px 1px 3px 1px rgba(0, 0, 0, 0.15);\n",
       "      filter: drop-shadow(0px 1px 2px rgba(0, 0, 0, 0.3));\n",
       "      fill: #FFFFFF;\n",
       "    }\n",
       "  </style>\n",
       "\n",
       "      <script>\n",
       "        const buttonEl =\n",
       "          document.querySelector('#df-67a002ee-b825-4c72-8f67-5de4e6ab676f button.colab-df-convert');\n",
       "        buttonEl.style.display =\n",
       "          google.colab.kernel.accessAllowed ? 'block' : 'none';\n",
       "\n",
       "        async function convertToInteractive(key) {\n",
       "          const element = document.querySelector('#df-67a002ee-b825-4c72-8f67-5de4e6ab676f');\n",
       "          const dataTable =\n",
       "            await google.colab.kernel.invokeFunction('convertToInteractive',\n",
       "                                                     [key], {});\n",
       "          if (!dataTable) return;\n",
       "\n",
       "          const docLinkHtml = 'Like what you see? Visit the ' +\n",
       "            '<a target=\"_blank\" href=https://colab.research.google.com/notebooks/data_table.ipynb>data table notebook</a>'\n",
       "            + ' to learn more about interactive tables.';\n",
       "          element.innerHTML = '';\n",
       "          dataTable['output_type'] = 'display_data';\n",
       "          await google.colab.output.renderOutput(dataTable, element);\n",
       "          const docLink = document.createElement('div');\n",
       "          docLink.innerHTML = docLinkHtml;\n",
       "          element.appendChild(docLink);\n",
       "        }\n",
       "      </script>\n",
       "    </div>\n",
       "  </div>\n",
       "  "
      ],
      "text/plain": [
       "              event_name                  uid           timestamp group  \\\n",
       "122044  MainScreenAppear  6614985746798545862 2019-08-04 11:49:26  A1     \n",
       "\n",
       "              date      time  \n",
       "122044  2019-08-04  11:49:26  "
      ]
     },
     "execution_count": 54,
     "metadata": {},
     "output_type": "execute_result"
    }
   ],
   "source": [
    "df.sample()"
   ]
  },
  {
   "cell_type": "code",
   "execution_count": null,
   "metadata": {
    "colab": {
     "base_uri": "https://localhost:8080/",
     "height": 424
    },
    "id": "R3sQV7HfShaq",
    "outputId": "bfeaf9e7-aac1-45ea-d6f7-9d3a44300337"
   },
   "outputs": [
    {
     "data": {
      "text/html": [
       "\n",
       "  <div id=\"df-c5c73282-a87e-4d84-8566-a784d1c6bd8a\">\n",
       "    <div class=\"colab-df-container\">\n",
       "      <div>\n",
       "<style scoped>\n",
       "    .dataframe tbody tr th:only-of-type {\n",
       "        vertical-align: middle;\n",
       "    }\n",
       "\n",
       "    .dataframe tbody tr th {\n",
       "        vertical-align: top;\n",
       "    }\n",
       "\n",
       "    .dataframe thead th {\n",
       "        text-align: right;\n",
       "    }\n",
       "</style>\n",
       "<table border=\"1\" class=\"dataframe\">\n",
       "  <thead>\n",
       "    <tr style=\"text-align: right;\">\n",
       "      <th></th>\n",
       "      <th>event_name</th>\n",
       "      <th>uid</th>\n",
       "      <th>timestamp</th>\n",
       "      <th>group</th>\n",
       "      <th>date</th>\n",
       "      <th>time</th>\n",
       "    </tr>\n",
       "  </thead>\n",
       "  <tbody>\n",
       "    <tr>\n",
       "      <th>5719</th>\n",
       "      <td>MainScreenAppear</td>\n",
       "      <td>5378506390650869352</td>\n",
       "      <td>2019-08-01 05:39:39</td>\n",
       "      <td>B</td>\n",
       "      <td>2019-08-01</td>\n",
       "      <td>05:39:39</td>\n",
       "    </tr>\n",
       "    <tr>\n",
       "      <th>5755</th>\n",
       "      <td>OffersScreenAppear</td>\n",
       "      <td>5378506390650869352</td>\n",
       "      <td>2019-08-01 05:42:17</td>\n",
       "      <td>B</td>\n",
       "      <td>2019-08-01</td>\n",
       "      <td>05:42:17</td>\n",
       "    </tr>\n",
       "    <tr>\n",
       "      <th>5934</th>\n",
       "      <td>OffersScreenAppear</td>\n",
       "      <td>5378506390650869352</td>\n",
       "      <td>2019-08-01 05:51:19</td>\n",
       "      <td>B</td>\n",
       "      <td>2019-08-01</td>\n",
       "      <td>05:51:19</td>\n",
       "    </tr>\n",
       "    <tr>\n",
       "      <th>5936</th>\n",
       "      <td>OffersScreenAppear</td>\n",
       "      <td>5378506390650869352</td>\n",
       "      <td>2019-08-01 05:51:29</td>\n",
       "      <td>B</td>\n",
       "      <td>2019-08-01</td>\n",
       "      <td>05:51:29</td>\n",
       "    </tr>\n",
       "    <tr>\n",
       "      <th>5947</th>\n",
       "      <td>CartScreenAppear</td>\n",
       "      <td>5378506390650869352</td>\n",
       "      <td>2019-08-01 05:51:38</td>\n",
       "      <td>B</td>\n",
       "      <td>2019-08-01</td>\n",
       "      <td>05:51:38</td>\n",
       "    </tr>\n",
       "    <tr>\n",
       "      <th>...</th>\n",
       "      <td>...</td>\n",
       "      <td>...</td>\n",
       "      <td>...</td>\n",
       "      <td>...</td>\n",
       "      <td>...</td>\n",
       "      <td>...</td>\n",
       "    </tr>\n",
       "    <tr>\n",
       "      <th>214197</th>\n",
       "      <td>MainScreenAppear</td>\n",
       "      <td>5378506390650869352</td>\n",
       "      <td>2019-08-07 03:51:58</td>\n",
       "      <td>B</td>\n",
       "      <td>2019-08-07</td>\n",
       "      <td>03:51:58</td>\n",
       "    </tr>\n",
       "    <tr>\n",
       "      <th>214201</th>\n",
       "      <td>OffersScreenAppear</td>\n",
       "      <td>5378506390650869352</td>\n",
       "      <td>2019-08-07 03:52:03</td>\n",
       "      <td>B</td>\n",
       "      <td>2019-08-07</td>\n",
       "      <td>03:52:03</td>\n",
       "    </tr>\n",
       "    <tr>\n",
       "      <th>224137</th>\n",
       "      <td>MainScreenAppear</td>\n",
       "      <td>5378506390650869352</td>\n",
       "      <td>2019-08-07 10:40:03</td>\n",
       "      <td>B</td>\n",
       "      <td>2019-08-07</td>\n",
       "      <td>10:40:03</td>\n",
       "    </tr>\n",
       "    <tr>\n",
       "      <th>224147</th>\n",
       "      <td>OffersScreenAppear</td>\n",
       "      <td>5378506390650869352</td>\n",
       "      <td>2019-08-07 10:40:33</td>\n",
       "      <td>B</td>\n",
       "      <td>2019-08-07</td>\n",
       "      <td>10:40:33</td>\n",
       "    </tr>\n",
       "    <tr>\n",
       "      <th>224151</th>\n",
       "      <td>OffersScreenAppear</td>\n",
       "      <td>5378506390650869352</td>\n",
       "      <td>2019-08-07 10:40:46</td>\n",
       "      <td>B</td>\n",
       "      <td>2019-08-07</td>\n",
       "      <td>10:40:46</td>\n",
       "    </tr>\n",
       "  </tbody>\n",
       "</table>\n",
       "<p>63 rows × 6 columns</p>\n",
       "</div>\n",
       "      <button class=\"colab-df-convert\" onclick=\"convertToInteractive('df-c5c73282-a87e-4d84-8566-a784d1c6bd8a')\"\n",
       "              title=\"Convert this dataframe to an interactive table.\"\n",
       "              style=\"display:none;\">\n",
       "        \n",
       "  <svg xmlns=\"http://www.w3.org/2000/svg\" height=\"24px\"viewBox=\"0 0 24 24\"\n",
       "       width=\"24px\">\n",
       "    <path d=\"M0 0h24v24H0V0z\" fill=\"none\"/>\n",
       "    <path d=\"M18.56 5.44l.94 2.06.94-2.06 2.06-.94-2.06-.94-.94-2.06-.94 2.06-2.06.94zm-11 1L8.5 8.5l.94-2.06 2.06-.94-2.06-.94L8.5 2.5l-.94 2.06-2.06.94zm10 10l.94 2.06.94-2.06 2.06-.94-2.06-.94-.94-2.06-.94 2.06-2.06.94z\"/><path d=\"M17.41 7.96l-1.37-1.37c-.4-.4-.92-.59-1.43-.59-.52 0-1.04.2-1.43.59L10.3 9.45l-7.72 7.72c-.78.78-.78 2.05 0 2.83L4 21.41c.39.39.9.59 1.41.59.51 0 1.02-.2 1.41-.59l7.78-7.78 2.81-2.81c.8-.78.8-2.07 0-2.86zM5.41 20L4 18.59l7.72-7.72 1.47 1.35L5.41 20z\"/>\n",
       "  </svg>\n",
       "      </button>\n",
       "      \n",
       "  <style>\n",
       "    .colab-df-container {\n",
       "      display:flex;\n",
       "      flex-wrap:wrap;\n",
       "      gap: 12px;\n",
       "    }\n",
       "\n",
       "    .colab-df-convert {\n",
       "      background-color: #E8F0FE;\n",
       "      border: none;\n",
       "      border-radius: 50%;\n",
       "      cursor: pointer;\n",
       "      display: none;\n",
       "      fill: #1967D2;\n",
       "      height: 32px;\n",
       "      padding: 0 0 0 0;\n",
       "      width: 32px;\n",
       "    }\n",
       "\n",
       "    .colab-df-convert:hover {\n",
       "      background-color: #E2EBFA;\n",
       "      box-shadow: 0px 1px 2px rgba(60, 64, 67, 0.3), 0px 1px 3px 1px rgba(60, 64, 67, 0.15);\n",
       "      fill: #174EA6;\n",
       "    }\n",
       "\n",
       "    [theme=dark] .colab-df-convert {\n",
       "      background-color: #3B4455;\n",
       "      fill: #D2E3FC;\n",
       "    }\n",
       "\n",
       "    [theme=dark] .colab-df-convert:hover {\n",
       "      background-color: #434B5C;\n",
       "      box-shadow: 0px 1px 3px 1px rgba(0, 0, 0, 0.15);\n",
       "      filter: drop-shadow(0px 1px 2px rgba(0, 0, 0, 0.3));\n",
       "      fill: #FFFFFF;\n",
       "    }\n",
       "  </style>\n",
       "\n",
       "      <script>\n",
       "        const buttonEl =\n",
       "          document.querySelector('#df-c5c73282-a87e-4d84-8566-a784d1c6bd8a button.colab-df-convert');\n",
       "        buttonEl.style.display =\n",
       "          google.colab.kernel.accessAllowed ? 'block' : 'none';\n",
       "\n",
       "        async function convertToInteractive(key) {\n",
       "          const element = document.querySelector('#df-c5c73282-a87e-4d84-8566-a784d1c6bd8a');\n",
       "          const dataTable =\n",
       "            await google.colab.kernel.invokeFunction('convertToInteractive',\n",
       "                                                     [key], {});\n",
       "          if (!dataTable) return;\n",
       "\n",
       "          const docLinkHtml = 'Like what you see? Visit the ' +\n",
       "            '<a target=\"_blank\" href=https://colab.research.google.com/notebooks/data_table.ipynb>data table notebook</a>'\n",
       "            + ' to learn more about interactive tables.';\n",
       "          element.innerHTML = '';\n",
       "          dataTable['output_type'] = 'display_data';\n",
       "          await google.colab.output.renderOutput(dataTable, element);\n",
       "          const docLink = document.createElement('div');\n",
       "          docLink.innerHTML = docLinkHtml;\n",
       "          element.appendChild(docLink);\n",
       "        }\n",
       "      </script>\n",
       "    </div>\n",
       "  </div>\n",
       "  "
      ],
      "text/plain": [
       "                event_name                  uid           timestamp group  \\\n",
       "5719    MainScreenAppear    5378506390650869352 2019-08-01 05:39:39  B      \n",
       "5755    OffersScreenAppear  5378506390650869352 2019-08-01 05:42:17  B      \n",
       "5934    OffersScreenAppear  5378506390650869352 2019-08-01 05:51:19  B      \n",
       "5936    OffersScreenAppear  5378506390650869352 2019-08-01 05:51:29  B      \n",
       "5947    CartScreenAppear    5378506390650869352 2019-08-01 05:51:38  B      \n",
       "...                  ...                    ...                 ... ..      \n",
       "214197  MainScreenAppear    5378506390650869352 2019-08-07 03:51:58  B      \n",
       "214201  OffersScreenAppear  5378506390650869352 2019-08-07 03:52:03  B      \n",
       "224137  MainScreenAppear    5378506390650869352 2019-08-07 10:40:03  B      \n",
       "224147  OffersScreenAppear  5378506390650869352 2019-08-07 10:40:33  B      \n",
       "224151  OffersScreenAppear  5378506390650869352 2019-08-07 10:40:46  B      \n",
       "\n",
       "              date      time  \n",
       "5719    2019-08-01  05:39:39  \n",
       "5755    2019-08-01  05:42:17  \n",
       "5934    2019-08-01  05:51:19  \n",
       "5936    2019-08-01  05:51:29  \n",
       "5947    2019-08-01  05:51:38  \n",
       "...            ...       ...  \n",
       "214197  2019-08-07  03:51:58  \n",
       "214201  2019-08-07  03:52:03  \n",
       "224137  2019-08-07  10:40:03  \n",
       "224147  2019-08-07  10:40:33  \n",
       "224151  2019-08-07  10:40:46  \n",
       "\n",
       "[63 rows x 6 columns]"
      ]
     },
     "execution_count": 55,
     "metadata": {},
     "output_type": "execute_result"
    }
   ],
   "source": [
    "df[df['uid'] == 5378506390650869352]"
   ]
  },
  {
   "cell_type": "markdown",
   "metadata": {
    "id": "FonNb0bfShaq"
   },
   "source": [
    "Lets' build a function that can look through subsets for each users' actions log and will make a sorted list of actions in order of their appearence."
   ]
  },
  {
   "cell_type": "code",
   "execution_count": null,
   "metadata": {
    "id": "wCH5DZVHShar"
   },
   "outputs": [],
   "source": [
    "def sequence(user):\n",
    "    sorted_user = df[df['uid'] == user].sort_values(by=['uid', 'timestamp'])\n",
    "    return df['event_name'].drop_duplicates().to_list()"
   ]
  },
  {
   "cell_type": "code",
   "execution_count": null,
   "metadata": {
    "colab": {
     "base_uri": "https://localhost:8080/"
    },
    "id": "UcnGS4vEShar",
    "outputId": "42634849-94d1-47a6-fccf-b5f176d7a0e9"
   },
   "outputs": [
    {
     "data": {
      "text/plain": [
       "['MainScreenAppear',\n",
       " 'OffersScreenAppear',\n",
       " 'PaymentScreenSuccessful',\n",
       " 'CartScreenAppear']"
      ]
     },
     "execution_count": 57,
     "metadata": {},
     "output_type": "execute_result"
    }
   ],
   "source": [
    "# Check function\n",
    "sequence(5378506390650869352)"
   ]
  },
  {
   "cell_type": "markdown",
   "metadata": {
    "id": "UcMOUJufShas"
   },
   "source": [
    "Now we can apply this function to all our users, write down each ones' sequence and among those sequences find the most frequent one."
   ]
  },
  {
   "cell_type": "code",
   "execution_count": null,
   "metadata": {
    "id": "9fk6HLYvShas"
   },
   "outputs": [],
   "source": [
    "sequence_empty = []\n",
    "for i in df.uid.unique():\n",
    "    sequence_empty.append([i, sequence(i)])"
   ]
  },
  {
   "cell_type": "code",
   "execution_count": null,
   "metadata": {
    "id": "dOm6Sf0mShas"
   },
   "outputs": [],
   "source": [
    "sequence_empty"
   ]
  },
  {
   "cell_type": "code",
   "execution_count": null,
   "metadata": {
    "colab": {
     "base_uri": "https://localhost:8080/",
     "height": 424
    },
    "id": "zpHnNYxiShas",
    "outputId": "86870212-7567-400d-83f9-85ec561b8eda"
   },
   "outputs": [
    {
     "data": {
      "text/html": [
       "\n",
       "  <div id=\"df-2955099e-8d53-4f4a-9576-ecbded29870c\">\n",
       "    <div class=\"colab-df-container\">\n",
       "      <div>\n",
       "<style scoped>\n",
       "    .dataframe tbody tr th:only-of-type {\n",
       "        vertical-align: middle;\n",
       "    }\n",
       "\n",
       "    .dataframe tbody tr th {\n",
       "        vertical-align: top;\n",
       "    }\n",
       "\n",
       "    .dataframe thead th {\n",
       "        text-align: right;\n",
       "    }\n",
       "</style>\n",
       "<table border=\"1\" class=\"dataframe\">\n",
       "  <thead>\n",
       "    <tr style=\"text-align: right;\">\n",
       "      <th></th>\n",
       "      <th>user</th>\n",
       "      <th>pattern</th>\n",
       "    </tr>\n",
       "  </thead>\n",
       "  <tbody>\n",
       "    <tr>\n",
       "      <th>0</th>\n",
       "      <td>7701922487875823903</td>\n",
       "      <td>[MainScreenAppear, OffersScreenAppear, PaymentScreenSuccessful, CartScreenAppear]</td>\n",
       "    </tr>\n",
       "    <tr>\n",
       "      <th>1</th>\n",
       "      <td>2539077412200498909</td>\n",
       "      <td>[MainScreenAppear, OffersScreenAppear, PaymentScreenSuccessful, CartScreenAppear]</td>\n",
       "    </tr>\n",
       "    <tr>\n",
       "      <th>2</th>\n",
       "      <td>3286987355161301427</td>\n",
       "      <td>[MainScreenAppear, OffersScreenAppear, PaymentScreenSuccessful, CartScreenAppear]</td>\n",
       "    </tr>\n",
       "    <tr>\n",
       "      <th>3</th>\n",
       "      <td>3187166762535343300</td>\n",
       "      <td>[MainScreenAppear, OffersScreenAppear, PaymentScreenSuccessful, CartScreenAppear]</td>\n",
       "    </tr>\n",
       "    <tr>\n",
       "      <th>4</th>\n",
       "      <td>1118952406011435924</td>\n",
       "      <td>[MainScreenAppear, OffersScreenAppear, PaymentScreenSuccessful, CartScreenAppear]</td>\n",
       "    </tr>\n",
       "    <tr>\n",
       "      <th>...</th>\n",
       "      <td>...</td>\n",
       "      <td>...</td>\n",
       "    </tr>\n",
       "    <tr>\n",
       "      <th>7529</th>\n",
       "      <td>5811573131275421338</td>\n",
       "      <td>[MainScreenAppear, OffersScreenAppear, PaymentScreenSuccessful, CartScreenAppear]</td>\n",
       "    </tr>\n",
       "    <tr>\n",
       "      <th>7530</th>\n",
       "      <td>5365227480683749189</td>\n",
       "      <td>[MainScreenAppear, OffersScreenAppear, PaymentScreenSuccessful, CartScreenAppear]</td>\n",
       "    </tr>\n",
       "    <tr>\n",
       "      <th>7531</th>\n",
       "      <td>6660805781687343085</td>\n",
       "      <td>[MainScreenAppear, OffersScreenAppear, PaymentScreenSuccessful, CartScreenAppear]</td>\n",
       "    </tr>\n",
       "    <tr>\n",
       "      <th>7532</th>\n",
       "      <td>7823752606740475984</td>\n",
       "      <td>[MainScreenAppear, OffersScreenAppear, PaymentScreenSuccessful, CartScreenAppear]</td>\n",
       "    </tr>\n",
       "    <tr>\n",
       "      <th>7533</th>\n",
       "      <td>3454683894921357834</td>\n",
       "      <td>[MainScreenAppear, OffersScreenAppear, PaymentScreenSuccessful, CartScreenAppear]</td>\n",
       "    </tr>\n",
       "  </tbody>\n",
       "</table>\n",
       "<p>7534 rows × 2 columns</p>\n",
       "</div>\n",
       "      <button class=\"colab-df-convert\" onclick=\"convertToInteractive('df-2955099e-8d53-4f4a-9576-ecbded29870c')\"\n",
       "              title=\"Convert this dataframe to an interactive table.\"\n",
       "              style=\"display:none;\">\n",
       "        \n",
       "  <svg xmlns=\"http://www.w3.org/2000/svg\" height=\"24px\"viewBox=\"0 0 24 24\"\n",
       "       width=\"24px\">\n",
       "    <path d=\"M0 0h24v24H0V0z\" fill=\"none\"/>\n",
       "    <path d=\"M18.56 5.44l.94 2.06.94-2.06 2.06-.94-2.06-.94-.94-2.06-.94 2.06-2.06.94zm-11 1L8.5 8.5l.94-2.06 2.06-.94-2.06-.94L8.5 2.5l-.94 2.06-2.06.94zm10 10l.94 2.06.94-2.06 2.06-.94-2.06-.94-.94-2.06-.94 2.06-2.06.94z\"/><path d=\"M17.41 7.96l-1.37-1.37c-.4-.4-.92-.59-1.43-.59-.52 0-1.04.2-1.43.59L10.3 9.45l-7.72 7.72c-.78.78-.78 2.05 0 2.83L4 21.41c.39.39.9.59 1.41.59.51 0 1.02-.2 1.41-.59l7.78-7.78 2.81-2.81c.8-.78.8-2.07 0-2.86zM5.41 20L4 18.59l7.72-7.72 1.47 1.35L5.41 20z\"/>\n",
       "  </svg>\n",
       "      </button>\n",
       "      \n",
       "  <style>\n",
       "    .colab-df-container {\n",
       "      display:flex;\n",
       "      flex-wrap:wrap;\n",
       "      gap: 12px;\n",
       "    }\n",
       "\n",
       "    .colab-df-convert {\n",
       "      background-color: #E8F0FE;\n",
       "      border: none;\n",
       "      border-radius: 50%;\n",
       "      cursor: pointer;\n",
       "      display: none;\n",
       "      fill: #1967D2;\n",
       "      height: 32px;\n",
       "      padding: 0 0 0 0;\n",
       "      width: 32px;\n",
       "    }\n",
       "\n",
       "    .colab-df-convert:hover {\n",
       "      background-color: #E2EBFA;\n",
       "      box-shadow: 0px 1px 2px rgba(60, 64, 67, 0.3), 0px 1px 3px 1px rgba(60, 64, 67, 0.15);\n",
       "      fill: #174EA6;\n",
       "    }\n",
       "\n",
       "    [theme=dark] .colab-df-convert {\n",
       "      background-color: #3B4455;\n",
       "      fill: #D2E3FC;\n",
       "    }\n",
       "\n",
       "    [theme=dark] .colab-df-convert:hover {\n",
       "      background-color: #434B5C;\n",
       "      box-shadow: 0px 1px 3px 1px rgba(0, 0, 0, 0.15);\n",
       "      filter: drop-shadow(0px 1px 2px rgba(0, 0, 0, 0.3));\n",
       "      fill: #FFFFFF;\n",
       "    }\n",
       "  </style>\n",
       "\n",
       "      <script>\n",
       "        const buttonEl =\n",
       "          document.querySelector('#df-2955099e-8d53-4f4a-9576-ecbded29870c button.colab-df-convert');\n",
       "        buttonEl.style.display =\n",
       "          google.colab.kernel.accessAllowed ? 'block' : 'none';\n",
       "\n",
       "        async function convertToInteractive(key) {\n",
       "          const element = document.querySelector('#df-2955099e-8d53-4f4a-9576-ecbded29870c');\n",
       "          const dataTable =\n",
       "            await google.colab.kernel.invokeFunction('convertToInteractive',\n",
       "                                                     [key], {});\n",
       "          if (!dataTable) return;\n",
       "\n",
       "          const docLinkHtml = 'Like what you see? Visit the ' +\n",
       "            '<a target=\"_blank\" href=https://colab.research.google.com/notebooks/data_table.ipynb>data table notebook</a>'\n",
       "            + ' to learn more about interactive tables.';\n",
       "          element.innerHTML = '';\n",
       "          dataTable['output_type'] = 'display_data';\n",
       "          await google.colab.output.renderOutput(dataTable, element);\n",
       "          const docLink = document.createElement('div');\n",
       "          docLink.innerHTML = docLinkHtml;\n",
       "          element.appendChild(docLink);\n",
       "        }\n",
       "      </script>\n",
       "    </div>\n",
       "  </div>\n",
       "  "
      ],
      "text/plain": [
       "                     user  \\\n",
       "0     7701922487875823903   \n",
       "1     2539077412200498909   \n",
       "2     3286987355161301427   \n",
       "3     3187166762535343300   \n",
       "4     1118952406011435924   \n",
       "...                   ...   \n",
       "7529  5811573131275421338   \n",
       "7530  5365227480683749189   \n",
       "7531  6660805781687343085   \n",
       "7532  7823752606740475984   \n",
       "7533  3454683894921357834   \n",
       "\n",
       "                                                                                pattern  \n",
       "0     [MainScreenAppear, OffersScreenAppear, PaymentScreenSuccessful, CartScreenAppear]  \n",
       "1     [MainScreenAppear, OffersScreenAppear, PaymentScreenSuccessful, CartScreenAppear]  \n",
       "2     [MainScreenAppear, OffersScreenAppear, PaymentScreenSuccessful, CartScreenAppear]  \n",
       "3     [MainScreenAppear, OffersScreenAppear, PaymentScreenSuccessful, CartScreenAppear]  \n",
       "4     [MainScreenAppear, OffersScreenAppear, PaymentScreenSuccessful, CartScreenAppear]  \n",
       "...                                                                                 ...  \n",
       "7529  [MainScreenAppear, OffersScreenAppear, PaymentScreenSuccessful, CartScreenAppear]  \n",
       "7530  [MainScreenAppear, OffersScreenAppear, PaymentScreenSuccessful, CartScreenAppear]  \n",
       "7531  [MainScreenAppear, OffersScreenAppear, PaymentScreenSuccessful, CartScreenAppear]  \n",
       "7532  [MainScreenAppear, OffersScreenAppear, PaymentScreenSuccessful, CartScreenAppear]  \n",
       "7533  [MainScreenAppear, OffersScreenAppear, PaymentScreenSuccessful, CartScreenAppear]  \n",
       "\n",
       "[7534 rows x 2 columns]"
      ]
     },
     "execution_count": 60,
     "metadata": {},
     "output_type": "execute_result"
    }
   ],
   "source": [
    "patterns = pd.DataFrame(sequence_empty, columns=['user','pattern'])\n",
    "patterns"
   ]
  },
  {
   "cell_type": "code",
   "execution_count": null,
   "metadata": {
    "colab": {
     "base_uri": "https://localhost:8080/",
     "height": 175
    },
    "id": "xqW4YS3YShat",
    "outputId": "851451f2-0ce9-49f4-a3b6-938bd4355ed4"
   },
   "outputs": [
    {
     "data": {
      "text/html": [
       "\n",
       "  <div id=\"df-0af31332-d642-466c-ba40-6b1c752fa0d2\">\n",
       "    <div class=\"colab-df-container\">\n",
       "      <div>\n",
       "<style scoped>\n",
       "    .dataframe tbody tr th:only-of-type {\n",
       "        vertical-align: middle;\n",
       "    }\n",
       "\n",
       "    .dataframe tbody tr th {\n",
       "        vertical-align: top;\n",
       "    }\n",
       "\n",
       "    .dataframe thead th {\n",
       "        text-align: right;\n",
       "    }\n",
       "</style>\n",
       "<table border=\"1\" class=\"dataframe\">\n",
       "  <thead>\n",
       "    <tr style=\"text-align: right;\">\n",
       "      <th></th>\n",
       "      <th>pattern</th>\n",
       "    </tr>\n",
       "  </thead>\n",
       "  <tbody>\n",
       "    <tr>\n",
       "      <th>count</th>\n",
       "      <td>7534</td>\n",
       "    </tr>\n",
       "    <tr>\n",
       "      <th>unique</th>\n",
       "      <td>1</td>\n",
       "    </tr>\n",
       "    <tr>\n",
       "      <th>top</th>\n",
       "      <td>[MainScreenAppear, OffersScreenAppear, PaymentScreenSuccessful, CartScreenAppear]</td>\n",
       "    </tr>\n",
       "    <tr>\n",
       "      <th>freq</th>\n",
       "      <td>7534</td>\n",
       "    </tr>\n",
       "  </tbody>\n",
       "</table>\n",
       "</div>\n",
       "      <button class=\"colab-df-convert\" onclick=\"convertToInteractive('df-0af31332-d642-466c-ba40-6b1c752fa0d2')\"\n",
       "              title=\"Convert this dataframe to an interactive table.\"\n",
       "              style=\"display:none;\">\n",
       "        \n",
       "  <svg xmlns=\"http://www.w3.org/2000/svg\" height=\"24px\"viewBox=\"0 0 24 24\"\n",
       "       width=\"24px\">\n",
       "    <path d=\"M0 0h24v24H0V0z\" fill=\"none\"/>\n",
       "    <path d=\"M18.56 5.44l.94 2.06.94-2.06 2.06-.94-2.06-.94-.94-2.06-.94 2.06-2.06.94zm-11 1L8.5 8.5l.94-2.06 2.06-.94-2.06-.94L8.5 2.5l-.94 2.06-2.06.94zm10 10l.94 2.06.94-2.06 2.06-.94-2.06-.94-.94-2.06-.94 2.06-2.06.94z\"/><path d=\"M17.41 7.96l-1.37-1.37c-.4-.4-.92-.59-1.43-.59-.52 0-1.04.2-1.43.59L10.3 9.45l-7.72 7.72c-.78.78-.78 2.05 0 2.83L4 21.41c.39.39.9.59 1.41.59.51 0 1.02-.2 1.41-.59l7.78-7.78 2.81-2.81c.8-.78.8-2.07 0-2.86zM5.41 20L4 18.59l7.72-7.72 1.47 1.35L5.41 20z\"/>\n",
       "  </svg>\n",
       "      </button>\n",
       "      \n",
       "  <style>\n",
       "    .colab-df-container {\n",
       "      display:flex;\n",
       "      flex-wrap:wrap;\n",
       "      gap: 12px;\n",
       "    }\n",
       "\n",
       "    .colab-df-convert {\n",
       "      background-color: #E8F0FE;\n",
       "      border: none;\n",
       "      border-radius: 50%;\n",
       "      cursor: pointer;\n",
       "      display: none;\n",
       "      fill: #1967D2;\n",
       "      height: 32px;\n",
       "      padding: 0 0 0 0;\n",
       "      width: 32px;\n",
       "    }\n",
       "\n",
       "    .colab-df-convert:hover {\n",
       "      background-color: #E2EBFA;\n",
       "      box-shadow: 0px 1px 2px rgba(60, 64, 67, 0.3), 0px 1px 3px 1px rgba(60, 64, 67, 0.15);\n",
       "      fill: #174EA6;\n",
       "    }\n",
       "\n",
       "    [theme=dark] .colab-df-convert {\n",
       "      background-color: #3B4455;\n",
       "      fill: #D2E3FC;\n",
       "    }\n",
       "\n",
       "    [theme=dark] .colab-df-convert:hover {\n",
       "      background-color: #434B5C;\n",
       "      box-shadow: 0px 1px 3px 1px rgba(0, 0, 0, 0.15);\n",
       "      filter: drop-shadow(0px 1px 2px rgba(0, 0, 0, 0.3));\n",
       "      fill: #FFFFFF;\n",
       "    }\n",
       "  </style>\n",
       "\n",
       "      <script>\n",
       "        const buttonEl =\n",
       "          document.querySelector('#df-0af31332-d642-466c-ba40-6b1c752fa0d2 button.colab-df-convert');\n",
       "        buttonEl.style.display =\n",
       "          google.colab.kernel.accessAllowed ? 'block' : 'none';\n",
       "\n",
       "        async function convertToInteractive(key) {\n",
       "          const element = document.querySelector('#df-0af31332-d642-466c-ba40-6b1c752fa0d2');\n",
       "          const dataTable =\n",
       "            await google.colab.kernel.invokeFunction('convertToInteractive',\n",
       "                                                     [key], {});\n",
       "          if (!dataTable) return;\n",
       "\n",
       "          const docLinkHtml = 'Like what you see? Visit the ' +\n",
       "            '<a target=\"_blank\" href=https://colab.research.google.com/notebooks/data_table.ipynb>data table notebook</a>'\n",
       "            + ' to learn more about interactive tables.';\n",
       "          element.innerHTML = '';\n",
       "          dataTable['output_type'] = 'display_data';\n",
       "          await google.colab.output.renderOutput(dataTable, element);\n",
       "          const docLink = document.createElement('div');\n",
       "          docLink.innerHTML = docLinkHtml;\n",
       "          element.appendChild(docLink);\n",
       "        }\n",
       "      </script>\n",
       "    </div>\n",
       "  </div>\n",
       "  "
      ],
      "text/plain": [
       "                                                                                  pattern\n",
       "count   7534                                                                             \n",
       "unique  1                                                                                \n",
       "top     [MainScreenAppear, OffersScreenAppear, PaymentScreenSuccessful, CartScreenAppear]\n",
       "freq    7534                                                                             "
      ]
     },
     "execution_count": 61,
     "metadata": {},
     "output_type": "execute_result"
    }
   ],
   "source": [
    "patterns.describe(include='object')"
   ]
  },
  {
   "cell_type": "markdown",
   "metadata": {
    "id": "e2VCQBl4meh9"
   },
   "source": [
    "We need to relocate our users to a new dataframe and set a step by step sequence according to the pattern:\n",
    ">  `MainScreenAppear` -> `OffersScreenAppear` -> `CartScreenAppear` -> `PaymentScreenSuccessful`."
   ]
  },
  {
   "cell_type": "code",
   "execution_count": null,
   "metadata": {
    "colab": {
     "base_uri": "https://localhost:8080/",
     "height": 175
    },
    "id": "eC9GuZQml_Wf",
    "outputId": "613a1405-4acf-4768-be4b-f6f0ec8ee16f"
   },
   "outputs": [
    {
     "data": {
      "text/html": [
       "\n",
       "  <div id=\"df-15b65866-6b8c-486b-acd0-39854dd73f06\">\n",
       "    <div class=\"colab-df-container\">\n",
       "      <div>\n",
       "<style scoped>\n",
       "    .dataframe tbody tr th:only-of-type {\n",
       "        vertical-align: middle;\n",
       "    }\n",
       "\n",
       "    .dataframe tbody tr th {\n",
       "        vertical-align: top;\n",
       "    }\n",
       "\n",
       "    .dataframe thead th {\n",
       "        text-align: right;\n",
       "    }\n",
       "</style>\n",
       "<table border=\"1\" class=\"dataframe\">\n",
       "  <thead>\n",
       "    <tr style=\"text-align: right;\">\n",
       "      <th></th>\n",
       "      <th>step</th>\n",
       "      <th>n_users</th>\n",
       "      <th>shift_percent</th>\n",
       "      <th>percent_of_initial</th>\n",
       "    </tr>\n",
       "  </thead>\n",
       "  <tbody>\n",
       "    <tr>\n",
       "      <th>0</th>\n",
       "      <td>MainScreenAppear</td>\n",
       "      <td>NaN</td>\n",
       "      <td>NaN</td>\n",
       "      <td>NaN</td>\n",
       "    </tr>\n",
       "    <tr>\n",
       "      <th>1</th>\n",
       "      <td>OffersScreenAppear</td>\n",
       "      <td>NaN</td>\n",
       "      <td>NaN</td>\n",
       "      <td>NaN</td>\n",
       "    </tr>\n",
       "    <tr>\n",
       "      <th>2</th>\n",
       "      <td>CartScreenAppear</td>\n",
       "      <td>NaN</td>\n",
       "      <td>NaN</td>\n",
       "      <td>NaN</td>\n",
       "    </tr>\n",
       "    <tr>\n",
       "      <th>3</th>\n",
       "      <td>PaymentScreenSuccessful</td>\n",
       "      <td>NaN</td>\n",
       "      <td>NaN</td>\n",
       "      <td>NaN</td>\n",
       "    </tr>\n",
       "  </tbody>\n",
       "</table>\n",
       "</div>\n",
       "      <button class=\"colab-df-convert\" onclick=\"convertToInteractive('df-15b65866-6b8c-486b-acd0-39854dd73f06')\"\n",
       "              title=\"Convert this dataframe to an interactive table.\"\n",
       "              style=\"display:none;\">\n",
       "        \n",
       "  <svg xmlns=\"http://www.w3.org/2000/svg\" height=\"24px\"viewBox=\"0 0 24 24\"\n",
       "       width=\"24px\">\n",
       "    <path d=\"M0 0h24v24H0V0z\" fill=\"none\"/>\n",
       "    <path d=\"M18.56 5.44l.94 2.06.94-2.06 2.06-.94-2.06-.94-.94-2.06-.94 2.06-2.06.94zm-11 1L8.5 8.5l.94-2.06 2.06-.94-2.06-.94L8.5 2.5l-.94 2.06-2.06.94zm10 10l.94 2.06.94-2.06 2.06-.94-2.06-.94-.94-2.06-.94 2.06-2.06.94z\"/><path d=\"M17.41 7.96l-1.37-1.37c-.4-.4-.92-.59-1.43-.59-.52 0-1.04.2-1.43.59L10.3 9.45l-7.72 7.72c-.78.78-.78 2.05 0 2.83L4 21.41c.39.39.9.59 1.41.59.51 0 1.02-.2 1.41-.59l7.78-7.78 2.81-2.81c.8-.78.8-2.07 0-2.86zM5.41 20L4 18.59l7.72-7.72 1.47 1.35L5.41 20z\"/>\n",
       "  </svg>\n",
       "      </button>\n",
       "      \n",
       "  <style>\n",
       "    .colab-df-container {\n",
       "      display:flex;\n",
       "      flex-wrap:wrap;\n",
       "      gap: 12px;\n",
       "    }\n",
       "\n",
       "    .colab-df-convert {\n",
       "      background-color: #E8F0FE;\n",
       "      border: none;\n",
       "      border-radius: 50%;\n",
       "      cursor: pointer;\n",
       "      display: none;\n",
       "      fill: #1967D2;\n",
       "      height: 32px;\n",
       "      padding: 0 0 0 0;\n",
       "      width: 32px;\n",
       "    }\n",
       "\n",
       "    .colab-df-convert:hover {\n",
       "      background-color: #E2EBFA;\n",
       "      box-shadow: 0px 1px 2px rgba(60, 64, 67, 0.3), 0px 1px 3px 1px rgba(60, 64, 67, 0.15);\n",
       "      fill: #174EA6;\n",
       "    }\n",
       "\n",
       "    [theme=dark] .colab-df-convert {\n",
       "      background-color: #3B4455;\n",
       "      fill: #D2E3FC;\n",
       "    }\n",
       "\n",
       "    [theme=dark] .colab-df-convert:hover {\n",
       "      background-color: #434B5C;\n",
       "      box-shadow: 0px 1px 3px 1px rgba(0, 0, 0, 0.15);\n",
       "      filter: drop-shadow(0px 1px 2px rgba(0, 0, 0, 0.3));\n",
       "      fill: #FFFFFF;\n",
       "    }\n",
       "  </style>\n",
       "\n",
       "      <script>\n",
       "        const buttonEl =\n",
       "          document.querySelector('#df-15b65866-6b8c-486b-acd0-39854dd73f06 button.colab-df-convert');\n",
       "        buttonEl.style.display =\n",
       "          google.colab.kernel.accessAllowed ? 'block' : 'none';\n",
       "\n",
       "        async function convertToInteractive(key) {\n",
       "          const element = document.querySelector('#df-15b65866-6b8c-486b-acd0-39854dd73f06');\n",
       "          const dataTable =\n",
       "            await google.colab.kernel.invokeFunction('convertToInteractive',\n",
       "                                                     [key], {});\n",
       "          if (!dataTable) return;\n",
       "\n",
       "          const docLinkHtml = 'Like what you see? Visit the ' +\n",
       "            '<a target=\"_blank\" href=https://colab.research.google.com/notebooks/data_table.ipynb>data table notebook</a>'\n",
       "            + ' to learn more about interactive tables.';\n",
       "          element.innerHTML = '';\n",
       "          dataTable['output_type'] = 'display_data';\n",
       "          await google.colab.output.renderOutput(dataTable, element);\n",
       "          const docLink = document.createElement('div');\n",
       "          docLink.innerHTML = docLinkHtml;\n",
       "          element.appendChild(docLink);\n",
       "        }\n",
       "      </script>\n",
       "    </div>\n",
       "  </div>\n",
       "  "
      ],
      "text/plain": [
       "                      step n_users shift_percent percent_of_initial\n",
       "0  MainScreenAppear         NaN     NaN           NaN              \n",
       "1  OffersScreenAppear       NaN     NaN           NaN              \n",
       "2  CartScreenAppear         NaN     NaN           NaN              \n",
       "3  PaymentScreenSuccessful  NaN     NaN           NaN              "
      ]
     },
     "execution_count": 62,
     "metadata": {},
     "output_type": "execute_result"
    }
   ],
   "source": [
    "# Create an empty table where we will aggregate \n",
    "steps = pd.DataFrame(columns=['step', 'n_users', 'shift_percent', 'percent_of_initial'])\n",
    "steps['step'] = ['MainScreenAppear', 'OffersScreenAppear', 'CartScreenAppear', 'PaymentScreenSuccessful']\n",
    "steps"
   ]
  },
  {
   "cell_type": "code",
   "execution_count": null,
   "metadata": {
    "id": "-ITW6TIQnajU"
   },
   "outputs": [],
   "source": [
    "step_1 = sequence_users['MainScreenAppear'].notna() # find all rows that have values from the dataframe with minimum timestamp as a boolean mask\n",
    "step_2 = step_1 & (sequence_users['OffersScreenAppear'] > sequence_users['MainScreenAppear']) # add the users, whos' timestamp was later than on previous step\n",
    "step_3 = step_2 & (sequence_users['CartScreenAppear'] > sequence_users['OffersScreenAppear']) # repeat\n",
    "step_4 = step_3 & (sequence_users['PaymentScreenSuccessful'] > sequence_users['CartScreenAppear']) # repeat\n",
    "# Sum up the masks and apply them to the dataframe, save as the number of users\n",
    "steps['n_users']  = [len(sequence_users[step_1]), len(sequence_users[step_2]), len(sequence_users[step_3]), len(sequence_users[step_4])]"
   ]
  },
  {
   "cell_type": "code",
   "execution_count": null,
   "metadata": {
    "colab": {
     "base_uri": "https://localhost:8080/",
     "height": 175
    },
    "id": "tivalBtAngKP",
    "outputId": "dafcb3c9-65ca-47aa-86db-634be1666e26"
   },
   "outputs": [
    {
     "data": {
      "text/html": [
       "\n",
       "  <div id=\"df-78196807-4a8f-485e-8096-82b46da42130\">\n",
       "    <div class=\"colab-df-container\">\n",
       "      <div>\n",
       "<style scoped>\n",
       "    .dataframe tbody tr th:only-of-type {\n",
       "        vertical-align: middle;\n",
       "    }\n",
       "\n",
       "    .dataframe tbody tr th {\n",
       "        vertical-align: top;\n",
       "    }\n",
       "\n",
       "    .dataframe thead th {\n",
       "        text-align: right;\n",
       "    }\n",
       "</style>\n",
       "<table border=\"1\" class=\"dataframe\">\n",
       "  <thead>\n",
       "    <tr style=\"text-align: right;\">\n",
       "      <th></th>\n",
       "      <th>step</th>\n",
       "      <th>n_users</th>\n",
       "      <th>shift_percent</th>\n",
       "      <th>percent_of_initial</th>\n",
       "    </tr>\n",
       "  </thead>\n",
       "  <tbody>\n",
       "    <tr>\n",
       "      <th>0</th>\n",
       "      <td>MainScreenAppear</td>\n",
       "      <td>7423</td>\n",
       "      <td>NaN</td>\n",
       "      <td>NaN</td>\n",
       "    </tr>\n",
       "    <tr>\n",
       "      <th>1</th>\n",
       "      <td>OffersScreenAppear</td>\n",
       "      <td>4203</td>\n",
       "      <td>NaN</td>\n",
       "      <td>NaN</td>\n",
       "    </tr>\n",
       "    <tr>\n",
       "      <th>2</th>\n",
       "      <td>CartScreenAppear</td>\n",
       "      <td>1781</td>\n",
       "      <td>NaN</td>\n",
       "      <td>NaN</td>\n",
       "    </tr>\n",
       "    <tr>\n",
       "      <th>3</th>\n",
       "      <td>PaymentScreenSuccessful</td>\n",
       "      <td>458</td>\n",
       "      <td>NaN</td>\n",
       "      <td>NaN</td>\n",
       "    </tr>\n",
       "  </tbody>\n",
       "</table>\n",
       "</div>\n",
       "      <button class=\"colab-df-convert\" onclick=\"convertToInteractive('df-78196807-4a8f-485e-8096-82b46da42130')\"\n",
       "              title=\"Convert this dataframe to an interactive table.\"\n",
       "              style=\"display:none;\">\n",
       "        \n",
       "  <svg xmlns=\"http://www.w3.org/2000/svg\" height=\"24px\"viewBox=\"0 0 24 24\"\n",
       "       width=\"24px\">\n",
       "    <path d=\"M0 0h24v24H0V0z\" fill=\"none\"/>\n",
       "    <path d=\"M18.56 5.44l.94 2.06.94-2.06 2.06-.94-2.06-.94-.94-2.06-.94 2.06-2.06.94zm-11 1L8.5 8.5l.94-2.06 2.06-.94-2.06-.94L8.5 2.5l-.94 2.06-2.06.94zm10 10l.94 2.06.94-2.06 2.06-.94-2.06-.94-.94-2.06-.94 2.06-2.06.94z\"/><path d=\"M17.41 7.96l-1.37-1.37c-.4-.4-.92-.59-1.43-.59-.52 0-1.04.2-1.43.59L10.3 9.45l-7.72 7.72c-.78.78-.78 2.05 0 2.83L4 21.41c.39.39.9.59 1.41.59.51 0 1.02-.2 1.41-.59l7.78-7.78 2.81-2.81c.8-.78.8-2.07 0-2.86zM5.41 20L4 18.59l7.72-7.72 1.47 1.35L5.41 20z\"/>\n",
       "  </svg>\n",
       "      </button>\n",
       "      \n",
       "  <style>\n",
       "    .colab-df-container {\n",
       "      display:flex;\n",
       "      flex-wrap:wrap;\n",
       "      gap: 12px;\n",
       "    }\n",
       "\n",
       "    .colab-df-convert {\n",
       "      background-color: #E8F0FE;\n",
       "      border: none;\n",
       "      border-radius: 50%;\n",
       "      cursor: pointer;\n",
       "      display: none;\n",
       "      fill: #1967D2;\n",
       "      height: 32px;\n",
       "      padding: 0 0 0 0;\n",
       "      width: 32px;\n",
       "    }\n",
       "\n",
       "    .colab-df-convert:hover {\n",
       "      background-color: #E2EBFA;\n",
       "      box-shadow: 0px 1px 2px rgba(60, 64, 67, 0.3), 0px 1px 3px 1px rgba(60, 64, 67, 0.15);\n",
       "      fill: #174EA6;\n",
       "    }\n",
       "\n",
       "    [theme=dark] .colab-df-convert {\n",
       "      background-color: #3B4455;\n",
       "      fill: #D2E3FC;\n",
       "    }\n",
       "\n",
       "    [theme=dark] .colab-df-convert:hover {\n",
       "      background-color: #434B5C;\n",
       "      box-shadow: 0px 1px 3px 1px rgba(0, 0, 0, 0.15);\n",
       "      filter: drop-shadow(0px 1px 2px rgba(0, 0, 0, 0.3));\n",
       "      fill: #FFFFFF;\n",
       "    }\n",
       "  </style>\n",
       "\n",
       "      <script>\n",
       "        const buttonEl =\n",
       "          document.querySelector('#df-78196807-4a8f-485e-8096-82b46da42130 button.colab-df-convert');\n",
       "        buttonEl.style.display =\n",
       "          google.colab.kernel.accessAllowed ? 'block' : 'none';\n",
       "\n",
       "        async function convertToInteractive(key) {\n",
       "          const element = document.querySelector('#df-78196807-4a8f-485e-8096-82b46da42130');\n",
       "          const dataTable =\n",
       "            await google.colab.kernel.invokeFunction('convertToInteractive',\n",
       "                                                     [key], {});\n",
       "          if (!dataTable) return;\n",
       "\n",
       "          const docLinkHtml = 'Like what you see? Visit the ' +\n",
       "            '<a target=\"_blank\" href=https://colab.research.google.com/notebooks/data_table.ipynb>data table notebook</a>'\n",
       "            + ' to learn more about interactive tables.';\n",
       "          element.innerHTML = '';\n",
       "          dataTable['output_type'] = 'display_data';\n",
       "          await google.colab.output.renderOutput(dataTable, element);\n",
       "          const docLink = document.createElement('div');\n",
       "          docLink.innerHTML = docLinkHtml;\n",
       "          element.appendChild(docLink);\n",
       "        }\n",
       "      </script>\n",
       "    </div>\n",
       "  </div>\n",
       "  "
      ],
      "text/plain": [
       "                      step  n_users shift_percent percent_of_initial\n",
       "0  MainScreenAppear         7423     NaN           NaN              \n",
       "1  OffersScreenAppear       4203     NaN           NaN              \n",
       "2  CartScreenAppear         1781     NaN           NaN              \n",
       "3  PaymentScreenSuccessful  458      NaN           NaN              "
      ]
     },
     "execution_count": 64,
     "metadata": {},
     "output_type": "execute_result"
    }
   ],
   "source": [
    "steps"
   ]
  },
  {
   "cell_type": "code",
   "execution_count": null,
   "metadata": {
    "id": "uxafRhYRnixB"
   },
   "outputs": [],
   "source": [
    "steps['users_loss'] = steps['n_users'] - steps['n_users'].shift(1) # calculate the loss of users from each previous step\n",
    "steps['shift_percent'] = steps['n_users'] / steps['n_users'].shift(1) # calculate the share of users from each previous step\n",
    "steps.loc[0, ['shift_percent']] = 1 # establish the first event as 100% share\n",
    "steps['percent_of_initial'] = steps['n_users'] / steps.loc[0, ['n_users']][0] # calculate the share of users only from the initial event"
   ]
  },
  {
   "cell_type": "code",
   "execution_count": null,
   "metadata": {
    "colab": {
     "base_uri": "https://localhost:8080/",
     "height": 175
    },
    "id": "5ZQGNGaAnoP_",
    "outputId": "a2940413-e438-4430-d264-4b8e22d2cc7f"
   },
   "outputs": [
    {
     "data": {
      "text/html": [
       "\n",
       "  <div id=\"df-8d656510-31f6-4a50-8d0b-8bff18f876ae\">\n",
       "    <div class=\"colab-df-container\">\n",
       "      <div>\n",
       "<style scoped>\n",
       "    .dataframe tbody tr th:only-of-type {\n",
       "        vertical-align: middle;\n",
       "    }\n",
       "\n",
       "    .dataframe tbody tr th {\n",
       "        vertical-align: top;\n",
       "    }\n",
       "\n",
       "    .dataframe thead th {\n",
       "        text-align: right;\n",
       "    }\n",
       "</style>\n",
       "<table border=\"1\" class=\"dataframe\">\n",
       "  <thead>\n",
       "    <tr style=\"text-align: right;\">\n",
       "      <th></th>\n",
       "      <th>step</th>\n",
       "      <th>n_users</th>\n",
       "      <th>shift_percent</th>\n",
       "      <th>percent_of_initial</th>\n",
       "      <th>users_loss</th>\n",
       "    </tr>\n",
       "  </thead>\n",
       "  <tbody>\n",
       "    <tr>\n",
       "      <th>0</th>\n",
       "      <td>MainScreenAppear</td>\n",
       "      <td>7423</td>\n",
       "      <td>1.00</td>\n",
       "      <td>1.00</td>\n",
       "      <td>NaN</td>\n",
       "    </tr>\n",
       "    <tr>\n",
       "      <th>1</th>\n",
       "      <td>OffersScreenAppear</td>\n",
       "      <td>4203</td>\n",
       "      <td>0.57</td>\n",
       "      <td>0.57</td>\n",
       "      <td>-3220.00</td>\n",
       "    </tr>\n",
       "    <tr>\n",
       "      <th>2</th>\n",
       "      <td>CartScreenAppear</td>\n",
       "      <td>1781</td>\n",
       "      <td>0.42</td>\n",
       "      <td>0.24</td>\n",
       "      <td>-2422.00</td>\n",
       "    </tr>\n",
       "    <tr>\n",
       "      <th>3</th>\n",
       "      <td>PaymentScreenSuccessful</td>\n",
       "      <td>458</td>\n",
       "      <td>0.26</td>\n",
       "      <td>0.06</td>\n",
       "      <td>-1323.00</td>\n",
       "    </tr>\n",
       "  </tbody>\n",
       "</table>\n",
       "</div>\n",
       "      <button class=\"colab-df-convert\" onclick=\"convertToInteractive('df-8d656510-31f6-4a50-8d0b-8bff18f876ae')\"\n",
       "              title=\"Convert this dataframe to an interactive table.\"\n",
       "              style=\"display:none;\">\n",
       "        \n",
       "  <svg xmlns=\"http://www.w3.org/2000/svg\" height=\"24px\"viewBox=\"0 0 24 24\"\n",
       "       width=\"24px\">\n",
       "    <path d=\"M0 0h24v24H0V0z\" fill=\"none\"/>\n",
       "    <path d=\"M18.56 5.44l.94 2.06.94-2.06 2.06-.94-2.06-.94-.94-2.06-.94 2.06-2.06.94zm-11 1L8.5 8.5l.94-2.06 2.06-.94-2.06-.94L8.5 2.5l-.94 2.06-2.06.94zm10 10l.94 2.06.94-2.06 2.06-.94-2.06-.94-.94-2.06-.94 2.06-2.06.94z\"/><path d=\"M17.41 7.96l-1.37-1.37c-.4-.4-.92-.59-1.43-.59-.52 0-1.04.2-1.43.59L10.3 9.45l-7.72 7.72c-.78.78-.78 2.05 0 2.83L4 21.41c.39.39.9.59 1.41.59.51 0 1.02-.2 1.41-.59l7.78-7.78 2.81-2.81c.8-.78.8-2.07 0-2.86zM5.41 20L4 18.59l7.72-7.72 1.47 1.35L5.41 20z\"/>\n",
       "  </svg>\n",
       "      </button>\n",
       "      \n",
       "  <style>\n",
       "    .colab-df-container {\n",
       "      display:flex;\n",
       "      flex-wrap:wrap;\n",
       "      gap: 12px;\n",
       "    }\n",
       "\n",
       "    .colab-df-convert {\n",
       "      background-color: #E8F0FE;\n",
       "      border: none;\n",
       "      border-radius: 50%;\n",
       "      cursor: pointer;\n",
       "      display: none;\n",
       "      fill: #1967D2;\n",
       "      height: 32px;\n",
       "      padding: 0 0 0 0;\n",
       "      width: 32px;\n",
       "    }\n",
       "\n",
       "    .colab-df-convert:hover {\n",
       "      background-color: #E2EBFA;\n",
       "      box-shadow: 0px 1px 2px rgba(60, 64, 67, 0.3), 0px 1px 3px 1px rgba(60, 64, 67, 0.15);\n",
       "      fill: #174EA6;\n",
       "    }\n",
       "\n",
       "    [theme=dark] .colab-df-convert {\n",
       "      background-color: #3B4455;\n",
       "      fill: #D2E3FC;\n",
       "    }\n",
       "\n",
       "    [theme=dark] .colab-df-convert:hover {\n",
       "      background-color: #434B5C;\n",
       "      box-shadow: 0px 1px 3px 1px rgba(0, 0, 0, 0.15);\n",
       "      filter: drop-shadow(0px 1px 2px rgba(0, 0, 0, 0.3));\n",
       "      fill: #FFFFFF;\n",
       "    }\n",
       "  </style>\n",
       "\n",
       "      <script>\n",
       "        const buttonEl =\n",
       "          document.querySelector('#df-8d656510-31f6-4a50-8d0b-8bff18f876ae button.colab-df-convert');\n",
       "        buttonEl.style.display =\n",
       "          google.colab.kernel.accessAllowed ? 'block' : 'none';\n",
       "\n",
       "        async function convertToInteractive(key) {\n",
       "          const element = document.querySelector('#df-8d656510-31f6-4a50-8d0b-8bff18f876ae');\n",
       "          const dataTable =\n",
       "            await google.colab.kernel.invokeFunction('convertToInteractive',\n",
       "                                                     [key], {});\n",
       "          if (!dataTable) return;\n",
       "\n",
       "          const docLinkHtml = 'Like what you see? Visit the ' +\n",
       "            '<a target=\"_blank\" href=https://colab.research.google.com/notebooks/data_table.ipynb>data table notebook</a>'\n",
       "            + ' to learn more about interactive tables.';\n",
       "          element.innerHTML = '';\n",
       "          dataTable['output_type'] = 'display_data';\n",
       "          await google.colab.output.renderOutput(dataTable, element);\n",
       "          const docLink = document.createElement('div');\n",
       "          docLink.innerHTML = docLinkHtml;\n",
       "          element.appendChild(docLink);\n",
       "        }\n",
       "      </script>\n",
       "    </div>\n",
       "  </div>\n",
       "  "
      ],
      "text/plain": [
       "                      step  n_users  shift_percent  percent_of_initial  \\\n",
       "0  MainScreenAppear         7423    1.00           1.00                  \n",
       "1  OffersScreenAppear       4203    0.57           0.57                  \n",
       "2  CartScreenAppear         1781    0.42           0.24                  \n",
       "3  PaymentScreenSuccessful  458     0.26           0.06                  \n",
       "\n",
       "   users_loss  \n",
       "0 NaN          \n",
       "1 -3220.00     \n",
       "2 -2422.00     \n",
       "3 -1323.00     "
      ]
     },
     "execution_count": 66,
     "metadata": {},
     "output_type": "execute_result"
    }
   ],
   "source": [
    "steps"
   ]
  },
  {
   "cell_type": "code",
   "execution_count": null,
   "metadata": {
    "colab": {
     "base_uri": "https://localhost:8080/",
     "height": 317
    },
    "id": "BAtEMVApnpzf",
    "outputId": "43354a4b-2780-442e-b142-6fc74bf54206"
   },
   "outputs": [
    {
     "data": {
      "text/html": [
       "<html>\n",
       "<head><meta charset=\"utf-8\" /></head>\n",
       "<body>\n",
       "    <div>            <script src=\"https://cdnjs.cloudflare.com/ajax/libs/mathjax/2.7.5/MathJax.js?config=TeX-AMS-MML_SVG\"></script><script type=\"text/javascript\">if (window.MathJax) {MathJax.Hub.Config({SVG: {font: \"STIX-Web\"}});}</script>                <script type=\"text/javascript\">window.PlotlyConfig = {MathJaxConfig: 'local'};</script>\n",
       "        <script src=\"https://cdn.plot.ly/plotly-2.8.3.min.js\"></script>                <div id=\"ea5f2a22-a534-47b9-9bec-162a630674e5\" class=\"plotly-graph-div\" style=\"height:300px; width:900px;\"></div>            <script type=\"text/javascript\">                                    window.PLOTLYENV=window.PLOTLYENV || {};                                    if (document.getElementById(\"ea5f2a22-a534-47b9-9bec-162a630674e5\")) {                    Plotly.newPlot(                        \"ea5f2a22-a534-47b9-9bec-162a630674e5\",                        [{\"marker\":{\"color\":\"silver\"},\"opacity\":0.65,\"textinfo\":\"value+percent initial\",\"x\":[7423,4203,1781,458],\"y\":[\"MainScreenAppear\",\"OffersScreenAppear\",\"CartScreenAppear\",\"PaymentScreenSuccessful\"],\"type\":\"funnel\"}],                        {\"template\":{\"data\":{\"bar\":[{\"error_x\":{\"color\":\"#2a3f5f\"},\"error_y\":{\"color\":\"#2a3f5f\"},\"marker\":{\"line\":{\"color\":\"#E5ECF6\",\"width\":0.5},\"pattern\":{\"fillmode\":\"overlay\",\"size\":10,\"solidity\":0.2}},\"type\":\"bar\"}],\"barpolar\":[{\"marker\":{\"line\":{\"color\":\"#E5ECF6\",\"width\":0.5},\"pattern\":{\"fillmode\":\"overlay\",\"size\":10,\"solidity\":0.2}},\"type\":\"barpolar\"}],\"carpet\":[{\"aaxis\":{\"endlinecolor\":\"#2a3f5f\",\"gridcolor\":\"white\",\"linecolor\":\"white\",\"minorgridcolor\":\"white\",\"startlinecolor\":\"#2a3f5f\"},\"baxis\":{\"endlinecolor\":\"#2a3f5f\",\"gridcolor\":\"white\",\"linecolor\":\"white\",\"minorgridcolor\":\"white\",\"startlinecolor\":\"#2a3f5f\"},\"type\":\"carpet\"}],\"choropleth\":[{\"colorbar\":{\"outlinewidth\":0,\"ticks\":\"\"},\"type\":\"choropleth\"}],\"contour\":[{\"colorbar\":{\"outlinewidth\":0,\"ticks\":\"\"},\"colorscale\":[[0.0,\"#0d0887\"],[0.1111111111111111,\"#46039f\"],[0.2222222222222222,\"#7201a8\"],[0.3333333333333333,\"#9c179e\"],[0.4444444444444444,\"#bd3786\"],[0.5555555555555556,\"#d8576b\"],[0.6666666666666666,\"#ed7953\"],[0.7777777777777778,\"#fb9f3a\"],[0.8888888888888888,\"#fdca26\"],[1.0,\"#f0f921\"]],\"type\":\"contour\"}],\"contourcarpet\":[{\"colorbar\":{\"outlinewidth\":0,\"ticks\":\"\"},\"type\":\"contourcarpet\"}],\"heatmap\":[{\"colorbar\":{\"outlinewidth\":0,\"ticks\":\"\"},\"colorscale\":[[0.0,\"#0d0887\"],[0.1111111111111111,\"#46039f\"],[0.2222222222222222,\"#7201a8\"],[0.3333333333333333,\"#9c179e\"],[0.4444444444444444,\"#bd3786\"],[0.5555555555555556,\"#d8576b\"],[0.6666666666666666,\"#ed7953\"],[0.7777777777777778,\"#fb9f3a\"],[0.8888888888888888,\"#fdca26\"],[1.0,\"#f0f921\"]],\"type\":\"heatmap\"}],\"heatmapgl\":[{\"colorbar\":{\"outlinewidth\":0,\"ticks\":\"\"},\"colorscale\":[[0.0,\"#0d0887\"],[0.1111111111111111,\"#46039f\"],[0.2222222222222222,\"#7201a8\"],[0.3333333333333333,\"#9c179e\"],[0.4444444444444444,\"#bd3786\"],[0.5555555555555556,\"#d8576b\"],[0.6666666666666666,\"#ed7953\"],[0.7777777777777778,\"#fb9f3a\"],[0.8888888888888888,\"#fdca26\"],[1.0,\"#f0f921\"]],\"type\":\"heatmapgl\"}],\"histogram\":[{\"marker\":{\"pattern\":{\"fillmode\":\"overlay\",\"size\":10,\"solidity\":0.2}},\"type\":\"histogram\"}],\"histogram2d\":[{\"colorbar\":{\"outlinewidth\":0,\"ticks\":\"\"},\"colorscale\":[[0.0,\"#0d0887\"],[0.1111111111111111,\"#46039f\"],[0.2222222222222222,\"#7201a8\"],[0.3333333333333333,\"#9c179e\"],[0.4444444444444444,\"#bd3786\"],[0.5555555555555556,\"#d8576b\"],[0.6666666666666666,\"#ed7953\"],[0.7777777777777778,\"#fb9f3a\"],[0.8888888888888888,\"#fdca26\"],[1.0,\"#f0f921\"]],\"type\":\"histogram2d\"}],\"histogram2dcontour\":[{\"colorbar\":{\"outlinewidth\":0,\"ticks\":\"\"},\"colorscale\":[[0.0,\"#0d0887\"],[0.1111111111111111,\"#46039f\"],[0.2222222222222222,\"#7201a8\"],[0.3333333333333333,\"#9c179e\"],[0.4444444444444444,\"#bd3786\"],[0.5555555555555556,\"#d8576b\"],[0.6666666666666666,\"#ed7953\"],[0.7777777777777778,\"#fb9f3a\"],[0.8888888888888888,\"#fdca26\"],[1.0,\"#f0f921\"]],\"type\":\"histogram2dcontour\"}],\"mesh3d\":[{\"colorbar\":{\"outlinewidth\":0,\"ticks\":\"\"},\"type\":\"mesh3d\"}],\"parcoords\":[{\"line\":{\"colorbar\":{\"outlinewidth\":0,\"ticks\":\"\"}},\"type\":\"parcoords\"}],\"pie\":[{\"automargin\":true,\"type\":\"pie\"}],\"scatter\":[{\"marker\":{\"colorbar\":{\"outlinewidth\":0,\"ticks\":\"\"}},\"type\":\"scatter\"}],\"scatter3d\":[{\"line\":{\"colorbar\":{\"outlinewidth\":0,\"ticks\":\"\"}},\"marker\":{\"colorbar\":{\"outlinewidth\":0,\"ticks\":\"\"}},\"type\":\"scatter3d\"}],\"scattercarpet\":[{\"marker\":{\"colorbar\":{\"outlinewidth\":0,\"ticks\":\"\"}},\"type\":\"scattercarpet\"}],\"scattergeo\":[{\"marker\":{\"colorbar\":{\"outlinewidth\":0,\"ticks\":\"\"}},\"type\":\"scattergeo\"}],\"scattergl\":[{\"marker\":{\"colorbar\":{\"outlinewidth\":0,\"ticks\":\"\"}},\"type\":\"scattergl\"}],\"scattermapbox\":[{\"marker\":{\"colorbar\":{\"outlinewidth\":0,\"ticks\":\"\"}},\"type\":\"scattermapbox\"}],\"scatterpolar\":[{\"marker\":{\"colorbar\":{\"outlinewidth\":0,\"ticks\":\"\"}},\"type\":\"scatterpolar\"}],\"scatterpolargl\":[{\"marker\":{\"colorbar\":{\"outlinewidth\":0,\"ticks\":\"\"}},\"type\":\"scatterpolargl\"}],\"scatterternary\":[{\"marker\":{\"colorbar\":{\"outlinewidth\":0,\"ticks\":\"\"}},\"type\":\"scatterternary\"}],\"surface\":[{\"colorbar\":{\"outlinewidth\":0,\"ticks\":\"\"},\"colorscale\":[[0.0,\"#0d0887\"],[0.1111111111111111,\"#46039f\"],[0.2222222222222222,\"#7201a8\"],[0.3333333333333333,\"#9c179e\"],[0.4444444444444444,\"#bd3786\"],[0.5555555555555556,\"#d8576b\"],[0.6666666666666666,\"#ed7953\"],[0.7777777777777778,\"#fb9f3a\"],[0.8888888888888888,\"#fdca26\"],[1.0,\"#f0f921\"]],\"type\":\"surface\"}],\"table\":[{\"cells\":{\"fill\":{\"color\":\"#EBF0F8\"},\"line\":{\"color\":\"white\"}},\"header\":{\"fill\":{\"color\":\"#C8D4E3\"},\"line\":{\"color\":\"white\"}},\"type\":\"table\"}]},\"layout\":{\"annotationdefaults\":{\"arrowcolor\":\"#2a3f5f\",\"arrowhead\":0,\"arrowwidth\":1},\"autotypenumbers\":\"strict\",\"coloraxis\":{\"colorbar\":{\"outlinewidth\":0,\"ticks\":\"\"}},\"colorscale\":{\"diverging\":[[0,\"#8e0152\"],[0.1,\"#c51b7d\"],[0.2,\"#de77ae\"],[0.3,\"#f1b6da\"],[0.4,\"#fde0ef\"],[0.5,\"#f7f7f7\"],[0.6,\"#e6f5d0\"],[0.7,\"#b8e186\"],[0.8,\"#7fbc41\"],[0.9,\"#4d9221\"],[1,\"#276419\"]],\"sequential\":[[0.0,\"#0d0887\"],[0.1111111111111111,\"#46039f\"],[0.2222222222222222,\"#7201a8\"],[0.3333333333333333,\"#9c179e\"],[0.4444444444444444,\"#bd3786\"],[0.5555555555555556,\"#d8576b\"],[0.6666666666666666,\"#ed7953\"],[0.7777777777777778,\"#fb9f3a\"],[0.8888888888888888,\"#fdca26\"],[1.0,\"#f0f921\"]],\"sequentialminus\":[[0.0,\"#0d0887\"],[0.1111111111111111,\"#46039f\"],[0.2222222222222222,\"#7201a8\"],[0.3333333333333333,\"#9c179e\"],[0.4444444444444444,\"#bd3786\"],[0.5555555555555556,\"#d8576b\"],[0.6666666666666666,\"#ed7953\"],[0.7777777777777778,\"#fb9f3a\"],[0.8888888888888888,\"#fdca26\"],[1.0,\"#f0f921\"]]},\"colorway\":[\"#636efa\",\"#EF553B\",\"#00cc96\",\"#ab63fa\",\"#FFA15A\",\"#19d3f3\",\"#FF6692\",\"#B6E880\",\"#FF97FF\",\"#FECB52\"],\"font\":{\"color\":\"#2a3f5f\"},\"geo\":{\"bgcolor\":\"white\",\"lakecolor\":\"white\",\"landcolor\":\"#E5ECF6\",\"showlakes\":true,\"showland\":true,\"subunitcolor\":\"white\"},\"hoverlabel\":{\"align\":\"left\"},\"hovermode\":\"closest\",\"mapbox\":{\"style\":\"light\"},\"paper_bgcolor\":\"white\",\"plot_bgcolor\":\"#E5ECF6\",\"polar\":{\"angularaxis\":{\"gridcolor\":\"white\",\"linecolor\":\"white\",\"ticks\":\"\"},\"bgcolor\":\"#E5ECF6\",\"radialaxis\":{\"gridcolor\":\"white\",\"linecolor\":\"white\",\"ticks\":\"\"}},\"scene\":{\"xaxis\":{\"backgroundcolor\":\"#E5ECF6\",\"gridcolor\":\"white\",\"gridwidth\":2,\"linecolor\":\"white\",\"showbackground\":true,\"ticks\":\"\",\"zerolinecolor\":\"white\"},\"yaxis\":{\"backgroundcolor\":\"#E5ECF6\",\"gridcolor\":\"white\",\"gridwidth\":2,\"linecolor\":\"white\",\"showbackground\":true,\"ticks\":\"\",\"zerolinecolor\":\"white\"},\"zaxis\":{\"backgroundcolor\":\"#E5ECF6\",\"gridcolor\":\"white\",\"gridwidth\":2,\"linecolor\":\"white\",\"showbackground\":true,\"ticks\":\"\",\"zerolinecolor\":\"white\"}},\"shapedefaults\":{\"line\":{\"color\":\"#2a3f5f\"}},\"ternary\":{\"aaxis\":{\"gridcolor\":\"white\",\"linecolor\":\"white\",\"ticks\":\"\"},\"baxis\":{\"gridcolor\":\"white\",\"linecolor\":\"white\",\"ticks\":\"\"},\"bgcolor\":\"#E5ECF6\",\"caxis\":{\"gridcolor\":\"white\",\"linecolor\":\"white\",\"ticks\":\"\"}},\"title\":{\"x\":0.05},\"xaxis\":{\"automargin\":true,\"gridcolor\":\"white\",\"linecolor\":\"white\",\"ticks\":\"\",\"title\":{\"standoff\":15},\"zerolinecolor\":\"white\",\"zerolinewidth\":2},\"yaxis\":{\"automargin\":true,\"gridcolor\":\"white\",\"linecolor\":\"white\",\"ticks\":\"\",\"title\":{\"standoff\":15},\"zerolinecolor\":\"white\",\"zerolinewidth\":2}}},\"autosize\":false,\"width\":900,\"height\":300,\"margin\":{\"b\":0,\"l\":50,\"pad\":4,\"r\":50,\"t\":50},\"title\":{\"text\":\"Sequential event funnel\",\"x\":0.6}},                        {\"responsive\": true}                    ).then(function(){\n",
       "                            \n",
       "var gd = document.getElementById('ea5f2a22-a534-47b9-9bec-162a630674e5');\n",
       "var x = new MutationObserver(function (mutations, observer) {{\n",
       "        var display = window.getComputedStyle(gd).display;\n",
       "        if (!display || display === 'none') {{\n",
       "            console.log([gd, 'removed!']);\n",
       "            Plotly.purge(gd);\n",
       "            observer.disconnect();\n",
       "        }}\n",
       "}});\n",
       "\n",
       "// Listen for the removal of the full notebook cells\n",
       "var notebookContainer = gd.closest('#notebook-container');\n",
       "if (notebookContainer) {{\n",
       "    x.observe(notebookContainer, {childList: true});\n",
       "}}\n",
       "\n",
       "// Listen for the clearing of the current output cell\n",
       "var outputEl = gd.closest('.output');\n",
       "if (outputEl) {{\n",
       "    x.observe(outputEl, {childList: true});\n",
       "}}\n",
       "\n",
       "                        })                };                            </script>        </div>\n",
       "</body>\n",
       "</html>"
      ]
     },
     "metadata": {},
     "output_type": "display_data"
    }
   ],
   "source": [
    "fig = go.Figure(go.Funnel(y=steps['step'], x=steps['n_users'], textinfo = \"value+percent initial\",\n",
    "    opacity = 0.65, marker = {\"color\": \"silver\"}))\n",
    "fig.update_layout(autosize=False, width=900, height=300, \n",
    "                  margin=go.layout.Margin(l=50, r=50, b=0, t=50, pad=4))\n",
    "\n",
    "fig.update_layout(title='Sequential event funnel', title_x=0.6)\n",
    "fig.show()"
   ]
  },
  {
   "cell_type": "markdown",
   "metadata": {
    "id": "Zph6pjuROjP9"
   },
   "source": [
    "Out of **100%** of users that saw the **main screen**:\n",
    " * **57%** get to the **offer** screen,\n",
    " * **24%** get to the **cart**\n",
    " * and only **6%** make it to the **payment** screen"
   ]
  },
  {
   "cell_type": "markdown",
   "metadata": {
    "id": "B1nRs4u6T2oL"
   },
   "source": [
    "**Inremediate conclusion**\n",
    "\n",
    "---\n",
    "\n",
    "\n",
    "\n",
    "We analyzed the funnel of events we concidered the sequence that describes the interaction between the user and the application in the best logical way:\n",
    "1. Appearance of the main screen (MainScreenAppear)\n",
    "1. The appearance of the screen with the offer of goods (OffersScreenAppear)\n",
    "1. The appearance of the screen with the basket (CartScreenAppear)\n",
    "1. The appearance of the successful payment screen (PaymentScreenSuccessful)\n",
    "1. The least popular event - the opening of the tutorial (Tutorial) - was not included in the funnel due to its optionality.\n",
    "\n",
    "An analysis of the funnel of events showed:\n",
    "\n",
    "- **2%** of users get into the application having missed the main screen,\n",
    "\n",
    "- **11%** of users use the tutorial\n",
    "- the least users loss was observed in between steps `MainScreenAppear` and `OfferScreenAppear`, where **38%** of the users didn't follow the next step.\n",
    "- the percentage of users that made the purchase in relation to the number of users who saw the main screen, was almost 2 times less;\n",
    "- taking into account the sequence of events, about half of users follow to each next step (**57%** from the first step, **42%** from the second to the third step), however when following to the last step, only a quarter of those who added something to the cart successfully made the purchase\n",
    "- taking into account the sequence of events, only **6%** of users reach to the step of making the purchase and completing the entire chain of steps.\n",
    "\n"
   ]
  },
  {
   "cell_type": "markdown",
   "metadata": {
    "id": "ZhuLoWi-sKo9"
   },
   "source": [
    "##  Step 5. Study the results of the experiment\n",
    "\n",
    "\n",
    "---\n",
    "\n",
    "\n",
    "\n"
   ]
  },
  {
   "cell_type": "markdown",
   "metadata": {
    "id": "5X4AjV21QQMF"
   },
   "source": [
    "# A/A test"
   ]
  },
  {
   "cell_type": "markdown",
   "metadata": {
    "id": "Gh1ZDxCuzChp"
   },
   "source": [
    "The main goal of an A/A test is to show whether the results of an experiment that will be run under the same conditions, but with different page variations (change of font in our case), *can be trusted*. If during the A/A test it was not possible to identify the winner, we can run our A/B test. Otherwise, we will have to check the settings of the service and the homogeneity of the sample. Thus, an A/A test provides benchmark data to check the accuracy of an A/B test."
   ]
  },
  {
   "cell_type": "code",
   "execution_count": null,
   "metadata": {
    "colab": {
     "base_uri": "https://localhost:8080/"
    },
    "id": "mawo23vtnwFe",
    "outputId": "7a6a0f90-ea73-4cd3-d903-05946ba313ac"
   },
   "outputs": [
    {
     "data": {
      "text/plain": [
       "group\n",
       "A1    2483\n",
       "A2    2516\n",
       "B     2535\n",
       "Name: uid, dtype: int64"
      ]
     },
     "execution_count": 68,
     "metadata": {},
     "output_type": "execute_result"
    }
   ],
   "source": [
    "groups = df.groupby(['group'])['uid'].nunique()\n",
    "groups"
   ]
  },
  {
   "cell_type": "code",
   "execution_count": null,
   "metadata": {
    "colab": {
     "base_uri": "https://localhost:8080/"
    },
    "id": "VKf7l3QtwKcN",
    "outputId": "fcecc751-e98a-4b35-be6d-09f01c01a204"
   },
   "outputs": [
    {
     "name": "stdout",
     "output_type": "stream",
     "text": [
      "The relative difference of the two control groups is 1.3% users\n",
      "The absolute difference of the two control groups is 33 users\n"
     ]
    }
   ],
   "source": [
    "print('The relative difference of the two control groups is {:.1%} users'.format(abs(groups['A2'] / groups['A1']) - 1))\n",
    "print('The absolute difference of the two control groups is {:.0f} users'.format(abs(groups['A2'] - groups['A1'])))"
   ]
  },
  {
   "cell_type": "markdown",
   "metadata": {
    "id": "9qoohuex631H"
   },
   "source": [
    "It visually seems that the differnce is not significant in the amount of users in the 3 groups. We need to test the hypothesys that the groups' proportions are the same. Lets' brake down the number of users by date."
   ]
  },
  {
   "cell_type": "code",
   "execution_count": null,
   "metadata": {
    "id": "6lWh_Aqi6o-3"
   },
   "outputs": [],
   "source": [
    "# Create an empty dataframe\n",
    "groups_by_days = pd.DataFrame()\n",
    "# Take the group name from groups df indexes and for each one \n",
    "# cumulate their amount from the original df \n",
    "# grouped by dates\n",
    "for group in groups.index:\n",
    "    groups_by_days[group] = df[df['group'] == group].groupby(['date'])['uid'].nunique()"
   ]
  },
  {
   "cell_type": "code",
   "execution_count": null,
   "metadata": {
    "colab": {
     "base_uri": "https://localhost:8080/",
     "height": 332
    },
    "id": "RPuRlgex6nnh",
    "outputId": "232b2776-c550-40f4-b45b-07698ac6d94c"
   },
   "outputs": [
    {
     "data": {
      "text/html": [
       "\n",
       "  <div id=\"df-a3072b80-9879-48d2-b6a4-27cb29855a09\">\n",
       "    <div class=\"colab-df-container\">\n",
       "      <div>\n",
       "<style scoped>\n",
       "    .dataframe tbody tr th:only-of-type {\n",
       "        vertical-align: middle;\n",
       "    }\n",
       "\n",
       "    .dataframe tbody tr th {\n",
       "        vertical-align: top;\n",
       "    }\n",
       "\n",
       "    .dataframe thead th {\n",
       "        text-align: right;\n",
       "    }\n",
       "</style>\n",
       "<table border=\"1\" class=\"dataframe\">\n",
       "  <thead>\n",
       "    <tr style=\"text-align: right;\">\n",
       "      <th></th>\n",
       "      <th>A1</th>\n",
       "      <th>A2</th>\n",
       "      <th>B</th>\n",
       "    </tr>\n",
       "    <tr>\n",
       "      <th>date</th>\n",
       "      <th></th>\n",
       "      <th></th>\n",
       "      <th></th>\n",
       "    </tr>\n",
       "  </thead>\n",
       "  <tbody>\n",
       "    <tr>\n",
       "      <th>2019-07-31</th>\n",
       "      <td>48</td>\n",
       "      <td>52</td>\n",
       "      <td>58</td>\n",
       "    </tr>\n",
       "    <tr>\n",
       "      <th>2019-08-01</th>\n",
       "      <td>1191</td>\n",
       "      <td>1282</td>\n",
       "      <td>1228</td>\n",
       "    </tr>\n",
       "    <tr>\n",
       "      <th>2019-08-02</th>\n",
       "      <td>1197</td>\n",
       "      <td>1220</td>\n",
       "      <td>1228</td>\n",
       "    </tr>\n",
       "    <tr>\n",
       "      <th>2019-08-03</th>\n",
       "      <td>1140</td>\n",
       "      <td>1174</td>\n",
       "      <td>1166</td>\n",
       "    </tr>\n",
       "    <tr>\n",
       "      <th>2019-08-04</th>\n",
       "      <td>1170</td>\n",
       "      <td>1169</td>\n",
       "      <td>1188</td>\n",
       "    </tr>\n",
       "    <tr>\n",
       "      <th>2019-08-05</th>\n",
       "      <td>1269</td>\n",
       "      <td>1263</td>\n",
       "      <td>1269</td>\n",
       "    </tr>\n",
       "    <tr>\n",
       "      <th>2019-08-06</th>\n",
       "      <td>1269</td>\n",
       "      <td>1320</td>\n",
       "      <td>1331</td>\n",
       "    </tr>\n",
       "    <tr>\n",
       "      <th>2019-08-07</th>\n",
       "      <td>1198</td>\n",
       "      <td>1212</td>\n",
       "      <td>1241</td>\n",
       "    </tr>\n",
       "  </tbody>\n",
       "</table>\n",
       "</div>\n",
       "      <button class=\"colab-df-convert\" onclick=\"convertToInteractive('df-a3072b80-9879-48d2-b6a4-27cb29855a09')\"\n",
       "              title=\"Convert this dataframe to an interactive table.\"\n",
       "              style=\"display:none;\">\n",
       "        \n",
       "  <svg xmlns=\"http://www.w3.org/2000/svg\" height=\"24px\"viewBox=\"0 0 24 24\"\n",
       "       width=\"24px\">\n",
       "    <path d=\"M0 0h24v24H0V0z\" fill=\"none\"/>\n",
       "    <path d=\"M18.56 5.44l.94 2.06.94-2.06 2.06-.94-2.06-.94-.94-2.06-.94 2.06-2.06.94zm-11 1L8.5 8.5l.94-2.06 2.06-.94-2.06-.94L8.5 2.5l-.94 2.06-2.06.94zm10 10l.94 2.06.94-2.06 2.06-.94-2.06-.94-.94-2.06-.94 2.06-2.06.94z\"/><path d=\"M17.41 7.96l-1.37-1.37c-.4-.4-.92-.59-1.43-.59-.52 0-1.04.2-1.43.59L10.3 9.45l-7.72 7.72c-.78.78-.78 2.05 0 2.83L4 21.41c.39.39.9.59 1.41.59.51 0 1.02-.2 1.41-.59l7.78-7.78 2.81-2.81c.8-.78.8-2.07 0-2.86zM5.41 20L4 18.59l7.72-7.72 1.47 1.35L5.41 20z\"/>\n",
       "  </svg>\n",
       "      </button>\n",
       "      \n",
       "  <style>\n",
       "    .colab-df-container {\n",
       "      display:flex;\n",
       "      flex-wrap:wrap;\n",
       "      gap: 12px;\n",
       "    }\n",
       "\n",
       "    .colab-df-convert {\n",
       "      background-color: #E8F0FE;\n",
       "      border: none;\n",
       "      border-radius: 50%;\n",
       "      cursor: pointer;\n",
       "      display: none;\n",
       "      fill: #1967D2;\n",
       "      height: 32px;\n",
       "      padding: 0 0 0 0;\n",
       "      width: 32px;\n",
       "    }\n",
       "\n",
       "    .colab-df-convert:hover {\n",
       "      background-color: #E2EBFA;\n",
       "      box-shadow: 0px 1px 2px rgba(60, 64, 67, 0.3), 0px 1px 3px 1px rgba(60, 64, 67, 0.15);\n",
       "      fill: #174EA6;\n",
       "    }\n",
       "\n",
       "    [theme=dark] .colab-df-convert {\n",
       "      background-color: #3B4455;\n",
       "      fill: #D2E3FC;\n",
       "    }\n",
       "\n",
       "    [theme=dark] .colab-df-convert:hover {\n",
       "      background-color: #434B5C;\n",
       "      box-shadow: 0px 1px 3px 1px rgba(0, 0, 0, 0.15);\n",
       "      filter: drop-shadow(0px 1px 2px rgba(0, 0, 0, 0.3));\n",
       "      fill: #FFFFFF;\n",
       "    }\n",
       "  </style>\n",
       "\n",
       "      <script>\n",
       "        const buttonEl =\n",
       "          document.querySelector('#df-a3072b80-9879-48d2-b6a4-27cb29855a09 button.colab-df-convert');\n",
       "        buttonEl.style.display =\n",
       "          google.colab.kernel.accessAllowed ? 'block' : 'none';\n",
       "\n",
       "        async function convertToInteractive(key) {\n",
       "          const element = document.querySelector('#df-a3072b80-9879-48d2-b6a4-27cb29855a09');\n",
       "          const dataTable =\n",
       "            await google.colab.kernel.invokeFunction('convertToInteractive',\n",
       "                                                     [key], {});\n",
       "          if (!dataTable) return;\n",
       "\n",
       "          const docLinkHtml = 'Like what you see? Visit the ' +\n",
       "            '<a target=\"_blank\" href=https://colab.research.google.com/notebooks/data_table.ipynb>data table notebook</a>'\n",
       "            + ' to learn more about interactive tables.';\n",
       "          element.innerHTML = '';\n",
       "          dataTable['output_type'] = 'display_data';\n",
       "          await google.colab.output.renderOutput(dataTable, element);\n",
       "          const docLink = document.createElement('div');\n",
       "          docLink.innerHTML = docLinkHtml;\n",
       "          element.appendChild(docLink);\n",
       "        }\n",
       "      </script>\n",
       "    </div>\n",
       "  </div>\n",
       "  "
      ],
      "text/plain": [
       "              A1    A2     B\n",
       "date                        \n",
       "2019-07-31  48    52    58  \n",
       "2019-08-01  1191  1282  1228\n",
       "2019-08-02  1197  1220  1228\n",
       "2019-08-03  1140  1174  1166\n",
       "2019-08-04  1170  1169  1188\n",
       "2019-08-05  1269  1263  1269\n",
       "2019-08-06  1269  1320  1331\n",
       "2019-08-07  1198  1212  1241"
      ]
     },
     "execution_count": 71,
     "metadata": {},
     "output_type": "execute_result"
    }
   ],
   "source": [
    "groups_by_days"
   ]
  },
  {
   "cell_type": "code",
   "execution_count": null,
   "metadata": {
    "id": "fGKLH2U56o7_"
   },
   "outputs": [],
   "source": [
    "# Make samples\n",
    "sample1 = groups_by_days['A1'].values\n",
    "sample2 = groups_by_days['A2'].values\n",
    "sample3 = groups_by_days['B'].values"
   ]
  },
  {
   "cell_type": "code",
   "execution_count": null,
   "metadata": {
    "colab": {
     "base_uri": "https://localhost:8080/"
    },
    "id": "nIsHvD8OAseQ",
    "outputId": "2aa97a63-6ef4-454f-d07d-b3970dd66b25"
   },
   "outputs": [
    {
     "data": {
      "text/plain": [
       "array([  58, 1228, 1228, 1166, 1188, 1269, 1331, 1241])"
      ]
     },
     "execution_count": 73,
     "metadata": {},
     "output_type": "execute_result"
    }
   ],
   "source": [
    "sample3"
   ]
  },
  {
   "cell_type": "code",
   "execution_count": null,
   "metadata": {
    "id": "5o9if_kLxaYg"
   },
   "outputs": [],
   "source": [
    "def testing_average(sample1, sample2, alpha = 0.05):\n",
    "    # checking normality\n",
    "    stat1, p1_norm = stats.shapiro(sample1)\n",
    "    stat2, p2_norm = stats.shapiro(sample2)\n",
    "    # if distribution is normall\n",
    "    if p1_norm > alpha and p2_norm > alpha:\n",
    "        print('According to Shapiro test both samples are normally distributed, perform Levenes test and t-test.')\n",
    "        # for t-test also should check the equality of variances\n",
    "        statslev, p_levene = stats.levene(sample1, sample2)\n",
    "        if p_levene < alpha:\n",
    "            # variances are not equal\n",
    "            statist, p_value = stats.ttest_ind(sample1, sample2, equal_var=False)\n",
    "            print('According to Levenes test variances are not equal')\n",
    "        else:\n",
    "            statist, p_value = stats.ttest_ind(sample1, sample2, equal_var=True)\n",
    "            print('According to Levenes test variances are equal') \n",
    "    # if not normal apply non-parametric test\n",
    "    else:\n",
    "        print('Perform Mann-Whitney test')\n",
    "        statist, p_value = stats.mannwhitneyu(sample1, sample2)\n",
    "    \n",
    "    print('t-test p value', p_value)\n",
    "    \n",
    "    if p_value < alpha:\n",
    "        print('Reject H0, the samples are different')\n",
    "    else:\n",
    "        print('Fail to Reject H0, the samples are not different')"
   ]
  },
  {
   "cell_type": "code",
   "execution_count": null,
   "metadata": {
    "colab": {
     "base_uri": "https://localhost:8080/"
    },
    "id": "zKt6a4Hi30Tc",
    "outputId": "3e3bae9d-877c-4ed3-bd17-7c6329851ffd"
   },
   "outputs": [
    {
     "name": "stdout",
     "output_type": "stream",
     "text": [
      "Perform Mann-Whitney test\n",
      "t-test p value 0.21527894382232682\n",
      "Fail to Reject H0, the samples are not different\n"
     ]
    }
   ],
   "source": [
    "# with 0.5 significance level\n",
    "testing_average(sample1, sample2, alpha=0.05)"
   ]
  },
  {
   "cell_type": "code",
   "execution_count": null,
   "metadata": {
    "colab": {
     "base_uri": "https://localhost:8080/"
    },
    "id": "WG9RbcPSDPSI",
    "outputId": "190607c4-80e4-40de-c82e-6e699ded9935"
   },
   "outputs": [
    {
     "name": "stdout",
     "output_type": "stream",
     "text": [
      "Perform Mann-Whitney test\n",
      "t-test p value 0.21527894382232682\n",
      "Fail to Reject H0, the samples are not different\n"
     ]
    }
   ],
   "source": [
    "# with 0.1 significance level\n",
    "testing_average(sample1, sample2, alpha=0.01)"
   ]
  },
  {
   "cell_type": "markdown",
   "metadata": {
    "id": "JsNzIShnMnil"
   },
   "source": [
    "**With 95% and 99% confidence we can state that samples A1 and A2 are not different in a statisticaly significant way.**"
   ]
  },
  {
   "cell_type": "markdown",
   "metadata": {
    "id": "6bNOaIA7DtQN"
   },
   "source": [
    "For the full picture lets' test all the three groups in three pairs.\n",
    "We will be testing the hypothesis about the equality of the average number of users in each pair of samples using the **t-test**, we use this test, because we are checking the equality of the mean. Since the samples are independent of each other (that is, it means that there are different people in these groups, as we saw when analyzing the distribution by groups), we apply the two-sided `scipy.stats.ttest_ind` test.\n",
    "\n",
    "Paired comparisons increase the likelihood of a false positive result. To reduce the probability of type I error and adjust the required level of significance (${\\alpha} = 0.05$), we apply the lower level of significance (${\\alpha} = 0.01$) as well to balance the result. "
   ]
  },
  {
   "cell_type": "code",
   "execution_count": null,
   "metadata": {
    "id": "z3_Hyix9Nmy8"
   },
   "outputs": [],
   "source": [
    "# Establish the level of significance\n",
    "alpha = 0.05\n",
    "lower_alpha = 0.01"
   ]
  },
  {
   "cell_type": "code",
   "execution_count": null,
   "metadata": {
    "colab": {
     "base_uri": "https://localhost:8080/"
    },
    "id": "w_FC4fXKKj6b",
    "outputId": "33cccc09-46b0-45a3-abc0-a4f82401a11a"
   },
   "outputs": [
    {
     "name": "stdout",
     "output_type": "stream",
     "text": [
      "H0: number of users in groups A1 and A2 ARE NOT DIFFERENT\n",
      "H1: number of users in groups A1 и A2 ARE DIFFERNT\n",
      "p-value for groups A1 and A2: 0.9014538349141006\n",
      "Failed to reject H0\n",
      "\n",
      "H0: number of users in groups A2 and B ARE NOT DIFFERENT\n",
      "H1: number of users in groups A2 и B ARE DIFFERNT\n",
      "p-value for groups A2 and B: 0.9920753758227221\n",
      "Failed to reject H0\n",
      "\n",
      "H0: number of users in groups A1 and B ARE NOT DIFFERENT\n",
      "H1: number of users in groups A1 и B ARE DIFFERNT\n",
      "p-value for groups A1 and B: 0.8932927051504511\n",
      "Failed to reject H0\n",
      "\n"
     ]
    }
   ],
   "source": [
    "# With a = 0.05\n",
    "for a, b in [['A1', 'A2'], ['A2', 'B'], ['A1', 'B']]:\n",
    "    print('H0: number of users in groups {} and {} ARE NOT DIFFERENT'.format(a, b))\n",
    "    print('H1: number of users in groups {} и {} ARE DIFFERNT'.format(a, b))\n",
    "    results =  stats.ttest_ind(groups_by_days[a], groups_by_days[b])\n",
    "    print('p-value for groups {} and {}: {}'.format(a, b, results.pvalue))\n",
    "    \n",
    "    if results.pvalue < alpha:\n",
    "        print('Reject H0')\n",
    "    else:\n",
    "        print('Failed to reject H0')\n",
    "        print()"
   ]
  },
  {
   "cell_type": "code",
   "execution_count": null,
   "metadata": {
    "colab": {
     "base_uri": "https://localhost:8080/"
    },
    "id": "-YBUheJDDwWX",
    "outputId": "a802103b-eb6c-4444-a90d-3e3f09904ee6"
   },
   "outputs": [
    {
     "name": "stdout",
     "output_type": "stream",
     "text": [
      "H0: number of users in groups A1 and A2 ARE NOT DIFFERENT\n",
      "H1: number of users in groups A1 и A2 ARE DIFFERNT\n",
      "p-value for groups A1 and A2: 0.9014538349141006\n",
      "Failed to reject H0\n",
      "\n",
      "H0: number of users in groups A2 and B ARE NOT DIFFERENT\n",
      "H1: number of users in groups A2 и B ARE DIFFERNT\n",
      "p-value for groups A2 and B: 0.9920753758227221\n",
      "Failed to reject H0\n",
      "\n",
      "H0: number of users in groups A1 and B ARE NOT DIFFERENT\n",
      "H1: number of users in groups A1 и B ARE DIFFERNT\n",
      "p-value for groups A1 and B: 0.8932927051504511\n",
      "Failed to reject H0\n",
      "\n"
     ]
    }
   ],
   "source": [
    "# With a = 0.01\n",
    "for a, b in [['A1', 'A2'], ['A2', 'B'], ['A1', 'B']]:\n",
    "    print('H0: number of users in groups {} and {} ARE NOT DIFFERENT'.format(a, b))\n",
    "    print('H1: number of users in groups {} и {} ARE DIFFERNT'.format(a, b))\n",
    "    results =  stats.ttest_ind(groups_by_days[a], groups_by_days[b])\n",
    "    print('p-value for groups {} and {}: {}'.format(a, b, results.pvalue))\n",
    "    \n",
    "    if results.pvalue < lower_alpha:\n",
    "        print('Reject H0')\n",
    "    else:\n",
    "        print('Failed to reject H0')\n",
    "        print()"
   ]
  },
  {
   "cell_type": "markdown",
   "metadata": {
    "id": "7GoanGOqLrbM"
   },
   "source": [
    "With groups A2 ad B the probability of similarity is alomost 95%, within groups A1 and A2, A1 and B such probability is also high, thus we conclude that the samples means are not different in a significant way."
   ]
  },
  {
   "cell_type": "markdown",
   "metadata": {
    "id": "NpqfHcByN1Pc"
   },
   "source": [
    "Lets' select the most popular event. In each of the control groups, we will find the number of users who performed this action and calculate their share. We wil check whether the difference between the groups is statistically significant. We need to repeat the procedure for all events, to make this task easier we can build a function and automate the process.\n",
    "\n",
    "To choose users according to events we will take the filtered dataframe and pull out values from it to a new table."
   ]
  },
  {
   "cell_type": "code",
   "execution_count": null,
   "metadata": {
    "id": "1KaW4UJK1cw0"
   },
   "outputs": [],
   "source": [
    "# Create an empty dataframe\n",
    "groups_by_events = pd.DataFrame()\n",
    "# Take the group name from groups df indexes and for each one \n",
    "# cumulate their amount from the original df \n",
    "# grouped by events\n",
    "for group in groups.index:\n",
    "    groups_by_events[group] = (df[df['group'] == group]\n",
    "                                .groupby('event_name')['uid'].nunique())"
   ]
  },
  {
   "cell_type": "code",
   "execution_count": null,
   "metadata": {
    "colab": {
     "base_uri": "https://localhost:8080/",
     "height": 206
    },
    "id": "XN4qbR4WJie0",
    "outputId": "f27cd570-acfd-47ca-93fc-bdf28a731462"
   },
   "outputs": [
    {
     "data": {
      "text/html": [
       "\n",
       "  <div id=\"df-e18ed406-e8da-4765-8160-382a8a835fb1\">\n",
       "    <div class=\"colab-df-container\">\n",
       "      <div>\n",
       "<style scoped>\n",
       "    .dataframe tbody tr th:only-of-type {\n",
       "        vertical-align: middle;\n",
       "    }\n",
       "\n",
       "    .dataframe tbody tr th {\n",
       "        vertical-align: top;\n",
       "    }\n",
       "\n",
       "    .dataframe thead th {\n",
       "        text-align: right;\n",
       "    }\n",
       "</style>\n",
       "<table border=\"1\" class=\"dataframe\">\n",
       "  <thead>\n",
       "    <tr style=\"text-align: right;\">\n",
       "      <th></th>\n",
       "      <th>A1</th>\n",
       "      <th>A2</th>\n",
       "      <th>B</th>\n",
       "    </tr>\n",
       "    <tr>\n",
       "      <th>event_name</th>\n",
       "      <th></th>\n",
       "      <th></th>\n",
       "      <th></th>\n",
       "    </tr>\n",
       "  </thead>\n",
       "  <tbody>\n",
       "    <tr>\n",
       "      <th>CartScreenAppear</th>\n",
       "      <td>1266</td>\n",
       "      <td>1239</td>\n",
       "      <td>1231</td>\n",
       "    </tr>\n",
       "    <tr>\n",
       "      <th>MainScreenAppear</th>\n",
       "      <td>2450</td>\n",
       "      <td>2479</td>\n",
       "      <td>2494</td>\n",
       "    </tr>\n",
       "    <tr>\n",
       "      <th>OffersScreenAppear</th>\n",
       "      <td>1542</td>\n",
       "      <td>1524</td>\n",
       "      <td>1531</td>\n",
       "    </tr>\n",
       "    <tr>\n",
       "      <th>PaymentScreenSuccessful</th>\n",
       "      <td>1200</td>\n",
       "      <td>1158</td>\n",
       "      <td>1182</td>\n",
       "    </tr>\n",
       "  </tbody>\n",
       "</table>\n",
       "</div>\n",
       "      <button class=\"colab-df-convert\" onclick=\"convertToInteractive('df-e18ed406-e8da-4765-8160-382a8a835fb1')\"\n",
       "              title=\"Convert this dataframe to an interactive table.\"\n",
       "              style=\"display:none;\">\n",
       "        \n",
       "  <svg xmlns=\"http://www.w3.org/2000/svg\" height=\"24px\"viewBox=\"0 0 24 24\"\n",
       "       width=\"24px\">\n",
       "    <path d=\"M0 0h24v24H0V0z\" fill=\"none\"/>\n",
       "    <path d=\"M18.56 5.44l.94 2.06.94-2.06 2.06-.94-2.06-.94-.94-2.06-.94 2.06-2.06.94zm-11 1L8.5 8.5l.94-2.06 2.06-.94-2.06-.94L8.5 2.5l-.94 2.06-2.06.94zm10 10l.94 2.06.94-2.06 2.06-.94-2.06-.94-.94-2.06-.94 2.06-2.06.94z\"/><path d=\"M17.41 7.96l-1.37-1.37c-.4-.4-.92-.59-1.43-.59-.52 0-1.04.2-1.43.59L10.3 9.45l-7.72 7.72c-.78.78-.78 2.05 0 2.83L4 21.41c.39.39.9.59 1.41.59.51 0 1.02-.2 1.41-.59l7.78-7.78 2.81-2.81c.8-.78.8-2.07 0-2.86zM5.41 20L4 18.59l7.72-7.72 1.47 1.35L5.41 20z\"/>\n",
       "  </svg>\n",
       "      </button>\n",
       "      \n",
       "  <style>\n",
       "    .colab-df-container {\n",
       "      display:flex;\n",
       "      flex-wrap:wrap;\n",
       "      gap: 12px;\n",
       "    }\n",
       "\n",
       "    .colab-df-convert {\n",
       "      background-color: #E8F0FE;\n",
       "      border: none;\n",
       "      border-radius: 50%;\n",
       "      cursor: pointer;\n",
       "      display: none;\n",
       "      fill: #1967D2;\n",
       "      height: 32px;\n",
       "      padding: 0 0 0 0;\n",
       "      width: 32px;\n",
       "    }\n",
       "\n",
       "    .colab-df-convert:hover {\n",
       "      background-color: #E2EBFA;\n",
       "      box-shadow: 0px 1px 2px rgba(60, 64, 67, 0.3), 0px 1px 3px 1px rgba(60, 64, 67, 0.15);\n",
       "      fill: #174EA6;\n",
       "    }\n",
       "\n",
       "    [theme=dark] .colab-df-convert {\n",
       "      background-color: #3B4455;\n",
       "      fill: #D2E3FC;\n",
       "    }\n",
       "\n",
       "    [theme=dark] .colab-df-convert:hover {\n",
       "      background-color: #434B5C;\n",
       "      box-shadow: 0px 1px 3px 1px rgba(0, 0, 0, 0.15);\n",
       "      filter: drop-shadow(0px 1px 2px rgba(0, 0, 0, 0.3));\n",
       "      fill: #FFFFFF;\n",
       "    }\n",
       "  </style>\n",
       "\n",
       "      <script>\n",
       "        const buttonEl =\n",
       "          document.querySelector('#df-e18ed406-e8da-4765-8160-382a8a835fb1 button.colab-df-convert');\n",
       "        buttonEl.style.display =\n",
       "          google.colab.kernel.accessAllowed ? 'block' : 'none';\n",
       "\n",
       "        async function convertToInteractive(key) {\n",
       "          const element = document.querySelector('#df-e18ed406-e8da-4765-8160-382a8a835fb1');\n",
       "          const dataTable =\n",
       "            await google.colab.kernel.invokeFunction('convertToInteractive',\n",
       "                                                     [key], {});\n",
       "          if (!dataTable) return;\n",
       "\n",
       "          const docLinkHtml = 'Like what you see? Visit the ' +\n",
       "            '<a target=\"_blank\" href=https://colab.research.google.com/notebooks/data_table.ipynb>data table notebook</a>'\n",
       "            + ' to learn more about interactive tables.';\n",
       "          element.innerHTML = '';\n",
       "          dataTable['output_type'] = 'display_data';\n",
       "          await google.colab.output.renderOutput(dataTable, element);\n",
       "          const docLink = document.createElement('div');\n",
       "          docLink.innerHTML = docLinkHtml;\n",
       "          element.appendChild(docLink);\n",
       "        }\n",
       "      </script>\n",
       "    </div>\n",
       "  </div>\n",
       "  "
      ],
      "text/plain": [
       "                           A1    A2     B\n",
       "event_name                               \n",
       "CartScreenAppear         1266  1239  1231\n",
       "MainScreenAppear         2450  2479  2494\n",
       "OffersScreenAppear       1542  1524  1531\n",
       "PaymentScreenSuccessful  1200  1158  1182"
      ]
     },
     "execution_count": 81,
     "metadata": {},
     "output_type": "execute_result"
    }
   ],
   "source": [
    "groups_by_events"
   ]
  },
  {
   "cell_type": "code",
   "execution_count": null,
   "metadata": {
    "colab": {
     "base_uri": "https://localhost:8080/"
    },
    "id": "OE_870p7Jkdl",
    "outputId": "afb9f12e-a47f-4fe4-9040-37053b5bb51c"
   },
   "outputs": [
    {
     "data": {
      "text/plain": [
       "group\n",
       "A1    2483\n",
       "A2    2516\n",
       "B     2535\n",
       "Name: uid, dtype: int64"
      ]
     },
     "execution_count": 82,
     "metadata": {},
     "output_type": "execute_result"
    }
   ],
   "source": [
    "groups"
   ]
  },
  {
   "cell_type": "code",
   "execution_count": null,
   "metadata": {
    "id": "W27BCxS71YpG"
   },
   "outputs": [],
   "source": [
    "# Append the groups total amount for easier calculations\n",
    "groups_by_events = groups_by_events.append(groups)"
   ]
  },
  {
   "cell_type": "markdown",
   "metadata": {
    "id": "wAGOIjHHJxae"
   },
   "source": [
    "In addition to the absolute values of the number of users in groups, we need to know the shares they have."
   ]
  },
  {
   "cell_type": "code",
   "execution_count": null,
   "metadata": {
    "colab": {
     "base_uri": "https://localhost:8080/",
     "height": 238
    },
    "id": "A-SVIAstKTSL",
    "outputId": "ed11fe93-3ced-4b2d-e584-40dbc50e28d2"
   },
   "outputs": [
    {
     "data": {
      "text/html": [
       "\n",
       "  <div id=\"df-3ca74d45-3e96-4cf6-a8ae-1f2e33c39917\">\n",
       "    <div class=\"colab-df-container\">\n",
       "      <div>\n",
       "<style scoped>\n",
       "    .dataframe tbody tr th:only-of-type {\n",
       "        vertical-align: middle;\n",
       "    }\n",
       "\n",
       "    .dataframe tbody tr th {\n",
       "        vertical-align: top;\n",
       "    }\n",
       "\n",
       "    .dataframe thead th {\n",
       "        text-align: right;\n",
       "    }\n",
       "</style>\n",
       "<table border=\"1\" class=\"dataframe\">\n",
       "  <thead>\n",
       "    <tr style=\"text-align: right;\">\n",
       "      <th></th>\n",
       "      <th>A1</th>\n",
       "      <th>A2</th>\n",
       "      <th>B</th>\n",
       "    </tr>\n",
       "    <tr>\n",
       "      <th>event_name</th>\n",
       "      <th></th>\n",
       "      <th></th>\n",
       "      <th></th>\n",
       "    </tr>\n",
       "  </thead>\n",
       "  <tbody>\n",
       "    <tr>\n",
       "      <th>CartScreenAppear</th>\n",
       "      <td>1266</td>\n",
       "      <td>1239</td>\n",
       "      <td>1231</td>\n",
       "    </tr>\n",
       "    <tr>\n",
       "      <th>MainScreenAppear</th>\n",
       "      <td>2450</td>\n",
       "      <td>2479</td>\n",
       "      <td>2494</td>\n",
       "    </tr>\n",
       "    <tr>\n",
       "      <th>OffersScreenAppear</th>\n",
       "      <td>1542</td>\n",
       "      <td>1524</td>\n",
       "      <td>1531</td>\n",
       "    </tr>\n",
       "    <tr>\n",
       "      <th>PaymentScreenSuccessful</th>\n",
       "      <td>1200</td>\n",
       "      <td>1158</td>\n",
       "      <td>1182</td>\n",
       "    </tr>\n",
       "    <tr>\n",
       "      <th>uid</th>\n",
       "      <td>2483</td>\n",
       "      <td>2516</td>\n",
       "      <td>2535</td>\n",
       "    </tr>\n",
       "  </tbody>\n",
       "</table>\n",
       "</div>\n",
       "      <button class=\"colab-df-convert\" onclick=\"convertToInteractive('df-3ca74d45-3e96-4cf6-a8ae-1f2e33c39917')\"\n",
       "              title=\"Convert this dataframe to an interactive table.\"\n",
       "              style=\"display:none;\">\n",
       "        \n",
       "  <svg xmlns=\"http://www.w3.org/2000/svg\" height=\"24px\"viewBox=\"0 0 24 24\"\n",
       "       width=\"24px\">\n",
       "    <path d=\"M0 0h24v24H0V0z\" fill=\"none\"/>\n",
       "    <path d=\"M18.56 5.44l.94 2.06.94-2.06 2.06-.94-2.06-.94-.94-2.06-.94 2.06-2.06.94zm-11 1L8.5 8.5l.94-2.06 2.06-.94-2.06-.94L8.5 2.5l-.94 2.06-2.06.94zm10 10l.94 2.06.94-2.06 2.06-.94-2.06-.94-.94-2.06-.94 2.06-2.06.94z\"/><path d=\"M17.41 7.96l-1.37-1.37c-.4-.4-.92-.59-1.43-.59-.52 0-1.04.2-1.43.59L10.3 9.45l-7.72 7.72c-.78.78-.78 2.05 0 2.83L4 21.41c.39.39.9.59 1.41.59.51 0 1.02-.2 1.41-.59l7.78-7.78 2.81-2.81c.8-.78.8-2.07 0-2.86zM5.41 20L4 18.59l7.72-7.72 1.47 1.35L5.41 20z\"/>\n",
       "  </svg>\n",
       "      </button>\n",
       "      \n",
       "  <style>\n",
       "    .colab-df-container {\n",
       "      display:flex;\n",
       "      flex-wrap:wrap;\n",
       "      gap: 12px;\n",
       "    }\n",
       "\n",
       "    .colab-df-convert {\n",
       "      background-color: #E8F0FE;\n",
       "      border: none;\n",
       "      border-radius: 50%;\n",
       "      cursor: pointer;\n",
       "      display: none;\n",
       "      fill: #1967D2;\n",
       "      height: 32px;\n",
       "      padding: 0 0 0 0;\n",
       "      width: 32px;\n",
       "    }\n",
       "\n",
       "    .colab-df-convert:hover {\n",
       "      background-color: #E2EBFA;\n",
       "      box-shadow: 0px 1px 2px rgba(60, 64, 67, 0.3), 0px 1px 3px 1px rgba(60, 64, 67, 0.15);\n",
       "      fill: #174EA6;\n",
       "    }\n",
       "\n",
       "    [theme=dark] .colab-df-convert {\n",
       "      background-color: #3B4455;\n",
       "      fill: #D2E3FC;\n",
       "    }\n",
       "\n",
       "    [theme=dark] .colab-df-convert:hover {\n",
       "      background-color: #434B5C;\n",
       "      box-shadow: 0px 1px 3px 1px rgba(0, 0, 0, 0.15);\n",
       "      filter: drop-shadow(0px 1px 2px rgba(0, 0, 0, 0.3));\n",
       "      fill: #FFFFFF;\n",
       "    }\n",
       "  </style>\n",
       "\n",
       "      <script>\n",
       "        const buttonEl =\n",
       "          document.querySelector('#df-3ca74d45-3e96-4cf6-a8ae-1f2e33c39917 button.colab-df-convert');\n",
       "        buttonEl.style.display =\n",
       "          google.colab.kernel.accessAllowed ? 'block' : 'none';\n",
       "\n",
       "        async function convertToInteractive(key) {\n",
       "          const element = document.querySelector('#df-3ca74d45-3e96-4cf6-a8ae-1f2e33c39917');\n",
       "          const dataTable =\n",
       "            await google.colab.kernel.invokeFunction('convertToInteractive',\n",
       "                                                     [key], {});\n",
       "          if (!dataTable) return;\n",
       "\n",
       "          const docLinkHtml = 'Like what you see? Visit the ' +\n",
       "            '<a target=\"_blank\" href=https://colab.research.google.com/notebooks/data_table.ipynb>data table notebook</a>'\n",
       "            + ' to learn more about interactive tables.';\n",
       "          element.innerHTML = '';\n",
       "          dataTable['output_type'] = 'display_data';\n",
       "          await google.colab.output.renderOutput(dataTable, element);\n",
       "          const docLink = document.createElement('div');\n",
       "          docLink.innerHTML = docLinkHtml;\n",
       "          element.appendChild(docLink);\n",
       "        }\n",
       "      </script>\n",
       "    </div>\n",
       "  </div>\n",
       "  "
      ],
      "text/plain": [
       "                           A1    A2     B\n",
       "event_name                               \n",
       "CartScreenAppear         1266  1239  1231\n",
       "MainScreenAppear         2450  2479  2494\n",
       "OffersScreenAppear       1542  1524  1531\n",
       "PaymentScreenSuccessful  1200  1158  1182\n",
       "uid                      2483  2516  2535"
      ]
     },
     "execution_count": 84,
     "metadata": {},
     "output_type": "execute_result"
    }
   ],
   "source": [
    "groups_by_events"
   ]
  },
  {
   "cell_type": "code",
   "execution_count": null,
   "metadata": {
    "id": "pFUXUJ0m4B1M"
   },
   "outputs": [],
   "source": [
    "# Take each columns' value and devide it by the value in the uid cell as the total\n",
    "for col in groups_by_events.columns:\n",
    "    groups_by_events[str(col)+'_share'] = groups_by_events[col] / groups_by_events.loc['uid'][col]\n"
   ]
  },
  {
   "cell_type": "code",
   "execution_count": null,
   "metadata": {
    "id": "2Fxd1t6v1myk"
   },
   "outputs": [],
   "source": [
    "# Rename the columns\n",
    "groups_by_events.index = ['CartScreenAppear', 'MainScreenAppear', 'OffersScreenAppear',\n",
    "       'PaymentScreenSuccessful', 'Total']"
   ]
  },
  {
   "cell_type": "code",
   "execution_count": null,
   "metadata": {
    "colab": {
     "base_uri": "https://localhost:8080/",
     "height": 206
    },
    "id": "QggLCrVDaxFC",
    "outputId": "7c11c22b-fb7b-411f-9008-a598f6987e6a"
   },
   "outputs": [
    {
     "data": {
      "text/html": [
       "\n",
       "  <div id=\"df-57fa0a1d-a416-4d2a-b9b7-2edb117ba773\">\n",
       "    <div class=\"colab-df-container\">\n",
       "      <div>\n",
       "<style scoped>\n",
       "    .dataframe tbody tr th:only-of-type {\n",
       "        vertical-align: middle;\n",
       "    }\n",
       "\n",
       "    .dataframe tbody tr th {\n",
       "        vertical-align: top;\n",
       "    }\n",
       "\n",
       "    .dataframe thead th {\n",
       "        text-align: right;\n",
       "    }\n",
       "</style>\n",
       "<table border=\"1\" class=\"dataframe\">\n",
       "  <thead>\n",
       "    <tr style=\"text-align: right;\">\n",
       "      <th></th>\n",
       "      <th>A1</th>\n",
       "      <th>A2</th>\n",
       "      <th>B</th>\n",
       "      <th>A1_share</th>\n",
       "      <th>A2_share</th>\n",
       "      <th>B_share</th>\n",
       "    </tr>\n",
       "  </thead>\n",
       "  <tbody>\n",
       "    <tr>\n",
       "      <th>CartScreenAppear</th>\n",
       "      <td>1266</td>\n",
       "      <td>1239</td>\n",
       "      <td>1231</td>\n",
       "      <td>0.51</td>\n",
       "      <td>0.49</td>\n",
       "      <td>0.49</td>\n",
       "    </tr>\n",
       "    <tr>\n",
       "      <th>MainScreenAppear</th>\n",
       "      <td>2450</td>\n",
       "      <td>2479</td>\n",
       "      <td>2494</td>\n",
       "      <td>0.99</td>\n",
       "      <td>0.99</td>\n",
       "      <td>0.98</td>\n",
       "    </tr>\n",
       "    <tr>\n",
       "      <th>OffersScreenAppear</th>\n",
       "      <td>1542</td>\n",
       "      <td>1524</td>\n",
       "      <td>1531</td>\n",
       "      <td>0.62</td>\n",
       "      <td>0.61</td>\n",
       "      <td>0.60</td>\n",
       "    </tr>\n",
       "    <tr>\n",
       "      <th>PaymentScreenSuccessful</th>\n",
       "      <td>1200</td>\n",
       "      <td>1158</td>\n",
       "      <td>1182</td>\n",
       "      <td>0.48</td>\n",
       "      <td>0.46</td>\n",
       "      <td>0.47</td>\n",
       "    </tr>\n",
       "    <tr>\n",
       "      <th>Total</th>\n",
       "      <td>2483</td>\n",
       "      <td>2516</td>\n",
       "      <td>2535</td>\n",
       "      <td>1.00</td>\n",
       "      <td>1.00</td>\n",
       "      <td>1.00</td>\n",
       "    </tr>\n",
       "  </tbody>\n",
       "</table>\n",
       "</div>\n",
       "      <button class=\"colab-df-convert\" onclick=\"convertToInteractive('df-57fa0a1d-a416-4d2a-b9b7-2edb117ba773')\"\n",
       "              title=\"Convert this dataframe to an interactive table.\"\n",
       "              style=\"display:none;\">\n",
       "        \n",
       "  <svg xmlns=\"http://www.w3.org/2000/svg\" height=\"24px\"viewBox=\"0 0 24 24\"\n",
       "       width=\"24px\">\n",
       "    <path d=\"M0 0h24v24H0V0z\" fill=\"none\"/>\n",
       "    <path d=\"M18.56 5.44l.94 2.06.94-2.06 2.06-.94-2.06-.94-.94-2.06-.94 2.06-2.06.94zm-11 1L8.5 8.5l.94-2.06 2.06-.94-2.06-.94L8.5 2.5l-.94 2.06-2.06.94zm10 10l.94 2.06.94-2.06 2.06-.94-2.06-.94-.94-2.06-.94 2.06-2.06.94z\"/><path d=\"M17.41 7.96l-1.37-1.37c-.4-.4-.92-.59-1.43-.59-.52 0-1.04.2-1.43.59L10.3 9.45l-7.72 7.72c-.78.78-.78 2.05 0 2.83L4 21.41c.39.39.9.59 1.41.59.51 0 1.02-.2 1.41-.59l7.78-7.78 2.81-2.81c.8-.78.8-2.07 0-2.86zM5.41 20L4 18.59l7.72-7.72 1.47 1.35L5.41 20z\"/>\n",
       "  </svg>\n",
       "      </button>\n",
       "      \n",
       "  <style>\n",
       "    .colab-df-container {\n",
       "      display:flex;\n",
       "      flex-wrap:wrap;\n",
       "      gap: 12px;\n",
       "    }\n",
       "\n",
       "    .colab-df-convert {\n",
       "      background-color: #E8F0FE;\n",
       "      border: none;\n",
       "      border-radius: 50%;\n",
       "      cursor: pointer;\n",
       "      display: none;\n",
       "      fill: #1967D2;\n",
       "      height: 32px;\n",
       "      padding: 0 0 0 0;\n",
       "      width: 32px;\n",
       "    }\n",
       "\n",
       "    .colab-df-convert:hover {\n",
       "      background-color: #E2EBFA;\n",
       "      box-shadow: 0px 1px 2px rgba(60, 64, 67, 0.3), 0px 1px 3px 1px rgba(60, 64, 67, 0.15);\n",
       "      fill: #174EA6;\n",
       "    }\n",
       "\n",
       "    [theme=dark] .colab-df-convert {\n",
       "      background-color: #3B4455;\n",
       "      fill: #D2E3FC;\n",
       "    }\n",
       "\n",
       "    [theme=dark] .colab-df-convert:hover {\n",
       "      background-color: #434B5C;\n",
       "      box-shadow: 0px 1px 3px 1px rgba(0, 0, 0, 0.15);\n",
       "      filter: drop-shadow(0px 1px 2px rgba(0, 0, 0, 0.3));\n",
       "      fill: #FFFFFF;\n",
       "    }\n",
       "  </style>\n",
       "\n",
       "      <script>\n",
       "        const buttonEl =\n",
       "          document.querySelector('#df-57fa0a1d-a416-4d2a-b9b7-2edb117ba773 button.colab-df-convert');\n",
       "        buttonEl.style.display =\n",
       "          google.colab.kernel.accessAllowed ? 'block' : 'none';\n",
       "\n",
       "        async function convertToInteractive(key) {\n",
       "          const element = document.querySelector('#df-57fa0a1d-a416-4d2a-b9b7-2edb117ba773');\n",
       "          const dataTable =\n",
       "            await google.colab.kernel.invokeFunction('convertToInteractive',\n",
       "                                                     [key], {});\n",
       "          if (!dataTable) return;\n",
       "\n",
       "          const docLinkHtml = 'Like what you see? Visit the ' +\n",
       "            '<a target=\"_blank\" href=https://colab.research.google.com/notebooks/data_table.ipynb>data table notebook</a>'\n",
       "            + ' to learn more about interactive tables.';\n",
       "          element.innerHTML = '';\n",
       "          dataTable['output_type'] = 'display_data';\n",
       "          await google.colab.output.renderOutput(dataTable, element);\n",
       "          const docLink = document.createElement('div');\n",
       "          docLink.innerHTML = docLinkHtml;\n",
       "          element.appendChild(docLink);\n",
       "        }\n",
       "      </script>\n",
       "    </div>\n",
       "  </div>\n",
       "  "
      ],
      "text/plain": [
       "                           A1    A2     B  A1_share  A2_share  B_share\n",
       "CartScreenAppear         1266  1239  1231 0.51      0.49      0.49    \n",
       "MainScreenAppear         2450  2479  2494 0.99      0.99      0.98    \n",
       "OffersScreenAppear       1542  1524  1531 0.62      0.61      0.60    \n",
       "PaymentScreenSuccessful  1200  1158  1182 0.48      0.46      0.47    \n",
       "Total                    2483  2516  2535 1.00      1.00      1.00    "
      ]
     },
     "execution_count": 87,
     "metadata": {},
     "output_type": "execute_result"
    }
   ],
   "source": [
    "groups_by_events"
   ]
  },
  {
   "cell_type": "code",
   "execution_count": null,
   "metadata": {
    "colab": {
     "base_uri": "https://localhost:8080/"
    },
    "id": "E8ylmM9hclSk",
    "outputId": "5d335b42-fd38-4fd6-b684-121c3ed2f738"
   },
   "outputs": [
    {
     "data": {
      "text/plain": [
       "1200.0"
      ]
     },
     "execution_count": 88,
     "metadata": {},
     "output_type": "execute_result"
    }
   ],
   "source": [
    "# Check access\n",
    "groups_by_events.loc['PaymentScreenSuccessful']['A1']"
   ]
  },
  {
   "cell_type": "markdown",
   "metadata": {
    "id": "pcniI2hgR41D"
   },
   "source": [
    "To see if there was a statistically significant differences in users behavior, we will test the hypotheses about the equality of conversions of events. In other words, we will test the hypotheses about the equality of shares in two samples by applying the z-test.\n",
    "\n",
    "As before, we apply a correction for multiple comparisons to reduce the likelihood of a false positive result. We will build another function that will take the names of the groups we will compare and the name of the event. \n",
    "\n",
    "**For each pair of groups (A1/A2, A1/B, A2/B, A/B) 5 tests will take place**."
   ]
  },
  {
   "cell_type": "code",
   "execution_count": null,
   "metadata": {
    "id": "RTQtp1-1a4FA"
   },
   "outputs": [],
   "source": [
    "def z_function(a, b, df, event, alpha):\n",
    "  print('H0: events {} in groups {} and {} are not different'.format(event, a, b))\n",
    "  print('H1: the difference of share of event {} in groups {} and {} is statistically significant'.format(event, a, b))\n",
    "  s1 = df.loc[event][a]    #  number of successes   sample А\n",
    "  t1 = df.loc['Total'][a]  #  number of trials      sample А\n",
    "  s2 = df.loc[event][b]    #  number of successes   sample B\n",
    "  t2 = df.loc['Total'][b]  #  number trials         sample B\n",
    "  z, p_value = sm.stats.proportions_ztest([s1, s2], [t1, t2])\n",
    "  if p_value < alpha:\n",
    "    print('The samples are different, reject the null hypothesys')\n",
    "    print('p-value:{}'.format(p_value))\n",
    "  else:\n",
    "    print('There is no difference, failed to reject null hypothesis')\n",
    "    print('p-value: {}'.format(p_value))"
   ]
  },
  {
   "cell_type": "code",
   "execution_count": null,
   "metadata": {
    "colab": {
     "base_uri": "https://localhost:8080/"
    },
    "id": "ethc24oeh6NZ",
    "outputId": "ba12ea43-c3fa-40c2-a00e-790d430efd62"
   },
   "outputs": [
    {
     "name": "stdout",
     "output_type": "stream",
     "text": [
      "H0: events CartScreenAppear in groups A1 and A2 are not different\n",
      "H1: the difference of share of event CartScreenAppear in groups A1 and A2 is statistically significant\n",
      "There is no difference, failed to reject null hypothesis\n",
      "p-value: 0.21811883651016095\n",
      "--------------------------------------------------------------------------------------------------------------\n",
      "\n",
      "H0: events MainScreenAppear in groups A1 and A2 are not different\n",
      "H1: the difference of share of event MainScreenAppear in groups A1 and A2 is statistically significant\n",
      "There is no difference, failed to reject null hypothesis\n",
      "p-value: 0.6702082653142836\n",
      "--------------------------------------------------------------------------------------------------------------\n",
      "\n",
      "H0: events OffersScreenAppear in groups A1 and A2 are not different\n",
      "H1: the difference of share of event OffersScreenAppear in groups A1 and A2 is statistically significant\n",
      "There is no difference, failed to reject null hypothesis\n",
      "p-value: 0.2667347868697105\n",
      "--------------------------------------------------------------------------------------------------------------\n",
      "\n",
      "H0: events PaymentScreenSuccessful in groups A1 and A2 are not different\n",
      "H1: the difference of share of event PaymentScreenSuccessful in groups A1 and A2 is statistically significant\n",
      "There is no difference, failed to reject null hypothesis\n",
      "p-value: 0.1028852736263833\n",
      "--------------------------------------------------------------------------------------------------------------\n",
      "\n"
     ]
    }
   ],
   "source": [
    "# Test when alpha = 0.05\n",
    "for event in ['CartScreenAppear', 'MainScreenAppear', 'OffersScreenAppear',\n",
    "       'PaymentScreenSuccessful']:\n",
    "       z_function('A1', 'A2', groups_by_events, event, alpha)\n",
    "       print('-'*110)\n",
    "       print()"
   ]
  },
  {
   "cell_type": "code",
   "execution_count": null,
   "metadata": {
    "colab": {
     "base_uri": "https://localhost:8080/"
    },
    "id": "l35Rk97GEC6O",
    "outputId": "39a1974d-8f01-4946-ecbc-b2955c08d1c4"
   },
   "outputs": [
    {
     "name": "stdout",
     "output_type": "stream",
     "text": [
      "H0: events CartScreenAppear in groups A1 and A2 are not different\n",
      "H1: the difference of share of event CartScreenAppear in groups A1 and A2 is statistically significant\n",
      "There is no difference, failed to reject null hypothesis\n",
      "p-value: 0.21811883651016095\n",
      "--------------------------------------------------------------------------------------------------------------\n",
      "\n",
      "H0: events MainScreenAppear in groups A1 and A2 are not different\n",
      "H1: the difference of share of event MainScreenAppear in groups A1 and A2 is statistically significant\n",
      "There is no difference, failed to reject null hypothesis\n",
      "p-value: 0.6702082653142836\n",
      "--------------------------------------------------------------------------------------------------------------\n",
      "\n",
      "H0: events OffersScreenAppear in groups A1 and A2 are not different\n",
      "H1: the difference of share of event OffersScreenAppear in groups A1 and A2 is statistically significant\n",
      "There is no difference, failed to reject null hypothesis\n",
      "p-value: 0.2667347868697105\n",
      "--------------------------------------------------------------------------------------------------------------\n",
      "\n",
      "H0: events PaymentScreenSuccessful in groups A1 and A2 are not different\n",
      "H1: the difference of share of event PaymentScreenSuccessful in groups A1 and A2 is statistically significant\n",
      "There is no difference, failed to reject null hypothesis\n",
      "p-value: 0.1028852736263833\n",
      "--------------------------------------------------------------------------------------------------------------\n",
      "\n"
     ]
    }
   ],
   "source": [
    "# Test when alpha = 0.01\n",
    "for event in ['CartScreenAppear', 'MainScreenAppear', 'OffersScreenAppear',\n",
    "       'PaymentScreenSuccessful']:\n",
    "       z_function('A1', 'A2', groups_by_events, event, lower_alpha)\n",
    "       print('-'*110)\n",
    "       print()"
   ]
  },
  {
   "cell_type": "markdown",
   "metadata": {
    "id": "HcpPh7J8RQWn"
   },
   "source": [
    "So, according to the results of our tests, we don't have enough grounds to consider the proportions of events to be different in the control groups, again we can conclude that the split into groups was made properly."
   ]
  },
  {
   "cell_type": "markdown",
   "metadata": {
    "id": "Cjn2zQtcRh8D"
   },
   "source": [
    "# A/B test"
   ]
  },
  {
   "cell_type": "code",
   "execution_count": null,
   "metadata": {
    "colab": {
     "base_uri": "https://localhost:8080/"
    },
    "id": "22jxZgDwiSnx",
    "outputId": "7cf81311-70dd-4d21-ee69-012db165b552"
   },
   "outputs": [
    {
     "name": "stdout",
     "output_type": "stream",
     "text": [
      "H0: events CartScreenAppear in groups A1 and B are not different\n",
      "H1: the difference of share of event CartScreenAppear in groups A1 and B is statistically significant\n",
      "There is no difference, failed to reject null hypothesis\n",
      "p-value: 0.08564271892834718\n",
      "--------------------------------------------------------------------------------------------------------------\n",
      "\n",
      "H0: events MainScreenAppear in groups A1 and B are not different\n",
      "H1: the difference of share of event MainScreenAppear in groups A1 and B is statistically significant\n",
      "There is no difference, failed to reject null hypothesis\n",
      "p-value: 0.39691004961815113\n",
      "--------------------------------------------------------------------------------------------------------------\n",
      "\n",
      "H0: events OffersScreenAppear in groups A1 and B are not different\n",
      "H1: the difference of share of event OffersScreenAppear in groups A1 and B is statistically significant\n",
      "There is no difference, failed to reject null hypothesis\n",
      "p-value: 0.21442476639710495\n",
      "--------------------------------------------------------------------------------------------------------------\n",
      "\n",
      "H0: events PaymentScreenSuccessful in groups A1 and B are not different\n",
      "H1: the difference of share of event PaymentScreenSuccessful in groups A1 and B is statistically significant\n",
      "There is no difference, failed to reject null hypothesis\n",
      "p-value: 0.22753674585530037\n",
      "--------------------------------------------------------------------------------------------------------------\n",
      "\n"
     ]
    }
   ],
   "source": [
    "# Test when alpha = 0.05\n",
    "for event in ['CartScreenAppear', 'MainScreenAppear', 'OffersScreenAppear',\n",
    "       'PaymentScreenSuccessful',]:\n",
    "       z_function('A1', 'B', groups_by_events, event, alpha)\n",
    "       print('-'*110)\n",
    "       print()"
   ]
  },
  {
   "cell_type": "code",
   "execution_count": null,
   "metadata": {
    "colab": {
     "base_uri": "https://localhost:8080/"
    },
    "id": "g_iDSveIESfe",
    "outputId": "81d9b411-7338-4c1e-8744-24d32bc9922e"
   },
   "outputs": [
    {
     "name": "stdout",
     "output_type": "stream",
     "text": [
      "H0: events CartScreenAppear in groups A1 and B are not different\n",
      "H1: the difference of share of event CartScreenAppear in groups A1 and B is statistically significant\n",
      "There is no difference, failed to reject null hypothesis\n",
      "p-value: 0.08564271892834718\n",
      "--------------------------------------------------------------------------------------------------------------\n",
      "\n",
      "H0: events MainScreenAppear in groups A1 and B are not different\n",
      "H1: the difference of share of event MainScreenAppear in groups A1 and B is statistically significant\n",
      "There is no difference, failed to reject null hypothesis\n",
      "p-value: 0.39691004961815113\n",
      "--------------------------------------------------------------------------------------------------------------\n",
      "\n",
      "H0: events OffersScreenAppear in groups A1 and B are not different\n",
      "H1: the difference of share of event OffersScreenAppear in groups A1 and B is statistically significant\n",
      "There is no difference, failed to reject null hypothesis\n",
      "p-value: 0.21442476639710495\n",
      "--------------------------------------------------------------------------------------------------------------\n",
      "\n",
      "H0: events PaymentScreenSuccessful in groups A1 and B are not different\n",
      "H1: the difference of share of event PaymentScreenSuccessful in groups A1 and B is statistically significant\n",
      "There is no difference, failed to reject null hypothesis\n",
      "p-value: 0.22753674585530037\n",
      "--------------------------------------------------------------------------------------------------------------\n",
      "\n"
     ]
    }
   ],
   "source": [
    "# Test when alpha = 0.01\n",
    "for event in ['CartScreenAppear', 'MainScreenAppear', 'OffersScreenAppear',\n",
    "       'PaymentScreenSuccessful']:\n",
    "       z_function('A1', 'B', groups_by_events, event, lower_alpha)\n",
    "       print('-'*110)\n",
    "       print()"
   ]
  },
  {
   "cell_type": "code",
   "execution_count": null,
   "metadata": {
    "colab": {
     "base_uri": "https://localhost:8080/"
    },
    "id": "-NEHjOYMEfd6",
    "outputId": "d8c18bf3-2c97-4ef8-a6d6-e7bb6b34e970"
   },
   "outputs": [
    {
     "name": "stdout",
     "output_type": "stream",
     "text": [
      "H0: events CartScreenAppear in groups A2 and B are not different\n",
      "H1: the difference of share of event CartScreenAppear in groups A2 and B is statistically significant\n",
      "There is no difference, failed to reject null hypothesis\n",
      "p-value: 0.6264599792848009\n",
      "--------------------------------------------------------------------------------------------------------------\n",
      "\n",
      "H0: events MainScreenAppear in groups A2 and B are not different\n",
      "H1: the difference of share of event MainScreenAppear in groups A2 and B is statistically significant\n",
      "There is no difference, failed to reject null hypothesis\n",
      "p-value: 0.672316770476623\n",
      "--------------------------------------------------------------------------------------------------------------\n",
      "\n",
      "H0: events OffersScreenAppear in groups A2 and B are not different\n",
      "H1: the difference of share of event OffersScreenAppear in groups A2 and B is statistically significant\n",
      "There is no difference, failed to reject null hypothesis\n",
      "p-value: 0.8971376549155397\n",
      "--------------------------------------------------------------------------------------------------------------\n",
      "\n",
      "H0: events PaymentScreenSuccessful in groups A2 and B are not different\n",
      "H1: the difference of share of event PaymentScreenSuccessful in groups A2 and B is statistically significant\n",
      "There is no difference, failed to reject null hypothesis\n",
      "p-value: 0.6680367850275775\n",
      "--------------------------------------------------------------------------------------------------------------\n",
      "\n"
     ]
    }
   ],
   "source": [
    "# Test when alpha = 0.05\n",
    "for event in ['CartScreenAppear', 'MainScreenAppear', 'OffersScreenAppear',\n",
    "       'PaymentScreenSuccessful']:\n",
    "       z_function('A2', 'B', groups_by_events, event, alpha)\n",
    "       print('-'*110)\n",
    "       print()"
   ]
  },
  {
   "cell_type": "code",
   "execution_count": null,
   "metadata": {
    "colab": {
     "base_uri": "https://localhost:8080/"
    },
    "id": "KhBsXoJEGcjA",
    "outputId": "82f077a4-e61c-49b3-b4e6-3b13a2c842bd"
   },
   "outputs": [
    {
     "name": "stdout",
     "output_type": "stream",
     "text": [
      "H0: events CartScreenAppear in groups A2 and B are not different\n",
      "H1: the difference of share of event CartScreenAppear in groups A2 and B is statistically significant\n",
      "There is no difference, failed to reject null hypothesis\n",
      "p-value: 0.6264599792848009\n",
      "--------------------------------------------------------------------------------------------------------------\n",
      "\n",
      "H0: events MainScreenAppear in groups A2 and B are not different\n",
      "H1: the difference of share of event MainScreenAppear in groups A2 and B is statistically significant\n",
      "There is no difference, failed to reject null hypothesis\n",
      "p-value: 0.672316770476623\n",
      "--------------------------------------------------------------------------------------------------------------\n",
      "\n",
      "H0: events OffersScreenAppear in groups A2 and B are not different\n",
      "H1: the difference of share of event OffersScreenAppear in groups A2 and B is statistically significant\n",
      "There is no difference, failed to reject null hypothesis\n",
      "p-value: 0.8971376549155397\n",
      "--------------------------------------------------------------------------------------------------------------\n",
      "\n",
      "H0: events PaymentScreenSuccessful in groups A2 and B are not different\n",
      "H1: the difference of share of event PaymentScreenSuccessful in groups A2 and B is statistically significant\n",
      "There is no difference, failed to reject null hypothesis\n",
      "p-value: 0.6680367850275775\n",
      "--------------------------------------------------------------------------------------------------------------\n",
      "\n"
     ]
    }
   ],
   "source": [
    "# Test when alpha = 0.01\n",
    "for event in ['CartScreenAppear', 'MainScreenAppear', 'OffersScreenAppear',\n",
    "       'PaymentScreenSuccessful']:\n",
    "       z_function('A2', 'B', groups_by_events, event, lower_alpha)\n",
    "       print('-'*110)\n",
    "       print()"
   ]
  },
  {
   "cell_type": "code",
   "execution_count": null,
   "metadata": {
    "id": "zwiQ619gTN_g"
   },
   "outputs": [],
   "source": [
    "# Unite groups A1 and A2, sum their number of events\n",
    "groups_by_events['A'] = groups_by_events['A1'] + groups_by_events['A2']"
   ]
  },
  {
   "cell_type": "code",
   "execution_count": null,
   "metadata": {
    "colab": {
     "base_uri": "https://localhost:8080/",
     "height": 206
    },
    "id": "rkkc5lKsThFn",
    "outputId": "f23d45e7-3ed4-4329-d46e-982e4a503c38"
   },
   "outputs": [
    {
     "data": {
      "text/html": [
       "\n",
       "  <div id=\"df-a6335b58-439a-4b5b-bb47-c6b2292366ac\">\n",
       "    <div class=\"colab-df-container\">\n",
       "      <div>\n",
       "<style scoped>\n",
       "    .dataframe tbody tr th:only-of-type {\n",
       "        vertical-align: middle;\n",
       "    }\n",
       "\n",
       "    .dataframe tbody tr th {\n",
       "        vertical-align: top;\n",
       "    }\n",
       "\n",
       "    .dataframe thead th {\n",
       "        text-align: right;\n",
       "    }\n",
       "</style>\n",
       "<table border=\"1\" class=\"dataframe\">\n",
       "  <thead>\n",
       "    <tr style=\"text-align: right;\">\n",
       "      <th></th>\n",
       "      <th>A1</th>\n",
       "      <th>A2</th>\n",
       "      <th>B</th>\n",
       "      <th>A1_share</th>\n",
       "      <th>A2_share</th>\n",
       "      <th>B_share</th>\n",
       "      <th>A</th>\n",
       "    </tr>\n",
       "  </thead>\n",
       "  <tbody>\n",
       "    <tr>\n",
       "      <th>CartScreenAppear</th>\n",
       "      <td>1266</td>\n",
       "      <td>1239</td>\n",
       "      <td>1231</td>\n",
       "      <td>0.51</td>\n",
       "      <td>0.49</td>\n",
       "      <td>0.49</td>\n",
       "      <td>2505</td>\n",
       "    </tr>\n",
       "    <tr>\n",
       "      <th>MainScreenAppear</th>\n",
       "      <td>2450</td>\n",
       "      <td>2479</td>\n",
       "      <td>2494</td>\n",
       "      <td>0.99</td>\n",
       "      <td>0.99</td>\n",
       "      <td>0.98</td>\n",
       "      <td>4929</td>\n",
       "    </tr>\n",
       "    <tr>\n",
       "      <th>OffersScreenAppear</th>\n",
       "      <td>1542</td>\n",
       "      <td>1524</td>\n",
       "      <td>1531</td>\n",
       "      <td>0.62</td>\n",
       "      <td>0.61</td>\n",
       "      <td>0.60</td>\n",
       "      <td>3066</td>\n",
       "    </tr>\n",
       "    <tr>\n",
       "      <th>PaymentScreenSuccessful</th>\n",
       "      <td>1200</td>\n",
       "      <td>1158</td>\n",
       "      <td>1182</td>\n",
       "      <td>0.48</td>\n",
       "      <td>0.46</td>\n",
       "      <td>0.47</td>\n",
       "      <td>2358</td>\n",
       "    </tr>\n",
       "    <tr>\n",
       "      <th>Total</th>\n",
       "      <td>2483</td>\n",
       "      <td>2516</td>\n",
       "      <td>2535</td>\n",
       "      <td>1.00</td>\n",
       "      <td>1.00</td>\n",
       "      <td>1.00</td>\n",
       "      <td>4999</td>\n",
       "    </tr>\n",
       "  </tbody>\n",
       "</table>\n",
       "</div>\n",
       "      <button class=\"colab-df-convert\" onclick=\"convertToInteractive('df-a6335b58-439a-4b5b-bb47-c6b2292366ac')\"\n",
       "              title=\"Convert this dataframe to an interactive table.\"\n",
       "              style=\"display:none;\">\n",
       "        \n",
       "  <svg xmlns=\"http://www.w3.org/2000/svg\" height=\"24px\"viewBox=\"0 0 24 24\"\n",
       "       width=\"24px\">\n",
       "    <path d=\"M0 0h24v24H0V0z\" fill=\"none\"/>\n",
       "    <path d=\"M18.56 5.44l.94 2.06.94-2.06 2.06-.94-2.06-.94-.94-2.06-.94 2.06-2.06.94zm-11 1L8.5 8.5l.94-2.06 2.06-.94-2.06-.94L8.5 2.5l-.94 2.06-2.06.94zm10 10l.94 2.06.94-2.06 2.06-.94-2.06-.94-.94-2.06-.94 2.06-2.06.94z\"/><path d=\"M17.41 7.96l-1.37-1.37c-.4-.4-.92-.59-1.43-.59-.52 0-1.04.2-1.43.59L10.3 9.45l-7.72 7.72c-.78.78-.78 2.05 0 2.83L4 21.41c.39.39.9.59 1.41.59.51 0 1.02-.2 1.41-.59l7.78-7.78 2.81-2.81c.8-.78.8-2.07 0-2.86zM5.41 20L4 18.59l7.72-7.72 1.47 1.35L5.41 20z\"/>\n",
       "  </svg>\n",
       "      </button>\n",
       "      \n",
       "  <style>\n",
       "    .colab-df-container {\n",
       "      display:flex;\n",
       "      flex-wrap:wrap;\n",
       "      gap: 12px;\n",
       "    }\n",
       "\n",
       "    .colab-df-convert {\n",
       "      background-color: #E8F0FE;\n",
       "      border: none;\n",
       "      border-radius: 50%;\n",
       "      cursor: pointer;\n",
       "      display: none;\n",
       "      fill: #1967D2;\n",
       "      height: 32px;\n",
       "      padding: 0 0 0 0;\n",
       "      width: 32px;\n",
       "    }\n",
       "\n",
       "    .colab-df-convert:hover {\n",
       "      background-color: #E2EBFA;\n",
       "      box-shadow: 0px 1px 2px rgba(60, 64, 67, 0.3), 0px 1px 3px 1px rgba(60, 64, 67, 0.15);\n",
       "      fill: #174EA6;\n",
       "    }\n",
       "\n",
       "    [theme=dark] .colab-df-convert {\n",
       "      background-color: #3B4455;\n",
       "      fill: #D2E3FC;\n",
       "    }\n",
       "\n",
       "    [theme=dark] .colab-df-convert:hover {\n",
       "      background-color: #434B5C;\n",
       "      box-shadow: 0px 1px 3px 1px rgba(0, 0, 0, 0.15);\n",
       "      filter: drop-shadow(0px 1px 2px rgba(0, 0, 0, 0.3));\n",
       "      fill: #FFFFFF;\n",
       "    }\n",
       "  </style>\n",
       "\n",
       "      <script>\n",
       "        const buttonEl =\n",
       "          document.querySelector('#df-a6335b58-439a-4b5b-bb47-c6b2292366ac button.colab-df-convert');\n",
       "        buttonEl.style.display =\n",
       "          google.colab.kernel.accessAllowed ? 'block' : 'none';\n",
       "\n",
       "        async function convertToInteractive(key) {\n",
       "          const element = document.querySelector('#df-a6335b58-439a-4b5b-bb47-c6b2292366ac');\n",
       "          const dataTable =\n",
       "            await google.colab.kernel.invokeFunction('convertToInteractive',\n",
       "                                                     [key], {});\n",
       "          if (!dataTable) return;\n",
       "\n",
       "          const docLinkHtml = 'Like what you see? Visit the ' +\n",
       "            '<a target=\"_blank\" href=https://colab.research.google.com/notebooks/data_table.ipynb>data table notebook</a>'\n",
       "            + ' to learn more about interactive tables.';\n",
       "          element.innerHTML = '';\n",
       "          dataTable['output_type'] = 'display_data';\n",
       "          await google.colab.output.renderOutput(dataTable, element);\n",
       "          const docLink = document.createElement('div');\n",
       "          docLink.innerHTML = docLinkHtml;\n",
       "          element.appendChild(docLink);\n",
       "        }\n",
       "      </script>\n",
       "    </div>\n",
       "  </div>\n",
       "  "
      ],
      "text/plain": [
       "                           A1    A2     B  A1_share  A2_share  B_share     A\n",
       "CartScreenAppear         1266  1239  1231 0.51      0.49      0.49      2505\n",
       "MainScreenAppear         2450  2479  2494 0.99      0.99      0.98      4929\n",
       "OffersScreenAppear       1542  1524  1531 0.62      0.61      0.60      3066\n",
       "PaymentScreenSuccessful  1200  1158  1182 0.48      0.46      0.47      2358\n",
       "Total                    2483  2516  2535 1.00      1.00      1.00      4999"
      ]
     },
     "execution_count": 97,
     "metadata": {},
     "output_type": "execute_result"
    }
   ],
   "source": [
    "groups_by_events"
   ]
  },
  {
   "cell_type": "code",
   "execution_count": null,
   "metadata": {
    "id": "9gSNR-vlUSMY"
   },
   "outputs": [],
   "source": [
    "# Calculate united A's share\n",
    "groups_by_events['A_share'] = groups_by_events['A'] / groups_by_events.loc['Total']['A']"
   ]
  },
  {
   "cell_type": "code",
   "execution_count": null,
   "metadata": {
    "colab": {
     "base_uri": "https://localhost:8080/",
     "height": 206
    },
    "id": "zaqSMT75UVwn",
    "outputId": "bc64658d-a6bc-4163-aaf0-691ab3b4ce76"
   },
   "outputs": [
    {
     "data": {
      "text/html": [
       "\n",
       "  <div id=\"df-eb5247c8-3789-48f6-993c-7beaf390ed04\">\n",
       "    <div class=\"colab-df-container\">\n",
       "      <div>\n",
       "<style scoped>\n",
       "    .dataframe tbody tr th:only-of-type {\n",
       "        vertical-align: middle;\n",
       "    }\n",
       "\n",
       "    .dataframe tbody tr th {\n",
       "        vertical-align: top;\n",
       "    }\n",
       "\n",
       "    .dataframe thead th {\n",
       "        text-align: right;\n",
       "    }\n",
       "</style>\n",
       "<table border=\"1\" class=\"dataframe\">\n",
       "  <thead>\n",
       "    <tr style=\"text-align: right;\">\n",
       "      <th></th>\n",
       "      <th>A1</th>\n",
       "      <th>A2</th>\n",
       "      <th>B</th>\n",
       "      <th>A1_share</th>\n",
       "      <th>A2_share</th>\n",
       "      <th>B_share</th>\n",
       "      <th>A</th>\n",
       "      <th>A_share</th>\n",
       "    </tr>\n",
       "  </thead>\n",
       "  <tbody>\n",
       "    <tr>\n",
       "      <th>CartScreenAppear</th>\n",
       "      <td>1266</td>\n",
       "      <td>1239</td>\n",
       "      <td>1231</td>\n",
       "      <td>0.51</td>\n",
       "      <td>0.49</td>\n",
       "      <td>0.49</td>\n",
       "      <td>2505</td>\n",
       "      <td>0.50</td>\n",
       "    </tr>\n",
       "    <tr>\n",
       "      <th>MainScreenAppear</th>\n",
       "      <td>2450</td>\n",
       "      <td>2479</td>\n",
       "      <td>2494</td>\n",
       "      <td>0.99</td>\n",
       "      <td>0.99</td>\n",
       "      <td>0.98</td>\n",
       "      <td>4929</td>\n",
       "      <td>0.99</td>\n",
       "    </tr>\n",
       "    <tr>\n",
       "      <th>OffersScreenAppear</th>\n",
       "      <td>1542</td>\n",
       "      <td>1524</td>\n",
       "      <td>1531</td>\n",
       "      <td>0.62</td>\n",
       "      <td>0.61</td>\n",
       "      <td>0.60</td>\n",
       "      <td>3066</td>\n",
       "      <td>0.61</td>\n",
       "    </tr>\n",
       "    <tr>\n",
       "      <th>PaymentScreenSuccessful</th>\n",
       "      <td>1200</td>\n",
       "      <td>1158</td>\n",
       "      <td>1182</td>\n",
       "      <td>0.48</td>\n",
       "      <td>0.46</td>\n",
       "      <td>0.47</td>\n",
       "      <td>2358</td>\n",
       "      <td>0.47</td>\n",
       "    </tr>\n",
       "    <tr>\n",
       "      <th>Total</th>\n",
       "      <td>2483</td>\n",
       "      <td>2516</td>\n",
       "      <td>2535</td>\n",
       "      <td>1.00</td>\n",
       "      <td>1.00</td>\n",
       "      <td>1.00</td>\n",
       "      <td>4999</td>\n",
       "      <td>1.00</td>\n",
       "    </tr>\n",
       "  </tbody>\n",
       "</table>\n",
       "</div>\n",
       "      <button class=\"colab-df-convert\" onclick=\"convertToInteractive('df-eb5247c8-3789-48f6-993c-7beaf390ed04')\"\n",
       "              title=\"Convert this dataframe to an interactive table.\"\n",
       "              style=\"display:none;\">\n",
       "        \n",
       "  <svg xmlns=\"http://www.w3.org/2000/svg\" height=\"24px\"viewBox=\"0 0 24 24\"\n",
       "       width=\"24px\">\n",
       "    <path d=\"M0 0h24v24H0V0z\" fill=\"none\"/>\n",
       "    <path d=\"M18.56 5.44l.94 2.06.94-2.06 2.06-.94-2.06-.94-.94-2.06-.94 2.06-2.06.94zm-11 1L8.5 8.5l.94-2.06 2.06-.94-2.06-.94L8.5 2.5l-.94 2.06-2.06.94zm10 10l.94 2.06.94-2.06 2.06-.94-2.06-.94-.94-2.06-.94 2.06-2.06.94z\"/><path d=\"M17.41 7.96l-1.37-1.37c-.4-.4-.92-.59-1.43-.59-.52 0-1.04.2-1.43.59L10.3 9.45l-7.72 7.72c-.78.78-.78 2.05 0 2.83L4 21.41c.39.39.9.59 1.41.59.51 0 1.02-.2 1.41-.59l7.78-7.78 2.81-2.81c.8-.78.8-2.07 0-2.86zM5.41 20L4 18.59l7.72-7.72 1.47 1.35L5.41 20z\"/>\n",
       "  </svg>\n",
       "      </button>\n",
       "      \n",
       "  <style>\n",
       "    .colab-df-container {\n",
       "      display:flex;\n",
       "      flex-wrap:wrap;\n",
       "      gap: 12px;\n",
       "    }\n",
       "\n",
       "    .colab-df-convert {\n",
       "      background-color: #E8F0FE;\n",
       "      border: none;\n",
       "      border-radius: 50%;\n",
       "      cursor: pointer;\n",
       "      display: none;\n",
       "      fill: #1967D2;\n",
       "      height: 32px;\n",
       "      padding: 0 0 0 0;\n",
       "      width: 32px;\n",
       "    }\n",
       "\n",
       "    .colab-df-convert:hover {\n",
       "      background-color: #E2EBFA;\n",
       "      box-shadow: 0px 1px 2px rgba(60, 64, 67, 0.3), 0px 1px 3px 1px rgba(60, 64, 67, 0.15);\n",
       "      fill: #174EA6;\n",
       "    }\n",
       "\n",
       "    [theme=dark] .colab-df-convert {\n",
       "      background-color: #3B4455;\n",
       "      fill: #D2E3FC;\n",
       "    }\n",
       "\n",
       "    [theme=dark] .colab-df-convert:hover {\n",
       "      background-color: #434B5C;\n",
       "      box-shadow: 0px 1px 3px 1px rgba(0, 0, 0, 0.15);\n",
       "      filter: drop-shadow(0px 1px 2px rgba(0, 0, 0, 0.3));\n",
       "      fill: #FFFFFF;\n",
       "    }\n",
       "  </style>\n",
       "\n",
       "      <script>\n",
       "        const buttonEl =\n",
       "          document.querySelector('#df-eb5247c8-3789-48f6-993c-7beaf390ed04 button.colab-df-convert');\n",
       "        buttonEl.style.display =\n",
       "          google.colab.kernel.accessAllowed ? 'block' : 'none';\n",
       "\n",
       "        async function convertToInteractive(key) {\n",
       "          const element = document.querySelector('#df-eb5247c8-3789-48f6-993c-7beaf390ed04');\n",
       "          const dataTable =\n",
       "            await google.colab.kernel.invokeFunction('convertToInteractive',\n",
       "                                                     [key], {});\n",
       "          if (!dataTable) return;\n",
       "\n",
       "          const docLinkHtml = 'Like what you see? Visit the ' +\n",
       "            '<a target=\"_blank\" href=https://colab.research.google.com/notebooks/data_table.ipynb>data table notebook</a>'\n",
       "            + ' to learn more about interactive tables.';\n",
       "          element.innerHTML = '';\n",
       "          dataTable['output_type'] = 'display_data';\n",
       "          await google.colab.output.renderOutput(dataTable, element);\n",
       "          const docLink = document.createElement('div');\n",
       "          docLink.innerHTML = docLinkHtml;\n",
       "          element.appendChild(docLink);\n",
       "        }\n",
       "      </script>\n",
       "    </div>\n",
       "  </div>\n",
       "  "
      ],
      "text/plain": [
       "                           A1    A2     B  A1_share  A2_share  B_share     A  \\\n",
       "CartScreenAppear         1266  1239  1231 0.51      0.49      0.49      2505   \n",
       "MainScreenAppear         2450  2479  2494 0.99      0.99      0.98      4929   \n",
       "OffersScreenAppear       1542  1524  1531 0.62      0.61      0.60      3066   \n",
       "PaymentScreenSuccessful  1200  1158  1182 0.48      0.46      0.47      2358   \n",
       "Total                    2483  2516  2535 1.00      1.00      1.00      4999   \n",
       "\n",
       "                         A_share  \n",
       "CartScreenAppear        0.50      \n",
       "MainScreenAppear        0.99      \n",
       "OffersScreenAppear      0.61      \n",
       "PaymentScreenSuccessful 0.47      \n",
       "Total                   1.00      "
      ]
     },
     "execution_count": 99,
     "metadata": {},
     "output_type": "execute_result"
    }
   ],
   "source": [
    "groups_by_events"
   ]
  },
  {
   "cell_type": "code",
   "execution_count": null,
   "metadata": {
    "colab": {
     "base_uri": "https://localhost:8080/"
    },
    "id": "idfwawlNUXK3",
    "outputId": "96024f31-6cbf-4caa-d871-a5d4ce913e57"
   },
   "outputs": [
    {
     "name": "stdout",
     "output_type": "stream",
     "text": [
      "H0: events MainScreenAppear in groups A and B are not different\n",
      "H1: the difference of share of event MainScreenAppear in groups A and B is statistically significant\n",
      "There is no difference, failed to reject null hypothesis\n",
      "p-value: 0.4599468774918499\n",
      "--------------------------------------------------------------------------------------------------------------\n",
      "\n",
      "H0: events OffersScreenAppear in groups A and B are not different\n",
      "H1: the difference of share of event OffersScreenAppear in groups A and B is statistically significant\n",
      "There is no difference, failed to reject null hypothesis\n",
      "p-value: 0.4303431159342346\n",
      "--------------------------------------------------------------------------------------------------------------\n",
      "\n",
      "H0: events CartScreenAppear in groups A and B are not different\n",
      "H1: the difference of share of event CartScreenAppear in groups A and B is statistically significant\n",
      "There is no difference, failed to reject null hypothesis\n",
      "p-value: 0.2036135648145111\n",
      "--------------------------------------------------------------------------------------------------------------\n",
      "\n",
      "H0: events PaymentScreenSuccessful in groups A and B are not different\n",
      "H1: the difference of share of event PaymentScreenSuccessful in groups A and B is statistically significant\n",
      "There is no difference, failed to reject null hypothesis\n",
      "p-value: 0.6559128929243401\n",
      "--------------------------------------------------------------------------------------------------------------\n",
      "\n"
     ]
    }
   ],
   "source": [
    "# Test when alpha = 0.05\n",
    "for event in ['MainScreenAppear', 'OffersScreenAppear', 'CartScreenAppear', 'PaymentScreenSuccessful']:\n",
    "    z_function('A', 'B', groups_by_events, event, alpha)\n",
    "    print('-'*110)\n",
    "    print()"
   ]
  },
  {
   "cell_type": "code",
   "execution_count": null,
   "metadata": {
    "colab": {
     "base_uri": "https://localhost:8080/"
    },
    "id": "0PVOCk7PGlpp",
    "outputId": "8c870eef-bb3a-40bd-d258-1ff0e65d8e64"
   },
   "outputs": [
    {
     "name": "stdout",
     "output_type": "stream",
     "text": [
      "H0: events MainScreenAppear in groups A and B are not different\n",
      "H1: the difference of share of event MainScreenAppear in groups A and B is statistically significant\n",
      "There is no difference, failed to reject null hypothesis\n",
      "p-value: 0.4599468774918499\n",
      "--------------------------------------------------------------------------------------------------------------\n",
      "\n",
      "H0: events OffersScreenAppear in groups A and B are not different\n",
      "H1: the difference of share of event OffersScreenAppear in groups A and B is statistically significant\n",
      "There is no difference, failed to reject null hypothesis\n",
      "p-value: 0.4303431159342346\n",
      "--------------------------------------------------------------------------------------------------------------\n",
      "\n",
      "H0: events CartScreenAppear in groups A and B are not different\n",
      "H1: the difference of share of event CartScreenAppear in groups A and B is statistically significant\n",
      "There is no difference, failed to reject null hypothesis\n",
      "p-value: 0.2036135648145111\n",
      "--------------------------------------------------------------------------------------------------------------\n",
      "\n",
      "H0: events PaymentScreenSuccessful in groups A and B are not different\n",
      "H1: the difference of share of event PaymentScreenSuccessful in groups A and B is statistically significant\n",
      "There is no difference, failed to reject null hypothesis\n",
      "p-value: 0.6559128929243401\n",
      "--------------------------------------------------------------------------------------------------------------\n",
      "\n"
     ]
    }
   ],
   "source": [
    "# Test when alpha = 0.01\n",
    "for event in ['MainScreenAppear', 'OffersScreenAppear', 'CartScreenAppear', 'PaymentScreenSuccessful']:\n",
    "    z_function('A', 'B', groups_by_events, event, lower_alpha)\n",
    "    print('-'*110)\n",
    "    print()"
   ]
  },
  {
   "cell_type": "markdown",
   "metadata": {
    "id": "B8s072NiQ3Wq"
   },
   "source": [
    "When compared to both of the control groups A1 and A2 and the united A group, the experimental group B showed no statistically significant difference in event shares.\n",
    "\n",
    "To sum up, within the A/A/B experiment **16 tests** were performed  (4 groups of tests with 4 events each) - in this combination:\n",
    "\n",
    "**pairs of comparisons:** A1/A2, A1/B, A2/B, A/B\n",
    "\n",
    "**events:** `MainScreenAppear`, `OffersScreenAppear`, `CartScreenAppear`, `PaymentScreenSuccessful`.\n",
    "\n",
    "In such cases the higher the alpha level of significance, the higher becomes the probability of a Type I error. Multiple pairwise comparisons increase the probability that the test will show a false positive result at some point, and to reduce this probability of error of the first type and adjust the required significance level alpha, a correction for multiple comparisons was applied and level of significance was lowered to 0.01.\n",
    "\n",
    "Lets' vsualize our results:"
   ]
  },
  {
   "cell_type": "code",
   "execution_count": null,
   "metadata": {
    "colab": {
     "base_uri": "https://localhost:8080/",
     "height": 143
    },
    "id": "24lTAPKUTSy8",
    "outputId": "22639ae6-7c6a-439d-bccb-02dabd78141b"
   },
   "outputs": [
    {
     "data": {
      "text/html": [
       "\n",
       "  <div id=\"df-fb5b107c-0291-4524-a4cd-80f0fc9572e1\">\n",
       "    <div class=\"colab-df-container\">\n",
       "      <div>\n",
       "<style scoped>\n",
       "    .dataframe tbody tr th:only-of-type {\n",
       "        vertical-align: middle;\n",
       "    }\n",
       "\n",
       "    .dataframe tbody tr th {\n",
       "        vertical-align: top;\n",
       "    }\n",
       "\n",
       "    .dataframe thead th {\n",
       "        text-align: right;\n",
       "    }\n",
       "</style>\n",
       "<table border=\"1\" class=\"dataframe\">\n",
       "  <thead>\n",
       "    <tr style=\"text-align: right;\">\n",
       "      <th></th>\n",
       "      <th>A1</th>\n",
       "      <th>A2</th>\n",
       "      <th>B</th>\n",
       "      <th>A1_share</th>\n",
       "      <th>A2_share</th>\n",
       "      <th>B_share</th>\n",
       "      <th>A</th>\n",
       "      <th>A_share</th>\n",
       "    </tr>\n",
       "  </thead>\n",
       "  <tbody>\n",
       "    <tr>\n",
       "      <th>MainScreenAppear</th>\n",
       "      <td>2450</td>\n",
       "      <td>2479</td>\n",
       "      <td>2494</td>\n",
       "      <td>0.99</td>\n",
       "      <td>0.99</td>\n",
       "      <td>0.98</td>\n",
       "      <td>4929</td>\n",
       "      <td>0.99</td>\n",
       "    </tr>\n",
       "    <tr>\n",
       "      <th>OffersScreenAppear</th>\n",
       "      <td>1542</td>\n",
       "      <td>1524</td>\n",
       "      <td>1531</td>\n",
       "      <td>0.62</td>\n",
       "      <td>0.61</td>\n",
       "      <td>0.60</td>\n",
       "      <td>3066</td>\n",
       "      <td>0.61</td>\n",
       "    </tr>\n",
       "    <tr>\n",
       "      <th>PaymentScreenSuccessful</th>\n",
       "      <td>1200</td>\n",
       "      <td>1158</td>\n",
       "      <td>1182</td>\n",
       "      <td>0.48</td>\n",
       "      <td>0.46</td>\n",
       "      <td>0.47</td>\n",
       "      <td>2358</td>\n",
       "      <td>0.47</td>\n",
       "    </tr>\n",
       "  </tbody>\n",
       "</table>\n",
       "</div>\n",
       "      <button class=\"colab-df-convert\" onclick=\"convertToInteractive('df-fb5b107c-0291-4524-a4cd-80f0fc9572e1')\"\n",
       "              title=\"Convert this dataframe to an interactive table.\"\n",
       "              style=\"display:none;\">\n",
       "        \n",
       "  <svg xmlns=\"http://www.w3.org/2000/svg\" height=\"24px\"viewBox=\"0 0 24 24\"\n",
       "       width=\"24px\">\n",
       "    <path d=\"M0 0h24v24H0V0z\" fill=\"none\"/>\n",
       "    <path d=\"M18.56 5.44l.94 2.06.94-2.06 2.06-.94-2.06-.94-.94-2.06-.94 2.06-2.06.94zm-11 1L8.5 8.5l.94-2.06 2.06-.94-2.06-.94L8.5 2.5l-.94 2.06-2.06.94zm10 10l.94 2.06.94-2.06 2.06-.94-2.06-.94-.94-2.06-.94 2.06-2.06.94z\"/><path d=\"M17.41 7.96l-1.37-1.37c-.4-.4-.92-.59-1.43-.59-.52 0-1.04.2-1.43.59L10.3 9.45l-7.72 7.72c-.78.78-.78 2.05 0 2.83L4 21.41c.39.39.9.59 1.41.59.51 0 1.02-.2 1.41-.59l7.78-7.78 2.81-2.81c.8-.78.8-2.07 0-2.86zM5.41 20L4 18.59l7.72-7.72 1.47 1.35L5.41 20z\"/>\n",
       "  </svg>\n",
       "      </button>\n",
       "      \n",
       "  <style>\n",
       "    .colab-df-container {\n",
       "      display:flex;\n",
       "      flex-wrap:wrap;\n",
       "      gap: 12px;\n",
       "    }\n",
       "\n",
       "    .colab-df-convert {\n",
       "      background-color: #E8F0FE;\n",
       "      border: none;\n",
       "      border-radius: 50%;\n",
       "      cursor: pointer;\n",
       "      display: none;\n",
       "      fill: #1967D2;\n",
       "      height: 32px;\n",
       "      padding: 0 0 0 0;\n",
       "      width: 32px;\n",
       "    }\n",
       "\n",
       "    .colab-df-convert:hover {\n",
       "      background-color: #E2EBFA;\n",
       "      box-shadow: 0px 1px 2px rgba(60, 64, 67, 0.3), 0px 1px 3px 1px rgba(60, 64, 67, 0.15);\n",
       "      fill: #174EA6;\n",
       "    }\n",
       "\n",
       "    [theme=dark] .colab-df-convert {\n",
       "      background-color: #3B4455;\n",
       "      fill: #D2E3FC;\n",
       "    }\n",
       "\n",
       "    [theme=dark] .colab-df-convert:hover {\n",
       "      background-color: #434B5C;\n",
       "      box-shadow: 0px 1px 3px 1px rgba(0, 0, 0, 0.15);\n",
       "      filter: drop-shadow(0px 1px 2px rgba(0, 0, 0, 0.3));\n",
       "      fill: #FFFFFF;\n",
       "    }\n",
       "  </style>\n",
       "\n",
       "      <script>\n",
       "        const buttonEl =\n",
       "          document.querySelector('#df-fb5b107c-0291-4524-a4cd-80f0fc9572e1 button.colab-df-convert');\n",
       "        buttonEl.style.display =\n",
       "          google.colab.kernel.accessAllowed ? 'block' : 'none';\n",
       "\n",
       "        async function convertToInteractive(key) {\n",
       "          const element = document.querySelector('#df-fb5b107c-0291-4524-a4cd-80f0fc9572e1');\n",
       "          const dataTable =\n",
       "            await google.colab.kernel.invokeFunction('convertToInteractive',\n",
       "                                                     [key], {});\n",
       "          if (!dataTable) return;\n",
       "\n",
       "          const docLinkHtml = 'Like what you see? Visit the ' +\n",
       "            '<a target=\"_blank\" href=https://colab.research.google.com/notebooks/data_table.ipynb>data table notebook</a>'\n",
       "            + ' to learn more about interactive tables.';\n",
       "          element.innerHTML = '';\n",
       "          dataTable['output_type'] = 'display_data';\n",
       "          await google.colab.output.renderOutput(dataTable, element);\n",
       "          const docLink = document.createElement('div');\n",
       "          docLink.innerHTML = docLinkHtml;\n",
       "          element.appendChild(docLink);\n",
       "        }\n",
       "      </script>\n",
       "    </div>\n",
       "  </div>\n",
       "  "
      ],
      "text/plain": [
       "                           A1    A2     B  A1_share  A2_share  B_share     A  \\\n",
       "MainScreenAppear         2450  2479  2494 0.99      0.99      0.98      4929   \n",
       "OffersScreenAppear       1542  1524  1531 0.62      0.61      0.60      3066   \n",
       "PaymentScreenSuccessful  1200  1158  1182 0.48      0.46      0.47      2358   \n",
       "\n",
       "                         A_share  \n",
       "MainScreenAppear        0.99      \n",
       "OffersScreenAppear      0.61      \n",
       "PaymentScreenSuccessful 0.47      "
      ]
     },
     "execution_count": 102,
     "metadata": {},
     "output_type": "execute_result"
    }
   ],
   "source": [
    "groups_by_events[1:4]"
   ]
  },
  {
   "cell_type": "code",
   "execution_count": null,
   "metadata": {
    "colab": {
     "base_uri": "https://localhost:8080/",
     "height": 517
    },
    "id": "V6P9-uj0U_Qf",
    "outputId": "e5c0ab8b-5e03-4c36-a7d4-1af2b22a148b"
   },
   "outputs": [
    {
     "data": {
      "text/html": [
       "<html>\n",
       "<head><meta charset=\"utf-8\" /></head>\n",
       "<body>\n",
       "    <div>            <script src=\"https://cdnjs.cloudflare.com/ajax/libs/mathjax/2.7.5/MathJax.js?config=TeX-AMS-MML_SVG\"></script><script type=\"text/javascript\">if (window.MathJax) {MathJax.Hub.Config({SVG: {font: \"STIX-Web\"}});}</script>                <script type=\"text/javascript\">window.PlotlyConfig = {MathJaxConfig: 'local'};</script>\n",
       "        <script src=\"https://cdn.plot.ly/plotly-2.8.3.min.js\"></script>                <div id=\"5225e7d8-1688-412c-8204-80e81e213035\" class=\"plotly-graph-div\" style=\"height:500px; width:900px;\"></div>            <script type=\"text/javascript\">                                    window.PLOTLYENV=window.PLOTLYENV || {};                                    if (document.getElementById(\"5225e7d8-1688-412c-8204-80e81e213035\")) {                    Plotly.newPlot(                        \"5225e7d8-1688-412c-8204-80e81e213035\",                        [{\"marker\":{\"color\":\"grey\"},\"opacity\":0.65,\"textinfo\":\"value+percent initial\",\"x\":[2450,1542,1200],\"y\":[\"MainScreenAppear\",\"OffersScreenAppear\",\"PaymentScreenSuccessful\"],\"type\":\"funnel\",\"xaxis\":\"x\",\"yaxis\":\"y\"},{\"marker\":{\"color\":\"green\"},\"opacity\":0.65,\"textinfo\":\"value+percent initial\",\"x\":[2479,1524,1158],\"y\":[\"MainScreenAppear\",\"OffersScreenAppear\",\"PaymentScreenSuccessful\"],\"type\":\"funnel\",\"xaxis\":\"x2\",\"yaxis\":\"y2\"},{\"marker\":{\"color\":\"red\"},\"opacity\":0.65,\"textinfo\":\"value+percent initial\",\"x\":[2494,1531,1182],\"y\":[\"MainScreenAppear\",\"OffersScreenAppear\",\"PaymentScreenSuccessful\"],\"type\":\"funnel\",\"xaxis\":\"x3\",\"yaxis\":\"y3\"},{\"marker\":{\"color\":\"blue\"},\"opacity\":0.65,\"textinfo\":\"value+percent initial\",\"x\":[4929,3066,2358],\"y\":[\"MainScreenAppear\",\"OffersScreenAppear\",\"PaymentScreenSuccessful\"],\"type\":\"funnel\",\"xaxis\":\"x4\",\"yaxis\":\"y4\"}],                        {\"template\":{\"data\":{\"bar\":[{\"error_x\":{\"color\":\"#2a3f5f\"},\"error_y\":{\"color\":\"#2a3f5f\"},\"marker\":{\"line\":{\"color\":\"#E5ECF6\",\"width\":0.5},\"pattern\":{\"fillmode\":\"overlay\",\"size\":10,\"solidity\":0.2}},\"type\":\"bar\"}],\"barpolar\":[{\"marker\":{\"line\":{\"color\":\"#E5ECF6\",\"width\":0.5},\"pattern\":{\"fillmode\":\"overlay\",\"size\":10,\"solidity\":0.2}},\"type\":\"barpolar\"}],\"carpet\":[{\"aaxis\":{\"endlinecolor\":\"#2a3f5f\",\"gridcolor\":\"white\",\"linecolor\":\"white\",\"minorgridcolor\":\"white\",\"startlinecolor\":\"#2a3f5f\"},\"baxis\":{\"endlinecolor\":\"#2a3f5f\",\"gridcolor\":\"white\",\"linecolor\":\"white\",\"minorgridcolor\":\"white\",\"startlinecolor\":\"#2a3f5f\"},\"type\":\"carpet\"}],\"choropleth\":[{\"colorbar\":{\"outlinewidth\":0,\"ticks\":\"\"},\"type\":\"choropleth\"}],\"contour\":[{\"colorbar\":{\"outlinewidth\":0,\"ticks\":\"\"},\"colorscale\":[[0.0,\"#0d0887\"],[0.1111111111111111,\"#46039f\"],[0.2222222222222222,\"#7201a8\"],[0.3333333333333333,\"#9c179e\"],[0.4444444444444444,\"#bd3786\"],[0.5555555555555556,\"#d8576b\"],[0.6666666666666666,\"#ed7953\"],[0.7777777777777778,\"#fb9f3a\"],[0.8888888888888888,\"#fdca26\"],[1.0,\"#f0f921\"]],\"type\":\"contour\"}],\"contourcarpet\":[{\"colorbar\":{\"outlinewidth\":0,\"ticks\":\"\"},\"type\":\"contourcarpet\"}],\"heatmap\":[{\"colorbar\":{\"outlinewidth\":0,\"ticks\":\"\"},\"colorscale\":[[0.0,\"#0d0887\"],[0.1111111111111111,\"#46039f\"],[0.2222222222222222,\"#7201a8\"],[0.3333333333333333,\"#9c179e\"],[0.4444444444444444,\"#bd3786\"],[0.5555555555555556,\"#d8576b\"],[0.6666666666666666,\"#ed7953\"],[0.7777777777777778,\"#fb9f3a\"],[0.8888888888888888,\"#fdca26\"],[1.0,\"#f0f921\"]],\"type\":\"heatmap\"}],\"heatmapgl\":[{\"colorbar\":{\"outlinewidth\":0,\"ticks\":\"\"},\"colorscale\":[[0.0,\"#0d0887\"],[0.1111111111111111,\"#46039f\"],[0.2222222222222222,\"#7201a8\"],[0.3333333333333333,\"#9c179e\"],[0.4444444444444444,\"#bd3786\"],[0.5555555555555556,\"#d8576b\"],[0.6666666666666666,\"#ed7953\"],[0.7777777777777778,\"#fb9f3a\"],[0.8888888888888888,\"#fdca26\"],[1.0,\"#f0f921\"]],\"type\":\"heatmapgl\"}],\"histogram\":[{\"marker\":{\"pattern\":{\"fillmode\":\"overlay\",\"size\":10,\"solidity\":0.2}},\"type\":\"histogram\"}],\"histogram2d\":[{\"colorbar\":{\"outlinewidth\":0,\"ticks\":\"\"},\"colorscale\":[[0.0,\"#0d0887\"],[0.1111111111111111,\"#46039f\"],[0.2222222222222222,\"#7201a8\"],[0.3333333333333333,\"#9c179e\"],[0.4444444444444444,\"#bd3786\"],[0.5555555555555556,\"#d8576b\"],[0.6666666666666666,\"#ed7953\"],[0.7777777777777778,\"#fb9f3a\"],[0.8888888888888888,\"#fdca26\"],[1.0,\"#f0f921\"]],\"type\":\"histogram2d\"}],\"histogram2dcontour\":[{\"colorbar\":{\"outlinewidth\":0,\"ticks\":\"\"},\"colorscale\":[[0.0,\"#0d0887\"],[0.1111111111111111,\"#46039f\"],[0.2222222222222222,\"#7201a8\"],[0.3333333333333333,\"#9c179e\"],[0.4444444444444444,\"#bd3786\"],[0.5555555555555556,\"#d8576b\"],[0.6666666666666666,\"#ed7953\"],[0.7777777777777778,\"#fb9f3a\"],[0.8888888888888888,\"#fdca26\"],[1.0,\"#f0f921\"]],\"type\":\"histogram2dcontour\"}],\"mesh3d\":[{\"colorbar\":{\"outlinewidth\":0,\"ticks\":\"\"},\"type\":\"mesh3d\"}],\"parcoords\":[{\"line\":{\"colorbar\":{\"outlinewidth\":0,\"ticks\":\"\"}},\"type\":\"parcoords\"}],\"pie\":[{\"automargin\":true,\"type\":\"pie\"}],\"scatter\":[{\"marker\":{\"colorbar\":{\"outlinewidth\":0,\"ticks\":\"\"}},\"type\":\"scatter\"}],\"scatter3d\":[{\"line\":{\"colorbar\":{\"outlinewidth\":0,\"ticks\":\"\"}},\"marker\":{\"colorbar\":{\"outlinewidth\":0,\"ticks\":\"\"}},\"type\":\"scatter3d\"}],\"scattercarpet\":[{\"marker\":{\"colorbar\":{\"outlinewidth\":0,\"ticks\":\"\"}},\"type\":\"scattercarpet\"}],\"scattergeo\":[{\"marker\":{\"colorbar\":{\"outlinewidth\":0,\"ticks\":\"\"}},\"type\":\"scattergeo\"}],\"scattergl\":[{\"marker\":{\"colorbar\":{\"outlinewidth\":0,\"ticks\":\"\"}},\"type\":\"scattergl\"}],\"scattermapbox\":[{\"marker\":{\"colorbar\":{\"outlinewidth\":0,\"ticks\":\"\"}},\"type\":\"scattermapbox\"}],\"scatterpolar\":[{\"marker\":{\"colorbar\":{\"outlinewidth\":0,\"ticks\":\"\"}},\"type\":\"scatterpolar\"}],\"scatterpolargl\":[{\"marker\":{\"colorbar\":{\"outlinewidth\":0,\"ticks\":\"\"}},\"type\":\"scatterpolargl\"}],\"scatterternary\":[{\"marker\":{\"colorbar\":{\"outlinewidth\":0,\"ticks\":\"\"}},\"type\":\"scatterternary\"}],\"surface\":[{\"colorbar\":{\"outlinewidth\":0,\"ticks\":\"\"},\"colorscale\":[[0.0,\"#0d0887\"],[0.1111111111111111,\"#46039f\"],[0.2222222222222222,\"#7201a8\"],[0.3333333333333333,\"#9c179e\"],[0.4444444444444444,\"#bd3786\"],[0.5555555555555556,\"#d8576b\"],[0.6666666666666666,\"#ed7953\"],[0.7777777777777778,\"#fb9f3a\"],[0.8888888888888888,\"#fdca26\"],[1.0,\"#f0f921\"]],\"type\":\"surface\"}],\"table\":[{\"cells\":{\"fill\":{\"color\":\"#EBF0F8\"},\"line\":{\"color\":\"white\"}},\"header\":{\"fill\":{\"color\":\"#C8D4E3\"},\"line\":{\"color\":\"white\"}},\"type\":\"table\"}]},\"layout\":{\"annotationdefaults\":{\"arrowcolor\":\"#2a3f5f\",\"arrowhead\":0,\"arrowwidth\":1},\"autotypenumbers\":\"strict\",\"coloraxis\":{\"colorbar\":{\"outlinewidth\":0,\"ticks\":\"\"}},\"colorscale\":{\"diverging\":[[0,\"#8e0152\"],[0.1,\"#c51b7d\"],[0.2,\"#de77ae\"],[0.3,\"#f1b6da\"],[0.4,\"#fde0ef\"],[0.5,\"#f7f7f7\"],[0.6,\"#e6f5d0\"],[0.7,\"#b8e186\"],[0.8,\"#7fbc41\"],[0.9,\"#4d9221\"],[1,\"#276419\"]],\"sequential\":[[0.0,\"#0d0887\"],[0.1111111111111111,\"#46039f\"],[0.2222222222222222,\"#7201a8\"],[0.3333333333333333,\"#9c179e\"],[0.4444444444444444,\"#bd3786\"],[0.5555555555555556,\"#d8576b\"],[0.6666666666666666,\"#ed7953\"],[0.7777777777777778,\"#fb9f3a\"],[0.8888888888888888,\"#fdca26\"],[1.0,\"#f0f921\"]],\"sequentialminus\":[[0.0,\"#0d0887\"],[0.1111111111111111,\"#46039f\"],[0.2222222222222222,\"#7201a8\"],[0.3333333333333333,\"#9c179e\"],[0.4444444444444444,\"#bd3786\"],[0.5555555555555556,\"#d8576b\"],[0.6666666666666666,\"#ed7953\"],[0.7777777777777778,\"#fb9f3a\"],[0.8888888888888888,\"#fdca26\"],[1.0,\"#f0f921\"]]},\"colorway\":[\"#636efa\",\"#EF553B\",\"#00cc96\",\"#ab63fa\",\"#FFA15A\",\"#19d3f3\",\"#FF6692\",\"#B6E880\",\"#FF97FF\",\"#FECB52\"],\"font\":{\"color\":\"#2a3f5f\"},\"geo\":{\"bgcolor\":\"white\",\"lakecolor\":\"white\",\"landcolor\":\"#E5ECF6\",\"showlakes\":true,\"showland\":true,\"subunitcolor\":\"white\"},\"hoverlabel\":{\"align\":\"left\"},\"hovermode\":\"closest\",\"mapbox\":{\"style\":\"light\"},\"paper_bgcolor\":\"white\",\"plot_bgcolor\":\"#E5ECF6\",\"polar\":{\"angularaxis\":{\"gridcolor\":\"white\",\"linecolor\":\"white\",\"ticks\":\"\"},\"bgcolor\":\"#E5ECF6\",\"radialaxis\":{\"gridcolor\":\"white\",\"linecolor\":\"white\",\"ticks\":\"\"}},\"scene\":{\"xaxis\":{\"backgroundcolor\":\"#E5ECF6\",\"gridcolor\":\"white\",\"gridwidth\":2,\"linecolor\":\"white\",\"showbackground\":true,\"ticks\":\"\",\"zerolinecolor\":\"white\"},\"yaxis\":{\"backgroundcolor\":\"#E5ECF6\",\"gridcolor\":\"white\",\"gridwidth\":2,\"linecolor\":\"white\",\"showbackground\":true,\"ticks\":\"\",\"zerolinecolor\":\"white\"},\"zaxis\":{\"backgroundcolor\":\"#E5ECF6\",\"gridcolor\":\"white\",\"gridwidth\":2,\"linecolor\":\"white\",\"showbackground\":true,\"ticks\":\"\",\"zerolinecolor\":\"white\"}},\"shapedefaults\":{\"line\":{\"color\":\"#2a3f5f\"}},\"ternary\":{\"aaxis\":{\"gridcolor\":\"white\",\"linecolor\":\"white\",\"ticks\":\"\"},\"baxis\":{\"gridcolor\":\"white\",\"linecolor\":\"white\",\"ticks\":\"\"},\"bgcolor\":\"#E5ECF6\",\"caxis\":{\"gridcolor\":\"white\",\"linecolor\":\"white\",\"ticks\":\"\"}},\"title\":{\"x\":0.05},\"xaxis\":{\"automargin\":true,\"gridcolor\":\"white\",\"linecolor\":\"white\",\"ticks\":\"\",\"title\":{\"standoff\":15},\"zerolinecolor\":\"white\",\"zerolinewidth\":2},\"yaxis\":{\"automargin\":true,\"gridcolor\":\"white\",\"linecolor\":\"white\",\"ticks\":\"\",\"title\":{\"standoff\":15},\"zerolinecolor\":\"white\",\"zerolinewidth\":2}}},\"xaxis\":{\"anchor\":\"y\",\"domain\":[0.0,0.45]},\"yaxis\":{\"anchor\":\"x\",\"domain\":[0.625,1.0],\"matches\":\"y3\"},\"xaxis2\":{\"anchor\":\"y2\",\"domain\":[0.55,1.0]},\"yaxis2\":{\"anchor\":\"x2\",\"domain\":[0.625,1.0],\"matches\":\"y3\",\"showticklabels\":false},\"xaxis3\":{\"anchor\":\"y3\",\"domain\":[0.0,0.45]},\"yaxis3\":{\"anchor\":\"x3\",\"domain\":[0.0,0.375]},\"xaxis4\":{\"anchor\":\"y4\",\"domain\":[0.55,1.0]},\"yaxis4\":{\"anchor\":\"x4\",\"domain\":[0.0,0.375],\"matches\":\"y3\",\"showticklabels\":false},\"annotations\":[{\"font\":{\"size\":16},\"showarrow\":false,\"text\":\"A1\",\"x\":0.225,\"xanchor\":\"center\",\"xref\":\"paper\",\"y\":1.0,\"yanchor\":\"bottom\",\"yref\":\"paper\"},{\"font\":{\"size\":16},\"showarrow\":false,\"text\":\"A2\",\"x\":0.775,\"xanchor\":\"center\",\"xref\":\"paper\",\"y\":1.0,\"yanchor\":\"bottom\",\"yref\":\"paper\"},{\"font\":{\"size\":16},\"showarrow\":false,\"text\":\"B\",\"x\":0.225,\"xanchor\":\"center\",\"xref\":\"paper\",\"y\":0.375,\"yanchor\":\"bottom\",\"yref\":\"paper\"},{\"font\":{\"size\":16},\"showarrow\":false,\"text\":\"A\",\"x\":0.775,\"xanchor\":\"center\",\"xref\":\"paper\",\"y\":0.375,\"yanchor\":\"bottom\",\"yref\":\"paper\"}],\"autosize\":false,\"width\":900,\"height\":500,\"margin\":{\"b\":0,\"l\":0,\"pad\":4,\"r\":40,\"t\":50},\"showlegend\":false,\"title\":{\"text\":\"Event funnel of A/A/B experiment\",\"x\":0.5}},                        {\"responsive\": true}                    ).then(function(){\n",
       "                            \n",
       "var gd = document.getElementById('5225e7d8-1688-412c-8204-80e81e213035');\n",
       "var x = new MutationObserver(function (mutations, observer) {{\n",
       "        var display = window.getComputedStyle(gd).display;\n",
       "        if (!display || display === 'none') {{\n",
       "            console.log([gd, 'removed!']);\n",
       "            Plotly.purge(gd);\n",
       "            observer.disconnect();\n",
       "        }}\n",
       "}});\n",
       "\n",
       "// Listen for the removal of the full notebook cells\n",
       "var notebookContainer = gd.closest('#notebook-container');\n",
       "if (notebookContainer) {{\n",
       "    x.observe(notebookContainer, {childList: true});\n",
       "}}\n",
       "\n",
       "// Listen for the clearing of the current output cell\n",
       "var outputEl = gd.closest('.output');\n",
       "if (outputEl) {{\n",
       "    x.observe(outputEl, {childList: true});\n",
       "}}\n",
       "\n",
       "                        })                };                            </script>        </div>\n",
       "</body>\n",
       "</html>"
      ]
     },
     "metadata": {},
     "output_type": "display_data"
    }
   ],
   "source": [
    "fig = make_subplots(rows=2, cols=2, shared_yaxes='all', subplot_titles=('A1', 'A2', 'B', 'A'))\n",
    "\n",
    "fig.add_trace(go.Funnel(y=groups_by_events[1:4].index, x=groups_by_events[1:4]['A1'], \n",
    "                         textinfo = \"value+percent initial\", opacity = 0.65, \n",
    "                         marker = {\"color\": \"grey\"}), row=1, col=1)\n",
    "\n",
    "fig.add_trace(go.Funnel(y=groups_by_events[1:4].index, x=groups_by_events[1:4]['A2'], \n",
    "                         textinfo = \"value+percent initial\", opacity = 0.65, \n",
    "                         marker = {\"color\": \"green\"}), row=1, col=2)\n",
    "\n",
    "fig.add_trace(go.Funnel(y=groups_by_events[1:4].index, x=groups_by_events[1:4]['B'], \n",
    "                         textinfo = \"value+percent initial\", opacity = 0.65, \n",
    "                         marker = {\"color\": \"red\"}), row=2, col=1)\n",
    "\n",
    "fig.add_trace(go.Funnel(y=groups_by_events[1:4].index, x=groups_by_events[1:4]['A'], \n",
    "                         textinfo = \"value+percent initial\", opacity = 0.65, \n",
    "                         marker = {\"color\": \"blue\"}), row=2, col=2)\n",
    "\n",
    "fig.update_layout(autosize=False, width=900, height=500, \n",
    "                  margin=go.layout.Margin(l=0, r=40, b=0, t=50, pad=4), showlegend = False)\n",
    "\n",
    "fig.update_layout(title='Event funnel of A/A/B experiment', title_x=0.5)\n",
    "\n",
    "\n",
    "fig.show()"
   ]
  },
  {
   "cell_type": "markdown",
   "metadata": {
    "id": "faKRPFkWlLI2"
   },
   "source": [
    "Based on the results of the A/A/B experiment, it was conducted that there were no statistically significant differences in the proportions of events in any of the analyzed groups at a 5% and 1% significance levels. That should mean, that changing the font did not affect the behavior of users, we can't say, that one of the fonts is certainly better than the other."
   ]
  },
  {
   "cell_type": "markdown",
   "metadata": {
    "id": "CZYul6fDTiiK"
   },
   "source": [
    "# General conclusions\n",
    "\n",
    "\n",
    "---\n",
    "The data provided for the analysis of the A/A/B experiment consisted of logs of users activity. After preprocessing the data: removed duplicates, changed data types and searching for outliers and anomalies this research found that in the period from July 25, 2019 till July 31-st, 2019 there was a very low amount of observatons, we eliminated this period and left with the first week of August (from August 1 to August 7, 2019). \n",
    "The split into groups was made properly.\n",
    "\n",
    "\n",
    "\n",
    "Brief characteristics of the application: \n",
    "\n",
    "- There were 243713 actions in the log\n",
    "- There were 7551 unique users\n",
    "- Each user performed 20 events on average\n",
    "- On average users made 17408 actions per day\n",
    "\n",
    "The subjects of this analysis were:\n",
    "\n",
    "* Event funnels,\n",
    "* A/A/B-experiment of changing the font in the application.\n",
    "\n",
    "\n",
    "**Recommendations:**\n",
    "\n",
    "1. The logging algorythm needs to be checked (duplicates detected and an uneven amount of data in the given period)\n",
    "1. The probability of usability problems should be concidered(11% refer to the tutorial, 16% returned to the it again)\n",
    "1. It is to be made sure that there are no problems with moving from the main screen to the offer screen, or to be considered improving the main screen and working out the ux design (this is the stage, where we lose the largest number of users)\n",
    "1. The payment screen must be checked as wells (only 6% of users who have completed all the steps in successfully paid for the order)\n",
    "1. For future descisions - if the designers team decides to change the font, this change can be done without concern that there will be changes in user behavior (there is no statistically significant differences in the proportions of events in any of the groups analyzed)."
   ]
  }
 ],
 "metadata": {
  "ExecuteTimeLog": [
   {
    "duration": 176,
    "start_time": "2022-04-30T07:09:29.675Z"
   },
   {
    "duration": 3253,
    "start_time": "2022-05-02T09:47:13.640Z"
   },
   {
    "duration": 289,
    "start_time": "2022-05-02T09:47:16.896Z"
   },
   {
    "duration": 51,
    "start_time": "2022-05-02T09:47:17.187Z"
   },
   {
    "duration": 4,
    "start_time": "2022-05-02T09:47:17.241Z"
   },
   {
    "duration": 56,
    "start_time": "2022-05-02T09:47:17.247Z"
   },
   {
    "duration": 108,
    "start_time": "2022-05-02T09:47:17.305Z"
   },
   {
    "duration": 87,
    "start_time": "2022-05-02T09:47:17.416Z"
   },
   {
    "duration": 112,
    "start_time": "2022-05-02T09:47:17.505Z"
   },
   {
    "duration": 151,
    "start_time": "2022-05-02T09:47:17.619Z"
   },
   {
    "duration": 712,
    "start_time": "2022-05-02T09:47:17.774Z"
   },
   {
    "duration": 131,
    "start_time": "2022-05-02T09:47:18.494Z"
   },
   {
    "duration": 142,
    "start_time": "2022-05-02T09:47:18.628Z"
   },
   {
    "duration": 132,
    "start_time": "2022-05-02T09:47:18.772Z"
   },
   {
    "duration": 15,
    "start_time": "2022-05-02T09:47:18.906Z"
   },
   {
    "duration": 48,
    "start_time": "2022-05-02T09:47:18.924Z"
   },
   {
    "duration": 204,
    "start_time": "2022-05-02T09:47:18.993Z"
   },
   {
    "duration": 36,
    "start_time": "2022-05-02T09:47:19.200Z"
   },
   {
    "duration": 647,
    "start_time": "2022-05-02T09:47:19.238Z"
   },
   {
    "duration": 37,
    "start_time": "2022-05-02T09:47:19.887Z"
   },
   {
    "duration": 70,
    "start_time": "2022-05-02T09:47:19.926Z"
   },
   {
    "duration": 121,
    "start_time": "2022-05-02T09:47:19.998Z"
   },
   {
    "duration": 134,
    "start_time": "2022-05-02T09:47:20.122Z"
   },
   {
    "duration": 58,
    "start_time": "2022-05-02T09:47:20.258Z"
   },
   {
    "duration": 118,
    "start_time": "2022-05-02T09:47:20.319Z"
   },
   {
    "duration": 27,
    "start_time": "2022-05-02T09:47:20.440Z"
   },
   {
    "duration": 35,
    "start_time": "2022-05-02T09:47:20.469Z"
   },
   {
    "duration": 6,
    "start_time": "2022-05-02T09:47:20.507Z"
   },
   {
    "duration": 6,
    "start_time": "2022-05-02T09:47:20.522Z"
   },
   {
    "duration": 7,
    "start_time": "2022-05-02T09:47:20.530Z"
   },
   {
    "duration": 13,
    "start_time": "2022-05-02T09:47:20.539Z"
   },
   {
    "duration": 15,
    "start_time": "2022-05-02T09:47:20.595Z"
   },
   {
    "duration": 30,
    "start_time": "2022-05-02T09:47:20.613Z"
   },
   {
    "duration": 52,
    "start_time": "2022-05-02T09:47:20.645Z"
   },
   {
    "duration": 13,
    "start_time": "2022-05-02T09:47:20.699Z"
   },
   {
    "duration": 137,
    "start_time": "2022-05-02T09:47:20.716Z"
   },
   {
    "duration": 14,
    "start_time": "2022-05-02T09:47:20.856Z"
   },
   {
    "duration": 31,
    "start_time": "2022-05-02T09:47:20.872Z"
   },
   {
    "duration": 13,
    "start_time": "2022-05-02T09:47:20.905Z"
   },
   {
    "duration": 10,
    "start_time": "2022-05-02T09:47:20.920Z"
   },
   {
    "duration": 12,
    "start_time": "2022-05-02T09:47:20.932Z"
   },
   {
    "duration": 51,
    "start_time": "2022-05-02T09:47:20.946Z"
   },
   {
    "duration": 27,
    "start_time": "2022-05-02T09:47:20.999Z"
   },
   {
    "duration": 69,
    "start_time": "2022-05-02T09:47:21.028Z"
   },
   {
    "duration": 6,
    "start_time": "2022-05-02T09:47:21.099Z"
   },
   {
    "duration": 155,
    "start_time": "2022-05-02T09:47:21.107Z"
   },
   {
    "duration": 9,
    "start_time": "2022-05-02T09:47:21.265Z"
   },
   {
    "duration": 17,
    "start_time": "2022-05-02T09:47:21.276Z"
   },
   {
    "duration": 9,
    "start_time": "2022-05-02T09:47:21.296Z"
   },
   {
    "duration": 8,
    "start_time": "2022-05-02T09:47:21.307Z"
   },
   {
    "duration": 18,
    "start_time": "2022-05-02T09:47:21.317Z"
   },
   {
    "duration": 8,
    "start_time": "2022-05-02T09:47:21.338Z"
   },
   {
    "duration": 10,
    "start_time": "2022-05-02T09:47:21.349Z"
   },
   {
    "duration": 37,
    "start_time": "2022-05-02T09:47:21.361Z"
   },
   {
    "duration": 12,
    "start_time": "2022-05-02T09:47:21.400Z"
   },
   {
    "duration": 171,
    "start_time": "2022-05-02T09:47:21.414Z"
   },
   {
    "duration": 10,
    "start_time": "2022-05-02T09:47:21.587Z"
   },
   {
    "duration": 11,
    "start_time": "2022-05-02T09:47:21.599Z"
   },
   {
    "duration": 15,
    "start_time": "2022-05-02T09:47:21.612Z"
   },
   {
    "duration": 29,
    "start_time": "2022-05-02T09:47:21.629Z"
   },
   {
    "duration": 42,
    "start_time": "2022-05-02T09:47:21.660Z"
   },
   {
    "duration": 10,
    "start_time": "2022-05-02T09:47:21.704Z"
   },
   {
    "duration": 15,
    "start_time": "2022-05-02T09:47:21.717Z"
   },
   {
    "duration": 13,
    "start_time": "2022-05-02T09:47:21.734Z"
   },
   {
    "duration": 10,
    "start_time": "2022-05-02T09:47:21.750Z"
   },
   {
    "duration": 37,
    "start_time": "2022-05-02T09:47:21.762Z"
   },
   {
    "duration": 19,
    "start_time": "2022-05-02T09:47:21.801Z"
   },
   {
    "duration": 18,
    "start_time": "2022-05-02T09:47:21.823Z"
   },
   {
    "duration": 51,
    "start_time": "2022-05-02T09:47:21.844Z"
   },
   {
    "duration": 17,
    "start_time": "2022-05-02T09:47:21.897Z"
   },
   {
    "duration": 20,
    "start_time": "2022-05-02T09:47:21.918Z"
   },
   {
    "duration": 9,
    "start_time": "2022-05-02T09:47:21.942Z"
   },
   {
    "duration": 45,
    "start_time": "2022-05-02T09:47:21.953Z"
   },
   {
    "duration": 8,
    "start_time": "2022-05-02T09:47:22.000Z"
   },
   {
    "duration": 20,
    "start_time": "2022-05-02T09:47:22.010Z"
   },
   {
    "duration": 18,
    "start_time": "2022-05-02T09:47:22.032Z"
   },
   {
    "duration": 51,
    "start_time": "2022-05-02T09:47:22.052Z"
   },
   {
    "duration": 17,
    "start_time": "2022-05-02T09:47:22.105Z"
   },
   {
    "duration": 110,
    "start_time": "2022-05-02T09:47:22.125Z"
   },
   {
    "duration": 1917,
    "start_time": "2022-05-02T09:49:53.346Z"
   },
   {
    "duration": 291,
    "start_time": "2022-05-02T09:49:55.266Z"
   },
   {
    "duration": 56,
    "start_time": "2022-05-02T09:49:55.559Z"
   },
   {
    "duration": 4,
    "start_time": "2022-05-02T09:49:55.618Z"
   },
   {
    "duration": 37,
    "start_time": "2022-05-02T09:49:55.624Z"
   },
   {
    "duration": 137,
    "start_time": "2022-05-02T09:49:55.663Z"
   },
   {
    "duration": 96,
    "start_time": "2022-05-02T09:49:55.802Z"
   },
   {
    "duration": 111,
    "start_time": "2022-05-02T09:49:55.900Z"
   },
   {
    "duration": 154,
    "start_time": "2022-05-02T09:49:56.013Z"
   },
   {
    "duration": 701,
    "start_time": "2022-05-02T09:49:56.172Z"
   },
   {
    "duration": 144,
    "start_time": "2022-05-02T09:49:56.876Z"
   },
   {
    "duration": 146,
    "start_time": "2022-05-02T09:49:57.023Z"
   },
   {
    "duration": 132,
    "start_time": "2022-05-02T09:49:57.171Z"
   },
   {
    "duration": 13,
    "start_time": "2022-05-02T09:49:57.306Z"
   },
   {
    "duration": 71,
    "start_time": "2022-05-02T09:49:57.322Z"
   },
   {
    "duration": 206,
    "start_time": "2022-05-02T09:49:57.395Z"
   },
   {
    "duration": 34,
    "start_time": "2022-05-02T09:49:57.603Z"
   },
   {
    "duration": 604,
    "start_time": "2022-05-02T09:49:57.639Z"
   },
   {
    "duration": 58,
    "start_time": "2022-05-02T09:49:58.245Z"
   },
   {
    "duration": 19,
    "start_time": "2022-05-02T09:49:58.305Z"
   },
   {
    "duration": 176,
    "start_time": "2022-05-02T09:49:58.326Z"
   },
   {
    "duration": 137,
    "start_time": "2022-05-02T09:49:58.504Z"
   },
   {
    "duration": 60,
    "start_time": "2022-05-02T09:49:58.643Z"
   },
   {
    "duration": 93,
    "start_time": "2022-05-02T09:49:58.705Z"
   },
   {
    "duration": 25,
    "start_time": "2022-05-02T09:49:58.800Z"
   },
   {
    "duration": 14,
    "start_time": "2022-05-02T09:49:58.827Z"
   },
   {
    "duration": 6,
    "start_time": "2022-05-02T09:49:58.843Z"
   },
   {
    "duration": 6,
    "start_time": "2022-05-02T09:49:58.896Z"
   },
   {
    "duration": 5,
    "start_time": "2022-05-02T09:49:58.904Z"
   },
   {
    "duration": 18,
    "start_time": "2022-05-02T09:49:58.912Z"
   },
   {
    "duration": 12,
    "start_time": "2022-05-02T09:49:58.932Z"
   },
   {
    "duration": 55,
    "start_time": "2022-05-02T09:49:58.946Z"
   },
   {
    "duration": 23,
    "start_time": "2022-05-02T09:49:59.003Z"
   },
   {
    "duration": 14,
    "start_time": "2022-05-02T09:49:59.028Z"
   },
   {
    "duration": 118,
    "start_time": "2022-05-02T09:49:59.044Z"
   },
   {
    "duration": 17,
    "start_time": "2022-05-02T09:49:59.164Z"
   },
   {
    "duration": 16,
    "start_time": "2022-05-02T09:49:59.193Z"
   },
   {
    "duration": 14,
    "start_time": "2022-05-02T09:49:59.211Z"
   },
   {
    "duration": 11,
    "start_time": "2022-05-02T09:49:59.227Z"
   },
   {
    "duration": 58,
    "start_time": "2022-05-02T09:49:59.240Z"
   },
   {
    "duration": 15,
    "start_time": "2022-05-02T09:49:59.300Z"
   },
   {
    "duration": 21,
    "start_time": "2022-05-02T09:49:59.317Z"
   },
   {
    "duration": 91,
    "start_time": "2022-05-02T09:49:59.340Z"
   },
   {
    "duration": 6,
    "start_time": "2022-05-02T09:49:59.434Z"
   },
   {
    "duration": 155,
    "start_time": "2022-05-02T09:49:59.442Z"
   },
   {
    "duration": 9,
    "start_time": "2022-05-02T09:49:59.600Z"
   },
   {
    "duration": 7,
    "start_time": "2022-05-02T09:49:59.611Z"
   },
   {
    "duration": 8,
    "start_time": "2022-05-02T09:49:59.620Z"
   },
   {
    "duration": 7,
    "start_time": "2022-05-02T09:49:59.630Z"
   },
   {
    "duration": 55,
    "start_time": "2022-05-02T09:49:59.640Z"
   },
   {
    "duration": 7,
    "start_time": "2022-05-02T09:49:59.697Z"
   },
   {
    "duration": 3,
    "start_time": "2022-05-02T09:49:59.707Z"
   },
   {
    "duration": 12,
    "start_time": "2022-05-02T09:49:59.713Z"
   },
   {
    "duration": 10,
    "start_time": "2022-05-02T09:49:59.727Z"
   },
   {
    "duration": 209,
    "start_time": "2022-05-02T09:49:59.740Z"
   },
   {
    "duration": 10,
    "start_time": "2022-05-02T09:49:59.951Z"
   },
   {
    "duration": 29,
    "start_time": "2022-05-02T09:49:59.963Z"
   },
   {
    "duration": 7,
    "start_time": "2022-05-02T09:49:59.995Z"
   },
   {
    "duration": 18,
    "start_time": "2022-05-02T09:50:00.004Z"
   },
   {
    "duration": 14,
    "start_time": "2022-05-02T09:50:00.025Z"
   },
   {
    "duration": 7,
    "start_time": "2022-05-02T09:50:00.041Z"
   },
   {
    "duration": 51,
    "start_time": "2022-05-02T09:50:00.050Z"
   },
   {
    "duration": 11,
    "start_time": "2022-05-02T09:50:00.103Z"
   },
   {
    "duration": 7,
    "start_time": "2022-05-02T09:50:00.116Z"
   },
   {
    "duration": 28,
    "start_time": "2022-05-02T09:50:00.126Z"
   },
   {
    "duration": 51,
    "start_time": "2022-05-02T09:50:00.157Z"
   },
   {
    "duration": 22,
    "start_time": "2022-05-02T09:50:00.210Z"
   },
   {
    "duration": 19,
    "start_time": "2022-05-02T09:50:00.235Z"
   },
   {
    "duration": 25,
    "start_time": "2022-05-02T09:50:00.293Z"
   },
   {
    "duration": 37,
    "start_time": "2022-05-02T09:50:00.321Z"
   },
   {
    "duration": 14,
    "start_time": "2022-05-02T09:50:00.360Z"
   },
   {
    "duration": 25,
    "start_time": "2022-05-02T09:50:00.377Z"
   },
   {
    "duration": 14,
    "start_time": "2022-05-02T09:50:00.405Z"
   },
   {
    "duration": 26,
    "start_time": "2022-05-02T09:50:00.422Z"
   },
   {
    "duration": 28,
    "start_time": "2022-05-02T09:50:00.451Z"
   },
   {
    "duration": 21,
    "start_time": "2022-05-02T09:50:00.494Z"
   },
   {
    "duration": 20,
    "start_time": "2022-05-02T09:50:00.517Z"
   },
   {
    "duration": 119,
    "start_time": "2022-05-02T09:50:00.539Z"
   },
   {
    "duration": 1904,
    "start_time": "2022-05-02T09:53:29.783Z"
   },
   {
    "duration": 290,
    "start_time": "2022-05-02T09:53:31.689Z"
   },
   {
    "duration": 59,
    "start_time": "2022-05-02T09:53:31.982Z"
   },
   {
    "duration": 4,
    "start_time": "2022-05-02T09:53:32.043Z"
   },
   {
    "duration": 66,
    "start_time": "2022-05-02T09:53:32.050Z"
   },
   {
    "duration": 127,
    "start_time": "2022-05-02T09:53:32.118Z"
   },
   {
    "duration": 97,
    "start_time": "2022-05-02T09:53:32.247Z"
   },
   {
    "duration": 119,
    "start_time": "2022-05-02T09:53:32.347Z"
   },
   {
    "duration": 153,
    "start_time": "2022-05-02T09:53:32.469Z"
   },
   {
    "duration": 695,
    "start_time": "2022-05-02T09:53:32.624Z"
   },
   {
    "duration": 138,
    "start_time": "2022-05-02T09:53:33.321Z"
   },
   {
    "duration": 149,
    "start_time": "2022-05-02T09:53:33.461Z"
   },
   {
    "duration": 140,
    "start_time": "2022-05-02T09:53:33.613Z"
   },
   {
    "duration": 16,
    "start_time": "2022-05-02T09:53:33.760Z"
   },
   {
    "duration": 47,
    "start_time": "2022-05-02T09:53:33.793Z"
   },
   {
    "duration": 234,
    "start_time": "2022-05-02T09:53:33.843Z"
   },
   {
    "duration": 43,
    "start_time": "2022-05-02T09:53:34.079Z"
   },
   {
    "duration": 661,
    "start_time": "2022-05-02T09:53:34.125Z"
   },
   {
    "duration": 38,
    "start_time": "2022-05-02T09:53:34.788Z"
   },
   {
    "duration": 69,
    "start_time": "2022-05-02T09:53:34.828Z"
   },
   {
    "duration": 129,
    "start_time": "2022-05-02T09:53:34.899Z"
   },
   {
    "duration": 129,
    "start_time": "2022-05-02T09:53:35.031Z"
   },
   {
    "duration": 72,
    "start_time": "2022-05-02T09:53:35.162Z"
   },
   {
    "duration": 98,
    "start_time": "2022-05-02T09:53:35.236Z"
   },
   {
    "duration": 29,
    "start_time": "2022-05-02T09:53:35.337Z"
   },
   {
    "duration": 37,
    "start_time": "2022-05-02T09:53:35.368Z"
   },
   {
    "duration": 9,
    "start_time": "2022-05-02T09:53:35.408Z"
   },
   {
    "duration": 6,
    "start_time": "2022-05-02T09:53:35.419Z"
   },
   {
    "duration": 5,
    "start_time": "2022-05-02T09:53:35.428Z"
   },
   {
    "duration": 62,
    "start_time": "2022-05-02T09:53:35.435Z"
   },
   {
    "duration": 13,
    "start_time": "2022-05-02T09:53:35.499Z"
   },
   {
    "duration": 16,
    "start_time": "2022-05-02T09:53:35.514Z"
   },
   {
    "duration": 64,
    "start_time": "2022-05-02T09:53:35.532Z"
   },
   {
    "duration": 13,
    "start_time": "2022-05-02T09:53:35.599Z"
   },
   {
    "duration": 108,
    "start_time": "2022-05-02T09:53:35.614Z"
   },
   {
    "duration": 14,
    "start_time": "2022-05-02T09:53:35.724Z"
   },
   {
    "duration": 17,
    "start_time": "2022-05-02T09:53:35.740Z"
   },
   {
    "duration": 40,
    "start_time": "2022-05-02T09:53:35.759Z"
   },
   {
    "duration": 10,
    "start_time": "2022-05-02T09:53:35.802Z"
   },
   {
    "duration": 17,
    "start_time": "2022-05-02T09:53:35.815Z"
   },
   {
    "duration": 11,
    "start_time": "2022-05-02T09:53:35.839Z"
   },
   {
    "duration": 20,
    "start_time": "2022-05-02T09:53:35.893Z"
   },
   {
    "duration": 79,
    "start_time": "2022-05-02T09:53:35.915Z"
   },
   {
    "duration": 5,
    "start_time": "2022-05-02T09:53:35.996Z"
   },
   {
    "duration": 154,
    "start_time": "2022-05-02T09:53:36.004Z"
   },
   {
    "duration": 9,
    "start_time": "2022-05-02T09:53:36.160Z"
   },
   {
    "duration": 22,
    "start_time": "2022-05-02T09:53:36.171Z"
   },
   {
    "duration": 6,
    "start_time": "2022-05-02T09:53:36.195Z"
   },
   {
    "duration": 8,
    "start_time": "2022-05-02T09:53:36.203Z"
   },
   {
    "duration": 13,
    "start_time": "2022-05-02T09:53:36.213Z"
   },
   {
    "duration": 6,
    "start_time": "2022-05-02T09:53:36.228Z"
   },
   {
    "duration": 4,
    "start_time": "2022-05-02T09:53:36.237Z"
   },
   {
    "duration": 57,
    "start_time": "2022-05-02T09:53:36.244Z"
   },
   {
    "duration": 11,
    "start_time": "2022-05-02T09:53:36.304Z"
   },
   {
    "duration": 184,
    "start_time": "2022-05-02T09:53:36.317Z"
   },
   {
    "duration": 9,
    "start_time": "2022-05-02T09:53:36.504Z"
   },
   {
    "duration": 9,
    "start_time": "2022-05-02T09:53:36.515Z"
   },
   {
    "duration": 9,
    "start_time": "2022-05-02T09:53:36.526Z"
   },
   {
    "duration": 12,
    "start_time": "2022-05-02T09:53:36.537Z"
   },
   {
    "duration": 50,
    "start_time": "2022-05-02T09:53:36.551Z"
   },
   {
    "duration": 6,
    "start_time": "2022-05-02T09:53:36.603Z"
   },
   {
    "duration": 14,
    "start_time": "2022-05-02T09:53:36.611Z"
   },
   {
    "duration": 7,
    "start_time": "2022-05-02T09:53:36.627Z"
   },
   {
    "duration": 7,
    "start_time": "2022-05-02T09:53:36.636Z"
   },
   {
    "duration": 17,
    "start_time": "2022-05-02T09:53:36.693Z"
   },
   {
    "duration": 18,
    "start_time": "2022-05-02T09:53:36.713Z"
   },
   {
    "duration": 58,
    "start_time": "2022-05-02T09:53:36.734Z"
   },
   {
    "duration": 16,
    "start_time": "2022-05-02T09:53:36.795Z"
   },
   {
    "duration": 20,
    "start_time": "2022-05-02T09:53:36.813Z"
   },
   {
    "duration": 16,
    "start_time": "2022-05-02T09:53:36.835Z"
   },
   {
    "duration": 41,
    "start_time": "2022-05-02T09:53:36.853Z"
   },
   {
    "duration": 14,
    "start_time": "2022-05-02T09:53:36.896Z"
   },
   {
    "duration": 21,
    "start_time": "2022-05-02T09:53:36.913Z"
   },
   {
    "duration": 19,
    "start_time": "2022-05-02T09:53:36.936Z"
   },
   {
    "duration": 47,
    "start_time": "2022-05-02T09:53:36.957Z"
   },
   {
    "duration": 17,
    "start_time": "2022-05-02T09:53:37.006Z"
   },
   {
    "duration": 12,
    "start_time": "2022-05-02T09:53:37.025Z"
   },
   {
    "duration": 120,
    "start_time": "2022-05-02T09:53:37.039Z"
   },
   {
    "duration": 19,
    "start_time": "2022-05-02T10:01:54.462Z"
   },
   {
    "duration": 21,
    "start_time": "2022-05-02T10:02:24.737Z"
   },
   {
    "duration": 4,
    "start_time": "2022-05-02T10:02:57.622Z"
   },
   {
    "duration": 261,
    "start_time": "2022-05-02T10:03:15.567Z"
   },
   {
    "duration": 5,
    "start_time": "2022-05-02T10:03:48.360Z"
   },
   {
    "duration": 3164,
    "start_time": "2022-05-02T10:03:49.249Z"
   },
   {
    "duration": 6,
    "start_time": "2022-05-02T10:04:05.093Z"
   },
   {
    "duration": 19,
    "start_time": "2022-05-02T10:04:05.705Z"
   },
   {
    "duration": 21,
    "start_time": "2022-05-02T10:04:33.822Z"
   },
   {
    "duration": 19,
    "start_time": "2022-05-02T10:04:45.761Z"
   },
   {
    "duration": 77626,
    "start_time": "2022-05-02T10:04:52.083Z"
   },
   {
    "duration": 202,
    "start_time": "2022-05-02T10:06:09.712Z"
   },
   {
    "duration": 78,
    "start_time": "2022-05-02T10:59:40.575Z"
   },
   {
    "duration": 15,
    "start_time": "2022-05-02T10:59:43.165Z"
   },
   {
    "duration": 7,
    "start_time": "2022-05-02T10:59:49.246Z"
   },
   {
    "duration": 6,
    "start_time": "2022-05-02T11:00:11.491Z"
   },
   {
    "duration": 8,
    "start_time": "2022-05-02T11:00:11.500Z"
   },
   {
    "duration": 16,
    "start_time": "2022-05-02T11:00:11.510Z"
   },
   {
    "duration": 18,
    "start_time": "2022-05-02T11:01:38.063Z"
   },
   {
    "duration": 1844,
    "start_time": "2022-05-02T11:07:47.594Z"
   },
   {
    "duration": 299,
    "start_time": "2022-05-02T11:07:49.441Z"
   },
   {
    "duration": 60,
    "start_time": "2022-05-02T11:07:49.742Z"
   },
   {
    "duration": 4,
    "start_time": "2022-05-02T11:07:49.804Z"
   },
   {
    "duration": 36,
    "start_time": "2022-05-02T11:07:49.810Z"
   },
   {
    "duration": 125,
    "start_time": "2022-05-02T11:07:49.848Z"
   },
   {
    "duration": 85,
    "start_time": "2022-05-02T11:07:49.975Z"
   },
   {
    "duration": 113,
    "start_time": "2022-05-02T11:07:50.062Z"
   },
   {
    "duration": 145,
    "start_time": "2022-05-02T11:07:50.177Z"
   },
   {
    "duration": 679,
    "start_time": "2022-05-02T11:07:50.326Z"
   },
   {
    "duration": 137,
    "start_time": "2022-05-02T11:07:51.007Z"
   },
   {
    "duration": 138,
    "start_time": "2022-05-02T11:07:51.147Z"
   },
   {
    "duration": 131,
    "start_time": "2022-05-02T11:07:51.287Z"
   },
   {
    "duration": 13,
    "start_time": "2022-05-02T11:07:51.420Z"
   },
   {
    "duration": 69,
    "start_time": "2022-05-02T11:07:51.435Z"
   },
   {
    "duration": 201,
    "start_time": "2022-05-02T11:07:51.506Z"
   },
   {
    "duration": 35,
    "start_time": "2022-05-02T11:07:51.710Z"
   },
   {
    "duration": 602,
    "start_time": "2022-05-02T11:07:51.747Z"
   },
   {
    "duration": 59,
    "start_time": "2022-05-02T11:07:52.353Z"
   },
   {
    "duration": 19,
    "start_time": "2022-05-02T11:07:52.414Z"
   },
   {
    "duration": 174,
    "start_time": "2022-05-02T11:07:52.435Z"
   },
   {
    "duration": 125,
    "start_time": "2022-05-02T11:07:52.611Z"
   },
   {
    "duration": 69,
    "start_time": "2022-05-02T11:07:52.738Z"
   },
   {
    "duration": 95,
    "start_time": "2022-05-02T11:07:52.809Z"
   },
   {
    "duration": 87,
    "start_time": "2022-05-02T11:07:52.906Z"
   },
   {
    "duration": 14,
    "start_time": "2022-05-02T11:07:52.995Z"
   },
   {
    "duration": 7,
    "start_time": "2022-05-02T11:07:53.011Z"
   },
   {
    "duration": 6,
    "start_time": "2022-05-02T11:07:53.024Z"
   },
   {
    "duration": 6,
    "start_time": "2022-05-02T11:07:53.032Z"
   },
   {
    "duration": 58,
    "start_time": "2022-05-02T11:07:53.040Z"
   },
   {
    "duration": 13,
    "start_time": "2022-05-02T11:07:53.101Z"
   },
   {
    "duration": 16,
    "start_time": "2022-05-02T11:07:53.116Z"
   },
   {
    "duration": 58,
    "start_time": "2022-05-02T11:07:53.135Z"
   },
   {
    "duration": 98,
    "start_time": "2022-05-02T11:07:53.195Z"
   },
   {
    "duration": 14,
    "start_time": "2022-05-02T11:07:53.295Z"
   },
   {
    "duration": 21,
    "start_time": "2022-05-02T11:07:53.312Z"
   },
   {
    "duration": 58,
    "start_time": "2022-05-02T11:07:53.335Z"
   },
   {
    "duration": 5,
    "start_time": "2022-05-02T11:07:53.395Z"
   },
   {
    "duration": 22,
    "start_time": "2022-05-02T11:07:53.402Z"
   },
   {
    "duration": 76767,
    "start_time": "2022-05-02T11:07:53.426Z"
   },
   {
    "duration": 184,
    "start_time": "2022-05-02T11:09:10.195Z"
   },
   {
    "duration": 30,
    "start_time": "2022-05-02T11:09:10.381Z"
   },
   {
    "duration": 17,
    "start_time": "2022-05-02T11:09:10.413Z"
   },
   {
    "duration": 11,
    "start_time": "2022-05-02T11:09:10.432Z"
   },
   {
    "duration": 51,
    "start_time": "2022-05-02T11:09:10.446Z"
   },
   {
    "duration": 13,
    "start_time": "2022-05-02T11:09:10.499Z"
   },
   {
    "duration": 16,
    "start_time": "2022-05-02T11:09:10.514Z"
   },
   {
    "duration": 17,
    "start_time": "2022-05-02T11:09:10.532Z"
   },
   {
    "duration": 97,
    "start_time": "2022-05-02T11:09:10.551Z"
   },
   {
    "duration": 6,
    "start_time": "2022-05-02T11:09:10.650Z"
   },
   {
    "duration": 167,
    "start_time": "2022-05-02T11:09:10.658Z"
   },
   {
    "duration": 10,
    "start_time": "2022-05-02T11:09:10.828Z"
   },
   {
    "duration": 9,
    "start_time": "2022-05-02T11:09:10.840Z"
   },
   {
    "duration": 7,
    "start_time": "2022-05-02T11:09:10.851Z"
   },
   {
    "duration": 36,
    "start_time": "2022-05-02T11:09:10.861Z"
   },
   {
    "duration": 14,
    "start_time": "2022-05-02T11:09:10.899Z"
   },
   {
    "duration": 8,
    "start_time": "2022-05-02T11:09:10.915Z"
   },
   {
    "duration": 11,
    "start_time": "2022-05-02T11:09:10.925Z"
   },
   {
    "duration": 18,
    "start_time": "2022-05-02T11:09:10.938Z"
   },
   {
    "duration": 12,
    "start_time": "2022-05-02T11:09:10.994Z"
   },
   {
    "duration": 160,
    "start_time": "2022-05-02T11:09:11.008Z"
   },
   {
    "duration": 9,
    "start_time": "2022-05-02T11:09:11.170Z"
   },
   {
    "duration": 7,
    "start_time": "2022-05-02T11:09:11.192Z"
   },
   {
    "duration": 8,
    "start_time": "2022-05-02T11:09:11.201Z"
   },
   {
    "duration": 12,
    "start_time": "2022-05-02T11:09:11.211Z"
   },
   {
    "duration": 9,
    "start_time": "2022-05-02T11:09:11.225Z"
   },
   {
    "duration": 57,
    "start_time": "2022-05-02T11:09:11.236Z"
   },
   {
    "duration": 17,
    "start_time": "2022-05-02T11:09:11.295Z"
   },
   {
    "duration": 7,
    "start_time": "2022-05-02T11:09:11.314Z"
   },
   {
    "duration": 7,
    "start_time": "2022-05-02T11:09:11.323Z"
   },
   {
    "duration": 26,
    "start_time": "2022-05-02T11:09:11.332Z"
   },
   {
    "duration": 45,
    "start_time": "2022-05-02T11:09:11.360Z"
   },
   {
    "duration": 18,
    "start_time": "2022-05-02T11:09:11.410Z"
   },
   {
    "duration": 69,
    "start_time": "2022-05-02T11:09:11.431Z"
   },
   {
    "duration": 18,
    "start_time": "2022-05-02T11:09:11.502Z"
   },
   {
    "duration": 18,
    "start_time": "2022-05-02T11:09:11.522Z"
   },
   {
    "duration": 51,
    "start_time": "2022-05-02T11:09:11.543Z"
   },
   {
    "duration": 14,
    "start_time": "2022-05-02T11:09:11.596Z"
   },
   {
    "duration": 8,
    "start_time": "2022-05-02T11:09:11.612Z"
   },
   {
    "duration": 17,
    "start_time": "2022-05-02T11:09:11.622Z"
   },
   {
    "duration": 57,
    "start_time": "2022-05-02T11:09:11.642Z"
   },
   {
    "duration": 17,
    "start_time": "2022-05-02T11:09:11.710Z"
   },
   {
    "duration": 15,
    "start_time": "2022-05-02T11:09:11.730Z"
   },
   {
    "duration": 100,
    "start_time": "2022-05-02T11:09:11.793Z"
   },
   {
    "duration": 19,
    "start_time": "2022-05-02T11:09:27.133Z"
   },
   {
    "duration": 19,
    "start_time": "2022-05-02T11:09:48.759Z"
   },
   {
    "duration": 5739,
    "start_time": "2022-05-02T11:10:03.812Z"
   },
   {
    "duration": 21,
    "start_time": "2022-05-02T11:10:49.155Z"
   },
   {
    "duration": 7,
    "start_time": "2022-05-02T11:11:53.714Z"
   },
   {
    "duration": 18,
    "start_time": "2022-05-02T11:12:12.369Z"
   },
   {
    "duration": 23,
    "start_time": "2022-05-02T11:14:29.894Z"
   },
   {
    "duration": 67,
    "start_time": "2022-05-02T11:14:52.357Z"
   },
   {
    "duration": 20,
    "start_time": "2022-05-02T11:15:08.186Z"
   },
   {
    "duration": 25,
    "start_time": "2022-05-02T11:15:37.269Z"
   },
   {
    "duration": 39,
    "start_time": "2022-05-02T11:15:44.252Z"
   },
   {
    "duration": 37,
    "start_time": "2022-05-02T11:15:50.469Z"
   },
   {
    "duration": 38,
    "start_time": "2022-05-02T11:15:53.789Z"
   },
   {
    "duration": 20,
    "start_time": "2022-05-02T11:16:03.650Z"
   },
   {
    "duration": 49,
    "start_time": "2022-05-02T11:16:18.465Z"
   },
   {
    "duration": 39,
    "start_time": "2022-05-02T11:16:25.399Z"
   },
   {
    "duration": 1876,
    "start_time": "2022-05-02T11:17:08.794Z"
   },
   {
    "duration": 304,
    "start_time": "2022-05-02T11:17:10.673Z"
   },
   {
    "duration": 57,
    "start_time": "2022-05-02T11:17:10.980Z"
   },
   {
    "duration": 4,
    "start_time": "2022-05-02T11:17:11.039Z"
   },
   {
    "duration": 64,
    "start_time": "2022-05-02T11:17:11.046Z"
   },
   {
    "duration": 104,
    "start_time": "2022-05-02T11:17:11.112Z"
   },
   {
    "duration": 93,
    "start_time": "2022-05-02T11:17:11.218Z"
   },
   {
    "duration": 114,
    "start_time": "2022-05-02T11:17:11.314Z"
   },
   {
    "duration": 153,
    "start_time": "2022-05-02T11:17:11.430Z"
   },
   {
    "duration": 723,
    "start_time": "2022-05-02T11:17:11.585Z"
   },
   {
    "duration": 131,
    "start_time": "2022-05-02T11:17:12.310Z"
   },
   {
    "duration": 137,
    "start_time": "2022-05-02T11:17:12.443Z"
   },
   {
    "duration": 132,
    "start_time": "2022-05-02T11:17:12.583Z"
   },
   {
    "duration": 13,
    "start_time": "2022-05-02T11:17:12.720Z"
   },
   {
    "duration": 69,
    "start_time": "2022-05-02T11:17:12.736Z"
   },
   {
    "duration": 205,
    "start_time": "2022-05-02T11:17:12.807Z"
   },
   {
    "duration": 36,
    "start_time": "2022-05-02T11:17:13.014Z"
   },
   {
    "duration": 634,
    "start_time": "2022-05-02T11:17:13.052Z"
   },
   {
    "duration": 30,
    "start_time": "2022-05-02T11:17:13.689Z"
   },
   {
    "duration": 17,
    "start_time": "2022-05-02T11:17:13.721Z"
   },
   {
    "duration": 174,
    "start_time": "2022-05-02T11:17:13.740Z"
   },
   {
    "duration": 127,
    "start_time": "2022-05-02T11:17:13.917Z"
   },
   {
    "duration": 64,
    "start_time": "2022-05-02T11:17:14.046Z"
   },
   {
    "duration": 37,
    "start_time": "2022-05-02T11:17:14.112Z"
   },
   {
    "duration": 94,
    "start_time": "2022-05-02T11:17:14.151Z"
   },
   {
    "duration": 90,
    "start_time": "2022-05-02T11:17:14.248Z"
   },
   {
    "duration": 15,
    "start_time": "2022-05-02T11:17:14.340Z"
   },
   {
    "duration": 7,
    "start_time": "2022-05-02T11:17:14.358Z"
   },
   {
    "duration": 30,
    "start_time": "2022-05-02T11:17:14.367Z"
   },
   {
    "duration": 5,
    "start_time": "2022-05-02T11:17:14.400Z"
   },
   {
    "duration": 13,
    "start_time": "2022-05-02T11:17:14.407Z"
   },
   {
    "duration": 12,
    "start_time": "2022-05-02T11:17:14.422Z"
   },
   {
    "duration": 68,
    "start_time": "2022-05-02T11:17:14.436Z"
   },
   {
    "duration": 23,
    "start_time": "2022-05-02T11:17:14.506Z"
   },
   {
    "duration": 102,
    "start_time": "2022-05-02T11:17:14.532Z"
   },
   {
    "duration": 294,
    "start_time": "2022-05-02T11:17:14.636Z"
   },
   {
    "duration": 0,
    "start_time": "2022-05-02T11:17:14.935Z"
   },
   {
    "duration": 0,
    "start_time": "2022-05-02T11:17:14.936Z"
   },
   {
    "duration": 0,
    "start_time": "2022-05-02T11:17:14.937Z"
   },
   {
    "duration": 0,
    "start_time": "2022-05-02T11:17:14.938Z"
   },
   {
    "duration": 0,
    "start_time": "2022-05-02T11:17:14.940Z"
   },
   {
    "duration": 0,
    "start_time": "2022-05-02T11:17:14.941Z"
   },
   {
    "duration": 0,
    "start_time": "2022-05-02T11:17:14.942Z"
   },
   {
    "duration": 0,
    "start_time": "2022-05-02T11:17:14.943Z"
   },
   {
    "duration": 0,
    "start_time": "2022-05-02T11:17:14.945Z"
   },
   {
    "duration": 0,
    "start_time": "2022-05-02T11:17:14.946Z"
   },
   {
    "duration": 0,
    "start_time": "2022-05-02T11:17:14.947Z"
   },
   {
    "duration": 0,
    "start_time": "2022-05-02T11:17:14.948Z"
   },
   {
    "duration": 0,
    "start_time": "2022-05-02T11:17:14.949Z"
   },
   {
    "duration": 0,
    "start_time": "2022-05-02T11:17:14.950Z"
   },
   {
    "duration": 0,
    "start_time": "2022-05-02T11:17:14.952Z"
   },
   {
    "duration": 0,
    "start_time": "2022-05-02T11:17:14.953Z"
   },
   {
    "duration": 0,
    "start_time": "2022-05-02T11:17:14.954Z"
   },
   {
    "duration": 0,
    "start_time": "2022-05-02T11:17:14.955Z"
   },
   {
    "duration": 0,
    "start_time": "2022-05-02T11:17:14.956Z"
   },
   {
    "duration": 0,
    "start_time": "2022-05-02T11:17:14.994Z"
   },
   {
    "duration": 0,
    "start_time": "2022-05-02T11:17:14.995Z"
   },
   {
    "duration": 0,
    "start_time": "2022-05-02T11:17:14.996Z"
   },
   {
    "duration": 0,
    "start_time": "2022-05-02T11:17:14.997Z"
   },
   {
    "duration": 0,
    "start_time": "2022-05-02T11:17:14.998Z"
   },
   {
    "duration": 0,
    "start_time": "2022-05-02T11:17:15.000Z"
   },
   {
    "duration": 0,
    "start_time": "2022-05-02T11:17:15.002Z"
   },
   {
    "duration": 0,
    "start_time": "2022-05-02T11:17:15.004Z"
   },
   {
    "duration": 0,
    "start_time": "2022-05-02T11:17:15.006Z"
   },
   {
    "duration": 0,
    "start_time": "2022-05-02T11:17:15.009Z"
   },
   {
    "duration": 0,
    "start_time": "2022-05-02T11:17:15.011Z"
   },
   {
    "duration": 0,
    "start_time": "2022-05-02T11:17:15.013Z"
   },
   {
    "duration": 0,
    "start_time": "2022-05-02T11:17:15.015Z"
   },
   {
    "duration": 0,
    "start_time": "2022-05-02T11:17:15.016Z"
   },
   {
    "duration": 0,
    "start_time": "2022-05-02T11:17:15.018Z"
   },
   {
    "duration": 0,
    "start_time": "2022-05-02T11:17:15.019Z"
   },
   {
    "duration": 0,
    "start_time": "2022-05-02T11:17:15.020Z"
   },
   {
    "duration": 0,
    "start_time": "2022-05-02T11:17:15.022Z"
   },
   {
    "duration": 0,
    "start_time": "2022-05-02T11:17:15.023Z"
   },
   {
    "duration": 0,
    "start_time": "2022-05-02T11:17:15.024Z"
   },
   {
    "duration": 0,
    "start_time": "2022-05-02T11:17:15.025Z"
   },
   {
    "duration": 0,
    "start_time": "2022-05-02T11:17:15.027Z"
   },
   {
    "duration": 0,
    "start_time": "2022-05-02T11:17:15.028Z"
   },
   {
    "duration": 0,
    "start_time": "2022-05-02T11:17:15.030Z"
   },
   {
    "duration": 0,
    "start_time": "2022-05-02T11:17:15.031Z"
   },
   {
    "duration": 0,
    "start_time": "2022-05-02T11:17:15.094Z"
   },
   {
    "duration": 0,
    "start_time": "2022-05-02T11:17:15.095Z"
   },
   {
    "duration": 0,
    "start_time": "2022-05-02T11:17:15.097Z"
   },
   {
    "duration": 0,
    "start_time": "2022-05-02T11:17:15.098Z"
   },
   {
    "duration": 1,
    "start_time": "2022-05-02T11:17:15.099Z"
   },
   {
    "duration": 0,
    "start_time": "2022-05-02T11:17:15.101Z"
   },
   {
    "duration": 18,
    "start_time": "2022-05-02T11:17:36.613Z"
   },
   {
    "duration": 22,
    "start_time": "2022-05-02T11:17:38.489Z"
   },
   {
    "duration": 5,
    "start_time": "2022-05-02T11:17:39.393Z"
   },
   {
    "duration": 18,
    "start_time": "2022-05-02T11:17:39.737Z"
   },
   {
    "duration": 77640,
    "start_time": "2022-05-02T11:17:40.755Z"
   },
   {
    "duration": 157,
    "start_time": "2022-05-02T11:18:58.397Z"
   },
   {
    "duration": 37,
    "start_time": "2022-05-02T11:18:58.556Z"
   },
   {
    "duration": 18,
    "start_time": "2022-05-02T11:18:58.595Z"
   },
   {
    "duration": 81,
    "start_time": "2022-05-02T11:19:36.740Z"
   },
   {
    "duration": 16,
    "start_time": "2022-05-02T11:22:39.062Z"
   },
   {
    "duration": 13,
    "start_time": "2022-05-02T11:22:39.987Z"
   },
   {
    "duration": 11,
    "start_time": "2022-05-02T11:22:40.485Z"
   },
   {
    "duration": 17,
    "start_time": "2022-05-02T11:22:40.877Z"
   },
   {
    "duration": 16,
    "start_time": "2022-05-02T11:22:41.216Z"
   },
   {
    "duration": 28,
    "start_time": "2022-05-02T11:22:41.502Z"
   },
   {
    "duration": 57,
    "start_time": "2022-05-02T11:28:58.751Z"
   },
   {
    "duration": 6,
    "start_time": "2022-05-02T11:28:59.109Z"
   },
   {
    "duration": 140,
    "start_time": "2022-05-02T11:28:59.741Z"
   },
   {
    "duration": 10,
    "start_time": "2022-05-02T11:29:00.029Z"
   },
   {
    "duration": 4,
    "start_time": "2022-05-02T11:29:00.286Z"
   },
   {
    "duration": 6,
    "start_time": "2022-05-02T11:29:00.549Z"
   },
   {
    "duration": 7,
    "start_time": "2022-05-02T11:29:00.777Z"
   },
   {
    "duration": 7,
    "start_time": "2022-05-02T11:29:01.006Z"
   },
   {
    "duration": 7,
    "start_time": "2022-05-02T11:29:01.241Z"
   },
   {
    "duration": 4,
    "start_time": "2022-05-02T11:29:01.933Z"
   },
   {
    "duration": 11,
    "start_time": "2022-05-02T11:29:02.961Z"
   },
   {
    "duration": 9,
    "start_time": "2022-05-02T11:29:03.204Z"
   },
   {
    "duration": 143,
    "start_time": "2022-05-02T11:29:03.974Z"
   },
   {
    "duration": 10,
    "start_time": "2022-05-02T11:29:04.437Z"
   },
   {
    "duration": 6,
    "start_time": "2022-05-02T11:29:04.686Z"
   },
   {
    "duration": 7,
    "start_time": "2022-05-02T11:29:04.876Z"
   },
   {
    "duration": 10,
    "start_time": "2022-05-02T11:29:05.340Z"
   },
   {
    "duration": 9,
    "start_time": "2022-05-02T11:29:05.585Z"
   },
   {
    "duration": 819,
    "start_time": "2022-05-02T11:29:05.813Z"
   },
   {
    "duration": 0,
    "start_time": "2022-05-02T11:29:06.634Z"
   },
   {
    "duration": 0,
    "start_time": "2022-05-02T11:29:06.636Z"
   },
   {
    "duration": 7,
    "start_time": "2022-05-02T11:29:06.786Z"
   },
   {
    "duration": 3458,
    "start_time": "2022-05-02T11:29:07.023Z"
   },
   {
    "duration": 0,
    "start_time": "2022-05-02T11:29:10.484Z"
   },
   {
    "duration": 0,
    "start_time": "2022-05-02T11:29:10.485Z"
   },
   {
    "duration": 0,
    "start_time": "2022-05-02T11:29:10.488Z"
   },
   {
    "duration": 0,
    "start_time": "2022-05-02T11:29:10.489Z"
   },
   {
    "duration": 0,
    "start_time": "2022-05-02T11:29:10.491Z"
   },
   {
    "duration": 0,
    "start_time": "2022-05-02T11:29:10.492Z"
   },
   {
    "duration": 0,
    "start_time": "2022-05-02T11:29:10.494Z"
   },
   {
    "duration": 0,
    "start_time": "2022-05-02T11:29:10.495Z"
   },
   {
    "duration": 0,
    "start_time": "2022-05-02T11:29:10.496Z"
   },
   {
    "duration": 0,
    "start_time": "2022-05-02T11:29:10.497Z"
   },
   {
    "duration": 0,
    "start_time": "2022-05-02T11:29:10.498Z"
   },
   {
    "duration": 12,
    "start_time": "2022-05-02T11:29:10.625Z"
   },
   {
    "duration": 3428,
    "start_time": "2022-05-02T11:29:10.860Z"
   },
   {
    "duration": 3263,
    "start_time": "2022-05-02T11:29:45.770Z"
   },
   {
    "duration": 3383,
    "start_time": "2022-05-02T11:29:51.998Z"
   },
   {
    "duration": 3833,
    "start_time": "2022-05-02T11:30:10.729Z"
   },
   {
    "duration": 0,
    "start_time": "2022-05-02T11:30:14.565Z"
   },
   {
    "duration": 3222,
    "start_time": "2022-05-02T11:30:17.576Z"
   },
   {
    "duration": 0,
    "start_time": "2022-05-02T11:30:20.800Z"
   },
   {
    "duration": 0,
    "start_time": "2022-05-02T11:30:20.802Z"
   },
   {
    "duration": 0,
    "start_time": "2022-05-02T11:30:20.804Z"
   },
   {
    "duration": 0,
    "start_time": "2022-05-02T11:30:20.805Z"
   },
   {
    "duration": 0,
    "start_time": "2022-05-02T11:30:20.807Z"
   },
   {
    "duration": 0,
    "start_time": "2022-05-02T11:30:20.808Z"
   },
   {
    "duration": 3793,
    "start_time": "2022-05-02T11:30:27.448Z"
   },
   {
    "duration": 3388,
    "start_time": "2022-05-02T11:30:36.642Z"
   },
   {
    "duration": 5,
    "start_time": "2022-05-02T11:32:19.130Z"
   },
   {
    "duration": 12,
    "start_time": "2022-05-02T11:32:20.553Z"
   },
   {
    "duration": 7,
    "start_time": "2022-05-02T11:32:22.713Z"
   },
   {
    "duration": 7,
    "start_time": "2022-05-02T11:32:29.763Z"
   },
   {
    "duration": 18,
    "start_time": "2022-05-02T11:32:32.656Z"
   },
   {
    "duration": 18,
    "start_time": "2022-05-02T11:32:45.922Z"
   },
   {
    "duration": 7,
    "start_time": "2022-05-02T11:33:12.115Z"
   },
   {
    "duration": 20,
    "start_time": "2022-05-02T11:33:13.420Z"
   },
   {
    "duration": 13,
    "start_time": "2022-05-02T11:35:15.159Z"
   },
   {
    "duration": 15,
    "start_time": "2022-05-02T11:35:23.046Z"
   },
   {
    "duration": 15,
    "start_time": "2022-05-02T11:35:33.858Z"
   },
   {
    "duration": 15,
    "start_time": "2022-05-02T11:35:44.212Z"
   },
   {
    "duration": 15,
    "start_time": "2022-05-02T11:35:51.183Z"
   },
   {
    "duration": 14,
    "start_time": "2022-05-02T11:35:54.830Z"
   },
   {
    "duration": 10100,
    "start_time": "2022-05-02T11:36:03.350Z"
   },
   {
    "duration": 0,
    "start_time": "2022-05-02T11:36:13.453Z"
   },
   {
    "duration": 0,
    "start_time": "2022-05-02T11:36:13.454Z"
   },
   {
    "duration": 14,
    "start_time": "2022-05-02T11:36:22.362Z"
   },
   {
    "duration": 5,
    "start_time": "2022-05-02T11:36:44.823Z"
   },
   {
    "duration": 11,
    "start_time": "2022-05-02T11:36:46.417Z"
   },
   {
    "duration": 6,
    "start_time": "2022-05-02T11:36:50.725Z"
   },
   {
    "duration": 11,
    "start_time": "2022-05-02T11:36:53.637Z"
   },
   {
    "duration": 12,
    "start_time": "2022-05-02T11:37:26.291Z"
   },
   {
    "duration": 14,
    "start_time": "2022-05-02T11:37:35.311Z"
   },
   {
    "duration": 17,
    "start_time": "2022-05-02T11:37:41.760Z"
   },
   {
    "duration": 16,
    "start_time": "2022-05-02T11:37:51.047Z"
   },
   {
    "duration": 15,
    "start_time": "2022-05-02T11:37:56.442Z"
   },
   {
    "duration": 13,
    "start_time": "2022-05-02T11:38:13.521Z"
   },
   {
    "duration": 14,
    "start_time": "2022-05-02T11:38:25.601Z"
   },
   {
    "duration": 12,
    "start_time": "2022-05-02T11:38:31.949Z"
   },
   {
    "duration": 76,
    "start_time": "2022-05-02T11:38:39.185Z"
   },
   {
    "duration": 74,
    "start_time": "2022-05-02T11:39:26.592Z"
   },
   {
    "duration": 97,
    "start_time": "2022-05-02T11:39:36.651Z"
   },
   {
    "duration": 21,
    "start_time": "2022-05-02T11:40:13.013Z"
   },
   {
    "duration": 14,
    "start_time": "2022-05-02T11:40:31.974Z"
   },
   {
    "duration": 6,
    "start_time": "2022-05-02T11:49:29.655Z"
   },
   {
    "duration": 6,
    "start_time": "2022-05-02T11:49:30.149Z"
   },
   {
    "duration": 16,
    "start_time": "2022-05-02T11:49:35.231Z"
   },
   {
    "duration": 5,
    "start_time": "2022-05-02T11:50:45.794Z"
   },
   {
    "duration": 8,
    "start_time": "2022-05-02T11:51:53.926Z"
   },
   {
    "duration": 18,
    "start_time": "2022-05-02T11:52:03.740Z"
   },
   {
    "duration": 8,
    "start_time": "2022-05-02T11:52:33.676Z"
   },
   {
    "duration": 6,
    "start_time": "2022-05-02T11:52:44.394Z"
   },
   {
    "duration": 204,
    "start_time": "2022-05-02T11:59:20.232Z"
   },
   {
    "duration": 6,
    "start_time": "2022-05-02T11:59:23.689Z"
   },
   {
    "duration": 2183,
    "start_time": "2022-05-03T09:11:32.170Z"
   },
   {
    "duration": 198,
    "start_time": "2022-05-03T09:11:34.356Z"
   },
   {
    "duration": 36,
    "start_time": "2022-05-03T09:11:34.556Z"
   },
   {
    "duration": 3,
    "start_time": "2022-05-03T09:11:34.594Z"
   },
   {
    "duration": 44,
    "start_time": "2022-05-03T09:11:34.599Z"
   },
   {
    "duration": 67,
    "start_time": "2022-05-03T09:11:34.645Z"
   },
   {
    "duration": 55,
    "start_time": "2022-05-03T09:11:34.714Z"
   },
   {
    "duration": 78,
    "start_time": "2022-05-03T09:11:34.771Z"
   },
   {
    "duration": 101,
    "start_time": "2022-05-03T09:11:34.851Z"
   },
   {
    "duration": 458,
    "start_time": "2022-05-03T09:11:34.955Z"
   },
   {
    "duration": 84,
    "start_time": "2022-05-03T09:11:35.414Z"
   },
   {
    "duration": 87,
    "start_time": "2022-05-03T09:11:35.499Z"
   },
   {
    "duration": 84,
    "start_time": "2022-05-03T09:11:35.587Z"
   },
   {
    "duration": 9,
    "start_time": "2022-05-03T09:11:35.673Z"
   },
   {
    "duration": 40,
    "start_time": "2022-05-03T09:11:35.683Z"
   },
   {
    "duration": 130,
    "start_time": "2022-05-03T09:11:35.725Z"
   },
   {
    "duration": 23,
    "start_time": "2022-05-03T09:11:35.857Z"
   },
   {
    "duration": 464,
    "start_time": "2022-05-03T09:11:35.881Z"
   },
   {
    "duration": 23,
    "start_time": "2022-05-03T09:11:36.346Z"
   },
   {
    "duration": 53,
    "start_time": "2022-05-03T09:11:36.371Z"
   },
   {
    "duration": 46,
    "start_time": "2022-05-03T09:11:36.426Z"
   },
   {
    "duration": 86,
    "start_time": "2022-05-03T09:11:36.474Z"
   },
   {
    "duration": 28,
    "start_time": "2022-05-03T09:11:36.562Z"
   },
   {
    "duration": 40,
    "start_time": "2022-05-03T09:11:36.592Z"
   },
   {
    "duration": 53,
    "start_time": "2022-05-03T09:11:36.633Z"
   },
   {
    "duration": 59,
    "start_time": "2022-05-03T09:11:36.688Z"
   },
   {
    "duration": 9,
    "start_time": "2022-05-03T09:11:36.748Z"
   },
   {
    "duration": 4,
    "start_time": "2022-05-03T09:11:36.762Z"
   },
   {
    "duration": 8,
    "start_time": "2022-05-03T09:11:36.767Z"
   },
   {
    "duration": 4,
    "start_time": "2022-05-03T09:11:36.776Z"
   },
   {
    "duration": 12,
    "start_time": "2022-05-03T09:11:36.781Z"
   },
   {
    "duration": 30,
    "start_time": "2022-05-03T09:11:36.794Z"
   },
   {
    "duration": 12,
    "start_time": "2022-05-03T09:11:36.826Z"
   },
   {
    "duration": 17,
    "start_time": "2022-05-03T09:11:36.840Z"
   },
   {
    "duration": 74,
    "start_time": "2022-05-03T09:11:36.859Z"
   },
   {
    "duration": 3,
    "start_time": "2022-05-03T09:11:36.935Z"
   },
   {
    "duration": 17,
    "start_time": "2022-05-03T09:11:36.939Z"
   },
   {
    "duration": 5,
    "start_time": "2022-05-03T09:11:36.957Z"
   },
   {
    "duration": 13,
    "start_time": "2022-05-03T09:11:36.963Z"
   },
   {
    "duration": 3,
    "start_time": "2022-05-03T09:11:36.978Z"
   },
   {
    "duration": 14,
    "start_time": "2022-05-03T09:11:36.982Z"
   },
   {
    "duration": 42,
    "start_time": "2022-05-03T09:11:36.997Z"
   },
   {
    "duration": 3,
    "start_time": "2022-05-03T09:11:37.041Z"
   },
   {
    "duration": 12,
    "start_time": "2022-05-03T09:11:37.046Z"
   },
   {
    "duration": 49828,
    "start_time": "2022-05-03T09:11:37.060Z"
   },
   {
    "duration": 102,
    "start_time": "2022-05-03T09:12:26.890Z"
   },
   {
    "duration": 16,
    "start_time": "2022-05-03T09:12:26.993Z"
   },
   {
    "duration": 24,
    "start_time": "2022-05-03T09:12:27.011Z"
   },
   {
    "duration": 13,
    "start_time": "2022-05-03T09:12:27.036Z"
   },
   {
    "duration": 11,
    "start_time": "2022-05-03T09:12:27.050Z"
   },
   {
    "duration": 7,
    "start_time": "2022-05-03T09:12:27.062Z"
   },
   {
    "duration": 10,
    "start_time": "2022-05-03T09:12:27.071Z"
   },
   {
    "duration": 11,
    "start_time": "2022-05-03T09:12:27.082Z"
   },
   {
    "duration": 33,
    "start_time": "2022-05-03T09:12:27.094Z"
   },
   {
    "duration": 47,
    "start_time": "2022-05-03T09:12:27.129Z"
   },
   {
    "duration": 4,
    "start_time": "2022-05-03T09:12:27.178Z"
   },
   {
    "duration": 109,
    "start_time": "2022-05-03T09:12:27.183Z"
   },
   {
    "duration": 6,
    "start_time": "2022-05-03T09:12:27.294Z"
   },
   {
    "duration": 17,
    "start_time": "2022-05-03T09:12:27.302Z"
   },
   {
    "duration": 12,
    "start_time": "2022-05-03T09:12:27.321Z"
   },
   {
    "duration": 10,
    "start_time": "2022-05-03T09:12:27.334Z"
   },
   {
    "duration": 8,
    "start_time": "2022-05-03T09:12:27.345Z"
   },
   {
    "duration": 6,
    "start_time": "2022-05-03T09:12:27.355Z"
   },
   {
    "duration": 6,
    "start_time": "2022-05-03T09:12:27.363Z"
   },
   {
    "duration": 9,
    "start_time": "2022-05-03T09:12:27.370Z"
   },
   {
    "duration": 7,
    "start_time": "2022-05-03T09:12:27.381Z"
   },
   {
    "duration": 122,
    "start_time": "2022-05-03T09:12:27.389Z"
   },
   {
    "duration": 11,
    "start_time": "2022-05-03T09:12:27.513Z"
   },
   {
    "duration": 6,
    "start_time": "2022-05-03T09:12:27.526Z"
   },
   {
    "duration": 6,
    "start_time": "2022-05-03T09:12:27.534Z"
   },
   {
    "duration": 9,
    "start_time": "2022-05-03T09:12:27.542Z"
   },
   {
    "duration": 7,
    "start_time": "2022-05-03T09:12:27.552Z"
   },
   {
    "duration": 5,
    "start_time": "2022-05-03T09:12:27.560Z"
   },
   {
    "duration": 13,
    "start_time": "2022-05-03T09:12:27.567Z"
   },
   {
    "duration": 6,
    "start_time": "2022-05-03T09:12:27.582Z"
   },
   {
    "duration": 4,
    "start_time": "2022-05-03T09:12:27.590Z"
   },
   {
    "duration": 33,
    "start_time": "2022-05-03T09:12:27.595Z"
   },
   {
    "duration": 10,
    "start_time": "2022-05-03T09:12:27.629Z"
   },
   {
    "duration": 10,
    "start_time": "2022-05-03T09:12:27.640Z"
   },
   {
    "duration": 9,
    "start_time": "2022-05-03T09:12:27.652Z"
   },
   {
    "duration": 11,
    "start_time": "2022-05-03T09:12:27.662Z"
   },
   {
    "duration": 49,
    "start_time": "2022-05-03T09:12:27.679Z"
   },
   {
    "duration": 4,
    "start_time": "2022-05-03T09:12:27.730Z"
   },
   {
    "duration": 12,
    "start_time": "2022-05-03T09:12:27.736Z"
   },
   {
    "duration": 6,
    "start_time": "2022-05-03T09:12:27.749Z"
   },
   {
    "duration": 13,
    "start_time": "2022-05-03T09:12:27.756Z"
   },
   {
    "duration": 12,
    "start_time": "2022-05-03T09:12:27.771Z"
   },
   {
    "duration": 8,
    "start_time": "2022-05-03T09:12:27.785Z"
   },
   {
    "duration": 12,
    "start_time": "2022-05-03T09:12:27.824Z"
   },
   {
    "duration": 68,
    "start_time": "2022-05-03T09:12:27.837Z"
   },
   {
    "duration": 49,
    "start_time": "2022-05-03T10:27:23.437Z"
   },
   {
    "duration": 7,
    "start_time": "2022-05-03T10:27:31.653Z"
   },
   {
    "duration": 1682,
    "start_time": "2022-05-03T10:27:37.157Z"
   },
   {
    "duration": 175,
    "start_time": "2022-05-03T10:27:38.842Z"
   },
   {
    "duration": 41,
    "start_time": "2022-05-03T10:27:39.019Z"
   },
   {
    "duration": 3,
    "start_time": "2022-05-03T10:27:39.062Z"
   },
   {
    "duration": 44,
    "start_time": "2022-05-03T10:27:39.066Z"
   },
   {
    "duration": 74,
    "start_time": "2022-05-03T10:27:39.112Z"
   },
   {
    "duration": 69,
    "start_time": "2022-05-03T10:27:39.187Z"
   },
   {
    "duration": 91,
    "start_time": "2022-05-03T10:27:39.258Z"
   },
   {
    "duration": 111,
    "start_time": "2022-05-03T10:27:39.350Z"
   },
   {
    "duration": 518,
    "start_time": "2022-05-03T10:27:39.465Z"
   },
   {
    "duration": 96,
    "start_time": "2022-05-03T10:27:39.985Z"
   },
   {
    "duration": 98,
    "start_time": "2022-05-03T10:27:40.083Z"
   },
   {
    "duration": 100,
    "start_time": "2022-05-03T10:27:40.182Z"
   },
   {
    "duration": 12,
    "start_time": "2022-05-03T10:27:40.284Z"
   },
   {
    "duration": 52,
    "start_time": "2022-05-03T10:27:40.308Z"
   },
   {
    "duration": 203,
    "start_time": "2022-05-03T10:27:40.362Z"
   },
   {
    "duration": 41,
    "start_time": "2022-05-03T10:27:40.567Z"
   },
   {
    "duration": 474,
    "start_time": "2022-05-03T10:27:40.610Z"
   },
   {
    "duration": 6185,
    "start_time": "2022-05-03T10:27:41.087Z"
   },
   {
    "duration": 10995,
    "start_time": "2022-05-03T10:30:14.305Z"
   },
   {
    "duration": 1450,
    "start_time": "2022-05-03T10:30:34.628Z"
   },
   {
    "duration": 202,
    "start_time": "2022-05-03T10:30:36.080Z"
   },
   {
    "duration": 44,
    "start_time": "2022-05-03T10:30:36.284Z"
   },
   {
    "duration": 3,
    "start_time": "2022-05-03T10:30:36.330Z"
   },
   {
    "duration": 27,
    "start_time": "2022-05-03T10:30:36.335Z"
   },
   {
    "duration": 82,
    "start_time": "2022-05-03T10:30:36.363Z"
   },
   {
    "duration": 63,
    "start_time": "2022-05-03T10:30:36.446Z"
   },
   {
    "duration": 77,
    "start_time": "2022-05-03T10:30:36.511Z"
   },
   {
    "duration": 110,
    "start_time": "2022-05-03T10:30:36.589Z"
   },
   {
    "duration": 501,
    "start_time": "2022-05-03T10:30:36.701Z"
   },
   {
    "duration": 84,
    "start_time": "2022-05-03T10:30:37.207Z"
   },
   {
    "duration": 97,
    "start_time": "2022-05-03T10:30:37.293Z"
   },
   {
    "duration": 94,
    "start_time": "2022-05-03T10:30:37.391Z"
   },
   {
    "duration": 21,
    "start_time": "2022-05-03T10:30:37.488Z"
   },
   {
    "duration": 43,
    "start_time": "2022-05-03T10:30:37.511Z"
   },
   {
    "duration": 160,
    "start_time": "2022-05-03T10:30:37.556Z"
   },
   {
    "duration": 25,
    "start_time": "2022-05-03T10:30:37.718Z"
   },
   {
    "duration": 461,
    "start_time": "2022-05-03T10:30:37.745Z"
   },
   {
    "duration": 10722,
    "start_time": "2022-05-03T10:30:38.208Z"
   },
   {
    "duration": 20,
    "start_time": "2022-05-03T10:30:48.933Z"
   },
   {
    "duration": 11,
    "start_time": "2022-05-03T10:30:49.007Z"
   },
   {
    "duration": 102,
    "start_time": "2022-05-03T10:30:49.020Z"
   },
   {
    "duration": 107,
    "start_time": "2022-05-03T10:30:49.124Z"
   },
   {
    "duration": 76,
    "start_time": "2022-05-03T10:30:49.232Z"
   },
   {
    "duration": 25,
    "start_time": "2022-05-03T10:30:49.310Z"
   },
   {
    "duration": 112,
    "start_time": "2022-05-03T10:30:49.336Z"
   },
   {
    "duration": 161,
    "start_time": "2022-05-03T10:30:49.449Z"
   },
   {
    "duration": 10,
    "start_time": "2022-05-03T10:30:49.612Z"
   },
   {
    "duration": 5,
    "start_time": "2022-05-03T10:30:49.623Z"
   },
   {
    "duration": 6,
    "start_time": "2022-05-03T10:30:49.630Z"
   },
   {
    "duration": 5,
    "start_time": "2022-05-03T10:30:49.637Z"
   },
   {
    "duration": 66,
    "start_time": "2022-05-03T10:30:49.643Z"
   },
   {
    "duration": 9,
    "start_time": "2022-05-03T10:30:49.711Z"
   },
   {
    "duration": 12,
    "start_time": "2022-05-03T10:30:49.722Z"
   },
   {
    "duration": 73,
    "start_time": "2022-05-03T10:30:49.736Z"
   },
   {
    "duration": 111,
    "start_time": "2022-05-03T10:30:49.811Z"
   },
   {
    "duration": 3,
    "start_time": "2022-05-03T10:30:49.924Z"
   },
   {
    "duration": 13,
    "start_time": "2022-05-03T10:30:49.929Z"
   },
   {
    "duration": 5,
    "start_time": "2022-05-03T10:30:49.944Z"
   },
   {
    "duration": 57,
    "start_time": "2022-05-03T10:30:49.951Z"
   },
   {
    "duration": 5,
    "start_time": "2022-05-03T10:30:50.013Z"
   },
   {
    "duration": 21,
    "start_time": "2022-05-03T10:30:50.020Z"
   },
   {
    "duration": 16,
    "start_time": "2022-05-03T10:30:50.042Z"
   },
   {
    "duration": 3,
    "start_time": "2022-05-03T10:30:50.059Z"
   },
   {
    "duration": 19,
    "start_time": "2022-05-03T10:30:50.064Z"
   },
   {
    "duration": 54433,
    "start_time": "2022-05-03T10:30:50.085Z"
   },
   {
    "duration": 168,
    "start_time": "2022-05-03T10:44:56.088Z"
   },
   {
    "duration": 49,
    "start_time": "2022-05-03T10:44:57.190Z"
   },
   {
    "duration": 74,
    "start_time": "2022-05-03T10:44:58.472Z"
   },
   {
    "duration": 162,
    "start_time": "2022-05-03T10:44:59.150Z"
   },
   {
    "duration": 201,
    "start_time": "2022-05-03T10:45:16.745Z"
   },
   {
    "duration": 45,
    "start_time": "2022-05-03T10:45:36.562Z"
   },
   {
    "duration": 1512,
    "start_time": "2022-05-03T10:45:58.176Z"
   },
   {
    "duration": 199,
    "start_time": "2022-05-03T10:45:59.690Z"
   },
   {
    "duration": 44,
    "start_time": "2022-05-03T10:45:59.891Z"
   },
   {
    "duration": 3,
    "start_time": "2022-05-03T10:45:59.937Z"
   },
   {
    "duration": 28,
    "start_time": "2022-05-03T10:45:59.941Z"
   },
   {
    "duration": 184,
    "start_time": "2022-05-03T10:45:59.970Z"
   },
   {
    "duration": 61,
    "start_time": "2022-05-03T10:46:00.156Z"
   },
   {
    "duration": 103,
    "start_time": "2022-05-03T10:46:00.219Z"
   },
   {
    "duration": 156,
    "start_time": "2022-05-03T10:46:00.323Z"
   },
   {
    "duration": 893,
    "start_time": "2022-05-03T10:46:00.482Z"
   },
   {
    "duration": 133,
    "start_time": "2022-05-03T10:46:01.377Z"
   },
   {
    "duration": 150,
    "start_time": "2022-05-03T10:46:01.512Z"
   },
   {
    "duration": 138,
    "start_time": "2022-05-03T10:46:01.664Z"
   },
   {
    "duration": 12,
    "start_time": "2022-05-03T10:46:01.803Z"
   },
   {
    "duration": 52,
    "start_time": "2022-05-03T10:46:01.817Z"
   },
   {
    "duration": 171,
    "start_time": "2022-05-03T10:46:01.871Z"
   },
   {
    "duration": 26,
    "start_time": "2022-05-03T10:46:02.044Z"
   },
   {
    "duration": 1150,
    "start_time": "2022-05-03T10:46:02.072Z"
   },
   {
    "duration": 10731,
    "start_time": "2022-05-03T10:46:03.224Z"
   },
   {
    "duration": 61,
    "start_time": "2022-05-03T10:46:13.956Z"
   },
   {
    "duration": 11,
    "start_time": "2022-05-03T10:46:14.019Z"
   },
   {
    "duration": 107,
    "start_time": "2022-05-03T10:46:14.032Z"
   },
   {
    "duration": 111,
    "start_time": "2022-05-03T10:46:14.140Z"
   },
   {
    "duration": 81,
    "start_time": "2022-05-03T10:46:14.253Z"
   },
   {
    "duration": 85,
    "start_time": "2022-05-03T10:46:14.335Z"
   },
   {
    "duration": 115,
    "start_time": "2022-05-03T10:46:14.422Z"
   },
   {
    "duration": 110,
    "start_time": "2022-05-03T10:46:14.539Z"
   },
   {
    "duration": 63,
    "start_time": "2022-05-03T10:46:14.654Z"
   },
   {
    "duration": 5,
    "start_time": "2022-05-03T10:46:14.718Z"
   },
   {
    "duration": 5,
    "start_time": "2022-05-03T10:46:14.724Z"
   },
   {
    "duration": 4,
    "start_time": "2022-05-03T10:46:14.730Z"
   },
   {
    "duration": 9,
    "start_time": "2022-05-03T10:46:14.735Z"
   },
   {
    "duration": 22,
    "start_time": "2022-05-03T10:46:14.746Z"
   },
   {
    "duration": 48,
    "start_time": "2022-05-03T10:46:14.770Z"
   },
   {
    "duration": 21,
    "start_time": "2022-05-03T10:46:14.819Z"
   },
   {
    "duration": 76,
    "start_time": "2022-05-03T10:46:14.842Z"
   },
   {
    "duration": 4,
    "start_time": "2022-05-03T10:46:14.919Z"
   },
   {
    "duration": 17,
    "start_time": "2022-05-03T10:46:14.925Z"
   },
   {
    "duration": 10,
    "start_time": "2022-05-03T10:46:14.944Z"
   },
   {
    "duration": 16,
    "start_time": "2022-05-03T10:46:14.956Z"
   },
   {
    "duration": 4,
    "start_time": "2022-05-03T10:46:14.973Z"
   },
   {
    "duration": 43,
    "start_time": "2022-05-03T10:46:14.979Z"
   },
   {
    "duration": 22,
    "start_time": "2022-05-03T10:46:15.023Z"
   },
   {
    "duration": 11,
    "start_time": "2022-05-03T10:46:15.047Z"
   },
   {
    "duration": 16,
    "start_time": "2022-05-03T10:46:15.060Z"
   },
   {
    "duration": 54837,
    "start_time": "2022-05-03T10:46:15.078Z"
   },
   {
    "duration": 99,
    "start_time": "2022-05-03T10:47:09.916Z"
   },
   {
    "duration": 17,
    "start_time": "2022-05-03T10:47:10.016Z"
   },
   {
    "duration": 16,
    "start_time": "2022-05-03T10:47:10.035Z"
   },
   {
    "duration": 17,
    "start_time": "2022-05-03T10:47:10.053Z"
   },
   {
    "duration": 35,
    "start_time": "2022-05-03T10:47:10.072Z"
   },
   {
    "duration": 9,
    "start_time": "2022-05-03T10:47:10.109Z"
   },
   {
    "duration": 10,
    "start_time": "2022-05-03T10:47:10.119Z"
   },
   {
    "duration": 11,
    "start_time": "2022-05-03T10:47:10.130Z"
   },
   {
    "duration": 14,
    "start_time": "2022-05-03T10:47:10.143Z"
   },
   {
    "duration": 78,
    "start_time": "2022-05-03T10:47:10.159Z"
   },
   {
    "duration": 4,
    "start_time": "2022-05-03T10:47:10.238Z"
   },
   {
    "duration": 122,
    "start_time": "2022-05-03T10:47:10.244Z"
   },
   {
    "duration": 7,
    "start_time": "2022-05-03T10:47:10.368Z"
   },
   {
    "duration": 5,
    "start_time": "2022-05-03T10:47:10.377Z"
   },
   {
    "duration": 6,
    "start_time": "2022-05-03T10:47:10.384Z"
   },
   {
    "duration": 5,
    "start_time": "2022-05-03T10:47:10.408Z"
   },
   {
    "duration": 9,
    "start_time": "2022-05-03T10:47:10.415Z"
   },
   {
    "duration": 7,
    "start_time": "2022-05-03T10:47:10.426Z"
   },
   {
    "duration": 6,
    "start_time": "2022-05-03T10:47:10.434Z"
   },
   {
    "duration": 7,
    "start_time": "2022-05-03T10:47:10.442Z"
   },
   {
    "duration": 7,
    "start_time": "2022-05-03T10:47:10.451Z"
   },
   {
    "duration": 142,
    "start_time": "2022-05-03T10:47:10.460Z"
   },
   {
    "duration": 7,
    "start_time": "2022-05-03T10:47:10.606Z"
   },
   {
    "duration": 14,
    "start_time": "2022-05-03T10:47:10.615Z"
   },
   {
    "duration": 6,
    "start_time": "2022-05-03T10:47:10.631Z"
   },
   {
    "duration": 8,
    "start_time": "2022-05-03T10:47:10.639Z"
   },
   {
    "duration": 7,
    "start_time": "2022-05-03T10:47:10.649Z"
   },
   {
    "duration": 10,
    "start_time": "2022-05-03T10:47:10.657Z"
   },
   {
    "duration": 12,
    "start_time": "2022-05-03T10:47:10.668Z"
   },
   {
    "duration": 28,
    "start_time": "2022-05-03T10:47:10.682Z"
   },
   {
    "duration": 4,
    "start_time": "2022-05-03T10:47:10.712Z"
   },
   {
    "duration": 12,
    "start_time": "2022-05-03T10:47:10.718Z"
   },
   {
    "duration": 9,
    "start_time": "2022-05-03T10:47:10.732Z"
   },
   {
    "duration": 9,
    "start_time": "2022-05-03T10:47:10.743Z"
   },
   {
    "duration": 53,
    "start_time": "2022-05-03T10:47:10.754Z"
   },
   {
    "duration": 10,
    "start_time": "2022-05-03T10:47:10.813Z"
   },
   {
    "duration": 13,
    "start_time": "2022-05-03T10:47:10.825Z"
   },
   {
    "duration": 3,
    "start_time": "2022-05-03T10:47:10.840Z"
   },
   {
    "duration": 11,
    "start_time": "2022-05-03T10:47:10.845Z"
   },
   {
    "duration": 6,
    "start_time": "2022-05-03T10:47:10.857Z"
   },
   {
    "duration": 10,
    "start_time": "2022-05-03T10:47:10.865Z"
   },
   {
    "duration": 41,
    "start_time": "2022-05-03T10:47:10.877Z"
   },
   {
    "duration": 10,
    "start_time": "2022-05-03T10:47:10.920Z"
   },
   {
    "duration": 9,
    "start_time": "2022-05-03T10:47:10.932Z"
   },
   {
    "duration": 86,
    "start_time": "2022-05-03T10:47:10.942Z"
   },
   {
    "duration": 5766,
    "start_time": "2022-05-03T10:47:11.030Z"
   },
   {
    "duration": 5698,
    "start_time": "2022-05-03T11:08:12.503Z"
   },
   {
    "duration": 10476,
    "start_time": "2022-05-03T11:10:47.055Z"
   },
   {
    "duration": 10324,
    "start_time": "2022-05-03T11:22:29.558Z"
   },
   {
    "duration": 171,
    "start_time": "2022-05-03T11:30:14.921Z"
   },
   {
    "duration": 156,
    "start_time": "2022-05-03T11:30:53.402Z"
   },
   {
    "duration": 150,
    "start_time": "2022-05-03T11:31:07.103Z"
   },
   {
    "duration": 10588,
    "start_time": "2022-05-03T11:31:12.812Z"
   },
   {
    "duration": 165,
    "start_time": "2022-05-03T11:36:46.275Z"
   },
   {
    "duration": 11164,
    "start_time": "2022-05-03T11:36:47.700Z"
   },
   {
    "duration": 6347,
    "start_time": "2022-05-03T11:49:13.813Z"
   },
   {
    "duration": 1588,
    "start_time": "2022-05-03T12:03:20.843Z"
   },
   {
    "duration": 188,
    "start_time": "2022-05-03T12:03:22.433Z"
   },
   {
    "duration": 43,
    "start_time": "2022-05-03T12:03:22.624Z"
   },
   {
    "duration": 4,
    "start_time": "2022-05-03T12:03:22.671Z"
   },
   {
    "duration": 46,
    "start_time": "2022-05-03T12:03:22.677Z"
   },
   {
    "duration": 187,
    "start_time": "2022-05-03T12:03:22.725Z"
   },
   {
    "duration": 58,
    "start_time": "2022-05-03T12:03:22.914Z"
   },
   {
    "duration": 113,
    "start_time": "2022-05-03T12:03:22.974Z"
   },
   {
    "duration": 178,
    "start_time": "2022-05-03T12:03:23.089Z"
   },
   {
    "duration": 909,
    "start_time": "2022-05-03T12:03:23.270Z"
   },
   {
    "duration": 137,
    "start_time": "2022-05-03T12:03:24.181Z"
   },
   {
    "duration": 151,
    "start_time": "2022-05-03T12:03:24.320Z"
   },
   {
    "duration": 141,
    "start_time": "2022-05-03T12:03:24.473Z"
   },
   {
    "duration": 11,
    "start_time": "2022-05-03T12:03:24.616Z"
   },
   {
    "duration": 83,
    "start_time": "2022-05-03T12:03:24.629Z"
   },
   {
    "duration": 167,
    "start_time": "2022-05-03T12:03:24.714Z"
   },
   {
    "duration": 36,
    "start_time": "2022-05-03T12:03:24.882Z"
   },
   {
    "duration": 458,
    "start_time": "2022-05-03T12:03:24.920Z"
   },
   {
    "duration": 253,
    "start_time": "2022-05-03T12:03:25.379Z"
   },
   {
    "duration": 5696,
    "start_time": "2022-05-03T12:03:25.633Z"
   },
   {
    "duration": 25,
    "start_time": "2022-05-03T12:03:31.332Z"
   },
   {
    "duration": 58,
    "start_time": "2022-05-03T12:03:31.359Z"
   },
   {
    "duration": 126,
    "start_time": "2022-05-03T12:03:31.419Z"
   },
   {
    "duration": 105,
    "start_time": "2022-05-03T12:03:31.548Z"
   },
   {
    "duration": 28,
    "start_time": "2022-05-03T12:03:31.708Z"
   },
   {
    "duration": 27,
    "start_time": "2022-05-03T12:03:31.738Z"
   },
   {
    "duration": 79,
    "start_time": "2022-05-03T12:03:31.767Z"
   },
   {
    "duration": 67,
    "start_time": "2022-05-03T12:03:31.851Z"
   },
   {
    "duration": 11,
    "start_time": "2022-05-03T12:03:31.920Z"
   },
   {
    "duration": 5,
    "start_time": "2022-05-03T12:03:31.933Z"
   },
   {
    "duration": 8,
    "start_time": "2022-05-03T12:03:31.939Z"
   },
   {
    "duration": 4,
    "start_time": "2022-05-03T12:03:31.949Z"
   },
   {
    "duration": 15,
    "start_time": "2022-05-03T12:03:31.955Z"
   },
   {
    "duration": 39,
    "start_time": "2022-05-03T12:03:31.972Z"
   },
   {
    "duration": 15,
    "start_time": "2022-05-03T12:03:32.012Z"
   },
   {
    "duration": 15,
    "start_time": "2022-05-03T12:03:32.029Z"
   },
   {
    "duration": 90,
    "start_time": "2022-05-03T12:03:32.046Z"
   },
   {
    "duration": 4,
    "start_time": "2022-05-03T12:03:32.137Z"
   },
   {
    "duration": 16,
    "start_time": "2022-05-03T12:03:32.143Z"
   },
   {
    "duration": 4,
    "start_time": "2022-05-03T12:03:32.161Z"
   },
   {
    "duration": 43,
    "start_time": "2022-05-03T12:03:32.166Z"
   },
   {
    "duration": 4,
    "start_time": "2022-05-03T12:03:32.211Z"
   },
   {
    "duration": 18,
    "start_time": "2022-05-03T12:03:32.217Z"
   },
   {
    "duration": 19,
    "start_time": "2022-05-03T12:03:32.236Z"
   },
   {
    "duration": 3,
    "start_time": "2022-05-03T12:03:32.257Z"
   },
   {
    "duration": 48,
    "start_time": "2022-05-03T12:03:32.262Z"
   },
   {
    "duration": 56674,
    "start_time": "2022-05-03T12:03:32.311Z"
   },
   {
    "duration": 95,
    "start_time": "2022-05-03T12:04:28.987Z"
   },
   {
    "duration": 29,
    "start_time": "2022-05-03T12:04:29.084Z"
   },
   {
    "duration": 13,
    "start_time": "2022-05-03T12:04:29.115Z"
   },
   {
    "duration": 11,
    "start_time": "2022-05-03T12:04:29.130Z"
   },
   {
    "duration": 10,
    "start_time": "2022-05-03T12:04:29.143Z"
   },
   {
    "duration": 8,
    "start_time": "2022-05-03T12:04:29.155Z"
   },
   {
    "duration": 48,
    "start_time": "2022-05-03T12:04:29.165Z"
   },
   {
    "duration": 12,
    "start_time": "2022-05-03T12:04:29.215Z"
   },
   {
    "duration": 13,
    "start_time": "2022-05-03T12:04:29.229Z"
   },
   {
    "duration": 64,
    "start_time": "2022-05-03T12:04:29.244Z"
   },
   {
    "duration": 5,
    "start_time": "2022-05-03T12:04:29.310Z"
   },
   {
    "duration": 127,
    "start_time": "2022-05-03T12:04:29.316Z"
   },
   {
    "duration": 8,
    "start_time": "2022-05-03T12:04:29.444Z"
   },
   {
    "duration": 4,
    "start_time": "2022-05-03T12:04:29.455Z"
   },
   {
    "duration": 6,
    "start_time": "2022-05-03T12:04:29.461Z"
   },
   {
    "duration": 8,
    "start_time": "2022-05-03T12:04:29.469Z"
   },
   {
    "duration": 32,
    "start_time": "2022-05-03T12:04:29.479Z"
   },
   {
    "duration": 6,
    "start_time": "2022-05-03T12:04:29.513Z"
   },
   {
    "duration": 6,
    "start_time": "2022-05-03T12:04:29.522Z"
   },
   {
    "duration": 10,
    "start_time": "2022-05-03T12:04:29.531Z"
   },
   {
    "duration": 6,
    "start_time": "2022-05-03T12:04:29.544Z"
   },
   {
    "duration": 146,
    "start_time": "2022-05-03T12:04:29.552Z"
   },
   {
    "duration": 12,
    "start_time": "2022-05-03T12:04:29.699Z"
   },
   {
    "duration": 7,
    "start_time": "2022-05-03T12:04:29.713Z"
   },
   {
    "duration": 7,
    "start_time": "2022-05-03T12:04:29.722Z"
   },
   {
    "duration": 10,
    "start_time": "2022-05-03T12:04:29.730Z"
   },
   {
    "duration": 9,
    "start_time": "2022-05-03T12:04:29.742Z"
   },
   {
    "duration": 4,
    "start_time": "2022-05-03T12:04:29.753Z"
   },
   {
    "duration": 15,
    "start_time": "2022-05-03T12:04:29.759Z"
   },
   {
    "duration": 5,
    "start_time": "2022-05-03T12:04:29.808Z"
   },
   {
    "duration": 6,
    "start_time": "2022-05-03T12:04:29.816Z"
   },
   {
    "duration": 14,
    "start_time": "2022-05-03T12:04:29.823Z"
   },
   {
    "duration": 10,
    "start_time": "2022-05-03T12:04:29.839Z"
   },
   {
    "duration": 55,
    "start_time": "2022-05-03T12:04:29.852Z"
   },
   {
    "duration": 12,
    "start_time": "2022-05-03T12:04:29.913Z"
   },
   {
    "duration": 11,
    "start_time": "2022-05-03T12:04:29.927Z"
   },
   {
    "duration": 13,
    "start_time": "2022-05-03T12:04:29.940Z"
   },
   {
    "duration": 4,
    "start_time": "2022-05-03T12:04:29.955Z"
   },
   {
    "duration": 49,
    "start_time": "2022-05-03T12:04:29.960Z"
   },
   {
    "duration": 5,
    "start_time": "2022-05-03T12:04:30.011Z"
   },
   {
    "duration": 23,
    "start_time": "2022-05-03T12:04:30.018Z"
   },
   {
    "duration": 11,
    "start_time": "2022-05-03T12:04:30.043Z"
   },
   {
    "duration": 21,
    "start_time": "2022-05-03T12:04:30.058Z"
   },
   {
    "duration": 31,
    "start_time": "2022-05-03T12:04:30.081Z"
   },
   {
    "duration": 58,
    "start_time": "2022-05-03T12:04:30.114Z"
   },
   {
    "duration": 19,
    "start_time": "2022-05-03T12:26:15.197Z"
   },
   {
    "duration": 28,
    "start_time": "2022-05-03T12:26:23.190Z"
   },
   {
    "duration": 19,
    "start_time": "2022-05-03T12:26:41.195Z"
   },
   {
    "duration": 90,
    "start_time": "2022-05-03T12:26:58.947Z"
   },
   {
    "duration": 10,
    "start_time": "2022-05-03T12:27:48.100Z"
   },
   {
    "duration": 5,
    "start_time": "2022-05-03T12:28:07.023Z"
   },
   {
    "duration": 62,
    "start_time": "2022-05-03T12:28:16.753Z"
   },
   {
    "duration": 11,
    "start_time": "2022-05-03T12:28:28.871Z"
   },
   {
    "duration": 61,
    "start_time": "2022-05-03T12:29:45.894Z"
   },
   {
    "duration": 485,
    "start_time": "2022-05-03T12:29:59.108Z"
   },
   {
    "duration": 280,
    "start_time": "2022-05-03T12:31:01.283Z"
   },
   {
    "duration": 20,
    "start_time": "2022-05-03T12:41:51.987Z"
   },
   {
    "duration": 21,
    "start_time": "2022-05-03T12:42:14.110Z"
   },
   {
    "duration": 50,
    "start_time": "2022-05-03T12:42:21.204Z"
   },
   {
    "duration": 7,
    "start_time": "2022-05-03T12:43:00.788Z"
   },
   {
    "duration": 724,
    "start_time": "2022-05-03T12:43:10.270Z"
   },
   {
    "duration": 754,
    "start_time": "2022-05-03T12:44:05.853Z"
   },
   {
    "duration": 6,
    "start_time": "2022-05-03T12:45:12.456Z"
   },
   {
    "duration": 4,
    "start_time": "2022-05-03T12:45:40.232Z"
   },
   {
    "duration": 1765,
    "start_time": "2022-05-03T12:46:01.075Z"
   },
   {
    "duration": 14,
    "start_time": "2022-05-03T12:46:12.339Z"
   },
   {
    "duration": 14,
    "start_time": "2022-05-03T12:48:17.628Z"
   },
   {
    "duration": 6,
    "start_time": "2022-05-03T12:48:37.556Z"
   },
   {
    "duration": 257,
    "start_time": "2022-05-03T12:49:05.759Z"
   },
   {
    "duration": 27,
    "start_time": "2022-05-03T12:49:18.607Z"
   },
   {
    "duration": 1462,
    "start_time": "2022-05-03T12:49:37.169Z"
   },
   {
    "duration": 183,
    "start_time": "2022-05-03T12:49:38.633Z"
   },
   {
    "duration": 40,
    "start_time": "2022-05-03T12:49:38.817Z"
   },
   {
    "duration": 3,
    "start_time": "2022-05-03T12:49:38.858Z"
   },
   {
    "duration": 44,
    "start_time": "2022-05-03T12:49:38.863Z"
   },
   {
    "duration": 187,
    "start_time": "2022-05-03T12:49:38.909Z"
   },
   {
    "duration": 60,
    "start_time": "2022-05-03T12:49:39.097Z"
   },
   {
    "duration": 110,
    "start_time": "2022-05-03T12:49:39.158Z"
   },
   {
    "duration": 162,
    "start_time": "2022-05-03T12:49:39.269Z"
   },
   {
    "duration": 917,
    "start_time": "2022-05-03T12:49:39.432Z"
   },
   {
    "duration": 143,
    "start_time": "2022-05-03T12:49:40.351Z"
   },
   {
    "duration": 149,
    "start_time": "2022-05-03T12:49:40.496Z"
   },
   {
    "duration": 145,
    "start_time": "2022-05-03T12:49:40.646Z"
   },
   {
    "duration": 20,
    "start_time": "2022-05-03T12:49:40.795Z"
   },
   {
    "duration": 49,
    "start_time": "2022-05-03T12:49:40.816Z"
   },
   {
    "duration": 184,
    "start_time": "2022-05-03T12:49:40.867Z"
   },
   {
    "duration": 28,
    "start_time": "2022-05-03T12:49:41.053Z"
   },
   {
    "duration": 445,
    "start_time": "2022-05-03T12:49:41.083Z"
   },
   {
    "duration": 6,
    "start_time": "2022-05-03T12:49:41.530Z"
   },
   {
    "duration": 772,
    "start_time": "2022-05-03T12:49:41.537Z"
   },
   {
    "duration": 200,
    "start_time": "2022-05-03T12:49:42.311Z"
   },
   {
    "duration": 0,
    "start_time": "2022-05-03T12:49:42.514Z"
   },
   {
    "duration": 0,
    "start_time": "2022-05-03T12:49:42.516Z"
   },
   {
    "duration": 0,
    "start_time": "2022-05-03T12:49:42.517Z"
   },
   {
    "duration": 0,
    "start_time": "2022-05-03T12:49:42.518Z"
   },
   {
    "duration": 0,
    "start_time": "2022-05-03T12:49:42.519Z"
   },
   {
    "duration": 0,
    "start_time": "2022-05-03T12:49:42.520Z"
   },
   {
    "duration": 0,
    "start_time": "2022-05-03T12:49:42.521Z"
   },
   {
    "duration": 0,
    "start_time": "2022-05-03T12:49:42.522Z"
   },
   {
    "duration": 0,
    "start_time": "2022-05-03T12:49:42.523Z"
   },
   {
    "duration": 0,
    "start_time": "2022-05-03T12:49:42.524Z"
   },
   {
    "duration": 0,
    "start_time": "2022-05-03T12:49:42.525Z"
   },
   {
    "duration": 0,
    "start_time": "2022-05-03T12:49:42.526Z"
   },
   {
    "duration": 0,
    "start_time": "2022-05-03T12:49:42.527Z"
   },
   {
    "duration": 0,
    "start_time": "2022-05-03T12:49:42.528Z"
   },
   {
    "duration": 0,
    "start_time": "2022-05-03T12:49:42.529Z"
   },
   {
    "duration": 0,
    "start_time": "2022-05-03T12:49:42.530Z"
   },
   {
    "duration": 0,
    "start_time": "2022-05-03T12:49:42.531Z"
   },
   {
    "duration": 0,
    "start_time": "2022-05-03T12:49:42.532Z"
   },
   {
    "duration": 0,
    "start_time": "2022-05-03T12:49:42.533Z"
   },
   {
    "duration": 0,
    "start_time": "2022-05-03T12:49:42.534Z"
   },
   {
    "duration": 0,
    "start_time": "2022-05-03T12:49:42.535Z"
   },
   {
    "duration": 0,
    "start_time": "2022-05-03T12:49:42.536Z"
   },
   {
    "duration": 0,
    "start_time": "2022-05-03T12:49:42.537Z"
   },
   {
    "duration": 0,
    "start_time": "2022-05-03T12:49:42.538Z"
   },
   {
    "duration": 0,
    "start_time": "2022-05-03T12:49:42.539Z"
   },
   {
    "duration": 0,
    "start_time": "2022-05-03T12:49:42.540Z"
   },
   {
    "duration": 0,
    "start_time": "2022-05-03T12:49:42.541Z"
   },
   {
    "duration": 0,
    "start_time": "2022-05-03T12:49:42.542Z"
   },
   {
    "duration": 0,
    "start_time": "2022-05-03T12:49:42.543Z"
   },
   {
    "duration": 0,
    "start_time": "2022-05-03T12:49:42.544Z"
   },
   {
    "duration": 0,
    "start_time": "2022-05-03T12:49:42.545Z"
   },
   {
    "duration": 0,
    "start_time": "2022-05-03T12:49:42.546Z"
   },
   {
    "duration": 0,
    "start_time": "2022-05-03T12:49:42.547Z"
   },
   {
    "duration": 0,
    "start_time": "2022-05-03T12:49:42.548Z"
   },
   {
    "duration": 0,
    "start_time": "2022-05-03T12:49:42.549Z"
   },
   {
    "duration": 0,
    "start_time": "2022-05-03T12:49:42.550Z"
   },
   {
    "duration": 0,
    "start_time": "2022-05-03T12:49:42.551Z"
   },
   {
    "duration": 0,
    "start_time": "2022-05-03T12:49:42.608Z"
   },
   {
    "duration": 0,
    "start_time": "2022-05-03T12:49:42.609Z"
   },
   {
    "duration": 0,
    "start_time": "2022-05-03T12:49:42.610Z"
   },
   {
    "duration": 0,
    "start_time": "2022-05-03T12:49:42.611Z"
   },
   {
    "duration": 0,
    "start_time": "2022-05-03T12:49:42.612Z"
   },
   {
    "duration": 0,
    "start_time": "2022-05-03T12:49:42.613Z"
   },
   {
    "duration": 0,
    "start_time": "2022-05-03T12:49:42.614Z"
   },
   {
    "duration": 0,
    "start_time": "2022-05-03T12:49:42.615Z"
   },
   {
    "duration": 0,
    "start_time": "2022-05-03T12:49:42.616Z"
   },
   {
    "duration": 0,
    "start_time": "2022-05-03T12:49:42.617Z"
   },
   {
    "duration": 0,
    "start_time": "2022-05-03T12:49:42.618Z"
   },
   {
    "duration": 0,
    "start_time": "2022-05-03T12:49:42.619Z"
   },
   {
    "duration": 0,
    "start_time": "2022-05-03T12:49:42.620Z"
   },
   {
    "duration": 0,
    "start_time": "2022-05-03T12:49:42.621Z"
   },
   {
    "duration": 0,
    "start_time": "2022-05-03T12:49:42.623Z"
   },
   {
    "duration": 0,
    "start_time": "2022-05-03T12:49:42.624Z"
   },
   {
    "duration": 0,
    "start_time": "2022-05-03T12:49:42.625Z"
   },
   {
    "duration": 0,
    "start_time": "2022-05-03T12:49:42.626Z"
   },
   {
    "duration": 0,
    "start_time": "2022-05-03T12:49:42.627Z"
   },
   {
    "duration": 0,
    "start_time": "2022-05-03T12:49:42.628Z"
   },
   {
    "duration": 0,
    "start_time": "2022-05-03T12:49:42.629Z"
   },
   {
    "duration": 0,
    "start_time": "2022-05-03T12:49:42.630Z"
   },
   {
    "duration": 0,
    "start_time": "2022-05-03T12:49:42.631Z"
   },
   {
    "duration": 0,
    "start_time": "2022-05-03T12:49:42.632Z"
   },
   {
    "duration": 0,
    "start_time": "2022-05-03T12:49:42.633Z"
   },
   {
    "duration": 0,
    "start_time": "2022-05-03T12:49:42.634Z"
   },
   {
    "duration": 0,
    "start_time": "2022-05-03T12:49:42.635Z"
   },
   {
    "duration": 0,
    "start_time": "2022-05-03T12:49:42.637Z"
   },
   {
    "duration": 0,
    "start_time": "2022-05-03T12:49:42.638Z"
   },
   {
    "duration": 0,
    "start_time": "2022-05-03T12:49:42.639Z"
   },
   {
    "duration": 0,
    "start_time": "2022-05-03T12:49:42.640Z"
   },
   {
    "duration": 0,
    "start_time": "2022-05-03T12:49:42.641Z"
   },
   {
    "duration": 0,
    "start_time": "2022-05-03T12:49:42.642Z"
   },
   {
    "duration": 0,
    "start_time": "2022-05-03T12:49:42.643Z"
   },
   {
    "duration": 0,
    "start_time": "2022-05-03T12:49:42.708Z"
   },
   {
    "duration": 0,
    "start_time": "2022-05-03T12:49:42.709Z"
   },
   {
    "duration": 0,
    "start_time": "2022-05-03T12:49:42.710Z"
   },
   {
    "duration": 17,
    "start_time": "2022-05-03T12:50:40.215Z"
   },
   {
    "duration": 10,
    "start_time": "2022-05-03T12:50:42.403Z"
   },
   {
    "duration": 7,
    "start_time": "2022-05-03T12:50:45.317Z"
   },
   {
    "duration": 1499,
    "start_time": "2022-05-03T12:50:57.950Z"
   },
   {
    "duration": 189,
    "start_time": "2022-05-03T12:50:59.451Z"
   },
   {
    "duration": 42,
    "start_time": "2022-05-03T12:50:59.642Z"
   },
   {
    "duration": 3,
    "start_time": "2022-05-03T12:50:59.687Z"
   },
   {
    "duration": 40,
    "start_time": "2022-05-03T12:50:59.692Z"
   },
   {
    "duration": 184,
    "start_time": "2022-05-03T12:50:59.733Z"
   },
   {
    "duration": 55,
    "start_time": "2022-05-03T12:50:59.918Z"
   },
   {
    "duration": 102,
    "start_time": "2022-05-03T12:50:59.974Z"
   },
   {
    "duration": 169,
    "start_time": "2022-05-03T12:51:00.078Z"
   },
   {
    "duration": 911,
    "start_time": "2022-05-03T12:51:00.250Z"
   },
   {
    "duration": 140,
    "start_time": "2022-05-03T12:51:01.162Z"
   },
   {
    "duration": 151,
    "start_time": "2022-05-03T12:51:01.304Z"
   },
   {
    "duration": 151,
    "start_time": "2022-05-03T12:51:01.457Z"
   },
   {
    "duration": 12,
    "start_time": "2022-05-03T12:51:01.609Z"
   },
   {
    "duration": 61,
    "start_time": "2022-05-03T12:51:01.623Z"
   },
   {
    "duration": 184,
    "start_time": "2022-05-03T12:51:01.685Z"
   },
   {
    "duration": 43,
    "start_time": "2022-05-03T12:51:01.871Z"
   },
   {
    "duration": 479,
    "start_time": "2022-05-03T12:51:01.916Z"
   },
   {
    "duration": 6,
    "start_time": "2022-05-03T12:51:02.397Z"
   },
   {
    "duration": 774,
    "start_time": "2022-05-03T12:51:02.404Z"
   },
   {
    "duration": 17,
    "start_time": "2022-05-03T12:51:03.180Z"
   },
   {
    "duration": 29,
    "start_time": "2022-05-03T12:51:03.199Z"
   },
   {
    "duration": 18,
    "start_time": "2022-05-03T12:51:03.230Z"
   },
   {
    "duration": 16,
    "start_time": "2022-05-03T12:51:03.250Z"
   },
   {
    "duration": 70,
    "start_time": "2022-05-03T12:51:03.268Z"
   },
   {
    "duration": 69,
    "start_time": "2022-05-03T12:51:03.340Z"
   },
   {
    "duration": 30,
    "start_time": "2022-05-03T12:51:03.411Z"
   },
   {
    "duration": 29,
    "start_time": "2022-05-03T12:51:03.447Z"
   },
   {
    "duration": 88,
    "start_time": "2022-05-03T12:51:03.478Z"
   },
   {
    "duration": 76,
    "start_time": "2022-05-03T12:51:03.568Z"
   },
   {
    "duration": 12,
    "start_time": "2022-05-03T12:51:03.646Z"
   },
   {
    "duration": 13,
    "start_time": "2022-05-03T12:51:03.660Z"
   },
   {
    "duration": 33,
    "start_time": "2022-05-03T12:51:03.676Z"
   },
   {
    "duration": 22,
    "start_time": "2022-05-03T12:51:03.711Z"
   },
   {
    "duration": 21,
    "start_time": "2022-05-03T12:51:03.735Z"
   },
   {
    "duration": 36,
    "start_time": "2022-05-03T12:51:03.758Z"
   },
   {
    "duration": 19,
    "start_time": "2022-05-03T12:51:03.796Z"
   },
   {
    "duration": 38,
    "start_time": "2022-05-03T12:51:03.817Z"
   },
   {
    "duration": 64,
    "start_time": "2022-05-03T12:51:03.858Z"
   },
   {
    "duration": 4,
    "start_time": "2022-05-03T12:51:03.924Z"
   },
   {
    "duration": 36,
    "start_time": "2022-05-03T12:51:03.930Z"
   },
   {
    "duration": 17,
    "start_time": "2022-05-03T12:51:03.968Z"
   },
   {
    "duration": 26,
    "start_time": "2022-05-03T12:51:03.987Z"
   },
   {
    "duration": 10,
    "start_time": "2022-05-03T12:51:04.015Z"
   },
   {
    "duration": 25,
    "start_time": "2022-05-03T12:51:04.027Z"
   },
   {
    "duration": 30,
    "start_time": "2022-05-03T12:51:04.054Z"
   },
   {
    "duration": 3,
    "start_time": "2022-05-03T12:51:04.086Z"
   },
   {
    "duration": 32,
    "start_time": "2022-05-03T12:51:04.091Z"
   },
   {
    "duration": 57093,
    "start_time": "2022-05-03T12:51:04.125Z"
   },
   {
    "duration": 100,
    "start_time": "2022-05-03T12:52:01.220Z"
   },
   {
    "duration": 16,
    "start_time": "2022-05-03T12:52:01.321Z"
   },
   {
    "duration": 23,
    "start_time": "2022-05-03T12:52:01.339Z"
   },
   {
    "duration": 20,
    "start_time": "2022-05-03T12:52:01.364Z"
   },
   {
    "duration": 27,
    "start_time": "2022-05-03T12:52:01.385Z"
   },
   {
    "duration": 8,
    "start_time": "2022-05-03T12:52:01.414Z"
   },
   {
    "duration": 20,
    "start_time": "2022-05-03T12:52:01.424Z"
   },
   {
    "duration": 18,
    "start_time": "2022-05-03T12:52:01.446Z"
   },
   {
    "duration": 15,
    "start_time": "2022-05-03T12:52:01.466Z"
   },
   {
    "duration": 52,
    "start_time": "2022-05-03T12:52:01.483Z"
   },
   {
    "duration": 4,
    "start_time": "2022-05-03T12:52:01.536Z"
   },
   {
    "duration": 117,
    "start_time": "2022-05-03T12:52:01.542Z"
   },
   {
    "duration": 7,
    "start_time": "2022-05-03T12:52:01.661Z"
   },
   {
    "duration": 20,
    "start_time": "2022-05-03T12:52:01.670Z"
   },
   {
    "duration": 19,
    "start_time": "2022-05-03T12:52:01.692Z"
   },
   {
    "duration": 8,
    "start_time": "2022-05-03T12:52:01.713Z"
   },
   {
    "duration": 16,
    "start_time": "2022-05-03T12:52:01.723Z"
   },
   {
    "duration": 15,
    "start_time": "2022-05-03T12:52:01.741Z"
   },
   {
    "duration": 17,
    "start_time": "2022-05-03T12:52:01.757Z"
   },
   {
    "duration": 16,
    "start_time": "2022-05-03T12:52:01.776Z"
   },
   {
    "duration": 12,
    "start_time": "2022-05-03T12:52:01.794Z"
   },
   {
    "duration": 119,
    "start_time": "2022-05-03T12:52:01.808Z"
   },
   {
    "duration": 7,
    "start_time": "2022-05-03T12:52:01.929Z"
   },
   {
    "duration": 15,
    "start_time": "2022-05-03T12:52:01.938Z"
   },
   {
    "duration": 13,
    "start_time": "2022-05-03T12:52:01.954Z"
   },
   {
    "duration": 9,
    "start_time": "2022-05-03T12:52:01.969Z"
   },
   {
    "duration": 18,
    "start_time": "2022-05-03T12:52:01.980Z"
   },
   {
    "duration": 15,
    "start_time": "2022-05-03T12:52:02.000Z"
   },
   {
    "duration": 21,
    "start_time": "2022-05-03T12:52:02.017Z"
   },
   {
    "duration": 9,
    "start_time": "2022-05-03T12:52:02.040Z"
   },
   {
    "duration": 6,
    "start_time": "2022-05-03T12:52:02.051Z"
   },
   {
    "duration": 23,
    "start_time": "2022-05-03T12:52:02.058Z"
   },
   {
    "duration": 10,
    "start_time": "2022-05-03T12:52:02.087Z"
   },
   {
    "duration": 10,
    "start_time": "2022-05-03T12:52:02.108Z"
   },
   {
    "duration": 10,
    "start_time": "2022-05-03T12:52:02.120Z"
   },
   {
    "duration": 9,
    "start_time": "2022-05-03T12:52:02.132Z"
   },
   {
    "duration": 16,
    "start_time": "2022-05-03T12:52:02.143Z"
   },
   {
    "duration": 6,
    "start_time": "2022-05-03T12:52:02.160Z"
   },
   {
    "duration": 10,
    "start_time": "2022-05-03T12:52:02.207Z"
   },
   {
    "duration": 6,
    "start_time": "2022-05-03T12:52:02.219Z"
   },
   {
    "duration": 12,
    "start_time": "2022-05-03T12:52:02.226Z"
   },
   {
    "duration": 12,
    "start_time": "2022-05-03T12:52:02.239Z"
   },
   {
    "duration": 9,
    "start_time": "2022-05-03T12:52:02.253Z"
   },
   {
    "duration": 47,
    "start_time": "2022-05-03T12:52:02.264Z"
   },
   {
    "duration": 55,
    "start_time": "2022-05-03T12:52:02.313Z"
   },
   {
    "duration": 83,
    "start_time": "2022-05-03T12:52:02.369Z"
   },
   {
    "duration": 224,
    "start_time": "2022-05-03T12:52:25.706Z"
   },
   {
    "duration": 210,
    "start_time": "2022-05-03T12:52:34.274Z"
   },
   {
    "duration": 440,
    "start_time": "2022-05-03T12:53:26.267Z"
   },
   {
    "duration": 232,
    "start_time": "2022-05-03T12:53:45.767Z"
   },
   {
    "duration": 228,
    "start_time": "2022-05-03T12:53:56.606Z"
   },
   {
    "duration": 245,
    "start_time": "2022-05-03T12:54:32.072Z"
   },
   {
    "duration": 261,
    "start_time": "2022-05-03T13:06:28.512Z"
   },
   {
    "duration": 126,
    "start_time": "2022-05-03T13:07:28.137Z"
   },
   {
    "duration": 247,
    "start_time": "2022-05-03T13:07:40.611Z"
   },
   {
    "duration": 404,
    "start_time": "2022-05-03T13:08:48.407Z"
   },
   {
    "duration": 7,
    "start_time": "2022-05-03T13:10:09.075Z"
   },
   {
    "duration": 304,
    "start_time": "2022-05-03T13:10:53.088Z"
   },
   {
    "duration": 276,
    "start_time": "2022-05-03T13:10:58.514Z"
   },
   {
    "duration": 259,
    "start_time": "2022-05-03T13:11:16.199Z"
   },
   {
    "duration": 47,
    "start_time": "2022-05-04T08:11:36.695Z"
   },
   {
    "duration": 1684,
    "start_time": "2022-05-04T08:12:56.904Z"
   },
   {
    "duration": 247,
    "start_time": "2022-05-04T08:12:58.590Z"
   },
   {
    "duration": 32,
    "start_time": "2022-05-04T08:12:58.839Z"
   },
   {
    "duration": 2,
    "start_time": "2022-05-04T08:12:58.874Z"
   },
   {
    "duration": 31,
    "start_time": "2022-05-04T08:12:58.878Z"
   },
   {
    "duration": 172,
    "start_time": "2022-05-04T08:12:58.925Z"
   },
   {
    "duration": 61,
    "start_time": "2022-05-04T08:12:59.099Z"
   },
   {
    "duration": 89,
    "start_time": "2022-05-04T08:12:59.162Z"
   },
   {
    "duration": 149,
    "start_time": "2022-05-04T08:12:59.253Z"
   },
   {
    "duration": 819,
    "start_time": "2022-05-04T08:12:59.406Z"
   },
   {
    "duration": 132,
    "start_time": "2022-05-04T08:13:00.227Z"
   },
   {
    "duration": 137,
    "start_time": "2022-05-04T08:13:00.360Z"
   },
   {
    "duration": 132,
    "start_time": "2022-05-04T08:13:00.499Z"
   },
   {
    "duration": 12,
    "start_time": "2022-05-04T08:13:00.633Z"
   },
   {
    "duration": 51,
    "start_time": "2022-05-04T08:13:00.646Z"
   },
   {
    "duration": 153,
    "start_time": "2022-05-04T08:13:00.699Z"
   },
   {
    "duration": 56,
    "start_time": "2022-05-04T08:13:00.854Z"
   },
   {
    "duration": 330,
    "start_time": "2022-05-04T08:13:00.912Z"
   },
   {
    "duration": 25,
    "start_time": "2022-05-04T08:13:01.244Z"
   },
   {
    "duration": 294,
    "start_time": "2022-05-04T08:13:01.270Z"
   },
   {
    "duration": 6,
    "start_time": "2022-05-04T08:13:01.566Z"
   },
   {
    "duration": 739,
    "start_time": "2022-05-04T08:13:01.574Z"
   },
   {
    "duration": 18,
    "start_time": "2022-05-04T08:13:02.315Z"
   },
   {
    "duration": 22,
    "start_time": "2022-05-04T08:13:02.335Z"
   },
   {
    "duration": 39,
    "start_time": "2022-05-04T08:13:02.359Z"
   },
   {
    "duration": 18,
    "start_time": "2022-05-04T08:13:02.399Z"
   },
   {
    "duration": 145,
    "start_time": "2022-05-04T08:13:02.418Z"
   },
   {
    "duration": 61,
    "start_time": "2022-05-04T08:13:02.568Z"
   },
   {
    "duration": 30,
    "start_time": "2022-05-04T08:13:02.630Z"
   },
   {
    "duration": 25,
    "start_time": "2022-05-04T08:13:02.661Z"
   },
   {
    "duration": 72,
    "start_time": "2022-05-04T08:13:02.688Z"
   },
   {
    "duration": 61,
    "start_time": "2022-05-04T08:13:02.762Z"
   },
   {
    "duration": 11,
    "start_time": "2022-05-04T08:13:02.825Z"
   },
   {
    "duration": 15,
    "start_time": "2022-05-04T08:13:02.838Z"
   },
   {
    "duration": 15,
    "start_time": "2022-05-04T08:13:02.855Z"
   },
   {
    "duration": 8,
    "start_time": "2022-05-04T08:13:02.872Z"
   },
   {
    "duration": 22,
    "start_time": "2022-05-04T08:13:02.882Z"
   },
   {
    "duration": 12,
    "start_time": "2022-05-04T08:13:02.906Z"
   },
   {
    "duration": 32,
    "start_time": "2022-05-04T08:13:02.919Z"
   },
   {
    "duration": 41,
    "start_time": "2022-05-04T08:13:02.953Z"
   },
   {
    "duration": 67,
    "start_time": "2022-05-04T08:13:02.996Z"
   },
   {
    "duration": 4,
    "start_time": "2022-05-04T08:13:03.064Z"
   },
   {
    "duration": 25,
    "start_time": "2022-05-04T08:13:03.069Z"
   },
   {
    "duration": 15,
    "start_time": "2022-05-04T08:13:03.095Z"
   },
   {
    "duration": 28,
    "start_time": "2022-05-04T08:13:03.112Z"
   },
   {
    "duration": 29,
    "start_time": "2022-05-04T08:13:03.142Z"
   },
   {
    "duration": 27,
    "start_time": "2022-05-04T08:13:03.173Z"
   },
   {
    "duration": 34,
    "start_time": "2022-05-04T08:13:03.202Z"
   },
   {
    "duration": 6,
    "start_time": "2022-05-04T08:13:03.238Z"
   },
   {
    "duration": 29,
    "start_time": "2022-05-04T08:13:03.246Z"
   },
   {
    "duration": 52866,
    "start_time": "2022-05-04T08:13:03.277Z"
   },
   {
    "duration": 99,
    "start_time": "2022-05-04T08:13:56.145Z"
   },
   {
    "duration": 14,
    "start_time": "2022-05-04T08:13:56.245Z"
   },
   {
    "duration": 13,
    "start_time": "2022-05-04T08:13:56.261Z"
   },
   {
    "duration": 12,
    "start_time": "2022-05-04T08:13:56.276Z"
   },
   {
    "duration": 34,
    "start_time": "2022-05-04T08:13:56.290Z"
   },
   {
    "duration": 7,
    "start_time": "2022-05-04T08:13:56.325Z"
   },
   {
    "duration": 8,
    "start_time": "2022-05-04T08:13:56.334Z"
   },
   {
    "duration": 9,
    "start_time": "2022-05-04T08:13:56.344Z"
   },
   {
    "duration": 11,
    "start_time": "2022-05-04T08:13:56.355Z"
   },
   {
    "duration": 67,
    "start_time": "2022-05-04T08:13:56.367Z"
   },
   {
    "duration": 3,
    "start_time": "2022-05-04T08:13:56.436Z"
   },
   {
    "duration": 111,
    "start_time": "2022-05-04T08:13:56.441Z"
   },
   {
    "duration": 7,
    "start_time": "2022-05-04T08:13:56.554Z"
   },
   {
    "duration": 4,
    "start_time": "2022-05-04T08:13:56.562Z"
   },
   {
    "duration": 6,
    "start_time": "2022-05-04T08:13:56.568Z"
   },
   {
    "duration": 6,
    "start_time": "2022-05-04T08:13:56.575Z"
   },
   {
    "duration": 9,
    "start_time": "2022-05-04T08:13:56.582Z"
   },
   {
    "duration": 6,
    "start_time": "2022-05-04T08:13:56.593Z"
   },
   {
    "duration": 24,
    "start_time": "2022-05-04T08:13:56.600Z"
   },
   {
    "duration": 8,
    "start_time": "2022-05-04T08:13:56.626Z"
   },
   {
    "duration": 6,
    "start_time": "2022-05-04T08:13:56.636Z"
   },
   {
    "duration": 124,
    "start_time": "2022-05-04T08:13:56.644Z"
   },
   {
    "duration": 6,
    "start_time": "2022-05-04T08:13:56.770Z"
   },
   {
    "duration": 7,
    "start_time": "2022-05-04T08:13:56.777Z"
   },
   {
    "duration": 12,
    "start_time": "2022-05-04T08:13:56.785Z"
   },
   {
    "duration": 9,
    "start_time": "2022-05-04T08:13:56.799Z"
   },
   {
    "duration": 17,
    "start_time": "2022-05-04T08:13:56.809Z"
   },
   {
    "duration": 3,
    "start_time": "2022-05-04T08:13:56.828Z"
   },
   {
    "duration": 9,
    "start_time": "2022-05-04T08:13:56.832Z"
   },
   {
    "duration": 6,
    "start_time": "2022-05-04T08:13:56.843Z"
   },
   {
    "duration": 4,
    "start_time": "2022-05-04T08:13:56.855Z"
   },
   {
    "duration": 12,
    "start_time": "2022-05-04T08:13:56.861Z"
   },
   {
    "duration": 11,
    "start_time": "2022-05-04T08:13:56.875Z"
   },
   {
    "duration": 11,
    "start_time": "2022-05-04T08:13:56.924Z"
   },
   {
    "duration": 10,
    "start_time": "2022-05-04T08:13:56.937Z"
   },
   {
    "duration": 9,
    "start_time": "2022-05-04T08:13:56.948Z"
   },
   {
    "duration": 9,
    "start_time": "2022-05-04T08:13:56.959Z"
   },
   {
    "duration": 6,
    "start_time": "2022-05-04T08:13:56.969Z"
   },
   {
    "duration": 9,
    "start_time": "2022-05-04T08:13:56.977Z"
   },
   {
    "duration": 5,
    "start_time": "2022-05-04T08:13:57.024Z"
   },
   {
    "duration": 10,
    "start_time": "2022-05-04T08:13:57.030Z"
   },
   {
    "duration": 11,
    "start_time": "2022-05-04T08:13:57.042Z"
   },
   {
    "duration": 9,
    "start_time": "2022-05-04T08:13:57.054Z"
   },
   {
    "duration": 10,
    "start_time": "2022-05-04T08:13:57.065Z"
   },
   {
    "duration": 80,
    "start_time": "2022-05-04T08:13:57.077Z"
   },
   {
    "duration": 6,
    "start_time": "2022-05-04T08:13:57.159Z"
   },
   {
    "duration": 93,
    "start_time": "2022-05-04T08:13:57.167Z"
   },
   {
    "duration": 99,
    "start_time": "2022-05-04T08:16:33.002Z"
   },
   {
    "duration": 1482,
    "start_time": "2022-05-04T08:16:54.969Z"
   },
   {
    "duration": 233,
    "start_time": "2022-05-04T08:16:56.453Z"
   },
   {
    "duration": 53,
    "start_time": "2022-05-04T08:16:56.689Z"
   },
   {
    "duration": 3,
    "start_time": "2022-05-04T08:16:56.744Z"
   },
   {
    "duration": 28,
    "start_time": "2022-05-04T08:16:56.748Z"
   },
   {
    "duration": 174,
    "start_time": "2022-05-04T08:16:56.777Z"
   },
   {
    "duration": 47,
    "start_time": "2022-05-04T08:16:56.952Z"
   },
   {
    "duration": 95,
    "start_time": "2022-05-04T08:16:57.001Z"
   },
   {
    "duration": 154,
    "start_time": "2022-05-04T08:16:57.097Z"
   },
   {
    "duration": 743,
    "start_time": "2022-05-04T08:16:57.253Z"
   },
   {
    "duration": 117,
    "start_time": "2022-05-04T08:16:57.998Z"
   },
   {
    "duration": 123,
    "start_time": "2022-05-04T08:16:58.117Z"
   },
   {
    "duration": 123,
    "start_time": "2022-05-04T08:16:58.241Z"
   },
   {
    "duration": 9,
    "start_time": "2022-05-04T08:16:58.366Z"
   },
   {
    "duration": 49,
    "start_time": "2022-05-04T08:16:58.377Z"
   },
   {
    "duration": 139,
    "start_time": "2022-05-04T08:16:58.427Z"
   },
   {
    "duration": 62,
    "start_time": "2022-05-04T08:16:58.567Z"
   },
   {
    "duration": 451,
    "start_time": "2022-05-04T08:16:58.631Z"
   },
   {
    "duration": 53,
    "start_time": "2022-05-04T08:16:59.084Z"
   },
   {
    "duration": 99,
    "start_time": "2022-05-04T08:16:59.138Z"
   },
   {
    "duration": 6,
    "start_time": "2022-05-04T08:16:59.239Z"
   },
   {
    "duration": 685,
    "start_time": "2022-05-04T08:16:59.247Z"
   },
   {
    "duration": 14,
    "start_time": "2022-05-04T08:16:59.934Z"
   },
   {
    "duration": 13,
    "start_time": "2022-05-04T08:16:59.949Z"
   },
   {
    "duration": 18,
    "start_time": "2022-05-04T08:16:59.964Z"
   },
   {
    "duration": 13,
    "start_time": "2022-05-04T08:16:59.983Z"
   },
   {
    "duration": 67,
    "start_time": "2022-05-04T08:16:59.997Z"
   },
   {
    "duration": 63,
    "start_time": "2022-05-04T08:17:00.068Z"
   },
   {
    "duration": 25,
    "start_time": "2022-05-04T08:17:00.133Z"
   },
   {
    "duration": 26,
    "start_time": "2022-05-04T08:17:00.159Z"
   },
   {
    "duration": 74,
    "start_time": "2022-05-04T08:17:00.187Z"
   },
   {
    "duration": 49,
    "start_time": "2022-05-04T08:17:00.263Z"
   },
   {
    "duration": 17,
    "start_time": "2022-05-04T08:17:00.314Z"
   },
   {
    "duration": 16,
    "start_time": "2022-05-04T08:17:00.333Z"
   },
   {
    "duration": 14,
    "start_time": "2022-05-04T08:17:00.351Z"
   },
   {
    "duration": 10,
    "start_time": "2022-05-04T08:17:00.367Z"
   },
   {
    "duration": 11,
    "start_time": "2022-05-04T08:17:00.379Z"
   },
   {
    "duration": 10,
    "start_time": "2022-05-04T08:17:00.391Z"
   },
   {
    "duration": 15,
    "start_time": "2022-05-04T08:17:00.402Z"
   },
   {
    "duration": 24,
    "start_time": "2022-05-04T08:17:00.418Z"
   },
   {
    "duration": 54,
    "start_time": "2022-05-04T08:17:00.443Z"
   },
   {
    "duration": 3,
    "start_time": "2022-05-04T08:17:00.499Z"
   },
   {
    "duration": 33,
    "start_time": "2022-05-04T08:17:00.503Z"
   },
   {
    "duration": 10,
    "start_time": "2022-05-04T08:17:00.537Z"
   },
   {
    "duration": 18,
    "start_time": "2022-05-04T08:17:00.549Z"
   },
   {
    "duration": 18,
    "start_time": "2022-05-04T08:17:00.569Z"
   },
   {
    "duration": 20,
    "start_time": "2022-05-04T08:17:00.588Z"
   },
   {
    "duration": 17,
    "start_time": "2022-05-04T08:17:00.610Z"
   },
   {
    "duration": 3,
    "start_time": "2022-05-04T08:17:00.629Z"
   },
   {
    "duration": 23,
    "start_time": "2022-05-04T08:17:00.634Z"
   },
   {
    "duration": 50525,
    "start_time": "2022-05-04T08:17:00.658Z"
   },
   {
    "duration": 94,
    "start_time": "2022-05-04T08:17:51.185Z"
   },
   {
    "duration": 17,
    "start_time": "2022-05-04T08:17:51.280Z"
   },
   {
    "duration": 32,
    "start_time": "2022-05-04T08:17:51.298Z"
   },
   {
    "duration": 13,
    "start_time": "2022-05-04T08:17:51.332Z"
   },
   {
    "duration": 10,
    "start_time": "2022-05-04T08:17:51.347Z"
   },
   {
    "duration": 7,
    "start_time": "2022-05-04T08:17:51.359Z"
   },
   {
    "duration": 10,
    "start_time": "2022-05-04T08:17:51.368Z"
   },
   {
    "duration": 9,
    "start_time": "2022-05-04T08:17:51.380Z"
   },
   {
    "duration": 15,
    "start_time": "2022-05-04T08:17:51.424Z"
   },
   {
    "duration": 45,
    "start_time": "2022-05-04T08:17:51.441Z"
   },
   {
    "duration": 5,
    "start_time": "2022-05-04T08:17:51.488Z"
   },
   {
    "duration": 129,
    "start_time": "2022-05-04T08:17:51.495Z"
   },
   {
    "duration": 7,
    "start_time": "2022-05-04T08:17:51.626Z"
   },
   {
    "duration": 7,
    "start_time": "2022-05-04T08:17:51.634Z"
   },
   {
    "duration": 7,
    "start_time": "2022-05-04T08:17:51.643Z"
   },
   {
    "duration": 5,
    "start_time": "2022-05-04T08:17:51.652Z"
   },
   {
    "duration": 12,
    "start_time": "2022-05-04T08:17:51.659Z"
   },
   {
    "duration": 7,
    "start_time": "2022-05-04T08:17:51.672Z"
   },
   {
    "duration": 5,
    "start_time": "2022-05-04T08:17:51.680Z"
   },
   {
    "duration": 9,
    "start_time": "2022-05-04T08:17:51.687Z"
   },
   {
    "duration": 11,
    "start_time": "2022-05-04T08:17:51.724Z"
   },
   {
    "duration": 122,
    "start_time": "2022-05-04T08:17:51.737Z"
   },
   {
    "duration": 7,
    "start_time": "2022-05-04T08:17:51.861Z"
   },
   {
    "duration": 8,
    "start_time": "2022-05-04T08:17:51.870Z"
   },
   {
    "duration": 7,
    "start_time": "2022-05-04T08:17:51.880Z"
   },
   {
    "duration": 30,
    "start_time": "2022-05-04T08:17:51.888Z"
   },
   {
    "duration": 9,
    "start_time": "2022-05-04T08:17:51.920Z"
   },
   {
    "duration": 5,
    "start_time": "2022-05-04T08:17:51.931Z"
   },
   {
    "duration": 14,
    "start_time": "2022-05-04T08:17:51.938Z"
   },
   {
    "duration": 6,
    "start_time": "2022-05-04T08:17:51.954Z"
   },
   {
    "duration": 5,
    "start_time": "2022-05-04T08:17:51.966Z"
   },
   {
    "duration": 15,
    "start_time": "2022-05-04T08:17:51.972Z"
   },
   {
    "duration": 9,
    "start_time": "2022-05-04T08:17:51.989Z"
   },
   {
    "duration": 10,
    "start_time": "2022-05-04T08:17:52.025Z"
   },
   {
    "duration": 15,
    "start_time": "2022-05-04T08:17:52.037Z"
   },
   {
    "duration": 28,
    "start_time": "2022-05-04T08:17:52.053Z"
   },
   {
    "duration": 15,
    "start_time": "2022-05-04T08:17:52.083Z"
   },
   {
    "duration": 11,
    "start_time": "2022-05-04T08:17:52.100Z"
   },
   {
    "duration": 21,
    "start_time": "2022-05-04T08:17:52.113Z"
   },
   {
    "duration": 9,
    "start_time": "2022-05-04T08:17:52.136Z"
   },
   {
    "duration": 14,
    "start_time": "2022-05-04T08:17:52.146Z"
   },
   {
    "duration": 13,
    "start_time": "2022-05-04T08:17:52.162Z"
   },
   {
    "duration": 9,
    "start_time": "2022-05-04T08:17:52.177Z"
   },
   {
    "duration": 10,
    "start_time": "2022-05-04T08:17:52.187Z"
   },
   {
    "duration": 71,
    "start_time": "2022-05-04T08:17:52.199Z"
   },
   {
    "duration": 67,
    "start_time": "2022-05-04T08:17:52.272Z"
   },
   {
    "duration": 84,
    "start_time": "2022-05-04T08:18:10.891Z"
   },
   {
    "duration": 168,
    "start_time": "2022-05-04T08:18:56.705Z"
   },
   {
    "duration": 57,
    "start_time": "2022-05-04T08:19:14.440Z"
   },
   {
    "duration": 80,
    "start_time": "2022-05-04T08:19:40.867Z"
   },
   {
    "duration": 77,
    "start_time": "2022-05-04T08:20:06.325Z"
   },
   {
    "duration": 85,
    "start_time": "2022-05-04T08:21:24.296Z"
   },
   {
    "duration": 81,
    "start_time": "2022-05-04T08:22:17.971Z"
   },
   {
    "duration": 7,
    "start_time": "2022-05-04T08:28:21.256Z"
   },
   {
    "duration": 8,
    "start_time": "2022-05-04T08:28:36.248Z"
   },
   {
    "duration": 1441,
    "start_time": "2022-05-04T08:33:06.437Z"
   },
   {
    "duration": 196,
    "start_time": "2022-05-04T08:33:07.880Z"
   },
   {
    "duration": 34,
    "start_time": "2022-05-04T08:33:08.077Z"
   },
   {
    "duration": 11,
    "start_time": "2022-05-04T08:33:08.113Z"
   },
   {
    "duration": 23,
    "start_time": "2022-05-04T08:33:08.125Z"
   },
   {
    "duration": 171,
    "start_time": "2022-05-04T08:33:08.150Z"
   },
   {
    "duration": 48,
    "start_time": "2022-05-04T08:33:08.323Z"
   },
   {
    "duration": 96,
    "start_time": "2022-05-04T08:33:08.372Z"
   },
   {
    "duration": 138,
    "start_time": "2022-05-04T08:33:08.470Z"
   },
   {
    "duration": 764,
    "start_time": "2022-05-04T08:33:08.610Z"
   },
   {
    "duration": 117,
    "start_time": "2022-05-04T08:33:09.376Z"
   },
   {
    "duration": 129,
    "start_time": "2022-05-04T08:33:09.495Z"
   },
   {
    "duration": 116,
    "start_time": "2022-05-04T08:33:09.625Z"
   },
   {
    "duration": 10,
    "start_time": "2022-05-04T08:33:09.743Z"
   },
   {
    "duration": 41,
    "start_time": "2022-05-04T08:33:09.755Z"
   },
   {
    "duration": 156,
    "start_time": "2022-05-04T08:33:09.798Z"
   },
   {
    "duration": 72,
    "start_time": "2022-05-04T08:33:09.956Z"
   },
   {
    "duration": 468,
    "start_time": "2022-05-04T08:33:10.030Z"
   },
   {
    "duration": 32,
    "start_time": "2022-05-04T08:33:10.500Z"
   },
   {
    "duration": 100,
    "start_time": "2022-05-04T08:33:10.534Z"
   },
   {
    "duration": 6,
    "start_time": "2022-05-04T08:33:10.636Z"
   },
   {
    "duration": 703,
    "start_time": "2022-05-04T08:33:10.643Z"
   },
   {
    "duration": 15,
    "start_time": "2022-05-04T08:33:11.348Z"
   },
   {
    "duration": 10,
    "start_time": "2022-05-04T08:33:11.364Z"
   },
   {
    "duration": 16,
    "start_time": "2022-05-04T08:33:11.375Z"
   },
   {
    "duration": 38,
    "start_time": "2022-05-04T08:33:11.393Z"
   },
   {
    "duration": 46,
    "start_time": "2022-05-04T08:33:11.432Z"
   },
   {
    "duration": 71,
    "start_time": "2022-05-04T08:33:11.482Z"
   },
   {
    "duration": 23,
    "start_time": "2022-05-04T08:33:11.555Z"
   },
   {
    "duration": 44,
    "start_time": "2022-05-04T08:33:11.580Z"
   },
   {
    "duration": 58,
    "start_time": "2022-05-04T08:33:11.626Z"
   },
   {
    "duration": 63,
    "start_time": "2022-05-04T08:33:11.685Z"
   },
   {
    "duration": 10,
    "start_time": "2022-05-04T08:33:11.749Z"
   },
   {
    "duration": 4,
    "start_time": "2022-05-04T08:33:11.761Z"
   },
   {
    "duration": 9,
    "start_time": "2022-05-04T08:33:11.767Z"
   },
   {
    "duration": 6,
    "start_time": "2022-05-04T08:33:11.777Z"
   },
   {
    "duration": 10,
    "start_time": "2022-05-04T08:33:11.784Z"
   },
   {
    "duration": 33,
    "start_time": "2022-05-04T08:33:11.796Z"
   },
   {
    "duration": 11,
    "start_time": "2022-05-04T08:33:11.831Z"
   },
   {
    "duration": 22,
    "start_time": "2022-05-04T08:33:11.843Z"
   },
   {
    "duration": 97,
    "start_time": "2022-05-04T08:33:11.868Z"
   },
   {
    "duration": 5,
    "start_time": "2022-05-04T08:33:11.967Z"
   },
   {
    "duration": 17,
    "start_time": "2022-05-04T08:33:11.973Z"
   },
   {
    "duration": 4,
    "start_time": "2022-05-04T08:33:11.991Z"
   },
   {
    "duration": 29,
    "start_time": "2022-05-04T08:33:11.996Z"
   },
   {
    "duration": 3,
    "start_time": "2022-05-04T08:33:12.027Z"
   },
   {
    "duration": 16,
    "start_time": "2022-05-04T08:33:12.032Z"
   },
   {
    "duration": 17,
    "start_time": "2022-05-04T08:33:12.049Z"
   },
   {
    "duration": 3,
    "start_time": "2022-05-04T08:33:12.068Z"
   },
   {
    "duration": 18,
    "start_time": "2022-05-04T08:33:12.072Z"
   },
   {
    "duration": 50985,
    "start_time": "2022-05-04T08:33:12.092Z"
   },
   {
    "duration": 98,
    "start_time": "2022-05-04T08:34:03.079Z"
   },
   {
    "duration": 15,
    "start_time": "2022-05-04T08:34:03.179Z"
   },
   {
    "duration": 31,
    "start_time": "2022-05-04T08:34:03.196Z"
   },
   {
    "duration": 27,
    "start_time": "2022-05-04T08:34:03.229Z"
   },
   {
    "duration": 10,
    "start_time": "2022-05-04T08:34:03.257Z"
   },
   {
    "duration": 7,
    "start_time": "2022-05-04T08:34:03.269Z"
   },
   {
    "duration": 11,
    "start_time": "2022-05-04T08:34:03.277Z"
   },
   {
    "duration": 8,
    "start_time": "2022-05-04T08:34:03.290Z"
   },
   {
    "duration": 30,
    "start_time": "2022-05-04T08:34:03.300Z"
   },
   {
    "duration": 38,
    "start_time": "2022-05-04T08:34:03.332Z"
   },
   {
    "duration": 3,
    "start_time": "2022-05-04T08:34:03.372Z"
   },
   {
    "duration": 182,
    "start_time": "2022-05-04T08:34:03.377Z"
   },
   {
    "duration": 6,
    "start_time": "2022-05-04T08:34:03.561Z"
   },
   {
    "duration": 6,
    "start_time": "2022-05-04T08:34:03.569Z"
   },
   {
    "duration": 6,
    "start_time": "2022-05-04T08:34:03.577Z"
   },
   {
    "duration": 6,
    "start_time": "2022-05-04T08:34:03.584Z"
   },
   {
    "duration": 7,
    "start_time": "2022-05-04T08:34:03.592Z"
   },
   {
    "duration": 26,
    "start_time": "2022-05-04T08:34:03.600Z"
   },
   {
    "duration": 2,
    "start_time": "2022-05-04T08:34:03.628Z"
   },
   {
    "duration": 9,
    "start_time": "2022-05-04T08:34:03.631Z"
   },
   {
    "duration": 9,
    "start_time": "2022-05-04T08:34:03.641Z"
   },
   {
    "duration": 119,
    "start_time": "2022-05-04T08:34:03.652Z"
   },
   {
    "duration": 7,
    "start_time": "2022-05-04T08:34:03.772Z"
   },
   {
    "duration": 6,
    "start_time": "2022-05-04T08:34:03.780Z"
   },
   {
    "duration": 6,
    "start_time": "2022-05-04T08:34:03.788Z"
   },
   {
    "duration": 9,
    "start_time": "2022-05-04T08:34:03.796Z"
   },
   {
    "duration": 6,
    "start_time": "2022-05-04T08:34:03.824Z"
   },
   {
    "duration": 5,
    "start_time": "2022-05-04T08:34:03.832Z"
   },
   {
    "duration": 8,
    "start_time": "2022-05-04T08:34:03.839Z"
   },
   {
    "duration": 6,
    "start_time": "2022-05-04T08:34:03.849Z"
   },
   {
    "duration": 5,
    "start_time": "2022-05-04T08:34:03.860Z"
   },
   {
    "duration": 13,
    "start_time": "2022-05-04T08:34:03.866Z"
   },
   {
    "duration": 11,
    "start_time": "2022-05-04T08:34:03.881Z"
   },
   {
    "duration": 38,
    "start_time": "2022-05-04T08:34:03.893Z"
   },
   {
    "duration": 9,
    "start_time": "2022-05-04T08:34:03.933Z"
   },
   {
    "duration": 9,
    "start_time": "2022-05-04T08:34:03.944Z"
   },
   {
    "duration": 9,
    "start_time": "2022-05-04T08:34:03.954Z"
   },
   {
    "duration": 5,
    "start_time": "2022-05-04T08:34:03.965Z"
   },
   {
    "duration": 10,
    "start_time": "2022-05-04T08:34:03.972Z"
   },
   {
    "duration": 40,
    "start_time": "2022-05-04T08:34:03.984Z"
   },
   {
    "duration": 9,
    "start_time": "2022-05-04T08:34:04.026Z"
   },
   {
    "duration": 12,
    "start_time": "2022-05-04T08:34:04.037Z"
   },
   {
    "duration": 13,
    "start_time": "2022-05-04T08:34:04.051Z"
   },
   {
    "duration": 12,
    "start_time": "2022-05-04T08:34:04.066Z"
   },
   {
    "duration": 82,
    "start_time": "2022-05-04T08:34:04.079Z"
   },
   {
    "duration": 155,
    "start_time": "2022-05-04T08:35:17.177Z"
   },
   {
    "duration": 49,
    "start_time": "2022-05-04T08:35:24.367Z"
   }
  ],
  "colab": {
   "collapsed_sections": [
    "y2ZhbM3ZYU0z",
    "ZhuLoWi-sKo9"
   ],
   "name": "8_Funnels AB testing.ipynb",
   "provenance": []
  },
  "kernelspec": {
   "display_name": "Python 3 (ipykernel)",
   "language": "python",
   "name": "python3"
  },
  "language_info": {
   "codemirror_mode": {
    "name": "ipython",
    "version": 3
   },
   "file_extension": ".py",
   "mimetype": "text/x-python",
   "name": "python",
   "nbconvert_exporter": "python",
   "pygments_lexer": "ipython3",
   "version": "3.9.7"
  },
  "toc": {
   "base_numbering": 1,
   "nav_menu": {},
   "number_sections": true,
   "sideBar": true,
   "skip_h1_title": true,
   "title_cell": "Table of Contents",
   "title_sidebar": "Contents",
   "toc_cell": false,
   "toc_position": {
    "height": "calc(100% - 180px)",
    "left": "10px",
    "top": "150px",
    "width": "366.391px"
   },
   "toc_section_display": true,
   "toc_window_display": false
  }
 },
 "nbformat": 4,
 "nbformat_minor": 4
}
